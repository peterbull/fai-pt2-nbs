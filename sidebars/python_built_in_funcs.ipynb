{
 "cells": [
  {
   "cell_type": "code",
   "execution_count": 10,
   "metadata": {},
   "outputs": [
    {
     "name": "stdout",
     "output_type": "stream",
     "text": [
      "{'Alice': 85, 'Bob': 90, 'Charlie': 95}\n"
     ]
    }
   ],
   "source": [
    "students = [\"Alice\", \"Bob\", \"Charlie\"]\n",
    "scores = [85, 90, 95]\n",
    "\n",
    "score_dict = dict(zip(students, scores))\n",
    "print(score_dict)"
   ]
  },
  {
   "cell_type": "code",
   "execution_count": 11,
   "metadata": {},
   "outputs": [
    {
     "data": {
      "text/plain": [
       "{'Alice': 85, 'Bob': 90, 'Charlie': 95}"
      ]
     },
     "execution_count": 11,
     "metadata": {},
     "output_type": "execute_result"
    }
   ],
   "source": [
    "dict(zip(students, scores))"
   ]
  },
  {
   "attachments": {},
   "cell_type": "markdown",
   "metadata": {},
   "source": [
    "Given a list of numbers [1, 2, 3, 4, 5], use the map() function to square each number in the list."
   ]
  },
  {
   "cell_type": "code",
   "execution_count": 12,
   "metadata": {},
   "outputs": [
    {
     "data": {
      "text/plain": [
       "[1, 4, 9, 16, 25]"
      ]
     },
     "execution_count": 12,
     "metadata": {},
     "output_type": "execute_result"
    }
   ],
   "source": [
    "num_list = [1,2,3,4,5]\n",
    "list(map(lambda x: x**2, num_list))"
   ]
  },
  {
   "attachments": {},
   "cell_type": "markdown",
   "metadata": {},
   "source": [
    "Use the filter() function to get all even numbers from the list [1, 2, 3, 4, 5]."
   ]
  },
  {
   "cell_type": "code",
   "execution_count": 13,
   "metadata": {},
   "outputs": [
    {
     "data": {
      "text/plain": [
       "[2, 4]"
      ]
     },
     "execution_count": 13,
     "metadata": {},
     "output_type": "execute_result"
    }
   ],
   "source": [
    "list(filter(lambda x: x % 2 == 0, num_list))"
   ]
  },
  {
   "attachments": {},
   "cell_type": "markdown",
   "metadata": {},
   "source": [
    "Given the list of numbers [1, 2, 3, 4, 5], use the reduce() function to find the product of all numbers in the list."
   ]
  },
  {
   "cell_type": "code",
   "execution_count": 14,
   "metadata": {},
   "outputs": [
    {
     "data": {
      "text/plain": [
       "120"
      ]
     },
     "execution_count": 14,
     "metadata": {},
     "output_type": "execute_result"
    }
   ],
   "source": [
    "from functools import reduce\n",
    "reduce_list = reduce(lambda x, y: x * y, num_list)\n",
    "reduce_list"
   ]
  },
  {
   "attachments": {},
   "cell_type": "markdown",
   "metadata": {},
   "source": [
    "Given two lists ['Alice', 'Bob', 'Charlie'] and [25, 30, 35], use the zip() function to create a list of tuples where each tuple contains a name and an age."
   ]
  },
  {
   "cell_type": "code",
   "execution_count": 15,
   "metadata": {},
   "outputs": [
    {
     "data": {
      "text/plain": [
       "[('Alice', 85), ('Bob', 90), ('Charlie', 95)]"
      ]
     },
     "execution_count": 15,
     "metadata": {},
     "output_type": "execute_result"
    }
   ],
   "source": [
    "list(zip(students, scores))"
   ]
  },
  {
   "attachments": {},
   "cell_type": "markdown",
   "metadata": {},
   "source": [
    "\n",
    "Given the list ['Alice', 'Bob', 'Charlie'], use the enumerate() function to create a list of tuples where each tuple contains an index and a name from the list."
   ]
  },
  {
   "cell_type": "code",
   "execution_count": 16,
   "metadata": {},
   "outputs": [
    {
     "data": {
      "text/plain": [
       "[(0, 'Alice'), (1, 'Bob'), (2, 'Charlie')]"
      ]
     },
     "execution_count": 16,
     "metadata": {},
     "output_type": "execute_result"
    }
   ],
   "source": [
    "list(enumerate(students))"
   ]
  },
  {
   "cell_type": "code",
   "execution_count": 17,
   "metadata": {},
   "outputs": [
    {
     "data": {
      "text/plain": [
       "[1, 4, 9, 16, 25]"
      ]
     },
     "execution_count": 17,
     "metadata": {},
     "output_type": "execute_result"
    }
   ],
   "source": [
    "num_list = [1,2,3,4,5]\n",
    "list(map(lambda x: x**2, num_list))\n",
    "\n",
    "list(filter(lambda x: x % 2 == 0, num_list))\n",
    "\n",
    "from functools import reduce\n",
    "reduce_list = reduce(lambda x, y: x * y, num_list)\n",
    "reduce_list\n",
    "\n",
    "list(zip(students, scores))\n",
    "\n",
    "list(enumerate(students))"
   ]
  },
  {
   "attachments": {},
   "cell_type": "markdown",
   "metadata": {},
   "source": [
    "## 2"
   ]
  },
  {
   "attachments": {},
   "cell_type": "markdown",
   "metadata": {},
   "source": [
    "1. Write a Python script that opens a file called 'test.txt', writes \"Hello, World!\" to the file, and then closes it.\n",
    "\n",
    "1. Write a Python script that opens a file called 'test.txt', reads its contents, and prints it.\n",
    "\n",
    "1. Modify the script from problem 2 to print each line of the file.\n",
    "\n",
    "1. Write a Python script that appends the line \"Goodbye, World!\" to 'test.txt'.\n",
    "\n",
    "1. Write a Python script that opens 'test.txt', reads the first line, and then uses the seek() function to return to the start of the file."
   ]
  },
  {
   "cell_type": "code",
   "execution_count": 29,
   "metadata": {},
   "outputs": [],
   "source": [
    "!echo \"hello world\" > test.txt"
   ]
  },
  {
   "cell_type": "code",
   "execution_count": 40,
   "metadata": {},
   "outputs": [
    {
     "name": "stdout",
     "output_type": "stream",
     "text": [
      "Goodbye, world!\n",
      "Goodbye, world!\n"
     ]
    }
   ],
   "source": [
    "test_file = 'test.txt'\n",
    "f = open(test_file, 'r')\n",
    "f.close()\n",
    "\n",
    "f = open(test_file, 'r')\n",
    "print(f.read())\n",
    "f.close()\n",
    "\n",
    "f = open(test_file, 'r')\n",
    "for line in f:\n",
    "    print(line.strip())\n",
    "f.close()\n",
    "\n",
    "f = open(test_file, 'w')\n",
    "f.write(\"Goodbye, world!\")\n",
    "f.close()\n",
    "\n",
    "f = open(test_file, 'r')\n",
    "f.readline()\n",
    "f.seek(0)\n",
    "f.close()\n"
   ]
  },
  {
   "cell_type": "code",
   "execution_count": null,
   "metadata": {},
   "outputs": [],
   "source": []
  }
 ],
 "metadata": {
  "kernelspec": {
   "display_name": "base",
   "language": "python",
   "name": "python3"
  },
  "language_info": {
   "codemirror_mode": {
    "name": "ipython",
    "version": 3
   },
   "file_extension": ".py",
   "mimetype": "text/x-python",
   "name": "python",
   "nbconvert_exporter": "python",
   "pygments_lexer": "ipython3",
   "version": "3.10.10"
  },
  "orig_nbformat": 4
 },
 "nbformat": 4,
 "nbformat_minor": 2
}

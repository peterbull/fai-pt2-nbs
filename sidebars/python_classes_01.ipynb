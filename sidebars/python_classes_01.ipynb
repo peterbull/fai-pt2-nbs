{
 "cells": [
  {
   "cell_type": "code",
   "execution_count": null,
   "metadata": {},
   "outputs": [],
   "source": [
    "class Car:\n",
    "    def __init__(self, brand, model, year):\n",
    "        self.brand = brand\n",
    "        self.model = model\n",
    "        self.year = year\n",
    "\n",
    "    def start_engine(self):\n",
    "        print(f\"The {self.model}'s engine is starting!\")\n",
    "\n",
    "my_car = Car(\"Tesla\", \"Model 3\", 2020)\n",
    "my_car.start_engine()"
   ]
  },
  {
   "attachments": {},
   "cell_type": "markdown",
   "metadata": {},
   "source": [
    "Write a Python class named `Dog`. \n",
    "\n",
    "The class should have an __init__ method that takes name and age as parameters. \n",
    "\n",
    "The class should also have a method called bark that prints \"{Dog's name} is barking!\". \n",
    "\n",
    "Instantiate your class with a dog named Fido who is 2 years old and call the bark method on your instance."
   ]
  },
  {
   "cell_type": "code",
   "execution_count": 6,
   "metadata": {},
   "outputs": [],
   "source": [
    "class Dog:\n",
    "    def __init__(self, name, age):\n",
    "        self.name = name\n",
    "        self.age = age\n",
    "\n",
    "    def bark(self):\n",
    "        print(f\"{self.name} is barking!\")\n",
    "\n",
    "dog = Dog(\"Fido\", 2)\n",
    "dog.bark()"
   ]
  },
  {
   "attachments": {},
   "cell_type": "markdown",
   "metadata": {},
   "source": [
    "Create 2 more dog objects and access their attributes"
   ]
  },
  {
   "cell_type": "code",
   "execution_count": 15,
   "metadata": {},
   "outputs": [
    {
     "name": "stdout",
     "output_type": "stream",
     "text": [
      "Clyde\n",
      "8\n"
     ]
    }
   ],
   "source": [
    "rosie = Dog(\"Rosie\", 8)\n",
    "clyde = Dog(\"Clyde\", 25)\n",
    "print(clyde.name)\n",
    "print(rosie.age)"
   ]
  },
  {
   "cell_type": "code",
   "execution_count": 20,
   "metadata": {},
   "outputs": [
    {
     "name": "stdout",
     "output_type": "stream",
     "text": [
      "Rosie is 8 years old\n",
      "Clyde is 25 years old\n"
     ]
    }
   ],
   "source": [
    "class Dog:\n",
    "    def __init__(self, name, age):\n",
    "        self.name = name\n",
    "        self.age = age\n",
    "\n",
    "    def bark(self):\n",
    "        print(f\"{self.name} says woof!\")\n",
    "\n",
    "    def __str__(self):\n",
    "        return f\"{self.name} is {self.age} years old\"\n",
    "\n",
    "rosie = Dog(\"Rosie\", 8)\n",
    "clyde = Dog(\"Clyde\", 25)\n",
    "print(rosie)\n",
    "print(clyde)"
   ]
  },
  {
   "cell_type": "code",
   "execution_count": 21,
   "metadata": {},
   "outputs": [],
   "source": [
    "class Dog:\n",
    "    # Class variable\n",
    "    species = \"Canis Familiaris\"\n",
    "    def __init__(self, name, age):\n",
    "        self.name = name\n",
    "        self.age = age\n",
    "\n",
    "    def bark(self):\n",
    "        print(f\"{self.name} says woof!\")\n",
    "\n",
    "    def __str__(self):\n",
    "        return f\"{self.name} is {self.age} years old\""
   ]
  },
  {
   "cell_type": "code",
   "execution_count": 24,
   "metadata": {},
   "outputs": [
    {
     "name": "stdout",
     "output_type": "stream",
     "text": [
      "Canis Familiaris\n"
     ]
    }
   ],
   "source": [
    "clyde = Dog(\"Clyde\", 25)\n",
    "print(clyde.species)"
   ]
  },
  {
   "cell_type": "code",
   "execution_count": 29,
   "metadata": {},
   "outputs": [
    {
     "name": "stdout",
     "output_type": "stream",
     "text": [
      "Winky says woof!\n",
      "Winky is a show off at 4\n"
     ]
    }
   ],
   "source": [
    "class Poodle(Dog):\n",
    "    def show_off(self):\n",
    "        print(f\"{self.name} is a show off at {self.age}\")\n",
    "\n",
    "winky = Poodle(\"Winky\", 4)\n",
    "winky.bark()\n",
    "winky.show_off()"
   ]
  },
  {
   "attachments": {},
   "cell_type": "markdown",
   "metadata": {},
   "source": [
    "1. Define a Dog class that inherits from Animal. The Dog class should include an additional attribute breed and override the make_sound method to print \"Dog's name, the breed dog, barks!\". For instance, if a Dog object has the name \"Max\" and breed \"Beagle\", calling make_sound on this object should print \"Max, the Beagle dog, barks!\".\n",
    "\n",
    "1. Create a Dog object with the name \"Max\" and breed \"Beagle\" and call the make_sound method on this object.\n",
    "\n",
    "1. What is the output when the make_sound method is called on the Dog object you created?\n",
    "\n",
    "1. What's the difference between a class variable and an instance variable? Give an example for each.\n",
    "\n",
    "1. What is a special method in Python classes? Give an example.\n",
    "\n",
    "1. Explain the concept of inheritance in Python classes."
   ]
  },
  {
   "cell_type": "code",
   "execution_count": 30,
   "metadata": {},
   "outputs": [
    {
     "name": "stdout",
     "output_type": "stream",
     "text": [
      "Claudio, the grey cat, meows!\n"
     ]
    }
   ],
   "source": [
    "class Animal:\n",
    "    def __init__(self, name):\n",
    "        self.name = name\n",
    "\n",
    "    def make_sound(self):\n",
    "        print(f\"{self.name} makes a sound.\")\n",
    "  \n",
    "class Cat(Animal):\n",
    "    def __init__(self, name, color):\n",
    "        super().__init__(name)\n",
    "        self.color = color\n",
    "\n",
    "    def make_sound(self):\n",
    "        print(f\"{self.name}, the {self.color} cat, meows!\")\n",
    "\n",
    "claudio = Cat(\"Claudio\", \"grey\")\n",
    "claudio.make_sound()  "
   ]
  },
  {
   "cell_type": "code",
   "execution_count": 34,
   "metadata": {},
   "outputs": [
    {
     "name": "stdout",
     "output_type": "stream",
     "text": [
      "Max, the Beagle dog, barks!\n"
     ]
    }
   ],
   "source": [
    "class Dog(Animal):\n",
    "    def __init__(self, name, breed):\n",
    "        super().__init__(name)\n",
    "        self.breed = breed\n",
    "\n",
    "    def make_sound(self):\n",
    "        print(f\"{self.name}, the {self.breed} dog, barks!\")\n",
    "\n",
    "max = Dog('Max', 'Beagle')\n",
    "max.make_sound()"
   ]
  },
  {
   "cell_type": "code",
   "execution_count": null,
   "metadata": {},
   "outputs": [],
   "source": [
    "# The output when calling max.make_sound() is \"Max, the Beagle dog, barks!\"\n",
    "\n",
    "# A class variable is one defined by the class, not an instance of an object. for example:\n",
    "\n",
    "class Dog:\n",
    "    breed = \"pointer\"\n",
    "\n",
    "# Is a class variable\n",
    "\n",
    "class Dog:\n",
    "    def __init__(self, breed):\n",
    "        self.breed = breed\n",
    "\n",
    "# Is an instance variable\n",
    "\n",
    "# A special method in python classes is the __str__ method, defining the behavior as a string\n",
    "\n",
    "# In python classes can inherit from other classes by being passed as an argument to the child class\n",
    "# at instaniation. For example:\n",
    "\n",
    "class Parent:\n",
    "    def __init__(self, name):\n",
    "        self.name = name\n",
    "\n",
    "class Child(Parent):\n",
    "    def child_name(self):\n",
    "        print(f\"My name is {self.name}\")\n",
    "\n",
    "Child(\"Peter\").child_name()\n",
    "# prints \"My name is Peter\""
   ]
  },
  {
   "cell_type": "code",
   "execution_count": 37,
   "metadata": {},
   "outputs": [],
   "source": [
    "class Parent:\n",
    "    def __init__(self, name):\n",
    "        self.name = name\n",
    "\n",
    "class Child(Parent):\n",
    "    def child_name(self):\n",
    "        print(f\"My name is {self.name}\")\n",
    "\n",
    "prints \"My name is Peter\""
   ]
  },
  {
   "cell_type": "code",
   "execution_count": 38,
   "metadata": {},
   "outputs": [
    {
     "name": "stdout",
     "output_type": "stream",
     "text": [
      "My name is Peter\n"
     ]
    }
   ],
   "source": [
    "Child(\"Peter\").child_name()"
   ]
  },
  {
   "cell_type": "code",
   "execution_count": null,
   "metadata": {},
   "outputs": [],
   "source": []
  }
 ],
 "metadata": {
  "kernelspec": {
   "display_name": "base",
   "language": "python",
   "name": "python3"
  },
  "language_info": {
   "codemirror_mode": {
    "name": "ipython",
    "version": 3
   },
   "file_extension": ".py",
   "mimetype": "text/x-python",
   "name": "python",
   "nbconvert_exporter": "python",
   "pygments_lexer": "ipython3",
   "version": "3.10.10"
  },
  "orig_nbformat": 4
 },
 "nbformat": 4,
 "nbformat_minor": 2
}

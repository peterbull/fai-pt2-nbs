{
 "cells": [
  {
   "cell_type": "code",
   "execution_count": 4,
   "metadata": {},
   "outputs": [],
   "source": [
    "class Book:\n",
    "    def __init__(self, title, author, pages):\n",
    "        self.title = title\n",
    "        self.author = author\n",
    "        self.pages = pages\n",
    "\n",
    "    def __str__(self):\n",
    "        return f\"{self.title} by {self.author}\"\n",
    "    \n",
    "    def __len__(self):\n",
    "        return self.pages\n",
    "\n",
    "    def __del__(self):\n",
    "        print(\"A Book object has been deleted\")\n"
   ]
  },
  {
   "cell_type": "code",
   "execution_count": 5,
   "metadata": {},
   "outputs": [
    {
     "name": "stdout",
     "output_type": "stream",
     "text": [
      "Python Rocks by John Doe\n",
      "200\n",
      "A Book object has been deleted\n"
     ]
    }
   ],
   "source": [
    "book = Book(\"Python Rocks\", \"John Doe\", 200)\n",
    "print(book) # Python Rocks by John Doe\n",
    "print(len(book)) # 200\n",
    "del book # A book object has been deleted"
   ]
  },
  {
   "attachments": {},
   "cell_type": "markdown",
   "metadata": {},
   "source": [
    "Create a class 'Movie' with the attributes: title, director, and duration (in minutes). Define the dunder methods __init__, __str__, and __len__.\n",
    "\n",
    "Create a class 'Playlist' that contains a list of 'Movie' objects. Define the dunder methods __init__, __str__, __len__, and __getitem__."
   ]
  },
  {
   "cell_type": "code",
   "execution_count": 6,
   "metadata": {},
   "outputs": [
    {
     "data": {
      "text/plain": [
       "[['fire walk with me', 'david lynch', 60]]"
      ]
     },
     "execution_count": 6,
     "metadata": {},
     "output_type": "execute_result"
    }
   ],
   "source": [
    "class Movie:\n",
    "    def __init__(self):\n",
    "        self.movies = []\n",
    "        \n",
    "    def add_movie(self, title, director, duration):\n",
    "        self.title = title\n",
    "        self.director = director\n",
    "        self.duration = duration\n",
    "        self.movies.append([self.title, self.director, self.duration])\n",
    "\n",
    "    def __str__(self):\n",
    "        return f\"{self.title} by {self.director} is {self.duration} minutes long\"\n",
    "    \n",
    "    def __len__(self):\n",
    "        return self.duration\n",
    "\n",
    "    def __getitem__(self, index):\n",
    "        return self.movies[index]\n",
    "    \n",
    "movie = Movie()\n",
    "\n",
    "movie.add_movie(\"fire walk with me\", \"david lynch\", 60)\n",
    "movie[0:1]"
   ]
  },
  {
   "cell_type": "code",
   "execution_count": 7,
   "metadata": {},
   "outputs": [],
   "source": [
    "class Movie:\n",
    "    def __init__(self, title, director, duration):\n",
    "        self.title = title\n",
    "        self.director = director\n",
    "        self.duration = duration\n",
    "\n",
    "    def __str__(self):\n",
    "        return f\"{self.title} by {self.director} is {self.duration} minutes long\"\n",
    "    \n",
    "    def __len__(self):\n",
    "        return self.duration\n",
    "\n",
    "class Playlist:\n",
    "    def __init__(self):\n",
    "        self.movies = []\n",
    "\n",
    "    def add_movie(self, movie):\n",
    "        self.movies.append(movie)\n",
    "\n",
    "    def __getitem__(self, index):\n",
    "        return self.movies[index]\n",
    "    \n",
    "    def __len__(self):\n",
    "        return len(self.movies)\n",
    "        \n",
    "    def __str__(self):\n",
    "        return \", \".join([movie.title for movie in self.movies])\n"
   ]
  },
  {
   "attachments": {},
   "cell_type": "markdown",
   "metadata": {},
   "source": [
    "Create a Movie class where each movie has a title, director, and duration (in minutes). In the Movie class, implement the __str__ and __len__ methods.\n",
    "\n",
    "Now, modify the Playlist class to incorporate the __getitem__, __setitem__, and __delitem__ methods. These methods should work as follows:\n",
    "\n",
    "__getitem__: This should allow you to get a movie at a specific index in the playlist.\n",
    "\n",
    "__setitem__: This should allow you to replace a movie at a specific index with another movie.\n",
    "\n",
    "__delitem__: This should allow you to remove a movie at a specific index from the playlist."
   ]
  },
  {
   "cell_type": "code",
   "execution_count": 8,
   "metadata": {},
   "outputs": [],
   "source": [
    "class Movie:\n",
    "    def __init__(self, title, director, duration):\n",
    "        self.title = title\n",
    "        self.director = director\n",
    "        self.duration = duration\n",
    "\n",
    "    def __str__(self):\n",
    "        return f\"{self.title} by {self.director} is {self.duration} minutes long\"\n",
    "    \n",
    "    def __len__(self):\n",
    "        return self.duration"
   ]
  },
  {
   "cell_type": "code",
   "execution_count": 21,
   "metadata": {},
   "outputs": [
    {
     "name": "stdout",
     "output_type": "stream",
     "text": [
      "speed by some guy is 120 minutes long\n"
     ]
    }
   ],
   "source": [
    "class Playlist:\n",
    "    def __init__(self):\n",
    "        self.movies = []\n",
    "\n",
    "    def add_movies(self, *args):\n",
    "        [self.movies.append(arg) for arg in args]\n",
    "\n",
    "    def __setitem__(self, index, value):\n",
    "        self.movies[index] = value\n",
    "\n",
    "    def __getitem__(self, index):\n",
    "        return self.movies[index]\n",
    "\n",
    "    def __delitem__(self, index):\n",
    "        del self.movies[index]\n",
    "\n",
    "    def __len__(self):\n",
    "        return len(self.movies)\n",
    "\n",
    "    def __str__(self):\n",
    "        return \", \".join([movie.title for movie in self.movies])\n",
    "    \n",
    "speed = Movie(\"speed\", \"some guy\", 120)\n",
    "dune = Movie(\"dune\", \"david lynch\", 240)\n",
    "\n",
    "playlist = Playlist()\n",
    "playlist.add_movies(speed, dune)\n",
    "print(playlist[0])\n",
    "\n",
    "fake_movie = Movie(\"fake movie\", \"fake man\", 15)\n",
    "playlist[1] = fake_movie\n",
    "print(playlist[1])\n",
    "del playlist[1]"
   ]
  },
  {
   "cell_type": "code",
   "execution_count": 36,
   "metadata": {},
   "outputs": [],
   "source": [
    "class Vector:\n",
    "    def __init__(self, x, y):\n",
    "        self.x = x\n",
    "        self.y = y\n",
    "\n",
    "    def __add__(self, other):\n",
    "        return Vector(self.x + other.x, self.y + other.y)\n",
    "    \n",
    "    def __sub__(self, other):\n",
    "        return Vector(self.x - other.x, self.y - other.y)\n",
    "    \n",
    "    def __mul__(self, other):\n",
    "        return Vector(self.x * other.x, self.y * other.y)\n",
    "\n",
    "    def __truediv__(self, other):\n",
    "        return Vector(self.x / other.x, self.y / other.y)\n",
    "\n",
    "    def __str__(self):\n",
    "        return f\"Vector({self.x}, {self.y})\"\n",
    "\n",
    "print(Vector(1,2) + Vector(3,4))\n",
    "print(Vector(1,2) - Vector(3,4))\n",
    "print(Vector(1,2) * Vector(3,4))\n",
    "print(Vector(1,2) / Vector(3,4))"
   ]
  },
  {
   "cell_type": "code",
   "execution_count": null,
   "metadata": {},
   "outputs": [],
   "source": []
  }
 ],
 "metadata": {
  "kernelspec": {
   "display_name": "base",
   "language": "python",
   "name": "python3"
  },
  "language_info": {
   "codemirror_mode": {
    "name": "ipython",
    "version": 3
   },
   "file_extension": ".py",
   "mimetype": "text/x-python",
   "name": "python",
   "nbconvert_exporter": "python",
   "pygments_lexer": "ipython3",
   "version": "3.10.10"
  },
  "orig_nbformat": 4
 },
 "nbformat": 4,
 "nbformat_minor": 2
}

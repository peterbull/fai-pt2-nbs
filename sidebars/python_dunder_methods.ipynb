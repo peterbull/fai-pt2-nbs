{
 "cells": [
  {
   "cell_type": "code",
   "execution_count": null,
   "metadata": {},
   "outputs": [],
   "source": [
    "class Book:\n",
    "    def __init__(self, title, author, pages):\n",
    "        self.title = title\n",
    "        self.author = author\n",
    "        self.pages = pages\n",
    "\n",
    "    def __str__(self):\n",
    "        return f\"{self.title} by {self.author}\"\n",
    "    \n",
    "    def __len__(self):\n",
    "        return self.pages\n",
    "\n",
    "    def __del__(self):\n",
    "        print(\"A Book object has been deleted\")\n"
   ]
  },
  {
   "cell_type": "code",
   "execution_count": null,
   "metadata": {},
   "outputs": [],
   "source": [
    "book = Book(\"Python Rocks\", \"John Doe\", 200)\n",
    "print(book) # Python Rocks by John Doe\n",
    "print(len(book)) # 200\n",
    "del book # A book object has been deleted"
   ]
  },
  {
   "attachments": {},
   "cell_type": "markdown",
   "metadata": {},
   "source": [
    "Create a class 'Movie' with the attributes: title, director, and duration (in minutes). Define the dunder methods __init__, __str__, and __len__.\n",
    "\n",
    "Create a class 'Playlist' that contains a list of 'Movie' objects. Define the dunder methods __init__, __str__, __len__, and __getitem__."
   ]
  },
  {
   "cell_type": "code",
   "execution_count": 2,
   "metadata": {},
   "outputs": [],
   "source": [
    "class Movie:\n",
    "    def __init__(self, title, director, duration):\n",
    "        self.title = title\n",
    "        self.director = director\n",
    "        self.duration = duration\n",
    "\n",
    "    def __str__(self):\n",
    "        return f\"{self.title} by {self.director} is {self.duration} minutes long\"\n",
    "    \n",
    "    def __len__(self):\n",
    "        return self.duration\n",
    "    \n",
    "movie = Movie(\"fire walk with me\", \"david lynch\", 60)\n"
   ]
  },
  {
   "cell_type": "code",
   "execution_count": null,
   "metadata": {},
   "outputs": [],
   "source": []
  }
 ],
 "metadata": {
  "kernelspec": {
   "display_name": "base",
   "language": "python",
   "name": "python3"
  },
  "language_info": {
   "codemirror_mode": {
    "name": "ipython",
    "version": 3
   },
   "file_extension": ".py",
   "mimetype": "text/x-python",
   "name": "python",
   "nbconvert_exporter": "python",
   "pygments_lexer": "ipython3",
   "version": "3.10.10"
  },
  "orig_nbformat": 4
 },
 "nbformat": 4,
 "nbformat_minor": 2
}

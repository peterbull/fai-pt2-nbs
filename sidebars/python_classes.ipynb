{
 "cells": [
  {
   "cell_type": "code",
   "execution_count": null,
   "metadata": {},
   "outputs": [],
   "source": [
    "class Car:\n",
    "    def __init__(self, brand, model, year):\n",
    "        self.brand = brand\n",
    "        self.model = model\n",
    "        self.year = year\n",
    "\n",
    "    def start_engine(self):\n",
    "        print(f\"The {self.model}'s engine is starting!\")\n",
    "\n",
    "my_car = Car(\"Tesla\", \"Model 3\", 2020)\n",
    "my_car.start_engine()"
   ]
  },
  {
   "attachments": {},
   "cell_type": "markdown",
   "metadata": {},
   "source": [
    "Write a Python class named `Dog`. \n",
    "\n",
    "The class should have an __init__ method that takes name and age as parameters. \n",
    "\n",
    "The class should also have a method called bark that prints \"{Dog's name} is barking!\". \n",
    "\n",
    "Instantiate your class with a dog named Fido who is 2 years old and call the bark method on your instance."
   ]
  },
  {
   "cell_type": "code",
   "execution_count": 6,
   "metadata": {},
   "outputs": [],
   "source": [
    "class Dog:\n",
    "    def __init__(self, name, age):\n",
    "        self.name = name\n",
    "        self.age = age\n",
    "\n",
    "    def bark(self):\n",
    "        print(f\"{self.name} is barking!\")\n",
    "\n",
    "dog = Dog(\"Fido\", 2)\n",
    "dog.bark()"
   ]
  },
  {
   "attachments": {},
   "cell_type": "markdown",
   "metadata": {},
   "source": [
    "Create 2 more dog objects and access their attributes"
   ]
  },
  {
   "cell_type": "code",
   "execution_count": 15,
   "metadata": {},
   "outputs": [
    {
     "name": "stdout",
     "output_type": "stream",
     "text": [
      "Clyde\n",
      "8\n"
     ]
    }
   ],
   "source": [
    "rosie = Dog(\"Rosie\", 8)\n",
    "clyde = Dog(\"Clyde\", 25)\n",
    "print(clyde.name)\n",
    "print(rosie.age)"
   ]
  },
  {
   "cell_type": "code",
   "execution_count": 20,
   "metadata": {},
   "outputs": [
    {
     "name": "stdout",
     "output_type": "stream",
     "text": [
      "Rosie is 8 years old\n",
      "Clyde is 25 years old\n"
     ]
    }
   ],
   "source": [
    "class Dog:\n",
    "    def __init__(self, name, age):\n",
    "        self.name = name\n",
    "        self.age = age\n",
    "\n",
    "    def bark(self):\n",
    "        print(f\"{self.name} says woof!\")\n",
    "\n",
    "    def __str__(self):\n",
    "        return f\"{self.name} is {self.age} years old\"\n",
    "\n",
    "rosie = Dog(\"Rosie\", 8)\n",
    "clyde = Dog(\"Clyde\", 25)\n",
    "print(rosie)\n",
    "print(clyde)"
   ]
  },
  {
   "cell_type": "code",
   "execution_count": 21,
   "metadata": {},
   "outputs": [],
   "source": [
    "class Dog:\n",
    "    # Class variable\n",
    "    species = \"Canis Familiaris\"\n",
    "    def __init__(self, name, age):\n",
    "        self.name = name\n",
    "        self.age = age\n",
    "\n",
    "    def bark(self):\n",
    "        print(f\"{self.name} says woof!\")\n",
    "\n",
    "    def __str__(self):\n",
    "        return f\"{self.name} is {self.age} years old\""
   ]
  },
  {
   "cell_type": "code",
   "execution_count": 24,
   "metadata": {},
   "outputs": [
    {
     "name": "stdout",
     "output_type": "stream",
     "text": [
      "Canis Familiaris\n"
     ]
    }
   ],
   "source": [
    "clyde = Dog(\"Clyde\", 25)\n",
    "print(clyde.species)"
   ]
  },
  {
   "cell_type": "code",
   "execution_count": 29,
   "metadata": {},
   "outputs": [
    {
     "name": "stdout",
     "output_type": "stream",
     "text": [
      "Winky says woof!\n",
      "Winky is a show off at 4\n"
     ]
    }
   ],
   "source": [
    "class Poodle(Dog):\n",
    "    def show_off(self):\n",
    "        print(f\"{self.name} is a show off at {self.age}\")\n",
    "\n",
    "winky = Poodle(\"Winky\", 4)\n",
    "winky.bark()\n",
    "winky.show_off()"
   ]
  },
  {
   "attachments": {},
   "cell_type": "markdown",
   "metadata": {},
   "source": [
    "1. Define a Dog class that inherits from Animal. The Dog class should include an additional attribute breed and override the make_sound method to print \"Dog's name, the breed dog, barks!\". For instance, if a Dog object has the name \"Max\" and breed \"Beagle\", calling make_sound on this object should print \"Max, the Beagle dog, barks!\".\n",
    "\n",
    "1. Create a Dog object with the name \"Max\" and breed \"Beagle\" and call the make_sound method on this object.\n",
    "\n",
    "1. What is the output when the make_sound method is called on the Dog object you created?\n",
    "\n",
    "1. What's the difference between a class variable and an instance variable? Give an example for each.\n",
    "\n",
    "1. What is a special method in Python classes? Give an example.\n",
    "\n",
    "1. Explain the concept of inheritance in Python classes."
   ]
  },
  {
   "cell_type": "code",
   "execution_count": 30,
   "metadata": {},
   "outputs": [
    {
     "name": "stdout",
     "output_type": "stream",
     "text": [
      "Claudio, the grey cat, meows!\n"
     ]
    }
   ],
   "source": [
    "class Animal:\n",
    "    def __init__(self, name):\n",
    "        self.name = name\n",
    "\n",
    "    def make_sound(self):\n",
    "        print(f\"{self.name} makes a sound.\")\n",
    "  \n",
    "class Cat(Animal):\n",
    "    def __init__(self, name, color):\n",
    "        super().__init__(name)\n",
    "        self.color = color\n",
    "\n",
    "    def make_sound(self):\n",
    "        print(f\"{self.name}, the {self.color} cat, meows!\")\n",
    "\n",
    "claudio = Cat(\"Claudio\", \"grey\")\n",
    "claudio.make_sound()  "
   ]
  },
  {
   "cell_type": "code",
   "execution_count": 34,
   "metadata": {},
   "outputs": [
    {
     "name": "stdout",
     "output_type": "stream",
     "text": [
      "Max, the Beagle dog, barks!\n"
     ]
    }
   ],
   "source": [
    "class Dog(Animal):\n",
    "    def __init__(self, name, breed):\n",
    "        super().__init__(name)\n",
    "        self.breed = breed\n",
    "\n",
    "    def make_sound(self):\n",
    "        print(f\"{self.name}, the {self.breed} dog, barks!\")\n",
    "\n",
    "max = Dog('Max', 'Beagle')\n",
    "max.make_sound()"
   ]
  },
  {
   "cell_type": "code",
   "execution_count": null,
   "metadata": {},
   "outputs": [],
   "source": [
    "# The output when calling max.make_sound() is \"Max, the Beagle dog, barks!\"\n",
    "\n",
    "# A class variable is one defined by the class, not an instance of an object. for example:\n",
    "\n",
    "class Dog:\n",
    "    breed = \"pointer\"\n",
    "\n",
    "# Is a class variable\n",
    "\n",
    "class Dog:\n",
    "    def __init__(self, breed):\n",
    "        self.breed = breed\n",
    "\n",
    "# Is an instance variable\n",
    "\n",
    "# A special method in python classes is the __str__ method, defining the behavior as a string\n",
    "\n",
    "# In python classes can inherit from other classes by being passed as an argument to the child class\n",
    "# at instaniation. For example:\n",
    "\n",
    "class Parent:\n",
    "    def __init__(self, name):\n",
    "        self.name = name\n",
    "\n",
    "class Child(Parent):\n",
    "    def child_name(self):\n",
    "        print(f\"My name is {self.name}\")\n",
    "\n",
    "Child(\"Peter\").child_name()\n",
    "# prints \"My name is Peter\""
   ]
  },
  {
   "cell_type": "code",
   "execution_count": 37,
   "metadata": {},
   "outputs": [],
   "source": [
    "class Parent:\n",
    "    def __init__(self, name):\n",
    "        self.name = name\n",
    "\n",
    "class Child(Parent):\n",
    "    def child_name(self):\n",
    "        print(f\"My name is {self.name}\")\n",
    "\n",
    "# prints \"My name is Peter\""
   ]
  },
  {
   "cell_type": "code",
   "execution_count": 41,
   "metadata": {},
   "outputs": [],
   "source": [
    "peter = Child(\"Peter\")"
   ]
  },
  {
   "cell_type": "code",
   "execution_count": 43,
   "metadata": {},
   "outputs": [],
   "source": [
    "peter.name = \"not peter\""
   ]
  },
  {
   "cell_type": "code",
   "execution_count": 46,
   "metadata": {},
   "outputs": [],
   "source": [
    "class Dog:\n",
    "    kind = \"canine\" # This is a class variable\n",
    "\n",
    "    @classmethod\n",
    "    def get_kind(cls):\n",
    "        return cls.kind"
   ]
  },
  {
   "cell_type": "code",
   "execution_count": 47,
   "metadata": {},
   "outputs": [
    {
     "data": {
      "text/plain": [
       "'canine'"
      ]
     },
     "execution_count": 47,
     "metadata": {},
     "output_type": "execute_result"
    }
   ],
   "source": [
    "Dog.get_kind()"
   ]
  },
  {
   "cell_type": "code",
   "execution_count": 48,
   "metadata": {},
   "outputs": [],
   "source": [
    "class Dog:\n",
    "    @staticmethod\n",
    "    def bark():\n",
    "        print(\"Woof!\")"
   ]
  },
  {
   "cell_type": "code",
   "execution_count": 50,
   "metadata": {},
   "outputs": [
    {
     "name": "stdout",
     "output_type": "stream",
     "text": [
      "Woof!\n"
     ]
    }
   ],
   "source": [
    "Dog.bark()"
   ]
  },
  {
   "cell_type": "code",
   "execution_count": 51,
   "metadata": {},
   "outputs": [],
   "source": [
    "class Pizza:\n",
    "    ingredient = \"Cheese\"\n",
    "\n",
    "    @classmethod\n",
    "    def change_ingredient(cls, new_ingredient):\n",
    "        cls.ingredient = new_ingredient\n",
    "    \n",
    "    @staticmethod\n",
    "    def eat():\n",
    "        print(\"Yum!\")"
   ]
  },
  {
   "cell_type": "code",
   "execution_count": 52,
   "metadata": {},
   "outputs": [
    {
     "name": "stdout",
     "output_type": "stream",
     "text": [
      "Cheese\n"
     ]
    }
   ],
   "source": [
    "print(Pizza.ingredient)"
   ]
  },
  {
   "cell_type": "code",
   "execution_count": 53,
   "metadata": {},
   "outputs": [],
   "source": [
    "Pizza.change_ingredient(\"pepperoni\")"
   ]
  },
  {
   "cell_type": "code",
   "execution_count": 54,
   "metadata": {},
   "outputs": [
    {
     "name": "stdout",
     "output_type": "stream",
     "text": [
      "pepperoni\n"
     ]
    }
   ],
   "source": [
    "print(Pizza.ingredient)"
   ]
  },
  {
   "cell_type": "code",
   "execution_count": 55,
   "metadata": {},
   "outputs": [
    {
     "name": "stdout",
     "output_type": "stream",
     "text": [
      "Yum!\n"
     ]
    }
   ],
   "source": [
    "Pizza.eat()"
   ]
  },
  {
   "cell_type": "code",
   "execution_count": 56,
   "metadata": {},
   "outputs": [],
   "source": [
    "class Burger:\n",
    "    ingredient = \"Beef\"\n",
    "\n",
    "    @classmethod\n",
    "    def change_ingredient(cls, new_ingredient):\n",
    "        cls.ingredient = new_ingredient\n",
    "    \n",
    "    @staticmethod\n",
    "    def eat():\n",
    "        print(\"Yum!\")\n",
    "        \n",
    "print(Burger.ingredient)\n",
    "Burger.change_ingredient(\"Chicken\")\n",
    "print(Burger.ingredient)\n",
    "Burger.eat()"
   ]
  },
  {
   "attachments": {},
   "cell_type": "markdown",
   "metadata": {},
   "source": [
    "### Getter & Setter"
   ]
  },
  {
   "cell_type": "code",
   "execution_count": 68,
   "metadata": {},
   "outputs": [],
   "source": [
    "class Car:\n",
    "    def __init__(self, model, year):\n",
    "        self._model = model\n",
    "        self._year = year\n",
    "    \n",
    "    @property\n",
    "    def model(self):\n",
    "        return self._model\n",
    "    \n",
    "    @model.setter\n",
    "    def model(self, new_model):\n",
    "        if isinstance(new_model, str):\n",
    "            self._model = new_model\n",
    "        else:\n",
    "            print(\"Model must be a string!\")\n",
    "\n",
    "    @property\n",
    "    def year(self):\n",
    "        return self._year\n",
    "    \n",
    "    @year.setter\n",
    "    def year(self, new_year):\n",
    "        if isinstance(new_year, int):\n",
    "            self._year = new_year\n",
    "        else:\n",
    "            print(\"Year must be an integer!\")\n"
   ]
  },
  {
   "cell_type": "code",
   "execution_count": 76,
   "metadata": {},
   "outputs": [],
   "source": [
    "class Student:\n",
    "    def __init__(self, name, age):\n",
    "        self._name = name\n",
    "        self._age = age\n",
    "\n",
    "    @property\n",
    "    def name(self):\n",
    "        return self._name\n",
    "    \n",
    "    @name.setter\n",
    "    def name(self, new_name):\n",
    "        if isinstance(new_name, str):\n",
    "            self._name = new_name\n",
    "        else:\n",
    "            print(\"Name must be a string!\")\n",
    "\n",
    "    @property\n",
    "    def age(self):\n",
    "        return self._age\n",
    "\n",
    "    @age.setter\n",
    "    def age(self, new_age):\n",
    "        if isinstance(new_age, int) and new_age > 0:\n",
    "            self._age = new_age\n",
    "        else:\n",
    "            print(\"Age must be a positive integer!\")"
   ]
  },
  {
   "cell_type": "code",
   "execution_count": 81,
   "metadata": {},
   "outputs": [
    {
     "data": {
      "text/plain": [
       "('Peter', 38)"
      ]
     },
     "execution_count": 81,
     "metadata": {},
     "output_type": "execute_result"
    }
   ],
   "source": [
    "student = Student(\"Peter\", 38)\n",
    "student.name, student.age"
   ]
  },
  {
   "cell_type": "code",
   "execution_count": 82,
   "metadata": {},
   "outputs": [
    {
     "data": {
      "text/plain": [
       "('Emma', 90)"
      ]
     },
     "execution_count": 82,
     "metadata": {},
     "output_type": "execute_result"
    }
   ],
   "source": [
    "student.name = \"Emma\"\n",
    "student.age = 90\n",
    "student.name, student.age"
   ]
  },
  {
   "cell_type": "code",
   "execution_count": 85,
   "metadata": {},
   "outputs": [],
   "source": [
    "class Teacher:\n",
    "    def __init__(self, name, subject):\n",
    "        self._name = name\n",
    "        self._subject = subject\n",
    "\n",
    "    @property\n",
    "    def name(self):\n",
    "        return self._name\n",
    "    \n",
    "    @name.setter\n",
    "    def name(self, new_name):\n",
    "        if isinstance(new_name, str):\n",
    "            self._name = new_name\n",
    "        else:\n",
    "            print(\"Name must be a string!\")\n",
    "\n",
    "    @property\n",
    "    def subject(self):\n",
    "        return self._subject\n",
    "    \n",
    "    @subject.setter\n",
    "    def subject(self, new_subject):\n",
    "        if isinstance(new_subject, str):\n",
    "            self._subject = new_subject\n",
    "        else:\n",
    "            print(\"Subject must be a string!\") "
   ]
  },
  {
   "cell_type": "code",
   "execution_count": 86,
   "metadata": {},
   "outputs": [],
   "source": [
    "teacher = Teacher(\"peter\", \"pizza making\")\n",
    "teacher.name, teacher.subject"
   ]
  },
  {
   "cell_type": "code",
   "execution_count": 89,
   "metadata": {},
   "outputs": [],
   "source": [
    "teacher.name = \"claudio\"\n",
    "teacher.subject = \"howling\"\n",
    "teacher.name, teacher.subject"
   ]
  },
  {
   "cell_type": "code",
   "execution_count": null,
   "metadata": {},
   "outputs": [],
   "source": [
    "class Player:\n",
    "    def __init__(self, health, attack):\n",
    "        self.health = health\n",
    "        self.attack = attack\n",
    "\n",
    "    def attack(self, monster):\n",
    "        monster.health -= self.attack\n",
    "        return monster.health\n",
    "    \n",
    "class Monster:\n",
    "    def __init__(self, health, attack):\n",
    "        self.health = health\n",
    "        self.attack = attack\n",
    "\n",
    "    def attack(self, player):\n",
    "        player.health -= self.attack\n",
    "        return player.health"
   ]
  },
  {
   "cell_type": "code",
   "execution_count": 101,
   "metadata": {},
   "outputs": [],
   "source": [
    "class Book:\n",
    "    def __init__(self, title, author, year_published):\n",
    "        self.title = title\n",
    "        self.author = author\n",
    "        self.year_published = year_published\n",
    "\n",
    "    def __str__(self):\n",
    "        return f\"{self.title} by {self.author}, published in {self.year_published}\"\n",
    "    \n",
    "    \n",
    "class Library:\n",
    "    def __init__(self):\n",
    "        self.books = []\n",
    "\n",
    "    def add_book(self, book):\n",
    "        self.books.append(book)\n",
    "\n",
    "    def find_book(self, title):\n",
    "        for book in self.books:\n",
    "            if book.title == title:\n",
    "                return f\"{book}\"\n",
    "        return None"
   ]
  },
  {
   "cell_type": "code",
   "execution_count": 121,
   "metadata": {},
   "outputs": [],
   "source": [
    "book = Book(\"gravity's rainbow\", \"thomas pynchon\", 1973)"
   ]
  },
  {
   "cell_type": "code",
   "execution_count": 122,
   "metadata": {},
   "outputs": [],
   "source": [
    "library = Library()"
   ]
  },
  {
   "cell_type": "code",
   "execution_count": 123,
   "metadata": {},
   "outputs": [],
   "source": [
    "library.add_book(book)"
   ]
  },
  {
   "cell_type": "code",
   "execution_count": 124,
   "metadata": {},
   "outputs": [
    {
     "data": {
      "text/plain": [
       "\"gravity's rainbow by thomas pynchon, published in 1973\""
      ]
     },
     "execution_count": 124,
     "metadata": {},
     "output_type": "execute_result"
    }
   ],
   "source": [
    "library.find_book(\"gravity's rainbow\")"
   ]
  },
  {
   "cell_type": "code",
   "execution_count": 4,
   "metadata": {},
   "outputs": [
    {
     "name": "stdout",
     "output_type": "stream",
     "text": [
      "78.5\n"
     ]
    }
   ],
   "source": [
    "class Circle:\n",
    "    # class attribute\n",
    "    pi = 3.14\n",
    "\n",
    "    # Initializer/instance attributes\n",
    "    def __init__(self, radius=1):\n",
    "        self.radius = radius\n",
    "\n",
    "    # Instance method\n",
    "    def area(self):\n",
    "        return self.pi * self.radius ** 2\n",
    "    \n",
    "# Instaniate circle object\n",
    "circle = Circle(5)\n",
    "print(circle.area())"
   ]
  },
  {
   "cell_type": "code",
   "execution_count": 5,
   "metadata": {},
   "outputs": [],
   "source": [
    "class Rectangle:\n",
    "    def __init__(self, height, width):\n",
    "        self.height = height\n",
    "        self.width = width\n",
    "\n",
    "    def area(self):\n",
    "        return self.width * self.height\n",
    "\n",
    "rectangle = Rectangle(4, 5)\n",
    "print(rectangle.area())"
   ]
  },
  {
   "cell_type": "code",
   "execution_count": 9,
   "metadata": {},
   "outputs": [],
   "source": [
    "class Person:\n",
    "    def __init__(self, name, age):\n",
    "        self.name = name\n",
    "        self.age = age\n",
    "\n",
    "    def __str__(self):\n",
    "        return f\"Hello, from {self.name}, who is {self.age} years old!\"\n",
    "\n",
    "    def say_hello(self):\n",
    "        print(self)\n",
    "        \n",
    "person = Person(\"peter\",38)\n",
    "person.say_hello()"
   ]
  },
  {
   "cell_type": "code",
   "execution_count": 12,
   "metadata": {},
   "outputs": [],
   "source": [
    "class Book:\n",
    "    def __init__(self, title, author):\n",
    "        self.title = title\n",
    "        self.author = author\n",
    "\n",
    "    def __str__(self):\n",
    "        return f\"{self.title} by {self.author}\"\n",
    "book = Book(\"gravity's rainbow\", \"thomas pynchon\")\n",
    "print(book)"
   ]
  },
  {
   "cell_type": "code",
   "execution_count": null,
   "metadata": {},
   "outputs": [],
   "source": []
  }
 ],
 "metadata": {
  "kernelspec": {
   "display_name": "base",
   "language": "python",
   "name": "python3"
  },
  "language_info": {
   "codemirror_mode": {
    "name": "ipython",
    "version": 3
   },
   "file_extension": ".py",
   "mimetype": "text/x-python",
   "name": "python",
   "nbconvert_exporter": "python",
   "pygments_lexer": "ipython3",
   "version": "3.10.10"
  },
  "orig_nbformat": 4
 },
 "nbformat": 4,
 "nbformat_minor": 2
}

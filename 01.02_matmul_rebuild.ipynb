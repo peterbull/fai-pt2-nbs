{
 "cells": [
  {
   "cell_type": "code",
   "execution_count": 1,
   "id": "c02dfda4-a9d0-4e09-8f1a-64a214bbb4e6",
   "metadata": {
    "tags": []
   },
   "outputs": [],
   "source": [
    "# import openai"
   ]
  },
  {
   "cell_type": "code",
   "execution_count": 2,
   "id": "00e65a88-b76f-48e0-91dc-a0f0a3dca787",
   "metadata": {},
   "outputs": [],
   "source": [
    "from pathlib import Path\n",
    "import pickle, gzip, math, os, time, shutil, matplotlib as mpl, matplotlib.pyplot as plt"
   ]
  },
  {
   "cell_type": "code",
   "execution_count": 3,
   "id": "cf7f662d-1653-4ce3-bf58-6aa153a91a6c",
   "metadata": {
    "tags": []
   },
   "outputs": [],
   "source": [
    "# openai.api_key = os.environ[\"OPENAI_API_KEY\"]"
   ]
  },
  {
   "cell_type": "code",
   "execution_count": 4,
   "id": "731aa041-a7a2-4616-972c-8f273f8c95f4",
   "metadata": {},
   "outputs": [],
   "source": [
    "# %reload_ext genai"
   ]
  },
  {
   "cell_type": "code",
   "execution_count": 5,
   "id": "6c22c1dd-b977-4979-88c6-f28d5cc49e61",
   "metadata": {},
   "outputs": [],
   "source": [
    "MNIST_URL='https://github.com/mnielsen/neural-networks-and-deep-learning/blob/master/data/mnist.pkl.gz?raw=true'\n",
    "path_data = Path('data')\n",
    "path_data.mkdir(exist_ok=True)\n",
    "path_gz = path_data/'mnist.pkl.gz'"
   ]
  },
  {
   "cell_type": "code",
   "execution_count": 6,
   "id": "c1bc5745-cf5f-478d-aa98-6cc993a5b470",
   "metadata": {},
   "outputs": [],
   "source": [
    "from urllib.request import urlretrieve\n",
    "if not path_gz.exists(): urlretrieve(MNIST_URL, path_gz)"
   ]
  },
  {
   "cell_type": "code",
   "execution_count": 7,
   "id": "23c60a1a-b908-4e90-8802-92c09e301c97",
   "metadata": {},
   "outputs": [
    {
     "name": "stdout",
     "output_type": "stream",
     "text": [
      "total 16656\n",
      "-rw-r--r-- 1 pete-00 pete-00 17051982 Apr 17 18:35 mnist.pkl.gz\n"
     ]
    }
   ],
   "source": [
    "!ls -l data"
   ]
  },
  {
   "cell_type": "code",
   "execution_count": 8,
   "id": "65253c54-be4f-4ab5-a937-9e1929b204a1",
   "metadata": {},
   "outputs": [],
   "source": [
    "with gzip.open(path_gz, 'rb') as f: ((x_train, y_train), (x_valid, y_valid), _) = pickle.load(f, encoding='latin-1')"
   ]
  },
  {
   "cell_type": "code",
   "execution_count": 9,
   "id": "2ee217d1-4a9e-4365-b541-c333ea98c28c",
   "metadata": {},
   "outputs": [],
   "source": [
    "lst1 = list(x_train[0])"
   ]
  },
  {
   "cell_type": "code",
   "execution_count": 10,
   "id": "a38c3174-b30c-4234-861f-e8ee9149db36",
   "metadata": {},
   "outputs": [],
   "source": [
    "vals = lst1[200:210]"
   ]
  },
  {
   "cell_type": "code",
   "execution_count": 11,
   "id": "3cb7def8-4a79-4714-8d3b-8d112b20c792",
   "metadata": {},
   "outputs": [
    {
     "data": {
      "text/plain": [
       "([0.0,\n",
       "  0.0,\n",
       "  0.0,\n",
       "  0.19140625,\n",
       "  0.9296875,\n",
       "  0.98828125,\n",
       "  0.98828125,\n",
       "  0.98828125,\n",
       "  0.98828125,\n",
       "  0.98828125],\n",
       " 784)"
      ]
     },
     "execution_count": 11,
     "metadata": {},
     "output_type": "execute_result"
    }
   ],
   "source": [
    "vals, len(lst1)"
   ]
  },
  {
   "cell_type": "code",
   "execution_count": 12,
   "id": "d330ff9a-d7da-46c1-94dd-e2406a027f02",
   "metadata": {},
   "outputs": [],
   "source": [
    "def chunks(x, sz):\n",
    "    for i in range(0, len(x), sz):\n",
    "        yield x[i:i+sz]"
   ]
  },
  {
   "cell_type": "code",
   "execution_count": 13,
   "id": "8689ecd5-a95e-415d-9cb2-4de62031ce51",
   "metadata": {},
   "outputs": [],
   "source": [
    "val_iter = chunks(vals, 5)"
   ]
  },
  {
   "cell_type": "code",
   "execution_count": 14,
   "id": "269fb76e-0c5c-48a5-9e04-c86681fe3b3a",
   "metadata": {},
   "outputs": [
    {
     "data": {
      "text/plain": [
       "28"
      ]
     },
     "execution_count": 14,
     "metadata": {},
     "output_type": "execute_result"
    }
   ],
   "source": [
    "len(next(chunks(lst1, 28)))"
   ]
  },
  {
   "cell_type": "code",
   "execution_count": 15,
   "id": "8df6f828-1b2e-4039-8167-87dee5eb37d2",
   "metadata": {},
   "outputs": [],
   "source": [
    "mpl.rcParams['image.cmap'] = 'gray'"
   ]
  },
  {
   "cell_type": "code",
   "execution_count": 16,
   "id": "7bbde4ab-dd06-40bf-a29d-eb4f1cba4b0b",
   "metadata": {},
   "outputs": [
    {
     "data": {
      "text/plain": [
       "<matplotlib.image.AxesImage at 0x7f571be92200>"
      ]
     },
     "execution_count": 16,
     "metadata": {},
     "output_type": "execute_result"
    },
    {
     "data": {
      "image/png": "[encoded data removed]",
      "text/plain": [
       "<Figure size 640x480 with 1 Axes>"
      ]
     },
     "metadata": {},
     "output_type": "display_data"
    }
   ],
   "source": [
    "plt.imshow(list(chunks(lst1, 28)))"
   ]
  },
  {
   "cell_type": "code",
   "execution_count": 17,
   "id": "082a0467-358e-432c-ae8c-e638b104db1b",
   "metadata": {},
   "outputs": [],
   "source": [
    "from itertools import islice"
   ]
  },
  {
   "cell_type": "code",
   "execution_count": 18,
   "id": "281b1ce8-e5b9-4a1b-804c-3d62572ba22f",
   "metadata": {},
   "outputs": [
    {
     "data": {
      "text/plain": [
       "<itertools.islice at 0x7f571bed8770>"
      ]
     },
     "execution_count": 18,
     "metadata": {},
     "output_type": "execute_result"
    }
   ],
   "source": [
    "it = iter(lst1)\n",
    "islice(it, 5)"
   ]
  },
  {
   "cell_type": "code",
   "execution_count": 19,
   "id": "3747e32e-903a-476e-92f1-0040c11644c2",
   "metadata": {},
   "outputs": [
    {
     "data": {
      "text/plain": [
       "[0.0, 0.0, 0.0, 0.0, 0.0]"
      ]
     },
     "execution_count": 19,
     "metadata": {},
     "output_type": "execute_result"
    }
   ],
   "source": [
    "list(islice(it, 5))"
   ]
  },
  {
   "cell_type": "code",
   "execution_count": 20,
   "id": "76c3405b-c174-490d-8520-a157b62e5d34",
   "metadata": {},
   "outputs": [],
   "source": [
    "it = iter(lst1)\n",
    "img = list(iter(lambda: list(islice(it, 28)), []))"
   ]
  },
  {
   "cell_type": "code",
   "execution_count": 21,
   "id": "1355652f-8d05-473d-af2e-c34581e8e9b7",
   "metadata": {},
   "outputs": [
    {
     "data": {
      "text/plain": [
       "<matplotlib.image.AxesImage at 0x7f571282ee90>"
      ]
     },
     "execution_count": 21,
     "metadata": {},
     "output_type": "execute_result"
    },
    {
     "data": {
      "image/png": "[encoded data removed]",
      "text/plain": [
       "<Figure size 640x480 with 1 Axes>"
      ]
     },
     "metadata": {},
     "output_type": "display_data"
    }
   ],
   "source": [
    "plt.imshow(img)"
   ]
  },
  {
   "cell_type": "code",
   "execution_count": 22,
   "id": "e632fe42-e506-4de1-8a2f-30010f516ef8",
   "metadata": {},
   "outputs": [],
   "source": [
    "class Matrix:\n",
    "    def __init__(self, xs):\n",
    "        self.xs = xs\n",
    "    def __getitem__(self, idxs):\n",
    "        return self.xs[idxs[0]][idxs[1]]"
   ]
  },
  {
   "cell_type": "code",
   "execution_count": 23,
   "id": "acb26230-cea5-4bf7-ac56-f56525041f11",
   "metadata": {},
   "outputs": [],
   "source": [
    "m = Matrix(img)"
   ]
  },
  {
   "cell_type": "code",
   "execution_count": 24,
   "id": "088557a2-fbcb-48c9-89f7-39926d5a5769",
   "metadata": {},
   "outputs": [
    {
     "data": {
      "text/plain": [
       "0.98828125"
      ]
     },
     "execution_count": 24,
     "metadata": {},
     "output_type": "execute_result"
    }
   ],
   "source": [
    "m[20,15]"
   ]
  },
  {
   "cell_type": "code",
   "execution_count": 25,
   "id": "46aac2d7-4978-4a50-9fba-1ab109f247df",
   "metadata": {},
   "outputs": [],
   "source": [
    "import torch\n",
    "from torch import tensor"
   ]
  },
  {
   "cell_type": "code",
   "execution_count": 26,
   "id": "1a008387-16d9-401a-8547-1b1ac3437ee5",
   "metadata": {},
   "outputs": [
    {
     "data": {
      "text/plain": [
       "tensor([1, 2, 3])"
      ]
     },
     "execution_count": 26,
     "metadata": {},
     "output_type": "execute_result"
    }
   ],
   "source": [
    "tensor([1,2,3])"
   ]
  },
  {
   "cell_type": "code",
   "execution_count": 27,
   "id": "22037469-84ee-419f-bf85-d5faa71fcf1c",
   "metadata": {},
   "outputs": [],
   "source": [
    "tens = tensor(img)"
   ]
  },
  {
   "cell_type": "code",
   "execution_count": 28,
   "id": "6bddcba4-9092-4afa-a38a-cfc6788c710e",
   "metadata": {},
   "outputs": [
    {
     "data": {
      "text/plain": [
       "tensor(0.9883)"
      ]
     },
     "execution_count": 28,
     "metadata": {},
     "output_type": "execute_result"
    }
   ],
   "source": [
    "tens[20,15]"
   ]
  },
  {
   "cell_type": "code",
   "execution_count": 29,
   "id": "08956650-3ef2-4ea2-bed3-9dadf0f14e8f",
   "metadata": {},
   "outputs": [],
   "source": [
    "x_train, y_train, x_valid, y_valid = map(tensor, (x_train, y_train, x_valid, y_valid))"
   ]
  },
  {
   "cell_type": "code",
   "execution_count": 30,
   "id": "4bed6059-d802-4a4a-b0fb-f63f22bcb98a",
   "metadata": {},
   "outputs": [
    {
     "data": {
      "text/plain": [
       "torch.Size([50000, 784])"
      ]
     },
     "execution_count": 30,
     "metadata": {},
     "output_type": "execute_result"
    }
   ],
   "source": [
    "x_train.shape"
   ]
  },
  {
   "cell_type": "code",
   "execution_count": 31,
   "id": "63813a64-b335-4056-a1bc-f52f8b348567",
   "metadata": {},
   "outputs": [
    {
     "data": {
      "text/plain": [
       "torch.float32"
      ]
     },
     "execution_count": 31,
     "metadata": {},
     "output_type": "execute_result"
    }
   ],
   "source": [
    "x_train.dtype"
   ]
  },
  {
   "cell_type": "code",
   "execution_count": 32,
   "id": "9f5148e8-9792-4a36-8df5-0db315996641",
   "metadata": {},
   "outputs": [
    {
     "data": {
      "text/plain": [
       "torch.Size([50000, 28, 28])"
      ]
     },
     "execution_count": 32,
     "metadata": {},
     "output_type": "execute_result"
    }
   ],
   "source": [
    "imgs = x_train.reshape(-1, 28, 28)\n",
    "imgs.shape"
   ]
  },
  {
   "cell_type": "code",
   "execution_count": 33,
   "id": "b5ef14d6-f83e-4946-b617-c458a393e6ad",
   "metadata": {},
   "outputs": [
    {
     "data": {
      "text/plain": [
       "torch.Size([28, 28])"
      ]
     },
     "execution_count": 33,
     "metadata": {},
     "output_type": "execute_result"
    }
   ],
   "source": [
    "imgs[0].shape"
   ]
  },
  {
   "cell_type": "code",
   "execution_count": 34,
   "id": "e93bf63f-357f-4d46-b33a-5bd291e82d5c",
   "metadata": {},
   "outputs": [
    {
     "data": {
      "image/png": "[encoded data removed]",
      "text/plain": [
       "<Figure size 640x480 with 1 Axes>"
      ]
     },
     "metadata": {},
     "output_type": "display_data"
    }
   ],
   "source": [
    "plt.imshow(imgs[1]);"
   ]
  },
  {
   "cell_type": "code",
   "execution_count": 35,
   "id": "400f6110-880a-4354-a48d-39a256d5b899",
   "metadata": {},
   "outputs": [],
   "source": [
    "n,c = x_train.shape"
   ]
  },
  {
   "cell_type": "code",
   "execution_count": 36,
   "id": "6f7ef824-7da9-4c22-948d-086231421336",
   "metadata": {},
   "outputs": [
    {
     "data": {
      "text/plain": [
       "(50000, 784)"
      ]
     },
     "execution_count": 36,
     "metadata": {},
     "output_type": "execute_result"
    }
   ],
   "source": [
    "n, c"
   ]
  },
  {
   "cell_type": "code",
   "execution_count": 37,
   "id": "0207e58b-f8bd-49dd-92d3-bfc8db70ca3d",
   "metadata": {},
   "outputs": [
    {
     "data": {
      "text/plain": [
       "torch.Size([50000, 784])"
      ]
     },
     "execution_count": 37,
     "metadata": {},
     "output_type": "execute_result"
    }
   ],
   "source": [
    "x_train.shape"
   ]
  },
  {
   "cell_type": "code",
   "execution_count": 38,
   "id": "a4690800-2d1c-4780-bd67-5c72d55a27dc",
   "metadata": {},
   "outputs": [
    {
     "data": {
      "text/plain": [
       "(tensor([5, 0, 4,  ..., 8, 4, 8]), torch.Size([50000]))"
      ]
     },
     "execution_count": 38,
     "metadata": {},
     "output_type": "execute_result"
    }
   ],
   "source": [
    "y_train, y_train.shape"
   ]
  },
  {
   "cell_type": "code",
   "execution_count": 39,
   "id": "39d9ca60-0717-4b90-9ae7-3f51001a09a6",
   "metadata": {},
   "outputs": [
    {
     "data": {
      "text/plain": [
       "(tensor(0), tensor(9))"
      ]
     },
     "execution_count": 39,
     "metadata": {},
     "output_type": "execute_result"
    }
   ],
   "source": [
    "min(y_train), max(y_train)"
   ]
  },
  {
   "cell_type": "code",
   "execution_count": 40,
   "id": "e4bf62a9-05fd-4a1f-a466-07d3f72f45fd",
   "metadata": {},
   "outputs": [
    {
     "data": {
      "text/plain": [
       "(tensor(0), tensor(9))"
      ]
     },
     "execution_count": 40,
     "metadata": {},
     "output_type": "execute_result"
    }
   ],
   "source": [
    "y_train.min(), y_train.max()"
   ]
  },
  {
   "cell_type": "markdown",
   "id": "89720c2e-f225-4323-b637-7bd9bf41436e",
   "metadata": {},
   "source": [
    "### Random Number Generators"
   ]
  },
  {
   "cell_type": "code",
   "execution_count": 41,
   "id": "36ea1ee5-b4e7-42c1-98b0-c3a89f71f382",
   "metadata": {},
   "outputs": [],
   "source": [
    "rnd_state = None\n",
    "def seed(a):\n",
    "    global rnd_state\n",
    "    a, x = divmod(a, 30268)\n",
    "    a, y = divmod(a, 30306)\n",
    "    a, z = divmod(a, 30322)\n",
    "    rnd_state = int(x)+1, int(y)+1, int(z)+1"
   ]
  },
  {
   "cell_type": "code",
   "execution_count": 42,
   "id": "bea1494e-cbbe-4409-8dfe-d06a5e162ac0",
   "metadata": {},
   "outputs": [
    {
     "data": {
      "text/plain": [
       "(4976, 20238, 499)"
      ]
     },
     "execution_count": 42,
     "metadata": {},
     "output_type": "execute_result"
    }
   ],
   "source": [
    "seed(457428938475)\n",
    "rnd_state"
   ]
  },
  {
   "cell_type": "code",
   "execution_count": 43,
   "id": "8038a799-a187-4dfb-baf2-fc4356415e71",
   "metadata": {},
   "outputs": [],
   "source": [
    "def rand():\n",
    "    global rnd_state\n",
    "    x, y, z = rnd_state\n",
    "    x = (171 * x) % 30269\n",
    "    y = (172 * y) % 30307\n",
    "    z = (170 * z) % 30323\n",
    "    rnd_state = x,y,z\n",
    "    return (x/30269 + y/30307 + z/30323) % 1.0"
   ]
  },
  {
   "cell_type": "code",
   "execution_count": 44,
   "id": "c18abf14-fe74-43a0-8d56-0b00ee83d22e",
   "metadata": {},
   "outputs": [
    {
     "data": {
      "text/plain": [
       "(0.7645251082582081, 0.7920889799553945, 0.06912886811267205)"
      ]
     },
     "execution_count": 44,
     "metadata": {},
     "output_type": "execute_result"
    }
   ],
   "source": [
    "rand(), rand(), rand(),"
   ]
  },
  {
   "cell_type": "code",
   "execution_count": 45,
   "id": "5a4705df-2622-4a1c-a42a-7bb7682db274",
   "metadata": {},
   "outputs": [
    {
     "name": "stdout",
     "output_type": "stream",
     "text": [
      "In parent: 0.9559050644103264\n",
      "In child: 0.9559050644103264\n"
     ]
    }
   ],
   "source": [
    "if os.fork(): print(f'In parent: {rand()}')\n",
    "else:\n",
    "    print(f'In child: {rand()}')\n",
    "    os._exit(os.EX_OK)"
   ]
  },
  {
   "cell_type": "code",
   "execution_count": 46,
   "id": "35f8ed61-337b-437a-a8d8-e62542114a7e",
   "metadata": {},
   "outputs": [
    {
     "name": "stdout",
     "output_type": "stream",
     "text": [
      "In parent: tensor([0.9501])\n",
      "In child: tensor([0.9501])\n"
     ]
    }
   ],
   "source": [
    "if os.fork(): print(f'In parent: {torch.rand(1)}')\n",
    "else:\n",
    "    print(f'In child: {torch.rand(1)}')\n",
    "    os._exit(os.EX_OK)"
   ]
  },
  {
   "cell_type": "code",
   "execution_count": 47,
   "id": "8936f96e-71f5-4c31-84d6-9e980d0af8b7",
   "metadata": {},
   "outputs": [
    {
     "data": {
      "image/png": "[encoded data removed]",
      "text/plain": [
       "<Figure size 640x480 with 1 Axes>"
      ]
     },
     "metadata": {},
     "output_type": "display_data"
    }
   ],
   "source": [
    "plt.plot([rand() for _ in range(50)]);"
   ]
  },
  {
   "cell_type": "code",
   "execution_count": 48,
   "id": "ce0960fc-1574-4506-8a92-8f5fdb00cab1",
   "metadata": {},
   "outputs": [
    {
     "data": {
      "image/png": "[encoded data removed]",
      "text/plain": [
       "<Figure size 640x480 with 1 Axes>"
      ]
     },
     "metadata": {},
     "output_type": "display_data"
    }
   ],
   "source": [
    "plt.hist([rand() for _ in range(10000)]);"
   ]
  },
  {
   "cell_type": "code",
   "execution_count": 49,
   "id": "e8634e6b-9047-4ad9-9698-e1f4448ce398",
   "metadata": {},
   "outputs": [
    {
     "name": "stdout",
     "output_type": "stream",
     "text": [
      "2.07 ms ± 127 µs per loop (mean ± std. dev. of 7 runs, 10 loops each)\n"
     ]
    }
   ],
   "source": [
    "%timeit -n 10 list(chunks([rand() for _ in range(7840)], 10))"
   ]
  },
  {
   "cell_type": "code",
   "execution_count": 50,
   "id": "cb93762d-0c26-443a-bbb2-4c6709ecff4e",
   "metadata": {},
   "outputs": [
    {
     "name": "stdout",
     "output_type": "stream",
     "text": [
      "The slowest run took 4.81 times longer than the fastest. This could mean that an intermediate result is being cached.\n",
      "44 µs ± 33.1 µs per loop (mean ± std. dev. of 7 runs, 10 loops each)\n"
     ]
    }
   ],
   "source": [
    "%timeit -n 10 torch.randn(784,10)"
   ]
  },
  {
   "cell_type": "markdown",
   "id": "246aa985-25ae-487f-aa9a-6284fdd47818",
   "metadata": {},
   "source": [
    "### Matrix Multiplication"
   ]
  },
  {
   "cell_type": "markdown",
   "id": "5caff185-90cd-4de7-b37d-94ec4464ad37",
   "metadata": {},
   "source": [
    "- Set manual seed\n",
    "- Initialize weights for shape 784 x 10\n",
    "- Initialize bias of zeros of shape 10"
   ]
  },
  {
   "cell_type": "code",
   "execution_count": 51,
   "id": "e2934dc0-f3a1-44c5-b741-b3d1ecd7f9da",
   "metadata": {},
   "outputs": [
    {
     "data": {
      "text/plain": [
       "<torch._C.Generator at 0x7f57126a71f0>"
      ]
     },
     "execution_count": 51,
     "metadata": {},
     "output_type": "execute_result"
    }
   ],
   "source": [
    "torch.manual_seed(4)"
   ]
  },
  {
   "cell_type": "code",
   "execution_count": 52,
   "id": "841d40e1-501a-4b22-867a-bd6d5e124840",
   "metadata": {},
   "outputs": [
    {
     "data": {
      "text/plain": [
       "torch.Size([784, 10])"
      ]
     },
     "execution_count": 52,
     "metadata": {},
     "output_type": "execute_result"
    }
   ],
   "source": [
    "w = torch.randn(784, 10)\n",
    "w.shape"
   ]
  },
  {
   "cell_type": "code",
   "execution_count": 53,
   "id": "9d467e27-8e6c-44f2-947b-640b9f932e56",
   "metadata": {},
   "outputs": [
    {
     "data": {
      "text/plain": [
       "tensor([0., 0., 0., 0., 0., 0., 0., 0., 0., 0.])"
      ]
     },
     "execution_count": 53,
     "metadata": {},
     "output_type": "execute_result"
    }
   ],
   "source": [
    "b = torch.zeros(10)\n",
    "b"
   ]
  },
  {
   "cell_type": "markdown",
   "id": "f065bd34-8b78-447d-93dd-bda45f951edf",
   "metadata": {},
   "source": [
    "- Create Matrix 1 consisting of the x validation set \n",
    "- Create Matrix 2 consisting of the weights"
   ]
  },
  {
   "cell_type": "code",
   "execution_count": 54,
   "id": "c749bae3-997f-41d1-b83d-277d0cfe108c",
   "metadata": {},
   "outputs": [],
   "source": [
    "m1 = x_train[:5]"
   ]
  },
  {
   "cell_type": "code",
   "execution_count": 55,
   "id": "ef4f03c7-98c8-475d-8d9a-69ee2ab11554",
   "metadata": {},
   "outputs": [],
   "source": [
    "m2 = w"
   ]
  },
  {
   "cell_type": "code",
   "execution_count": 56,
   "id": "d16ca5bf-f97f-4e8a-b6a6-7b2babd67c39",
   "metadata": {},
   "outputs": [
    {
     "data": {
      "text/plain": [
       "(torch.Size([5, 784]), torch.Size([784, 10]))"
      ]
     },
     "execution_count": 56,
     "metadata": {},
     "output_type": "execute_result"
    }
   ],
   "source": [
    "m1.shape, m2.shape"
   ]
  },
  {
   "cell_type": "markdown",
   "id": "b75ef829-6906-4f84-92f9-a7d88086214c",
   "metadata": {},
   "source": [
    "- Deconstruction the shape of each to 2 variables each, one for rows and one for columns"
   ]
  },
  {
   "cell_type": "code",
   "execution_count": 57,
   "id": "73b7960f-e397-4e2b-890d-1f4496138bdf",
   "metadata": {},
   "outputs": [
    {
     "data": {
      "text/plain": [
       "((5, 784), (784, 10))"
      ]
     },
     "execution_count": 57,
     "metadata": {},
     "output_type": "execute_result"
    }
   ],
   "source": [
    "ar, ac = m1.shape\n",
    "br, bc = m2.shape\n",
    "(ar, ac), (br, bc)"
   ]
  },
  {
   "cell_type": "markdown",
   "id": "95a11ee6-d330-420d-85a2-05f1f596da9a",
   "metadata": {},
   "source": [
    "- Create a tensor of zeros, `t1`, with the dimensions Matrix 1 rows, Matrix 2 columns"
   ]
  },
  {
   "cell_type": "code",
   "execution_count": 58,
   "id": "4561c44a-4bb7-483b-913e-adae26a95464",
   "metadata": {},
   "outputs": [
    {
     "data": {
      "text/plain": [
       "torch.Size([5, 10])"
      ]
     },
     "execution_count": 58,
     "metadata": {},
     "output_type": "execute_result"
    }
   ],
   "source": [
    "t1 = torch.zeros(ar, bc)\n",
    "t1.shape"
   ]
  },
  {
   "cell_type": "markdown",
   "id": "7c7b80d5-d1c9-4a55-9823-48ea751dfbfc",
   "metadata": {},
   "source": [
    "- Create a loop that will get the dot product of Matrix 1 and Matrix 2 and store the results in `t1`"
   ]
  },
  {
   "cell_type": "code",
   "execution_count": 59,
   "id": "a72a9ac8-eb59-49df-9af0-7e1fe78878e8",
   "metadata": {},
   "outputs": [],
   "source": [
    "for i in range(ar):\n",
    "    for j in range(bc):\n",
    "        for k in range(ac):\n",
    "            t1[i,j] += m1[i,k] * m2[k,j]"
   ]
  },
  {
   "cell_type": "code",
   "execution_count": 60,
   "id": "f044eb57-abc3-4629-8096-2726c785c195",
   "metadata": {},
   "outputs": [
    {
     "data": {
      "text/plain": [
       "torch.Size([5, 10])"
      ]
     },
     "execution_count": 60,
     "metadata": {},
     "output_type": "execute_result"
    }
   ],
   "source": [
    "t1.shape"
   ]
  },
  {
   "cell_type": "markdown",
   "id": "7897c711-5d4b-4db1-9e90-1bc3a062f19a",
   "metadata": {},
   "source": [
    "- Turn the loop into a callable function that takes 2 inputs representing the matrices"
   ]
  },
  {
   "cell_type": "code",
   "execution_count": 61,
   "id": "b50d9740-5b40-491f-8c2a-8506df8bddfb",
   "metadata": {},
   "outputs": [],
   "source": [
    "def matrix_mult(m1, m2):\n",
    "    ar, ac = m1.shape\n",
    "    br, bc = m2.shape\n",
    "    c = torch.zeros(ar, bc)\n",
    "    for i in range(ar):\n",
    "        for j in range(bc):\n",
    "            for k in range(ac):\n",
    "                c[i,j] += m1[i,k] * m2[k,j]\n",
    "    return c"
   ]
  },
  {
   "cell_type": "markdown",
   "id": "b55dac31-5be3-489a-948c-5e0da9a39fb1",
   "metadata": {},
   "source": [
    "- Time the Matrix multiplication loop"
   ]
  },
  {
   "cell_type": "code",
   "execution_count": 62,
   "id": "775bb358-734d-4437-9eb5-00fb62db0d44",
   "metadata": {},
   "outputs": [
    {
     "name": "stdout",
     "output_type": "stream",
     "text": [
      "CPU times: user 323 ms, sys: 0 ns, total: 323 ms\n",
      "Wall time: 322 ms\n"
     ]
    }
   ],
   "source": [
    "%time _ = matrix_mult(m1,m2)"
   ]
  },
  {
   "cell_type": "markdown",
   "id": "f61a2c1f-51bd-45c8-b906-a6c90438eb13",
   "metadata": {},
   "source": [
    "### Numba"
   ]
  },
  {
   "cell_type": "markdown",
   "id": "987943ed-6d4e-4a2d-bfb1-4a9d7c0f4d7a",
   "metadata": {},
   "source": [
    "- import njit from numba"
   ]
  },
  {
   "cell_type": "code",
   "execution_count": 63,
   "id": "557d6184-3eee-4cc1-9d6d-d0fe9be72409",
   "metadata": {},
   "outputs": [],
   "source": [
    "from numba import njit"
   ]
  },
  {
   "cell_type": "markdown",
   "id": "0e8c825a-b0c7-418d-85cd-067c79747bf4",
   "metadata": {},
   "source": [
    "- create a function that multiplies all the elements in 2 matrices and returns the sum, recreating the multiplication operation from the `matrix_mult` function"
   ]
  },
  {
   "cell_type": "code",
   "execution_count": 64,
   "id": "d0bcc707-d60c-4ec8-81e9-f6c683fea3e8",
   "metadata": {},
   "outputs": [],
   "source": [
    "@njit\n",
    "def dot(a, b):\n",
    "    total = 0.\n",
    "    for i in range(len(a)): \n",
    "        total += a[i] * b[i]\n",
    "    return total"
   ]
  },
  {
   "cell_type": "markdown",
   "id": "a1110cb6-daf2-4ef7-b7bf-a17440d89eb0",
   "metadata": {},
   "source": [
    "- Try with and without njit using numpy arrays"
   ]
  },
  {
   "cell_type": "code",
   "execution_count": 65,
   "id": "7aac9c34-bd6e-4922-af27-8364deb57b46",
   "metadata": {},
   "outputs": [],
   "source": [
    "from numpy import array"
   ]
  },
  {
   "cell_type": "markdown",
   "id": "a8c941ba-c7ea-42e9-a345-a0d61451e8f3",
   "metadata": {},
   "source": [
    "dot(array([2.,4,5,6]), array([5.,4,6,8]))- Time both types of operations"
   ]
  },
  {
   "cell_type": "code",
   "execution_count": 66,
   "id": "670306b9-7c87-48d5-bc78-8d1d93fcd3b0",
   "metadata": {},
   "outputs": [
    {
     "data": {
      "text/plain": [
       "104.0"
      ]
     },
     "execution_count": 66,
     "metadata": {},
     "output_type": "execute_result"
    }
   ],
   "source": [
    "dot(array([2.,4,5,6]), array([5.,4,6,8]))"
   ]
  },
  {
   "cell_type": "code",
   "execution_count": 67,
   "id": "68124170-0f1a-4c1c-afa9-046fcaaefbee",
   "metadata": {},
   "outputs": [
    {
     "name": "stdout",
     "output_type": "stream",
     "text": [
      "CPU times: user 19 µs, sys: 1 µs, total: 20 µs\n",
      "Wall time: 22.4 µs\n"
     ]
    },
    {
     "data": {
      "text/plain": [
       "104.0"
      ]
     },
     "execution_count": 67,
     "metadata": {},
     "output_type": "execute_result"
    }
   ],
   "source": [
    "%time dot(array([2.,4,5,6]), array([5.,4,6,8]))"
   ]
  },
  {
   "cell_type": "code",
   "execution_count": 68,
   "id": "e7269a68-dfc6-4c79-9ec3-3780c3489612",
   "metadata": {},
   "outputs": [
    {
     "name": "stdout",
     "output_type": "stream",
     "text": [
      "CPU times: user 19 µs, sys: 2 µs, total: 21 µs\n",
      "Wall time: 22.9 µs\n"
     ]
    },
    {
     "data": {
      "text/plain": [
       "104.0"
      ]
     },
     "execution_count": 68,
     "metadata": {},
     "output_type": "execute_result"
    }
   ],
   "source": [
    "%time dot(array([2.,4,5,6]), array([5.,4,6,8]))"
   ]
  },
  {
   "cell_type": "markdown",
   "id": "0b1ad904-12fa-4ad1-9178-faf078fa8cf0",
   "metadata": {},
   "source": [
    "- update `matrix_mult` to use the `dot` created above(using njit)"
   ]
  },
  {
   "cell_type": "code",
   "execution_count": 69,
   "id": "b7c6d621-44f2-4bc8-8680-8453b7824a21",
   "metadata": {},
   "outputs": [
    {
     "data": {
      "text/plain": [
       "(torch.Size([5, 784]), torch.Size([784, 10]))"
      ]
     },
     "execution_count": 69,
     "metadata": {},
     "output_type": "execute_result"
    }
   ],
   "source": [
    "m1.shape, m2.shape"
   ]
  },
  {
   "cell_type": "code",
   "execution_count": 70,
   "id": "60f6ae8d-7f64-4310-aae0-a0f32d028d8e",
   "metadata": {},
   "outputs": [],
   "source": [
    "def matmul(m1, m2):\n",
    "    ar, ac = m1.shape\n",
    "    br, bc = m2.shape\n",
    "    c = torch.zeros(ar, bc)\n",
    "    for i in range(ar):       #5\n",
    "        for j in range(bc):   #784\n",
    "            c[i,j] = dot(m1[i,:], m2[:,j])\n",
    "    return c"
   ]
  },
  {
   "cell_type": "markdown",
   "id": "7f367139-97bd-4f14-bf79-3569fae0ab38",
   "metadata": {},
   "source": [
    "- assign `m1` and `m2` as variables as numpy arrays "
   ]
  },
  {
   "cell_type": "code",
   "execution_count": 71,
   "id": "789a7601-b1ea-41b7-93cc-6e3df80c521a",
   "metadata": {},
   "outputs": [],
   "source": [
    "m1a, m2a = m1.numpy(), m2.numpy()"
   ]
  },
  {
   "cell_type": "markdown",
   "id": "d7a77c38-4b6e-4a57-aa25-76fed1e04541",
   "metadata": {},
   "source": [
    "- Use `test_close` on `t1` and `matmul`, imported from fastcore"
   ]
  },
  {
   "cell_type": "code",
   "execution_count": 72,
   "id": "ad6a80c9-c331-4825-a56d-fb9e2137a86e",
   "metadata": {},
   "outputs": [],
   "source": [
    "from fastcore.test import *"
   ]
  },
  {
   "cell_type": "code",
   "execution_count": 73,
   "id": "6f42265d-45a9-4a93-b27c-ed072d049a4c",
   "metadata": {},
   "outputs": [],
   "source": [
    "test_close(t1, matmul(m1a, m2a))"
   ]
  },
  {
   "cell_type": "markdown",
   "id": "646ac2ba-df31-4e31-9926-76912635caa2",
   "metadata": {},
   "source": [
    "- Time matmul"
   ]
  },
  {
   "cell_type": "code",
   "execution_count": 74,
   "id": "f38d9054-88e7-4fc0-9d44-619c5eab81dc",
   "metadata": {},
   "outputs": [
    {
     "name": "stdout",
     "output_type": "stream",
     "text": [
      "190 µs ± 15.2 µs per loop (mean ± std. dev. of 7 runs, 50 loops each)\n"
     ]
    }
   ],
   "source": [
    "%timeit -n 50 matmul(m1a,m2a)"
   ]
  },
  {
   "cell_type": "markdown",
   "id": "12015679-0a05-41a6-a424-b96f916be99a",
   "metadata": {},
   "source": [
    "### Elementwise Ops"
   ]
  },
  {
   "cell_type": "markdown",
   "id": "418fe6a3-8abd-4e56-85b4-dcd5e3ca7025",
   "metadata": {},
   "source": [
    "- Create 2 Rank 1 tensors"
   ]
  },
  {
   "cell_type": "code",
   "execution_count": 75,
   "id": "81f59f80-e256-4e4f-8c10-957000f74a30",
   "metadata": {},
   "outputs": [
    {
     "data": {
      "text/plain": [
       "(tensor([  1., 200.,  30.,   4., 500.,   6.]),\n",
       " tensor([10., 22., 44., 55., 66., 33.]),\n",
       " True)"
      ]
     },
     "execution_count": 75,
     "metadata": {},
     "output_type": "execute_result"
    }
   ],
   "source": [
    "a = tensor([1.,200,30,4,500,6])\n",
    "b = tensor([10.,22,44,55,66,33])\n",
    "a, b, len(a) == len(b)"
   ]
  },
  {
   "cell_type": "markdown",
   "id": "2cf0056c-6c78-4c66-a931-3da96741db97",
   "metadata": {},
   "source": [
    "- Add them"
   ]
  },
  {
   "cell_type": "code",
   "execution_count": 76,
   "id": "d929db74-4c9d-4333-bd39-15956f19c4f2",
   "metadata": {},
   "outputs": [
    {
     "data": {
      "text/plain": [
       "tensor([ 11., 222.,  74.,  59., 566.,  39.])"
      ]
     },
     "execution_count": 76,
     "metadata": {},
     "output_type": "execute_result"
    }
   ],
   "source": [
    "a + b"
   ]
  },
  {
   "cell_type": "markdown",
   "id": "dd04e092-d5a3-4999-8d79-2cfc3131584f",
   "metadata": {},
   "source": [
    "- Compare them > or < for boolean values"
   ]
  },
  {
   "cell_type": "code",
   "execution_count": 77,
   "id": "a9f21871-8eb6-415d-b301-814b6cd6956b",
   "metadata": {},
   "outputs": [
    {
     "data": {
      "text/plain": [
       "tensor([False,  True, False, False,  True, False])"
      ]
     },
     "execution_count": 77,
     "metadata": {},
     "output_type": "execute_result"
    }
   ],
   "source": [
    "a > b"
   ]
  },
  {
   "cell_type": "markdown",
   "id": "e571bab1-d355-4ffb-8f69-466481763967",
   "metadata": {},
   "source": [
    "- Get a percentage of true/false values"
   ]
  },
  {
   "cell_type": "code",
   "execution_count": 78,
   "id": "78351cc5-d525-4cce-bca1-84c26d9c2599",
   "metadata": {
    "tags": []
   },
   "outputs": [
    {
     "data": {
      "text/plain": [
       "tensor(0.3333)"
      ]
     },
     "execution_count": 78,
     "metadata": {},
     "output_type": "execute_result"
    }
   ],
   "source": [
    "(a > b).float().mean()"
   ]
  },
  {
   "cell_type": "markdown",
   "id": "1ec662d0-a919-47b2-b804-bc818098faf8",
   "metadata": {
    "tags": []
   },
   "source": [
    "- Create a new rank 2 tensor"
   ]
  },
  {
   "cell_type": "code",
   "execution_count": 79,
   "id": "120ba9a1-8e88-499e-b505-eb03de348aa8",
   "metadata": {},
   "outputs": [
    {
     "data": {
      "text/plain": [
       "tensor([[1., 2., 3.],\n",
       "        [4., 5., 6.],\n",
       "        [7., 8., 9.]])"
      ]
     },
     "execution_count": 79,
     "metadata": {},
     "output_type": "execute_result"
    }
   ],
   "source": [
    "m = tensor([[1.,2,3], [4,5,6], [7,8,9]])\n",
    "m"
   ]
  },
  {
   "cell_type": "markdown",
   "id": "c067c7a2-7a3e-40b9-ac72-acd5051d693f",
   "metadata": {},
   "source": [
    "Frobenius norm:\n",
    "\n",
    "$$\\| A \\|_F = \\left( \\sum_{i,j=1}^n | a_{ij} |^2 \\right)^{1/2}$$\n",
    "\n",
    "*Hint*: you don't normally need to write equations in LaTeX yourself, instead, you can click 'edit' in Wikipedia and copy the LaTeX from there (which is what I did for the above equation). Or on arxiv.org, click \"Download: Other formats\" in the top right, then \"Download source\"; rename the downloaded file to end in `.tgz` if it doesn't already, and you should find the source there, including the equations to copy and paste. This is the source LaTeX that I pasted to render the equation above:\n",
    "\n",
    "```latex\n",
    "$$\\| A \\|_F = \\left( \\sum_{i,j=1}^n | a_{ij} |^2 \\right)^{1/2}$$\n",
    "```"
   ]
  },
  {
   "cell_type": "markdown",
   "id": "60c0ef78-1169-43f9-937c-088aaa20ee1f",
   "metadata": {},
   "source": [
    "- Recreate the operation above on the `m` tensor created earlier"
   ]
  },
  {
   "cell_type": "code",
   "execution_count": 80,
   "id": "a5f89e18-ccf3-4bb5-9092-9469f5d20428",
   "metadata": {},
   "outputs": [
    {
     "data": {
      "text/plain": [
       "tensor(285.)"
      ]
     },
     "execution_count": 80,
     "metadata": {},
     "output_type": "execute_result"
    }
   ],
   "source": [
    "sf = (m*m).sum()\n",
    "sf"
   ]
  },
  {
   "cell_type": "code",
   "execution_count": 81,
   "id": "735d515c-34c9-4088-a0f8-ba5097f3d4e0",
   "metadata": {},
   "outputs": [
    {
     "data": {
      "text/plain": [
       "tensor(16.8819)"
      ]
     },
     "execution_count": 81,
     "metadata": {},
     "output_type": "execute_result"
    }
   ],
   "source": [
    "sf.sqrt()"
   ]
  },
  {
   "cell_type": "markdown",
   "id": "0cbd0a17-357a-49b7-b113-458cacaa02a5",
   "metadata": {},
   "source": [
    "- Check the different ways to index select the rows and columns of `m`"
   ]
  },
  {
   "cell_type": "code",
   "execution_count": 82,
   "id": "72acc59e-9c73-47d0-8f97-e07ddcc20d01",
   "metadata": {},
   "outputs": [
    {
     "data": {
      "text/plain": [
       "(tensor([7., 8., 9.]), tensor([7., 8., 9.]))"
      ]
     },
     "execution_count": 82,
     "metadata": {},
     "output_type": "execute_result"
    }
   ],
   "source": [
    "m[2], m[2, :]"
   ]
  },
  {
   "cell_type": "code",
   "execution_count": 83,
   "id": "430b9cb1-4fa8-433e-9be5-2a928518f9de",
   "metadata": {},
   "outputs": [
    {
     "data": {
      "text/plain": [
       "(tensor([3., 6., 9.]), tensor([3., 6., 9.]))"
      ]
     },
     "execution_count": 83,
     "metadata": {},
     "output_type": "execute_result"
    }
   ],
   "source": [
    "m[:, 2], m[:, 2]"
   ]
  },
  {
   "cell_type": "markdown",
   "id": "bdfb7973-0765-4e85-a5b6-f13169d81e2a",
   "metadata": {},
   "source": [
    "- Update the matrix multiplication function to use elementwise operations instead of the `dot` function"
   ]
  },
  {
   "cell_type": "code",
   "execution_count": 84,
   "id": "5b353890-0b33-448b-88f2-db140dbc6143",
   "metadata": {},
   "outputs": [],
   "source": [
    "def matmul(m1, m2):\n",
    "    ar, ac = m1.shape\n",
    "    br, bc = m2.shape\n",
    "    c = torch.zeros(ar, bc)\n",
    "    for i in range(ar):       #5\n",
    "        for j in range(bc):   #784\n",
    "            c[i,j] = (m1[i,:] * m2[:,j]).sum()\n",
    "    return c"
   ]
  },
  {
   "cell_type": "markdown",
   "id": "bb7a5397-91b7-4d93-960c-f82826ac37f9",
   "metadata": {},
   "source": [
    "- Check that we're getting the same result using `test_close`"
   ]
  },
  {
   "cell_type": "code",
   "execution_count": 85,
   "id": "d19e98f5-b956-469f-a9af-0f67a5cd1588",
   "metadata": {},
   "outputs": [],
   "source": [
    "test_close(t1, matmul(m1,m2))"
   ]
  },
  {
   "cell_type": "markdown",
   "id": "c5a21619-64fb-42cd-84be-6e8756cfa1a3",
   "metadata": {},
   "source": [
    "- Use timeit to on 50 iterations to try the new function on `m1` and `m2`"
   ]
  },
  {
   "cell_type": "code",
   "execution_count": 87,
   "id": "2a8261bd-4908-47fc-884b-7d9351afcc80",
   "metadata": {},
   "outputs": [
    {
     "name": "stdout",
     "output_type": "stream",
     "text": [
      "483 µs ± 14 µs per loop (mean ± std. dev. of 7 runs, 50 loops each)\n"
     ]
    }
   ],
   "source": [
    "%timeit -n 50 _=matmul(m1,m2)"
   ]
  },
  {
   "cell_type": "markdown",
   "id": "d11b5f7b-8e9f-4458-ae31-5c7697c7e173",
   "metadata": {},
   "source": [
    "- Redefine `matmul` using `torch.dot` for the dot product and test its time"
   ]
  },
  {
   "cell_type": "markdown",
   "id": "d2aadd8b-8967-42fe-9ae0-f5689f844a08",
   "metadata": {},
   "source": [
    "### Broadcasting"
   ]
  },
  {
   "cell_type": "code",
   "execution_count": 88,
   "id": "d9d9980c-24f9-4d8f-829a-c66de73c6cd5",
   "metadata": {},
   "outputs": [
    {
     "data": {
      "text/plain": [
       "tensor([  1., 200.,  30.,   4., 500.,   6.])"
      ]
     },
     "execution_count": 88,
     "metadata": {},
     "output_type": "execute_result"
    }
   ],
   "source": [
    "a"
   ]
  },
  {
   "cell_type": "markdown",
   "id": "0cef0d7d-00ec-4b5c-817f-8c0e37226d3c",
   "metadata": {},
   "source": [
    "- Use broadcasting to check *>0* with a scalar"
   ]
  },
  {
   "cell_type": "markdown",
   "id": "6c546adc-97e3-4ed6-9bae-771f4e5bf8b1",
   "metadata": {},
   "source": [
    "- Normalize the dataset by subtracting the mean from the entire dataset and dividing by the standard deviation"
   ]
  },
  {
   "cell_type": "markdown",
   "id": "ba258ba7-162a-403e-bae6-71b7176dd970",
   "metadata": {},
   "source": [
    "- Add 1 using broadcasting to `a`"
   ]
  },
  {
   "cell_type": "markdown",
   "id": "e6ff21dc-adca-487c-984b-92969fcc92d0",
   "metadata": {},
   "source": [
    "- Multiply rank-2 matrix by a scalar"
   ]
  },
  {
   "cell_type": "code",
   "execution_count": null,
   "id": "ae5f50fb-c2fe-4cf4-9bbf-b5e062856464",
   "metadata": {},
   "outputs": [],
   "source": []
  }
 ],
 "metadata": {
  "kernelspec": {
   "display_name": "Python 3 (ipykernel)",
   "language": "python",
   "name": "python3"
  },
  "language_info": {
   "codemirror_mode": {
    "name": "ipython",
    "version": 3
   },
   "file_extension": ".py",
   "mimetype": "text/x-python",
   "name": "python",
   "nbconvert_exporter": "python",
   "pygments_lexer": "ipython3",
   "version": "3.10.10"
  }
 },
 "nbformat": 4,
 "nbformat_minor": 5
}

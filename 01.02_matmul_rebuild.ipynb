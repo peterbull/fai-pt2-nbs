{
 "cells": [
  {
   "cell_type": "code",
   "execution_count": 1,
   "id": "c02dfda4-a9d0-4e09-8f1a-64a214bbb4e6",
   "metadata": {
    "tags": []
   },
   "outputs": [],
   "source": [
    "# import openai"
   ]
  },
  {
   "cell_type": "code",
   "execution_count": 218,
   "id": "00e65a88-b76f-48e0-91dc-a0f0a3dca787",
   "metadata": {},
   "outputs": [],
   "source": [
    "from pathlib import Path\n",
    "import pickle, gzip, math, os, time, shutil, matplotlib as mpl, matplotlib.pyplot as plt\n",
    "import tsensor\n",
    "import logging\n",
    "logging.getLogger(\"matplotlib.font_mangaer\").setLevel(logging.ERROR)\n",
    "logging.disable(logging.WARNING)"
   ]
  },
  {
   "cell_type": "code",
   "execution_count": 3,
   "id": "cf7f662d-1653-4ce3-bf58-6aa153a91a6c",
   "metadata": {
    "tags": []
   },
   "outputs": [],
   "source": [
    "# openai.api_key = os.environ[\"OPENAI_API_KEY\"]"
   ]
  },
  {
   "cell_type": "code",
   "execution_count": 4,
   "id": "731aa041-a7a2-4616-972c-8f273f8c95f4",
   "metadata": {},
   "outputs": [],
   "source": [
    "# %reload_ext genai"
   ]
  },
  {
   "cell_type": "code",
   "execution_count": 5,
   "id": "6c22c1dd-b977-4979-88c6-f28d5cc49e61",
   "metadata": {},
   "outputs": [],
   "source": [
    "MNIST_URL='https://github.com/mnielsen/neural-networks-and-deep-learning/blob/master/data/mnist.pkl.gz?raw=true'\n",
    "path_data = Path('data')\n",
    "path_data.mkdir(exist_ok=True)\n",
    "path_gz = path_data/'mnist.pkl.gz'"
   ]
  },
  {
   "cell_type": "code",
   "execution_count": 6,
   "id": "c1bc5745-cf5f-478d-aa98-6cc993a5b470",
   "metadata": {},
   "outputs": [],
   "source": [
    "from urllib.request import urlretrieve\n",
    "if not path_gz.exists(): urlretrieve(MNIST_URL, path_gz)"
   ]
  },
  {
   "cell_type": "code",
   "execution_count": 7,
   "id": "23c60a1a-b908-4e90-8802-92c09e301c97",
   "metadata": {},
   "outputs": [
    {
     "name": "stdout",
     "output_type": "stream",
     "text": [
      "total 16656\n",
      "-rw-r--r-- 1 pete-00 pete-00 17051982 May 14 07:18 mnist.pkl.gz\n"
     ]
    }
   ],
   "source": [
    "!ls -l data"
   ]
  },
  {
   "cell_type": "code",
   "execution_count": 8,
   "id": "65253c54-be4f-4ab5-a937-9e1929b204a1",
   "metadata": {},
   "outputs": [],
   "source": [
    "with gzip.open(path_gz, 'rb') as f: ((x_train, y_train), (x_valid, y_valid), _) = pickle.load(f, encoding='latin-1')"
   ]
  },
  {
   "cell_type": "code",
   "execution_count": 9,
   "id": "2ee217d1-4a9e-4365-b541-c333ea98c28c",
   "metadata": {},
   "outputs": [],
   "source": [
    "lst1 = list(x_train[0])"
   ]
  },
  {
   "cell_type": "code",
   "execution_count": 10,
   "id": "a38c3174-b30c-4234-861f-e8ee9149db36",
   "metadata": {},
   "outputs": [],
   "source": [
    "vals = lst1[200:210]"
   ]
  },
  {
   "cell_type": "code",
   "execution_count": 11,
   "id": "3cb7def8-4a79-4714-8d3b-8d112b20c792",
   "metadata": {},
   "outputs": [
    {
     "data": {
      "text/plain": [
       "([0.0,\n",
       "  0.0,\n",
       "  0.0,\n",
       "  0.19140625,\n",
       "  0.9296875,\n",
       "  0.98828125,\n",
       "  0.98828125,\n",
       "  0.98828125,\n",
       "  0.98828125,\n",
       "  0.98828125],\n",
       " 784)"
      ]
     },
     "execution_count": 11,
     "metadata": {},
     "output_type": "execute_result"
    }
   ],
   "source": [
    "vals, len(lst1)"
   ]
  },
  {
   "cell_type": "code",
   "execution_count": 12,
   "id": "d330ff9a-d7da-46c1-94dd-e2406a027f02",
   "metadata": {},
   "outputs": [],
   "source": [
    "def chunks(x, sz):\n",
    "    for i in range(0, len(x), sz):\n",
    "        yield x[i:i+sz]"
   ]
  },
  {
   "cell_type": "code",
   "execution_count": 13,
   "id": "8689ecd5-a95e-415d-9cb2-4de62031ce51",
   "metadata": {},
   "outputs": [],
   "source": [
    "val_iter = chunks(vals, 5)"
   ]
  },
  {
   "cell_type": "code",
   "execution_count": 14,
   "id": "269fb76e-0c5c-48a5-9e04-c86681fe3b3a",
   "metadata": {},
   "outputs": [
    {
     "data": {
      "text/plain": [
       "28"
      ]
     },
     "execution_count": 14,
     "metadata": {},
     "output_type": "execute_result"
    }
   ],
   "source": [
    "len(next(chunks(lst1, 28)))"
   ]
  },
  {
   "cell_type": "code",
   "execution_count": 15,
   "id": "8df6f828-1b2e-4039-8167-87dee5eb37d2",
   "metadata": {},
   "outputs": [],
   "source": [
    "mpl.rcParams['image.cmap'] = 'gray'"
   ]
  },
  {
   "cell_type": "code",
   "execution_count": 16,
   "id": "7bbde4ab-dd06-40bf-a29d-eb4f1cba4b0b",
   "metadata": {},
   "outputs": [
    {
     "data": {
      "text/plain": [
       "<matplotlib.image.AxesImage at 0x7fea5d71ceb0>"
      ]
     },
     "execution_count": 16,
     "metadata": {},
     "output_type": "execute_result"
    },
    {
     "data": {
      "image/png": "[encoded data removed]",
      "text/plain": [
       "<Figure size 640x480 with 1 Axes>"
      ]
     },
     "metadata": {},
     "output_type": "display_data"
    }
   ],
   "source": [
    "plt.imshow(list(chunks(lst1, 28)))"
   ]
  },
  {
   "cell_type": "code",
   "execution_count": 17,
   "id": "082a0467-358e-432c-ae8c-e638b104db1b",
   "metadata": {},
   "outputs": [],
   "source": [
    "from itertools import islice"
   ]
  },
  {
   "cell_type": "code",
   "execution_count": 18,
   "id": "281b1ce8-e5b9-4a1b-804c-3d62572ba22f",
   "metadata": {},
   "outputs": [
    {
     "data": {
      "text/plain": [
       "<itertools.islice at 0x7fea66e65760>"
      ]
     },
     "execution_count": 18,
     "metadata": {},
     "output_type": "execute_result"
    }
   ],
   "source": [
    "it = iter(lst1)\n",
    "islice(it, 5)"
   ]
  },
  {
   "cell_type": "code",
   "execution_count": 19,
   "id": "3747e32e-903a-476e-92f1-0040c11644c2",
   "metadata": {},
   "outputs": [
    {
     "data": {
      "text/plain": [
       "[0.0, 0.0, 0.0, 0.0, 0.0]"
      ]
     },
     "execution_count": 19,
     "metadata": {},
     "output_type": "execute_result"
    }
   ],
   "source": [
    "list(islice(it, 5))"
   ]
  },
  {
   "cell_type": "code",
   "execution_count": 20,
   "id": "76c3405b-c174-490d-8520-a157b62e5d34",
   "metadata": {},
   "outputs": [],
   "source": [
    "it = iter(lst1)\n",
    "img = list(iter(lambda: list(islice(it, 28)), []))"
   ]
  },
  {
   "cell_type": "code",
   "execution_count": 21,
   "id": "1355652f-8d05-473d-af2e-c34581e8e9b7",
   "metadata": {},
   "outputs": [
    {
     "data": {
      "text/plain": [
       "<matplotlib.image.AxesImage at 0x7fea5d615600>"
      ]
     },
     "execution_count": 21,
     "metadata": {},
     "output_type": "execute_result"
    },
    {
     "data": {
      "image/png": "[encoded data removed]",
      "text/plain": [
       "<Figure size 640x480 with 1 Axes>"
      ]
     },
     "metadata": {},
     "output_type": "display_data"
    }
   ],
   "source": [
    "plt.imshow(img)"
   ]
  },
  {
   "cell_type": "code",
   "execution_count": 22,
   "id": "e632fe42-e506-4de1-8a2f-30010f516ef8",
   "metadata": {},
   "outputs": [],
   "source": [
    "class Matrix:\n",
    "    def __init__(self, xs):\n",
    "        self.xs = xs\n",
    "    def __getitem__(self, idxs):\n",
    "        return self.xs[idxs[0]][idxs[1]]"
   ]
  },
  {
   "cell_type": "code",
   "execution_count": 23,
   "id": "acb26230-cea5-4bf7-ac56-f56525041f11",
   "metadata": {},
   "outputs": [],
   "source": [
    "m = Matrix(img)"
   ]
  },
  {
   "cell_type": "code",
   "execution_count": 24,
   "id": "088557a2-fbcb-48c9-89f7-39926d5a5769",
   "metadata": {},
   "outputs": [
    {
     "data": {
      "text/plain": [
       "0.98828125"
      ]
     },
     "execution_count": 24,
     "metadata": {},
     "output_type": "execute_result"
    }
   ],
   "source": [
    "m[20,15]"
   ]
  },
  {
   "cell_type": "code",
   "execution_count": 25,
   "id": "46aac2d7-4978-4a50-9fba-1ab109f247df",
   "metadata": {},
   "outputs": [],
   "source": [
    "import torch\n",
    "from torch import tensor"
   ]
  },
  {
   "cell_type": "code",
   "execution_count": 26,
   "id": "1a008387-16d9-401a-8547-1b1ac3437ee5",
   "metadata": {},
   "outputs": [
    {
     "data": {
      "text/plain": [
       "tensor([1, 2, 3])"
      ]
     },
     "execution_count": 26,
     "metadata": {},
     "output_type": "execute_result"
    }
   ],
   "source": [
    "tensor([1,2,3])"
   ]
  },
  {
   "cell_type": "code",
   "execution_count": 27,
   "id": "22037469-84ee-419f-bf85-d5faa71fcf1c",
   "metadata": {},
   "outputs": [],
   "source": [
    "tens = tensor(img)"
   ]
  },
  {
   "cell_type": "code",
   "execution_count": 28,
   "id": "6bddcba4-9092-4afa-a38a-cfc6788c710e",
   "metadata": {},
   "outputs": [
    {
     "data": {
      "text/plain": [
       "tensor(0.9883)"
      ]
     },
     "execution_count": 28,
     "metadata": {},
     "output_type": "execute_result"
    }
   ],
   "source": [
    "tens[20,15]"
   ]
  },
  {
   "cell_type": "code",
   "execution_count": 29,
   "id": "08956650-3ef2-4ea2-bed3-9dadf0f14e8f",
   "metadata": {},
   "outputs": [],
   "source": [
    "x_train, y_train, x_valid, y_valid = map(tensor, (x_train, y_train, x_valid, y_valid))"
   ]
  },
  {
   "cell_type": "code",
   "execution_count": 30,
   "id": "4bed6059-d802-4a4a-b0fb-f63f22bcb98a",
   "metadata": {},
   "outputs": [
    {
     "data": {
      "text/plain": [
       "torch.Size([50000, 784])"
      ]
     },
     "execution_count": 30,
     "metadata": {},
     "output_type": "execute_result"
    }
   ],
   "source": [
    "x_train.shape"
   ]
  },
  {
   "cell_type": "code",
   "execution_count": 31,
   "id": "63813a64-b335-4056-a1bc-f52f8b348567",
   "metadata": {},
   "outputs": [
    {
     "data": {
      "text/plain": [
       "torch.float32"
      ]
     },
     "execution_count": 31,
     "metadata": {},
     "output_type": "execute_result"
    }
   ],
   "source": [
    "x_train.dtype"
   ]
  },
  {
   "cell_type": "code",
   "execution_count": 32,
   "id": "9f5148e8-9792-4a36-8df5-0db315996641",
   "metadata": {},
   "outputs": [
    {
     "data": {
      "text/plain": [
       "torch.Size([50000, 28, 28])"
      ]
     },
     "execution_count": 32,
     "metadata": {},
     "output_type": "execute_result"
    }
   ],
   "source": [
    "imgs = x_train.reshape(-1, 28, 28)\n",
    "imgs.shape"
   ]
  },
  {
   "cell_type": "code",
   "execution_count": 33,
   "id": "b5ef14d6-f83e-4946-b617-c458a393e6ad",
   "metadata": {},
   "outputs": [
    {
     "data": {
      "text/plain": [
       "torch.Size([28, 28])"
      ]
     },
     "execution_count": 33,
     "metadata": {},
     "output_type": "execute_result"
    }
   ],
   "source": [
    "imgs[0].shape"
   ]
  },
  {
   "cell_type": "code",
   "execution_count": 34,
   "id": "e93bf63f-357f-4d46-b33a-5bd291e82d5c",
   "metadata": {},
   "outputs": [
    {
     "data": {
      "image/png": "[encoded data removed]",
      "text/plain": [
       "<Figure size 640x480 with 1 Axes>"
      ]
     },
     "metadata": {},
     "output_type": "display_data"
    }
   ],
   "source": [
    "plt.imshow(imgs[1]);"
   ]
  },
  {
   "cell_type": "code",
   "execution_count": 35,
   "id": "400f6110-880a-4354-a48d-39a256d5b899",
   "metadata": {},
   "outputs": [],
   "source": [
    "n,c = x_train.shape"
   ]
  },
  {
   "cell_type": "code",
   "execution_count": 36,
   "id": "6f7ef824-7da9-4c22-948d-086231421336",
   "metadata": {},
   "outputs": [
    {
     "data": {
      "text/plain": [
       "(50000, 784)"
      ]
     },
     "execution_count": 36,
     "metadata": {},
     "output_type": "execute_result"
    }
   ],
   "source": [
    "n, c"
   ]
  },
  {
   "cell_type": "code",
   "execution_count": 37,
   "id": "0207e58b-f8bd-49dd-92d3-bfc8db70ca3d",
   "metadata": {},
   "outputs": [
    {
     "data": {
      "text/plain": [
       "torch.Size([50000, 784])"
      ]
     },
     "execution_count": 37,
     "metadata": {},
     "output_type": "execute_result"
    }
   ],
   "source": [
    "x_train.shape"
   ]
  },
  {
   "cell_type": "code",
   "execution_count": 38,
   "id": "a4690800-2d1c-4780-bd67-5c72d55a27dc",
   "metadata": {},
   "outputs": [
    {
     "data": {
      "text/plain": [
       "(tensor([5, 0, 4,  ..., 8, 4, 8]), torch.Size([50000]))"
      ]
     },
     "execution_count": 38,
     "metadata": {},
     "output_type": "execute_result"
    }
   ],
   "source": [
    "y_train, y_train.shape"
   ]
  },
  {
   "cell_type": "code",
   "execution_count": 39,
   "id": "39d9ca60-0717-4b90-9ae7-3f51001a09a6",
   "metadata": {},
   "outputs": [
    {
     "data": {
      "text/plain": [
       "(tensor(0), tensor(9))"
      ]
     },
     "execution_count": 39,
     "metadata": {},
     "output_type": "execute_result"
    }
   ],
   "source": [
    "min(y_train), max(y_train)"
   ]
  },
  {
   "cell_type": "code",
   "execution_count": 40,
   "id": "e4bf62a9-05fd-4a1f-a466-07d3f72f45fd",
   "metadata": {},
   "outputs": [
    {
     "data": {
      "text/plain": [
       "(tensor(0), tensor(9))"
      ]
     },
     "execution_count": 40,
     "metadata": {},
     "output_type": "execute_result"
    }
   ],
   "source": [
    "y_train.min(), y_train.max()"
   ]
  },
  {
   "attachments": {},
   "cell_type": "markdown",
   "id": "89720c2e-f225-4323-b637-7bd9bf41436e",
   "metadata": {},
   "source": [
    "### Random Number Generators"
   ]
  },
  {
   "cell_type": "code",
   "execution_count": 41,
   "id": "36ea1ee5-b4e7-42c1-98b0-c3a89f71f382",
   "metadata": {},
   "outputs": [],
   "source": [
    "rnd_state = None\n",
    "def seed(a):\n",
    "    global rnd_state\n",
    "    a, x = divmod(a, 30268)\n",
    "    a, y = divmod(a, 30306)\n",
    "    a, z = divmod(a, 30322)\n",
    "    rnd_state = int(x)+1, int(y)+1, int(z)+1"
   ]
  },
  {
   "cell_type": "code",
   "execution_count": 42,
   "id": "bea1494e-cbbe-4409-8dfe-d06a5e162ac0",
   "metadata": {},
   "outputs": [
    {
     "data": {
      "text/plain": [
       "(4976, 20238, 499)"
      ]
     },
     "execution_count": 42,
     "metadata": {},
     "output_type": "execute_result"
    }
   ],
   "source": [
    "seed(457428938475)\n",
    "rnd_state"
   ]
  },
  {
   "cell_type": "code",
   "execution_count": 43,
   "id": "8038a799-a187-4dfb-baf2-fc4356415e71",
   "metadata": {},
   "outputs": [],
   "source": [
    "def rand():\n",
    "    global rnd_state\n",
    "    x, y, z = rnd_state\n",
    "    x = (171 * x) % 30269\n",
    "    y = (172 * y) % 30307\n",
    "    z = (170 * z) % 30323\n",
    "    rnd_state = x,y,z\n",
    "    return (x/30269 + y/30307 + z/30323) % 1.0"
   ]
  },
  {
   "cell_type": "code",
   "execution_count": 44,
   "id": "c18abf14-fe74-43a0-8d56-0b00ee83d22e",
   "metadata": {},
   "outputs": [
    {
     "data": {
      "text/plain": [
       "(0.7645251082582081, 0.7920889799553945, 0.06912886811267205)"
      ]
     },
     "execution_count": 44,
     "metadata": {},
     "output_type": "execute_result"
    }
   ],
   "source": [
    "rand(), rand(), rand(),"
   ]
  },
  {
   "cell_type": "code",
   "execution_count": 45,
   "id": "5a4705df-2622-4a1c-a42a-7bb7682db274",
   "metadata": {},
   "outputs": [
    {
     "name": "stdout",
     "output_type": "stream",
     "text": [
      "In parent: 0.9559050644103264\n",
      "In child: 0.9559050644103264\n"
     ]
    }
   ],
   "source": [
    "if os.fork(): print(f'In parent: {rand()}')\n",
    "else:\n",
    "    print(f'In child: {rand()}')\n",
    "    os._exit(os.EX_OK)"
   ]
  },
  {
   "cell_type": "code",
   "execution_count": 46,
   "id": "35f8ed61-337b-437a-a8d8-e62542114a7e",
   "metadata": {},
   "outputs": [
    {
     "name": "stdout",
     "output_type": "stream",
     "text": [
      "In parent: tensor([0.5751])\n",
      "In child: tensor([0.5751])\n"
     ]
    }
   ],
   "source": [
    "if os.fork(): print(f'In parent: {torch.rand(1)}')\n",
    "else:\n",
    "    print(f'In child: {torch.rand(1)}')\n",
    "    os._exit(os.EX_OK)"
   ]
  },
  {
   "cell_type": "code",
   "execution_count": 47,
   "id": "8936f96e-71f5-4c31-84d6-9e980d0af8b7",
   "metadata": {},
   "outputs": [
    {
     "data": {
      "image/png": "[encoded data removed]",
      "text/plain": [
       "<Figure size 640x480 with 1 Axes>"
      ]
     },
     "metadata": {},
     "output_type": "display_data"
    }
   ],
   "source": [
    "plt.plot([rand() for _ in range(50)]);"
   ]
  },
  {
   "cell_type": "code",
   "execution_count": 48,
   "id": "ce0960fc-1574-4506-8a92-8f5fdb00cab1",
   "metadata": {},
   "outputs": [
    {
     "data": {
      "image/png": "[encoded data removed]",
      "text/plain": [
       "<Figure size 640x480 with 1 Axes>"
      ]
     },
     "metadata": {},
     "output_type": "display_data"
    }
   ],
   "source": [
    "plt.hist([rand() for _ in range(10000)]);"
   ]
  },
  {
   "cell_type": "code",
   "execution_count": 49,
   "id": "e8634e6b-9047-4ad9-9698-e1f4448ce398",
   "metadata": {},
   "outputs": [
    {
     "name": "stdout",
     "output_type": "stream",
     "text": [
      "2.04 ms ± 96.4 µs per loop (mean ± std. dev. of 7 runs, 10 loops each)\n"
     ]
    }
   ],
   "source": [
    "%timeit -n 10 list(chunks([rand() for _ in range(7840)], 10))"
   ]
  },
  {
   "cell_type": "code",
   "execution_count": 50,
   "id": "cb93762d-0c26-443a-bbb2-4c6709ecff4e",
   "metadata": {},
   "outputs": [
    {
     "name": "stdout",
     "output_type": "stream",
     "text": [
      "The slowest run took 4.56 times longer than the fastest. This could mean that an intermediate result is being cached.\n",
      "41.9 µs ± 30.5 µs per loop (mean ± std. dev. of 7 runs, 10 loops each)\n"
     ]
    }
   ],
   "source": [
    "%timeit -n 10 torch.randn(784,10)"
   ]
  },
  {
   "attachments": {},
   "cell_type": "markdown",
   "id": "246aa985-25ae-487f-aa9a-6284fdd47818",
   "metadata": {},
   "source": [
    "### Matrix Multiplication"
   ]
  },
  {
   "attachments": {},
   "cell_type": "markdown",
   "id": "5caff185-90cd-4de7-b37d-94ec4464ad37",
   "metadata": {},
   "source": [
    "- Set manual seed\n",
    "- Initialize weights for shape 784 x 10\n",
    "- Initialize bias of zeros of shape 10"
   ]
  },
  {
   "cell_type": "code",
   "execution_count": 51,
   "id": "e2934dc0-f3a1-44c5-b741-b3d1ecd7f9da",
   "metadata": {},
   "outputs": [
    {
     "data": {
      "text/plain": [
       "<torch._C.Generator at 0x7fea54d61a30>"
      ]
     },
     "execution_count": 51,
     "metadata": {},
     "output_type": "execute_result"
    }
   ],
   "source": [
    "torch.manual_seed(4)"
   ]
  },
  {
   "cell_type": "code",
   "execution_count": 52,
   "id": "841d40e1-501a-4b22-867a-bd6d5e124840",
   "metadata": {},
   "outputs": [
    {
     "data": {
      "text/plain": [
       "torch.Size([784, 10])"
      ]
     },
     "execution_count": 52,
     "metadata": {},
     "output_type": "execute_result"
    }
   ],
   "source": [
    "w = torch.randn(784, 10)\n",
    "w.shape"
   ]
  },
  {
   "cell_type": "code",
   "execution_count": 53,
   "id": "9d467e27-8e6c-44f2-947b-640b9f932e56",
   "metadata": {},
   "outputs": [
    {
     "data": {
      "text/plain": [
       "tensor([0., 0., 0., 0., 0., 0., 0., 0., 0., 0.])"
      ]
     },
     "execution_count": 53,
     "metadata": {},
     "output_type": "execute_result"
    }
   ],
   "source": [
    "b = torch.zeros(10)\n",
    "b"
   ]
  },
  {
   "attachments": {},
   "cell_type": "markdown",
   "id": "f065bd34-8b78-447d-93dd-bda45f951edf",
   "metadata": {},
   "source": [
    "- Create Matrix 1 consisting of the x validation set \n",
    "- Create Matrix 2 consisting of the weights"
   ]
  },
  {
   "cell_type": "code",
   "execution_count": 54,
   "id": "c749bae3-997f-41d1-b83d-277d0cfe108c",
   "metadata": {},
   "outputs": [],
   "source": [
    "m1 = x_train[:5]"
   ]
  },
  {
   "cell_type": "code",
   "execution_count": 55,
   "id": "ef4f03c7-98c8-475d-8d9a-69ee2ab11554",
   "metadata": {},
   "outputs": [],
   "source": [
    "m2 = w"
   ]
  },
  {
   "cell_type": "code",
   "execution_count": 56,
   "id": "d16ca5bf-f97f-4e8a-b6a6-7b2babd67c39",
   "metadata": {},
   "outputs": [
    {
     "data": {
      "text/plain": [
       "(torch.Size([5, 784]), torch.Size([784, 10]))"
      ]
     },
     "execution_count": 56,
     "metadata": {},
     "output_type": "execute_result"
    }
   ],
   "source": [
    "m1.shape, m2.shape"
   ]
  },
  {
   "attachments": {},
   "cell_type": "markdown",
   "id": "b75ef829-6906-4f84-92f9-a7d88086214c",
   "metadata": {},
   "source": [
    "- Deconstruction the shape of each to 2 variables each, one for rows and one for columns"
   ]
  },
  {
   "cell_type": "code",
   "execution_count": 57,
   "id": "73b7960f-e397-4e2b-890d-1f4496138bdf",
   "metadata": {},
   "outputs": [
    {
     "data": {
      "text/plain": [
       "((5, 784), (784, 10))"
      ]
     },
     "execution_count": 57,
     "metadata": {},
     "output_type": "execute_result"
    }
   ],
   "source": [
    "ar, ac = m1.shape\n",
    "br, bc = m2.shape\n",
    "(ar, ac), (br, bc)"
   ]
  },
  {
   "attachments": {},
   "cell_type": "markdown",
   "id": "95a11ee6-d330-420d-85a2-05f1f596da9a",
   "metadata": {},
   "source": [
    "- Create a tensor of zeros, `t1`, with the dimensions Matrix 1 rows, Matrix 2 columns"
   ]
  },
  {
   "cell_type": "code",
   "execution_count": 58,
   "id": "4561c44a-4bb7-483b-913e-adae26a95464",
   "metadata": {},
   "outputs": [
    {
     "data": {
      "text/plain": [
       "torch.Size([5, 10])"
      ]
     },
     "execution_count": 58,
     "metadata": {},
     "output_type": "execute_result"
    }
   ],
   "source": [
    "t1 = torch.zeros(ar, bc)\n",
    "t1.shape"
   ]
  },
  {
   "attachments": {},
   "cell_type": "markdown",
   "id": "7c7b80d5-d1c9-4a55-9823-48ea751dfbfc",
   "metadata": {},
   "source": [
    "- Create a loop that will get the dot product of Matrix 1 and Matrix 2 and store the results in `t1`"
   ]
  },
  {
   "cell_type": "code",
   "execution_count": 59,
   "id": "a72a9ac8-eb59-49df-9af0-7e1fe78878e8",
   "metadata": {},
   "outputs": [],
   "source": [
    "for i in range(ar):\n",
    "    for j in range(bc):\n",
    "        for k in range(ac):\n",
    "            t1[i,j] += m1[i,k] * m2[k,j]"
   ]
  },
  {
   "cell_type": "code",
   "execution_count": 60,
   "id": "f044eb57-abc3-4629-8096-2726c785c195",
   "metadata": {},
   "outputs": [
    {
     "data": {
      "text/plain": [
       "torch.Size([5, 10])"
      ]
     },
     "execution_count": 60,
     "metadata": {},
     "output_type": "execute_result"
    }
   ],
   "source": [
    "t1.shape"
   ]
  },
  {
   "attachments": {},
   "cell_type": "markdown",
   "id": "7897c711-5d4b-4db1-9e90-1bc3a062f19a",
   "metadata": {},
   "source": [
    "- Turn the loop into a callable function that takes 2 inputs representing the matrices"
   ]
  },
  {
   "cell_type": "code",
   "execution_count": 61,
   "id": "b50d9740-5b40-491f-8c2a-8506df8bddfb",
   "metadata": {},
   "outputs": [],
   "source": [
    "def matrix_mult(m1, m2):\n",
    "    ar, ac = m1.shape\n",
    "    br, bc = m2.shape\n",
    "    c = torch.zeros(ar, bc)\n",
    "    for i in range(ar):\n",
    "        for j in range(bc):\n",
    "            for k in range(ac):\n",
    "                c[i,j] += m1[i,k] * m2[k,j]\n",
    "    return c"
   ]
  },
  {
   "attachments": {},
   "cell_type": "markdown",
   "id": "b55dac31-5be3-489a-948c-5e0da9a39fb1",
   "metadata": {},
   "source": [
    "- Time the Matrix multiplication loop"
   ]
  },
  {
   "cell_type": "code",
   "execution_count": 62,
   "id": "775bb358-734d-4437-9eb5-00fb62db0d44",
   "metadata": {},
   "outputs": [
    {
     "name": "stdout",
     "output_type": "stream",
     "text": [
      "CPU times: user 351 ms, sys: 0 ns, total: 351 ms\n",
      "Wall time: 351 ms\n"
     ]
    }
   ],
   "source": [
    "%time _ = matrix_mult(m1,m2)"
   ]
  },
  {
   "attachments": {},
   "cell_type": "markdown",
   "id": "f61a2c1f-51bd-45c8-b906-a6c90438eb13",
   "metadata": {},
   "source": [
    "### Numba"
   ]
  },
  {
   "attachments": {},
   "cell_type": "markdown",
   "id": "987943ed-6d4e-4a2d-bfb1-4a9d7c0f4d7a",
   "metadata": {},
   "source": [
    "- import njit from numba"
   ]
  },
  {
   "cell_type": "code",
   "execution_count": 63,
   "id": "557d6184-3eee-4cc1-9d6d-d0fe9be72409",
   "metadata": {},
   "outputs": [],
   "source": [
    "from numba import njit"
   ]
  },
  {
   "attachments": {},
   "cell_type": "markdown",
   "id": "0e8c825a-b0c7-418d-85cd-067c79747bf4",
   "metadata": {},
   "source": [
    "- create a function that multiplies all the elements in 2 matrices and returns the sum, recreating the multiplication operation from the `matrix_mult` function"
   ]
  },
  {
   "cell_type": "code",
   "execution_count": 64,
   "id": "d0bcc707-d60c-4ec8-81e9-f6c683fea3e8",
   "metadata": {},
   "outputs": [],
   "source": [
    "@njit\n",
    "def dot(a, b):\n",
    "    total = 0.\n",
    "    for i in range(len(a)): \n",
    "        total += a[i] * b[i]\n",
    "    return total"
   ]
  },
  {
   "attachments": {},
   "cell_type": "markdown",
   "id": "a1110cb6-daf2-4ef7-b7bf-a17440d89eb0",
   "metadata": {},
   "source": [
    "- Try with and without njit using numpy arrays"
   ]
  },
  {
   "cell_type": "code",
   "execution_count": 65,
   "id": "7aac9c34-bd6e-4922-af27-8364deb57b46",
   "metadata": {},
   "outputs": [],
   "source": [
    "from numpy import array"
   ]
  },
  {
   "attachments": {},
   "cell_type": "markdown",
   "id": "a8c941ba-c7ea-42e9-a345-a0d61451e8f3",
   "metadata": {},
   "source": [
    "dot(array([2.,4,5,6]), array([5.,4,6,8]))- Time both types of operations"
   ]
  },
  {
   "cell_type": "code",
   "execution_count": 66,
   "id": "670306b9-7c87-48d5-bc78-8d1d93fcd3b0",
   "metadata": {},
   "outputs": [
    {
     "data": {
      "text/plain": [
       "104.0"
      ]
     },
     "execution_count": 66,
     "metadata": {},
     "output_type": "execute_result"
    }
   ],
   "source": [
    "dot(array([2.,4,5,6]), array([5.,4,6,8]))"
   ]
  },
  {
   "cell_type": "code",
   "execution_count": 67,
   "id": "68124170-0f1a-4c1c-afa9-046fcaaefbee",
   "metadata": {},
   "outputs": [
    {
     "name": "stdout",
     "output_type": "stream",
     "text": [
      "CPU times: user 22 µs, sys: 4 µs, total: 26 µs\n",
      "Wall time: 27.7 µs\n"
     ]
    },
    {
     "data": {
      "text/plain": [
       "104.0"
      ]
     },
     "execution_count": 67,
     "metadata": {},
     "output_type": "execute_result"
    }
   ],
   "source": [
    "%time dot(array([2.,4,5,6]), array([5.,4,6,8]))"
   ]
  },
  {
   "cell_type": "code",
   "execution_count": 68,
   "id": "e7269a68-dfc6-4c79-9ec3-3780c3489612",
   "metadata": {},
   "outputs": [
    {
     "name": "stdout",
     "output_type": "stream",
     "text": [
      "CPU times: user 26 µs, sys: 0 ns, total: 26 µs\n",
      "Wall time: 28.6 µs\n"
     ]
    },
    {
     "data": {
      "text/plain": [
       "104.0"
      ]
     },
     "execution_count": 68,
     "metadata": {},
     "output_type": "execute_result"
    }
   ],
   "source": [
    "%time dot(array([2.,4,5,6]), array([5.,4,6,8]))"
   ]
  },
  {
   "attachments": {},
   "cell_type": "markdown",
   "id": "0b1ad904-12fa-4ad1-9178-faf078fa8cf0",
   "metadata": {},
   "source": [
    "- update `matrix_mult` to use the `dot` created above(using njit)"
   ]
  },
  {
   "cell_type": "code",
   "execution_count": 69,
   "id": "b7c6d621-44f2-4bc8-8680-8453b7824a21",
   "metadata": {},
   "outputs": [
    {
     "data": {
      "text/plain": [
       "(torch.Size([5, 784]), torch.Size([784, 10]))"
      ]
     },
     "execution_count": 69,
     "metadata": {},
     "output_type": "execute_result"
    }
   ],
   "source": [
    "m1.shape, m2.shape"
   ]
  },
  {
   "cell_type": "code",
   "execution_count": 70,
   "id": "60f6ae8d-7f64-4310-aae0-a0f32d028d8e",
   "metadata": {},
   "outputs": [],
   "source": [
    "def matmul(m1, m2):\n",
    "    ar, ac = m1.shape\n",
    "    br, bc = m2.shape\n",
    "    c = torch.zeros(ar, bc)\n",
    "    for i in range(ar):       #5\n",
    "        for j in range(bc):   #784\n",
    "            c[i,j] = dot(m1[i,:], m2[:,j])\n",
    "    return c"
   ]
  },
  {
   "attachments": {},
   "cell_type": "markdown",
   "id": "7f367139-97bd-4f14-bf79-3569fae0ab38",
   "metadata": {},
   "source": [
    "- assign `m1` and `m2` as variables as numpy arrays "
   ]
  },
  {
   "cell_type": "code",
   "execution_count": 71,
   "id": "789a7601-b1ea-41b7-93cc-6e3df80c521a",
   "metadata": {},
   "outputs": [],
   "source": [
    "m1a, m2a = m1.numpy(), m2.numpy()"
   ]
  },
  {
   "attachments": {},
   "cell_type": "markdown",
   "id": "d7a77c38-4b6e-4a57-aa25-76fed1e04541",
   "metadata": {},
   "source": [
    "- Use `test_close` on `t1` and `matmul`, imported from fastcore"
   ]
  },
  {
   "cell_type": "code",
   "execution_count": 72,
   "id": "ad6a80c9-c331-4825-a56d-fb9e2137a86e",
   "metadata": {},
   "outputs": [],
   "source": [
    "from fastcore.test import *"
   ]
  },
  {
   "cell_type": "code",
   "execution_count": 73,
   "id": "6f42265d-45a9-4a93-b27c-ed072d049a4c",
   "metadata": {},
   "outputs": [],
   "source": [
    "test_close(t1, matmul(m1a, m2a))"
   ]
  },
  {
   "attachments": {},
   "cell_type": "markdown",
   "id": "646ac2ba-df31-4e31-9926-76912635caa2",
   "metadata": {},
   "source": [
    "- Time matmul"
   ]
  },
  {
   "cell_type": "code",
   "execution_count": 74,
   "id": "f38d9054-88e7-4fc0-9d44-619c5eab81dc",
   "metadata": {},
   "outputs": [
    {
     "name": "stdout",
     "output_type": "stream",
     "text": [
      "196 µs ± 15.2 µs per loop (mean ± std. dev. of 7 runs, 50 loops each)\n"
     ]
    }
   ],
   "source": [
    "%timeit -n 50 matmul(m1a,m2a)"
   ]
  },
  {
   "attachments": {},
   "cell_type": "markdown",
   "id": "12015679-0a05-41a6-a424-b96f916be99a",
   "metadata": {},
   "source": [
    "### Elementwise Ops"
   ]
  },
  {
   "attachments": {},
   "cell_type": "markdown",
   "id": "418fe6a3-8abd-4e56-85b4-dcd5e3ca7025",
   "metadata": {},
   "source": [
    "- Create 2 Rank 1 tensors"
   ]
  },
  {
   "cell_type": "code",
   "execution_count": 75,
   "id": "81f59f80-e256-4e4f-8c10-957000f74a30",
   "metadata": {},
   "outputs": [
    {
     "data": {
      "text/plain": [
       "(tensor([  1., 200.,  30.,   4., 500.,   6.]),\n",
       " tensor([10., 22., 44., 55., 66., 33.]),\n",
       " True)"
      ]
     },
     "execution_count": 75,
     "metadata": {},
     "output_type": "execute_result"
    }
   ],
   "source": [
    "a = tensor([1.,200,30,4,500,6])\n",
    "b = tensor([10.,22,44,55,66,33])\n",
    "a, b, len(a) == len(b)"
   ]
  },
  {
   "attachments": {},
   "cell_type": "markdown",
   "id": "2cf0056c-6c78-4c66-a931-3da96741db97",
   "metadata": {},
   "source": [
    "- Add them"
   ]
  },
  {
   "cell_type": "code",
   "execution_count": 76,
   "id": "d929db74-4c9d-4333-bd39-15956f19c4f2",
   "metadata": {},
   "outputs": [
    {
     "data": {
      "text/plain": [
       "tensor([ 11., 222.,  74.,  59., 566.,  39.])"
      ]
     },
     "execution_count": 76,
     "metadata": {},
     "output_type": "execute_result"
    }
   ],
   "source": [
    "a + b"
   ]
  },
  {
   "attachments": {},
   "cell_type": "markdown",
   "id": "dd04e092-d5a3-4999-8d79-2cfc3131584f",
   "metadata": {},
   "source": [
    "- Compare them > or < for boolean values"
   ]
  },
  {
   "cell_type": "code",
   "execution_count": 77,
   "id": "a9f21871-8eb6-415d-b301-814b6cd6956b",
   "metadata": {},
   "outputs": [
    {
     "data": {
      "text/plain": [
       "tensor([False,  True, False, False,  True, False])"
      ]
     },
     "execution_count": 77,
     "metadata": {},
     "output_type": "execute_result"
    }
   ],
   "source": [
    "a > b"
   ]
  },
  {
   "attachments": {},
   "cell_type": "markdown",
   "id": "e571bab1-d355-4ffb-8f69-466481763967",
   "metadata": {},
   "source": [
    "- Get a percentage of true/false values"
   ]
  },
  {
   "cell_type": "code",
   "execution_count": 78,
   "id": "78351cc5-d525-4cce-bca1-84c26d9c2599",
   "metadata": {
    "tags": []
   },
   "outputs": [
    {
     "data": {
      "text/plain": [
       "tensor(0.3333)"
      ]
     },
     "execution_count": 78,
     "metadata": {},
     "output_type": "execute_result"
    }
   ],
   "source": [
    "(a > b).float().mean()"
   ]
  },
  {
   "attachments": {},
   "cell_type": "markdown",
   "id": "1ec662d0-a919-47b2-b804-bc818098faf8",
   "metadata": {
    "tags": []
   },
   "source": [
    "- Create a new rank 2 tensor"
   ]
  },
  {
   "cell_type": "code",
   "execution_count": 79,
   "id": "120ba9a1-8e88-499e-b505-eb03de348aa8",
   "metadata": {},
   "outputs": [
    {
     "data": {
      "text/plain": [
       "tensor([[1., 2., 3.],\n",
       "        [4., 5., 6.],\n",
       "        [7., 8., 9.]])"
      ]
     },
     "execution_count": 79,
     "metadata": {},
     "output_type": "execute_result"
    }
   ],
   "source": [
    "m = tensor([[1.,2,3], [4,5,6], [7,8,9]])\n",
    "m"
   ]
  },
  {
   "attachments": {},
   "cell_type": "markdown",
   "id": "c067c7a2-7a3e-40b9-ac72-acd5051d693f",
   "metadata": {},
   "source": [
    "Frobenius norm:\n",
    "\n",
    "$$\\| A \\|_F = \\left( \\sum_{i,j=1}^n | a_{ij} |^2 \\right)^{1/2}$$\n",
    "\n",
    "*Hint*: you don't normally need to write equations in LaTeX yourself, instead, you can click 'edit' in Wikipedia and copy the LaTeX from there (which is what I did for the above equation). Or on arxiv.org, click \"Download: Other formats\" in the top right, then \"Download source\"; rename the downloaded file to end in `.tgz` if it doesn't already, and you should find the source there, including the equations to copy and paste. This is the source LaTeX that I pasted to render the equation above:\n",
    "\n",
    "```latex\n",
    "$$\\| A \\|_F = \\left( \\sum_{i,j=1}^n | a_{ij} |^2 \\right)^{1/2}$$\n",
    "```"
   ]
  },
  {
   "attachments": {},
   "cell_type": "markdown",
   "id": "60c0ef78-1169-43f9-937c-088aaa20ee1f",
   "metadata": {},
   "source": [
    "- Recreate the operation above on the `m` tensor created earlier"
   ]
  },
  {
   "cell_type": "code",
   "execution_count": 80,
   "id": "a5f89e18-ccf3-4bb5-9092-9469f5d20428",
   "metadata": {},
   "outputs": [
    {
     "data": {
      "text/plain": [
       "tensor(285.)"
      ]
     },
     "execution_count": 80,
     "metadata": {},
     "output_type": "execute_result"
    }
   ],
   "source": [
    "sf = (m*m).sum()\n",
    "sf"
   ]
  },
  {
   "cell_type": "code",
   "execution_count": 81,
   "id": "735d515c-34c9-4088-a0f8-ba5097f3d4e0",
   "metadata": {},
   "outputs": [
    {
     "data": {
      "text/plain": [
       "tensor(16.8819)"
      ]
     },
     "execution_count": 81,
     "metadata": {},
     "output_type": "execute_result"
    }
   ],
   "source": [
    "sf.sqrt()"
   ]
  },
  {
   "attachments": {},
   "cell_type": "markdown",
   "id": "0cbd0a17-357a-49b7-b113-458cacaa02a5",
   "metadata": {},
   "source": [
    "- Check the different ways to index select the rows and columns of `m`"
   ]
  },
  {
   "cell_type": "code",
   "execution_count": 82,
   "id": "72acc59e-9c73-47d0-8f97-e07ddcc20d01",
   "metadata": {},
   "outputs": [
    {
     "data": {
      "text/plain": [
       "(tensor([7., 8., 9.]), tensor([7., 8., 9.]))"
      ]
     },
     "execution_count": 82,
     "metadata": {},
     "output_type": "execute_result"
    }
   ],
   "source": [
    "m[2], m[2, :]"
   ]
  },
  {
   "cell_type": "code",
   "execution_count": 83,
   "id": "430b9cb1-4fa8-433e-9be5-2a928518f9de",
   "metadata": {},
   "outputs": [
    {
     "data": {
      "text/plain": [
       "(tensor([3., 6., 9.]), tensor([3., 6., 9.]))"
      ]
     },
     "execution_count": 83,
     "metadata": {},
     "output_type": "execute_result"
    }
   ],
   "source": [
    "m[:, 2], m[:, 2]"
   ]
  },
  {
   "attachments": {},
   "cell_type": "markdown",
   "id": "bdfb7973-0765-4e85-a5b6-f13169d81e2a",
   "metadata": {},
   "source": [
    "- Update the matrix multiplication function to use elementwise operations instead of the `dot` function"
   ]
  },
  {
   "cell_type": "code",
   "execution_count": 84,
   "id": "5b353890-0b33-448b-88f2-db140dbc6143",
   "metadata": {},
   "outputs": [],
   "source": [
    "def matmul(m1, m2):\n",
    "    ar, ac = m1.shape\n",
    "    br, bc = m2.shape\n",
    "    c = torch.zeros(ar, bc)\n",
    "    for i in range(ar):       #5\n",
    "        for j in range(bc):   #784\n",
    "            c[i,j] = (m1[i,:] * m2[:,j]).sum()\n",
    "    return c"
   ]
  },
  {
   "attachments": {},
   "cell_type": "markdown",
   "id": "bb7a5397-91b7-4d93-960c-f82826ac37f9",
   "metadata": {},
   "source": [
    "- Check that we're getting the same result using `test_close`"
   ]
  },
  {
   "cell_type": "code",
   "execution_count": 85,
   "id": "d19e98f5-b956-469f-a9af-0f67a5cd1588",
   "metadata": {},
   "outputs": [],
   "source": [
    "test_close(t1, matmul(m1,m2))"
   ]
  },
  {
   "attachments": {},
   "cell_type": "markdown",
   "id": "c5a21619-64fb-42cd-84be-6e8756cfa1a3",
   "metadata": {},
   "source": [
    "- Use timeit to on 50 iterations to try the new function on `m1` and `m2`"
   ]
  },
  {
   "cell_type": "code",
   "execution_count": 86,
   "id": "2a8261bd-4908-47fc-884b-7d9351afcc80",
   "metadata": {},
   "outputs": [
    {
     "name": "stdout",
     "output_type": "stream",
     "text": [
      "475 µs ± 9.29 µs per loop (mean ± std. dev. of 7 runs, 50 loops each)\n"
     ]
    }
   ],
   "source": [
    "%timeit -n 50 _=matmul(m1,m2)"
   ]
  },
  {
   "attachments": {},
   "cell_type": "markdown",
   "id": "d11b5f7b-8e9f-4458-ae31-5c7697c7e173",
   "metadata": {},
   "source": [
    "- Redefine `matmul` using `torch.dot` for the dot product and test its time"
   ]
  },
  {
   "attachments": {},
   "cell_type": "markdown",
   "id": "d2aadd8b-8967-42fe-9ae0-f5689f844a08",
   "metadata": {},
   "source": [
    "### Broadcasting"
   ]
  },
  {
   "cell_type": "code",
   "execution_count": 102,
   "id": "d11bb538",
   "metadata": {},
   "outputs": [],
   "source": [
    "a = tensor([10,20,-50.])"
   ]
  },
  {
   "attachments": {},
   "cell_type": "markdown",
   "id": "0cef0d7d-00ec-4b5c-817f-8c0e37226d3c",
   "metadata": {},
   "source": [
    "- Use broadcasting to check *>0* with a scalar"
   ]
  },
  {
   "cell_type": "code",
   "execution_count": 103,
   "id": "d2ebf25f",
   "metadata": {},
   "outputs": [
    {
     "data": {
      "text/plain": [
       "tensor([ True,  True, False])"
      ]
     },
     "execution_count": 103,
     "metadata": {},
     "output_type": "execute_result"
    }
   ],
   "source": [
    "a > 0"
   ]
  },
  {
   "attachments": {},
   "cell_type": "markdown",
   "id": "6c546adc-97e3-4ed6-9bae-771f4e5bf8b1",
   "metadata": {},
   "source": [
    "- Normalize the dataset by subtracting the mean from the entire dataset and dividing by the standard deviation"
   ]
  },
  {
   "cell_type": "code",
   "execution_count": 105,
   "id": "8793fac2",
   "metadata": {},
   "outputs": [
    {
     "data": {
      "text/plain": [
       "tensor(37.8594)"
      ]
     },
     "execution_count": 105,
     "metadata": {},
     "output_type": "execute_result"
    }
   ],
   "source": [
    "a.std()"
   ]
  },
  {
   "cell_type": "code",
   "execution_count": 104,
   "id": "38068d29",
   "metadata": {},
   "outputs": [
    {
     "data": {
      "text/plain": [
       "tensor([ 0.4402,  0.7044, -1.1446])"
      ]
     },
     "execution_count": 104,
     "metadata": {},
     "output_type": "execute_result"
    }
   ],
   "source": [
    "(a - a.mean()) / a.std()"
   ]
  },
  {
   "cell_type": "code",
   "execution_count": null,
   "id": "2596f548",
   "metadata": {},
   "outputs": [],
   "source": [
    "mean = torch.mean(a)\n",
    "variance = torch.mean(torch.square(a - mean))\n",
    "std = torch.sqrt(variance)\n",
    "\n",
    "print(\"Standard deviation of a:\", std)\n"
   ]
  },
  {
   "attachments": {},
   "cell_type": "markdown",
   "id": "b157a0ce",
   "metadata": {},
   "source": [
    "Standard Deviation\n",
    "\n",
    "$$\\sigma_a = \\sqrt{\\frac{1}{n}\\sum_{i=1}^{n}(a_i - \\mu_a)^2}$$\n",
    "\n",
    "where $\\mu_a$ is the mean of tensor `a` and $n$ is the number of elements in `a`.\n"
   ]
  },
  {
   "cell_type": "code",
   "execution_count": 119,
   "id": "7e24ff6a",
   "metadata": {},
   "outputs": [],
   "source": [
    "def std_dev(x):\n",
    "    mean = torch.mean(x)\n",
    "    variance = torch.mean(torch.square(x - mean))\n",
    "    std = torch.sqrt(variance)\n",
    "\n",
    "    print(\"Standard deviation:\", std)"
   ]
  },
  {
   "cell_type": "code",
   "execution_count": 108,
   "id": "c90b46b0",
   "metadata": {},
   "outputs": [],
   "source": [
    "b = tensor([1,2,3,4,5.])"
   ]
  },
  {
   "cell_type": "code",
   "execution_count": 123,
   "id": "e7210b7a",
   "metadata": {},
   "outputs": [
    {
     "data": {
      "text/plain": [
       "tensor(1.5811)"
      ]
     },
     "execution_count": 123,
     "metadata": {},
     "output_type": "execute_result"
    }
   ],
   "source": [
    "b.std()"
   ]
  },
  {
   "cell_type": "code",
   "execution_count": 126,
   "id": "14c20cfa",
   "metadata": {},
   "outputs": [
    {
     "data": {
      "text/plain": [
       "(tensor(1.5811), tensor(1.4142))"
      ]
     },
     "execution_count": 126,
     "metadata": {},
     "output_type": "execute_result"
    }
   ],
   "source": [
    "b.std(unbiased=True), b.std(unbiased=False)"
   ]
  },
  {
   "cell_type": "code",
   "execution_count": 132,
   "id": "9c74ef4d",
   "metadata": {},
   "outputs": [],
   "source": [
    "numpy_b = b.detach().numpy()"
   ]
  },
  {
   "cell_type": "code",
   "execution_count": 135,
   "id": "fb1555c5",
   "metadata": {},
   "outputs": [
    {
     "data": {
      "text/plain": [
       "(1.4142135, 1.5811388)"
      ]
     },
     "execution_count": 135,
     "metadata": {},
     "output_type": "execute_result"
    }
   ],
   "source": [
    "numpy_b.std(), numpy_b.std(ddof=1)"
   ]
  },
  {
   "cell_type": "code",
   "execution_count": 115,
   "id": "78dc0dbf",
   "metadata": {},
   "outputs": [
    {
     "data": {
      "text/plain": [
       "(tensor(1.5811), tensor(3.), tensor(1.4142))"
      ]
     },
     "execution_count": 115,
     "metadata": {},
     "output_type": "execute_result"
    }
   ],
   "source": [
    "b.std(), b.mean(), tensor(2.).sqrt()"
   ]
  },
  {
   "attachments": {},
   "cell_type": "markdown",
   "id": "21bedbff",
   "metadata": {},
   "source": [
    "<b>Torch uses Bessel's Correction for a sample by default, Numpy uses formula for population - to disable in torch, set `unbiased=False`, to enable sample correction in Numpy, set delta degrees of freedom `ddof=1`"
   ]
  },
  {
   "attachments": {},
   "cell_type": "markdown",
   "id": "ba258ba7-162a-403e-bae6-71b7176dd970",
   "metadata": {},
   "source": [
    "- Add 1 using broadcasting to `a`"
   ]
  },
  {
   "cell_type": "code",
   "execution_count": 136,
   "id": "fca2e125",
   "metadata": {},
   "outputs": [
    {
     "data": {
      "text/plain": [
       "tensor([ 11.,  21., -49.])"
      ]
     },
     "execution_count": 136,
     "metadata": {},
     "output_type": "execute_result"
    }
   ],
   "source": [
    "a + 1"
   ]
  },
  {
   "attachments": {},
   "cell_type": "markdown",
   "id": "e6ff21dc-adca-487c-984b-92969fcc92d0",
   "metadata": {},
   "source": [
    "- Multiply rank-2 matrix by a scalar"
   ]
  },
  {
   "cell_type": "code",
   "execution_count": 137,
   "id": "ae5f50fb-c2fe-4cf4-9bbf-b5e062856464",
   "metadata": {},
   "outputs": [
    {
     "data": {
      "text/plain": [
       "tensor([  40.,   80., -200.])"
      ]
     },
     "execution_count": 137,
     "metadata": {},
     "output_type": "execute_result"
    }
   ],
   "source": [
    "a * 4"
   ]
  },
  {
   "cell_type": "code",
   "execution_count": 142,
   "id": "51c311d7",
   "metadata": {},
   "outputs": [],
   "source": [
    "b = tensor([[10,20,30],[40., 50, 60.], [70,80,90]])"
   ]
  },
  {
   "cell_type": "code",
   "execution_count": 143,
   "id": "681da066",
   "metadata": {},
   "outputs": [
    {
     "data": {
      "text/plain": [
       "tensor([[10., 20., 30.],\n",
       "        [40., 50., 60.],\n",
       "        [70., 80., 90.]])"
      ]
     },
     "execution_count": 143,
     "metadata": {},
     "output_type": "execute_result"
    }
   ],
   "source": [
    "b"
   ]
  },
  {
   "attachments": {},
   "cell_type": "markdown",
   "id": "a2379bcf",
   "metadata": {},
   "source": [
    "- Expand a new tensor to match above"
   ]
  },
  {
   "cell_type": "code",
   "execution_count": 146,
   "id": "349fad08",
   "metadata": {},
   "outputs": [
    {
     "data": {
      "text/plain": [
       "tensor([[ 10.,  20., -50.],\n",
       "        [ 10.,  20., -50.],\n",
       "        [ 10.,  20., -50.]])"
      ]
     },
     "execution_count": 146,
     "metadata": {},
     "output_type": "execute_result"
    }
   ],
   "source": [
    "c = a.expand_as(b)\n",
    "c"
   ]
  },
  {
   "attachments": {},
   "cell_type": "markdown",
   "id": "922e3fbe",
   "metadata": {},
   "source": [
    "- Check storage"
   ]
  },
  {
   "cell_type": "code",
   "execution_count": 152,
   "id": "38be1a26",
   "metadata": {},
   "outputs": [
    {
     "data": {
      "text/plain": [
       " 10.0\n",
       " 20.0\n",
       " -50.0\n",
       "[torch.storage._TypedStorage(dtype=torch.float32, device=cpu) of size 3]"
      ]
     },
     "execution_count": 152,
     "metadata": {},
     "output_type": "execute_result"
    }
   ],
   "source": [
    "c.storage()"
   ]
  },
  {
   "attachments": {},
   "cell_type": "markdown",
   "id": "b8827797",
   "metadata": {},
   "source": [
    "- Check stride"
   ]
  },
  {
   "cell_type": "code",
   "execution_count": 153,
   "id": "b7b45e57",
   "metadata": {},
   "outputs": [
    {
     "data": {
      "text/plain": [
       "(0, 1)"
      ]
     },
     "execution_count": 153,
     "metadata": {},
     "output_type": "execute_result"
    }
   ],
   "source": [
    "c.stride()"
   ]
  },
  {
   "attachments": {},
   "cell_type": "markdown",
   "id": "eef3066d",
   "metadata": {},
   "source": [
    "## Matmul with broadcasting"
   ]
  },
  {
   "attachments": {},
   "cell_type": "markdown",
   "id": "2a016dd5",
   "metadata": {},
   "source": [
    "- Get the length of `m1`"
   ]
  },
  {
   "cell_type": "code",
   "execution_count": 155,
   "id": "4a71d8d4",
   "metadata": {},
   "outputs": [
    {
     "data": {
      "text/plain": [
       "(5, torch.Size([5, 784]))"
      ]
     },
     "execution_count": 155,
     "metadata": {},
     "output_type": "execute_result"
    }
   ],
   "source": [
    "len(m1), m1.shape"
   ]
  },
  {
   "attachments": {},
   "cell_type": "markdown",
   "id": "2bab71c0",
   "metadata": {},
   "source": [
    "- Reshape `m1` to be the correct image size 28x28"
   ]
  },
  {
   "cell_type": "code",
   "execution_count": 156,
   "id": "540a7a47",
   "metadata": {},
   "outputs": [
    {
     "data": {
      "text/plain": [
       "torch.Size([28, 28])"
      ]
     },
     "execution_count": 156,
     "metadata": {},
     "output_type": "execute_result"
    }
   ],
   "source": [
    "m1[0].reshape(28,28).shape"
   ]
  },
  {
   "attachments": {},
   "cell_type": "markdown",
   "id": "3912051a",
   "metadata": {},
   "source": [
    "- use `plt` to show the image"
   ]
  },
  {
   "cell_type": "code",
   "execution_count": 157,
   "id": "458e8259",
   "metadata": {},
   "outputs": [
    {
     "data": {
      "text/plain": [
       "<matplotlib.image.AxesImage at 0x7fea5ea16b30>"
      ]
     },
     "execution_count": 157,
     "metadata": {},
     "output_type": "execute_result"
    },
    {
     "data": {
      "image/png": "[encoded data removed]",
      "text/plain": [
       "<Figure size 640x480 with 1 Axes>"
      ]
     },
     "metadata": {},
     "output_type": "display_data"
    }
   ],
   "source": [
    "plt.imshow(m1[0].reshape(28,28))"
   ]
  },
  {
   "attachments": {},
   "cell_type": "markdown",
   "id": "7719f8ca",
   "metadata": {},
   "source": [
    "- assign the image to `digit`"
   ]
  },
  {
   "cell_type": "code",
   "execution_count": 159,
   "id": "5c0c2455",
   "metadata": {},
   "outputs": [],
   "source": [
    "digit = m1[0]"
   ]
  },
  {
   "cell_type": "code",
   "execution_count": 160,
   "id": "63602eac",
   "metadata": {},
   "outputs": [
    {
     "data": {
      "text/plain": [
       "(torch.Size([784]), torch.Size([784, 10]))"
      ]
     },
     "execution_count": 160,
     "metadata": {},
     "output_type": "execute_result"
    }
   ],
   "source": [
    "digit.shape, m2.shape"
   ]
  },
  {
   "cell_type": "code",
   "execution_count": 162,
   "id": "001b3813",
   "metadata": {},
   "outputs": [
    {
     "data": {
      "text/plain": [
       "torch.Size([784, 10])"
      ]
     },
     "execution_count": 162,
     "metadata": {},
     "output_type": "execute_result"
    }
   ],
   "source": [
    "digit[:,None].expand_as(m2).shape"
   ]
  },
  {
   "attachments": {},
   "cell_type": "markdown",
   "id": "3d07fea9",
   "metadata": {},
   "source": [
    "Update the `matmul` function to use broadcasting"
   ]
  },
  {
   "cell_type": "code",
   "execution_count": 163,
   "id": "6de7b904",
   "metadata": {},
   "outputs": [],
   "source": [
    "# old matmul for ref\n",
    "def matmul(m1, m2):\n",
    "    ar, ac = m1.shape\n",
    "    br, bc = m2.shape\n",
    "    c = torch.zeros(ar, bc)\n",
    "    for i in range(ar):       #5\n",
    "        for j in range(bc):   #784\n",
    "            c[i,j] = (m1[i,:] * m2[:,j]).sum()\n",
    "    return c"
   ]
  },
  {
   "cell_type": "code",
   "execution_count": 173,
   "id": "528878fd",
   "metadata": {},
   "outputs": [
    {
     "data": {
      "text/plain": [
       "(tensor([[-0., 0., -0.,  ..., 0., -0., -0.],\n",
       "         [0., 0., -0.,  ..., -0., 0., -0.],\n",
       "         [0., -0., 0.,  ..., -0., -0., 0.],\n",
       "         ...,\n",
       "         [0., -0., 0.,  ..., -0., 0., 0.],\n",
       "         [-0., -0., 0.,  ..., 0., 0., -0.],\n",
       "         [0., 0., 0.,  ..., -0., -0., 0.]]),\n",
       " torch.Size([784, 10]))"
      ]
     },
     "execution_count": 173,
     "metadata": {},
     "output_type": "execute_result"
    }
   ],
   "source": [
    "m1[1,:,None] * m2, (m1[1,:,None] * m2).shape"
   ]
  },
  {
   "cell_type": "code",
   "execution_count": 203,
   "id": "05ae0333",
   "metadata": {},
   "outputs": [
    {
     "data": {
      "text/plain": [
       "(torch.Size([5, 784]), torch.Size([784]), torch.Size([784]))"
      ]
     },
     "execution_count": 203,
     "metadata": {},
     "output_type": "execute_result"
    }
   ],
   "source": [
    "m1.shape, m1[1].shape, m1[1,:].shape"
   ]
  },
  {
   "cell_type": "code",
   "execution_count": null,
   "id": "6b14ccef",
   "metadata": {},
   "outputs": [],
   "source": []
  },
  {
   "cell_type": "code",
   "execution_count": null,
   "id": "bcc2a65e",
   "metadata": {},
   "outputs": [],
   "source": [
    "tsensor"
   ]
  },
  {
   "cell_type": "code",
   "execution_count": 220,
   "id": "1907be44",
   "metadata": {},
   "outputs": [
    {
     "data": {
      "image/svg+xml": [
       "<svg xmlns:xlink=\"http://www.w3.org/1999/xlink\" xmlns=\"http://www.w3.org/2000/svg\" width=\"261.381606pt\" height=\"54.173505pt\" viewBox=\"0 0 261.381606 54.173505\" version=\"1.1\">\n",
       " <metadata>\n",
       "  <rdf:RDF xmlns:dc=\"http://purl.org/dc/elements/1.1/\" xmlns:cc=\"http://creativecommons.org/ns#\" xmlns:rdf=\"http://www.w3.org/1999/02/22-rdf-syntax-ns#\">\n",
       "   <cc:Work>\n",
       "    <dc:type rdf:resource=\"http://purl.org/dc/dcmitype/StillImage\"/>\n",
       "    <dc:date>2023-05-21T06:57:18.915625</dc:date>\n",
       "    <dc:format>image/svg+xml</dc:format>\n",
       "    <dc:creator>\n",
       "     <cc:Agent>\n",
       "      <dc:title>Matplotlib v3.7.1, https://matplotlib.org/</dc:title>\n",
       "     </cc:Agent>\n",
       "    </dc:creator>\n",
       "   </cc:Work>\n",
       "  </rdf:RDF>\n",
       " </metadata>\n",
       " <defs>\n",
       "  <style type=\"text/css\">*{stroke-linejoin: round; stroke-linecap: butt}</style>\n",
       " </defs>\n",
       " <g id=\"figure_1\">\n",
       "  <g id=\"patch_1\">\n",
       "   <path d=\"M 0 54.173505  L 261.381606 54.173505  L 261.381606 0  L 0 0  z \" style=\"fill: #ffffff\"/>\n",
       "  </g>\n",
       "  <g id=\"axes_1\">\n",
       "   <g id=\"patch_2\">\n",
       "    <path d=\"M 14.88465 46.385787  L 37.73475 46.385787  L 37.73475 23.683107  L 14.88465 23.683107  z \" clip-path=\"url(#pb6d912180f)\" style=\"fill: #a8e1b0; fill-opacity: 0.5; stroke: #808080; stroke-width: 0.7; stroke-linejoin: miter\"/>\n",
       "   </g>\n",
       "   <g id=\"patch_3\">\n",
       "    <path d=\"M 82.93275 46.385787  L 105.78285 46.385787  L 105.78285 23.683107  L 82.93275 23.683107  z \" clip-path=\"url(#pb6d912180f)\" style=\"fill: #a8e1b0; fill-opacity: 0.5; stroke: #808080; stroke-width: 0.7; stroke-linejoin: miter\"/>\n",
       "   </g>\n",
       "   <g id=\"patch_4\">\n",
       "    <path d=\"M 219.53115 46.385787  L 242.38125 46.385787  L 242.38125 23.683107  L 219.53115 23.683107  z \" clip-path=\"url(#pb6d912180f)\" style=\"fill: #a8e1b0; fill-opacity: 0.5; stroke: #808080; stroke-width: 0.7; stroke-linejoin: miter\"/>\n",
       "   </g>\n",
       "   <g id=\"line2d_1\">\n",
       "    <path d=\"M 22.39254 13.762608  L 30.22686 13.762608  \" clip-path=\"url(#pb6d912180f)\" style=\"fill: none; stroke: #c2c2c2; stroke-width: 0.5; stroke-linecap: square\"/>\n",
       "   </g>\n",
       "   <g id=\"line2d_2\">\n",
       "    <path d=\"M 87.17634 13.762608  L 101.53926 13.762608  \" clip-path=\"url(#pb6d912180f)\" style=\"fill: none; stroke: #c2c2c2; stroke-width: 0.5; stroke-linecap: square\"/>\n",
       "   </g>\n",
       "   <g id=\"line2d_3\">\n",
       "    <path d=\"M 223.77474 13.762608  L 238.13766 13.762608  \" clip-path=\"url(#pb6d912180f)\" style=\"fill: none; stroke: #c2c2c2; stroke-width: 0.5; stroke-linecap: square\"/>\n",
       "   </g>\n",
       "   <g id=\"text_1\">\n",
       "    <!-- y -->\n",
       "    <g style=\"fill: #444443\" transform=\"translate(23.0454 9.947031) scale(0.13 -0.13)\">\n",
       "     <defs>\n",
       "      <path id=\"DejaVuSansMono-79\" d=\"M 2681 1125  Q 2538 759 2316 163  Q 2006 -663 1900 -844  Q 1756 -1088 1540 -1209  Q 1325 -1331 1038 -1331  L 575 -1331  L 575 -850  L 916 -850  Q 1169 -850 1312 -703  Q 1456 -556 1678 56  L 325 3500  L 934 3500  L 1972 763  L 2994 3500  L 3603 3500  L 2681 1125  z \" transform=\"scale(0.015625)\"/>\n",
       "     </defs>\n",
       "     <use xlink:href=\"#DejaVuSansMono-79\"/>\n",
       "    </g>\n",
       "   </g>\n",
       "   <g id=\"text_2\">\n",
       "    <!--   -->\n",
       "    <g style=\"fill: #444443\" transform=\"translate(45.6444 9.947031) scale(0.13 -0.13)\">\n",
       "     <defs>\n",
       "      <path id=\"DejaVuSansMono-20\" transform=\"scale(0.015625)\"/>\n",
       "     </defs>\n",
       "     <use xlink:href=\"#DejaVuSansMono-20\"/>\n",
       "    </g>\n",
       "   </g>\n",
       "   <g id=\"text_3\">\n",
       "    <!-- = -->\n",
       "    <g style=\"fill: #444443\" transform=\"translate(52.173 9.947031) scale(0.13 -0.13)\">\n",
       "     <defs>\n",
       "      <path id=\"DejaVuSansMono-3d\" d=\"M 275 1638  L 3578 1638  L 3578 1100  L 275 1100  L 275 1638  z M 275 2906  L 3578 2906  L 3578 2375  L 275 2375  L 275 2906  z \" transform=\"scale(0.015625)\"/>\n",
       "     </defs>\n",
       "     <use xlink:href=\"#DejaVuSansMono-3d\"/>\n",
       "    </g>\n",
       "   </g>\n",
       "   <g id=\"text_4\">\n",
       "    <!--   -->\n",
       "    <g style=\"fill: #444443\" transform=\"translate(58.7016 9.947031) scale(0.13 -0.13)\">\n",
       "     <use xlink:href=\"#DejaVuSansMono-20\"/>\n",
       "    </g>\n",
       "   </g>\n",
       "   <g id=\"text_5\">\n",
       "    <!-- ( -->\n",
       "    <g style=\"fill: #444443\" transform=\"translate(65.2302 9.947031) scale(0.13 -0.13)\">\n",
       "     <defs>\n",
       "      <path id=\"DejaVuSansMono-28\" d=\"M 2766 4856  Q 2350 4144 2145 3436  Q 1941 2728 1941 2009  Q 1941 1294 2145 584  Q 2350 -125 2766 -844  L 2266 -844  Q 1794 -100 1562 604  Q 1331 1309 1331 2009  Q 1331 2706 1562 3412  Q 1794 4119 2266 4856  L 2766 4856  z \" transform=\"scale(0.015625)\"/>\n",
       "     </defs>\n",
       "     <use xlink:href=\"#DejaVuSansMono-28\"/>\n",
       "    </g>\n",
       "   </g>\n",
       "   <g id=\"text_6\">\n",
       "    <!-- m -->\n",
       "    <g style=\"fill: #444443\" transform=\"translate(87.8292 9.947031) scale(0.13 -0.13)\">\n",
       "     <defs>\n",
       "      <path id=\"DejaVuSansMono-6d\" d=\"M 2113 3144  Q 2219 3369 2383 3476  Q 2547 3584 2778 3584  Q 3200 3584 3373 3257  Q 3547 2931 3547 2028  L 3547 0  L 3022 0  L 3022 2003  Q 3022 2744 2939 2923  Q 2856 3103 2638 3103  Q 2388 3103 2295 2911  Q 2203 2719 2203 2003  L 2203 0  L 1678 0  L 1678 2003  Q 1678 2753 1589 2928  Q 1500 3103 1269 3103  Q 1041 3103 952 2911  Q 863 2719 863 2003  L 863 0  L 341 0  L 341 3500  L 863 3500  L 863 3200  Q 966 3388 1120 3486  Q 1275 3584 1472 3584  Q 1709 3584 1867 3475  Q 2025 3366 2113 3144  z \" transform=\"scale(0.015625)\"/>\n",
       "     </defs>\n",
       "     <use xlink:href=\"#DejaVuSansMono-6d\"/>\n",
       "    </g>\n",
       "   </g>\n",
       "   <g id=\"text_7\">\n",
       "    <!-- 1 -->\n",
       "    <g style=\"fill: #444443\" transform=\"translate(94.3578 9.947031) scale(0.13 -0.13)\">\n",
       "     <defs>\n",
       "      <path id=\"DejaVuSansMono-31\" d=\"M 844 531  L 1825 531  L 1825 4097  L 769 3859  L 769 4434  L 1819 4666  L 2450 4666  L 2450 531  L 3419 531  L 3419 0  L 844 0  L 844 531  z \" transform=\"scale(0.015625)\"/>\n",
       "     </defs>\n",
       "     <use xlink:href=\"#DejaVuSansMono-31\"/>\n",
       "    </g>\n",
       "   </g>\n",
       "   <g id=\"text_8\">\n",
       "    <!-- [ -->\n",
       "    <g style=\"fill: #444443\" transform=\"translate(116.9568 9.947031) scale(0.13 -0.13)\">\n",
       "     <defs>\n",
       "      <path id=\"DejaVuSansMono-5b\" d=\"M 1447 4863  L 2772 4863  L 2772 4416  L 2022 4416  L 2022 -397  L 2772 -397  L 2772 -844  L 1447 -844  L 1447 4863  z \" transform=\"scale(0.015625)\"/>\n",
       "     </defs>\n",
       "     <use xlink:href=\"#DejaVuSansMono-5b\"/>\n",
       "    </g>\n",
       "   </g>\n",
       "   <g id=\"text_9\">\n",
       "    <!-- 0 -->\n",
       "    <g style=\"fill: #444443\" transform=\"translate(123.4854 9.947031) scale(0.13 -0.13)\">\n",
       "     <defs>\n",
       "      <path id=\"DejaVuSansMono-30\" d=\"M 1509 2344  Q 1509 2516 1629 2641  Q 1750 2766 1919 2766  Q 2094 2766 2219 2641  Q 2344 2516 2344 2344  Q 2344 2169 2220 2047  Q 2097 1925 1919 1925  Q 1744 1925 1626 2044  Q 1509 2163 1509 2344  z M 1925 4250  Q 1484 4250 1267 3775  Q 1050 3300 1050 2328  Q 1050 1359 1267 884  Q 1484 409 1925 409  Q 2369 409 2586 884  Q 2803 1359 2803 2328  Q 2803 3300 2586 3775  Q 2369 4250 1925 4250  z M 1925 4750  Q 2672 4750 3055 4137  Q 3438 3525 3438 2328  Q 3438 1134 3055 521  Q 2672 -91 1925 -91  Q 1178 -91 797 521  Q 416 1134 416 2328  Q 416 3525 797 4137  Q 1178 4750 1925 4750  z \" transform=\"scale(0.015625)\"/>\n",
       "     </defs>\n",
       "     <use xlink:href=\"#DejaVuSansMono-30\"/>\n",
       "    </g>\n",
       "   </g>\n",
       "   <g id=\"text_10\">\n",
       "    <!-- , -->\n",
       "    <g style=\"fill: #444443\" transform=\"translate(130.014 9.947031) scale(0.13 -0.13)\">\n",
       "     <defs>\n",
       "      <path id=\"DejaVuSansMono-2c\" d=\"M 1569 947  L 2356 947  L 2356 300  L 1741 -897  L 1259 -897  L 1569 300  L 1569 947  z \" transform=\"scale(0.015625)\"/>\n",
       "     </defs>\n",
       "     <use xlink:href=\"#DejaVuSansMono-2c\"/>\n",
       "    </g>\n",
       "   </g>\n",
       "   <g id=\"text_11\">\n",
       "    <!-- : -->\n",
       "    <g style=\"fill: #444443\" transform=\"translate(136.5426 9.947031) scale(0.13 -0.13)\">\n",
       "     <defs>\n",
       "      <path id=\"DejaVuSansMono-3a\" d=\"M 1528 3322  L 2316 3322  L 2316 2375  L 1528 2375  L 1528 3322  z M 1528 953  L 2316 953  L 2316 0  L 1528 0  L 1528 953  z \" transform=\"scale(0.015625)\"/>\n",
       "     </defs>\n",
       "     <use xlink:href=\"#DejaVuSansMono-3a\"/>\n",
       "    </g>\n",
       "   </g>\n",
       "   <g id=\"text_12\">\n",
       "    <!-- , -->\n",
       "    <g style=\"fill: #444443\" transform=\"translate(143.0712 9.947031) scale(0.13 -0.13)\">\n",
       "     <use xlink:href=\"#DejaVuSansMono-2c\"/>\n",
       "    </g>\n",
       "   </g>\n",
       "   <g id=\"text_13\">\n",
       "    <!--   -->\n",
       "    <g style=\"fill: #444443\" transform=\"translate(149.5998 9.947031) scale(0.13 -0.13)\">\n",
       "     <use xlink:href=\"#DejaVuSansMono-20\"/>\n",
       "    </g>\n",
       "   </g>\n",
       "   <g id=\"text_14\">\n",
       "    <!-- N -->\n",
       "    <g style=\"fill: #444443\" transform=\"translate(156.1284 9.947031) scale(0.13 -0.13)\">\n",
       "     <defs>\n",
       "      <path id=\"DejaVuSansMono-4e\" d=\"M 434 4666  L 1234 4666  L 2809 825  L 2809 4666  L 3419 4666  L 3419 0  L 2619 0  L 1044 3841  L 1044 0  L 434 0  L 434 4666  z \" transform=\"scale(0.015625)\"/>\n",
       "     </defs>\n",
       "     <use xlink:href=\"#DejaVuSansMono-4e\"/>\n",
       "    </g>\n",
       "   </g>\n",
       "   <g id=\"text_15\">\n",
       "    <!-- o -->\n",
       "    <g style=\"fill: #444443\" transform=\"translate(162.657 9.947031) scale(0.13 -0.13)\">\n",
       "     <defs>\n",
       "      <path id=\"DejaVuSansMono-6f\" d=\"M 1925 3097  Q 1488 3097 1263 2756  Q 1038 2416 1038 1747  Q 1038 1081 1263 739  Q 1488 397 1925 397  Q 2366 397 2591 739  Q 2816 1081 2816 1747  Q 2816 2416 2591 2756  Q 2366 3097 1925 3097  z M 1925 3584  Q 2653 3584 3039 3112  Q 3425 2641 3425 1747  Q 3425 850 3040 379  Q 2656 -91 1925 -91  Q 1197 -91 812 379  Q 428 850 428 1747  Q 428 2641 812 3112  Q 1197 3584 1925 3584  z \" transform=\"scale(0.015625)\"/>\n",
       "     </defs>\n",
       "     <use xlink:href=\"#DejaVuSansMono-6f\"/>\n",
       "    </g>\n",
       "   </g>\n",
       "   <g id=\"text_16\">\n",
       "    <!-- n -->\n",
       "    <g style=\"fill: #444443\" transform=\"translate(169.1856 9.947031) scale(0.13 -0.13)\">\n",
       "     <defs>\n",
       "      <path id=\"DejaVuSansMono-6e\" d=\"M 3284 2169  L 3284 0  L 2706 0  L 2706 2169  Q 2706 2641 2540 2862  Q 2375 3084 2022 3084  Q 1619 3084 1401 2798  Q 1184 2513 1184 1978  L 1184 0  L 609 0  L 609 3500  L 1184 3500  L 1184 2975  Q 1338 3275 1600 3429  Q 1863 3584 2222 3584  Q 2756 3584 3020 3232  Q 3284 2881 3284 2169  z \" transform=\"scale(0.015625)\"/>\n",
       "     </defs>\n",
       "     <use xlink:href=\"#DejaVuSansMono-6e\"/>\n",
       "    </g>\n",
       "   </g>\n",
       "   <g id=\"text_17\">\n",
       "    <!-- e -->\n",
       "    <g style=\"fill: #444443\" transform=\"translate(175.7142 9.947031) scale(0.13 -0.13)\">\n",
       "     <defs>\n",
       "      <path id=\"DejaVuSansMono-65\" d=\"M 3475 1894  L 3475 1613  L 984 1613  L 984 1594  Q 984 1022 1282 709  Q 1581 397 2125 397  Q 2400 397 2700 484  Q 3000 572 3341 750  L 3341 178  Q 3013 44 2708 -23  Q 2403 -91 2119 -91  Q 1303 -91 843 398  Q 384 888 384 1747  Q 384 2584 834 3084  Q 1284 3584 2034 3584  Q 2703 3584 3089 3131  Q 3475 2678 3475 1894  z M 2900 2063  Q 2888 2569 2661 2833  Q 2434 3097 2009 3097  Q 1594 3097 1325 2822  Q 1056 2547 1006 2059  L 2900 2063  z \" transform=\"scale(0.015625)\"/>\n",
       "     </defs>\n",
       "     <use xlink:href=\"#DejaVuSansMono-65\"/>\n",
       "    </g>\n",
       "   </g>\n",
       "   <g id=\"text_18\">\n",
       "    <!-- ] -->\n",
       "    <g style=\"fill: #444443\" transform=\"translate(182.2428 9.947031) scale(0.13 -0.13)\">\n",
       "     <defs>\n",
       "      <path id=\"DejaVuSansMono-5d\" d=\"M 2406 4863  L 2406 -844  L 1081 -844  L 1081 -397  L 1831 -397  L 1831 4416  L 1081 4416  L 1081 4863  L 2406 4863  z \" transform=\"scale(0.015625)\"/>\n",
       "     </defs>\n",
       "     <use xlink:href=\"#DejaVuSansMono-5d\"/>\n",
       "    </g>\n",
       "   </g>\n",
       "   <g id=\"text_19\">\n",
       "    <!--   -->\n",
       "    <g style=\"fill: #444443\" transform=\"translate(188.7714 9.947031) scale(0.13 -0.13)\">\n",
       "     <use xlink:href=\"#DejaVuSansMono-20\"/>\n",
       "    </g>\n",
       "   </g>\n",
       "   <g id=\"text_20\">\n",
       "    <!-- * -->\n",
       "    <g style=\"fill: #444443\" transform=\"translate(195.3 9.947031) scale(0.13 -0.13)\">\n",
       "     <defs>\n",
       "      <path id=\"DejaVuSansMono-2a\" d=\"M 3334 3897  L 2216 3291  L 3334 2681  L 3156 2375  L 2106 3009  L 2106 1831  L 1747 1831  L 1747 3009  L 697 2375  L 519 2681  L 1638 3291  L 519 3897  L 697 4206  L 1747 3572  L 1747 4750  L 2106 4750  L 2106 3572  L 3156 4206  L 3334 3897  z \" transform=\"scale(0.015625)\"/>\n",
       "     </defs>\n",
       "     <use xlink:href=\"#DejaVuSansMono-2a\"/>\n",
       "    </g>\n",
       "   </g>\n",
       "   <g id=\"text_21\">\n",
       "    <!--   -->\n",
       "    <g style=\"fill: #444443\" transform=\"translate(201.8286 9.947031) scale(0.13 -0.13)\">\n",
       "     <use xlink:href=\"#DejaVuSansMono-20\"/>\n",
       "    </g>\n",
       "   </g>\n",
       "   <g id=\"text_22\">\n",
       "    <!-- m -->\n",
       "    <g style=\"fill: #444443\" transform=\"translate(224.4276 9.947031) scale(0.13 -0.13)\">\n",
       "     <use xlink:href=\"#DejaVuSansMono-6d\"/>\n",
       "    </g>\n",
       "   </g>\n",
       "   <g id=\"text_23\">\n",
       "    <!-- 2 -->\n",
       "    <g style=\"fill: #444443\" transform=\"translate(230.9562 9.947031) scale(0.13 -0.13)\">\n",
       "     <defs>\n",
       "      <path id=\"DejaVuSansMono-32\" d=\"M 1166 531  L 3309 531  L 3309 0  L 475 0  L 475 531  Q 1059 1147 1496 1619  Q 1934 2091 2100 2284  Q 2413 2666 2522 2902  Q 2631 3138 2631 3384  Q 2631 3775 2401 3997  Q 2172 4219 1772 4219  Q 1488 4219 1175 4116  Q 863 4013 513 3803  L 513 4441  Q 834 4594 1145 4672  Q 1456 4750 1759 4750  Q 2444 4750 2861 4386  Q 3278 4022 3278 3431  Q 3278 3131 3139 2831  Q 3000 2531 2688 2169  Q 2513 1966 2180 1606  Q 1847 1247 1166 531  z \" transform=\"scale(0.015625)\"/>\n",
       "     </defs>\n",
       "     <use xlink:href=\"#DejaVuSansMono-32\"/>\n",
       "    </g>\n",
       "   </g>\n",
       "   <g id=\"text_24\">\n",
       "    <!-- ) -->\n",
       "    <g style=\"fill: #444443\" transform=\"translate(253.5552 9.947031) scale(0.13 -0.13)\">\n",
       "     <defs>\n",
       "      <path id=\"DejaVuSansMono-29\" d=\"M 1088 4856  L 1588 4856  Q 2059 4119 2290 3412  Q 2522 2706 2522 2009  Q 2522 1306 2290 600  Q 2059 -106 1588 -844  L 1088 -844  Q 1503 -119 1708 590  Q 1913 1300 1913 2009  Q 1913 2722 1708 3431  Q 1503 4141 1088 4856  z \" transform=\"scale(0.015625)\"/>\n",
       "     </defs>\n",
       "     <use xlink:href=\"#DejaVuSansMono-29\"/>\n",
       "    </g>\n",
       "   </g>\n",
       "   <g id=\"text_25\">\n",
       "    <!-- 784 -->\n",
       "    <g transform=\"translate(13.0959 42.541712) rotate(-90) scale(0.09 -0.09)\">\n",
       "     <defs>\n",
       "      <path id=\"ArialMT-37\" d=\"M 303 3981  L 303 4522  L 3269 4522  L 3269 4084  Q 2831 3619 2401 2847  Q 1972 2075 1738 1259  Q 1569 684 1522 0  L 944 0  Q 953 541 1156 1306  Q 1359 2072 1739 2783  Q 2119 3494 2547 3981  L 303 3981  z \" transform=\"scale(0.015625)\"/>\n",
       "      <path id=\"ArialMT-38\" d=\"M 1131 2484  Q 781 2613 612 2850  Q 444 3088 444 3419  Q 444 3919 803 4259  Q 1163 4600 1759 4600  Q 2359 4600 2725 4251  Q 3091 3903 3091 3403  Q 3091 3084 2923 2848  Q 2756 2613 2416 2484  Q 2838 2347 3058 2040  Q 3278 1734 3278 1309  Q 3278 722 2862 322  Q 2447 -78 1769 -78  Q 1091 -78 675 323  Q 259 725 259 1325  Q 259 1772 486 2073  Q 713 2375 1131 2484  z M 1019 3438  Q 1019 3113 1228 2906  Q 1438 2700 1772 2700  Q 2097 2700 2305 2904  Q 2513 3109 2513 3406  Q 2513 3716 2298 3927  Q 2084 4138 1766 4138  Q 1444 4138 1231 3931  Q 1019 3725 1019 3438  z M 838 1322  Q 838 1081 952 856  Q 1066 631 1291 507  Q 1516 384 1775 384  Q 2178 384 2440 643  Q 2703 903 2703 1303  Q 2703 1709 2433 1975  Q 2163 2241 1756 2241  Q 1359 2241 1098 1978  Q 838 1716 838 1322  z \" transform=\"scale(0.015625)\"/>\n",
       "      <path id=\"ArialMT-34\" d=\"M 2069 0  L 2069 1097  L 81 1097  L 81 1613  L 2172 4581  L 2631 4581  L 2631 1613  L 3250 1613  L 3250 1097  L 2631 1097  L 2631 0  L 2069 0  z M 2069 1613  L 2069 3678  L 634 1613  L 2069 1613  z \" transform=\"scale(0.015625)\"/>\n",
       "     </defs>\n",
       "     <use xlink:href=\"#ArialMT-37\"/>\n",
       "     <use xlink:href=\"#ArialMT-38\" x=\"55.615234\"/>\n",
       "     <use xlink:href=\"#ArialMT-34\" x=\"111.230469\"/>\n",
       "    </g>\n",
       "   </g>\n",
       "   <g id=\"text_26\">\n",
       "    <!-- 10 -->\n",
       "    <g transform=\"translate(21.304856 22.297107) scale(0.09 -0.09)\">\n",
       "     <defs>\n",
       "      <path id=\"ArialMT-31\" d=\"M 2384 0  L 1822 0  L 1822 3584  Q 1619 3391 1289 3197  Q 959 3003 697 2906  L 697 3450  Q 1169 3672 1522 3987  Q 1875 4303 2022 4600  L 2384 4600  L 2384 0  z \" transform=\"scale(0.015625)\"/>\n",
       "      <path id=\"ArialMT-30\" d=\"M 266 2259  Q 266 3072 433 3567  Q 600 4063 929 4331  Q 1259 4600 1759 4600  Q 2128 4600 2406 4451  Q 2684 4303 2865 4023  Q 3047 3744 3150 3342  Q 3253 2941 3253 2259  Q 3253 1453 3087 958  Q 2922 463 2592 192  Q 2263 -78 1759 -78  Q 1097 -78 719 397  Q 266 969 266 2259  z M 844 2259  Q 844 1131 1108 757  Q 1372 384 1759 384  Q 2147 384 2411 759  Q 2675 1134 2675 2259  Q 2675 3391 2411 3762  Q 2147 4134 1753 4134  Q 1366 4134 1134 3806  Q 844 3388 844 2259  z \" transform=\"scale(0.015625)\"/>\n",
       "     </defs>\n",
       "     <use xlink:href=\"#ArialMT-31\"/>\n",
       "     <use xlink:href=\"#ArialMT-30\" x=\"55.615234\"/>\n",
       "    </g>\n",
       "   </g>\n",
       "   <g id=\"text_27\">\n",
       "    <!-- &lt;${\\mathit{float32}}$&gt; -->\n",
       "    <g transform=\"translate(9.8947 52.782255) scale(0.07 -0.07)\">\n",
       "     <defs>\n",
       "      <path id=\"ArialMT-3c\" d=\"M 350 2003  L 350 2528  L 3384 3809  L 3384 3250  L 978 2263  L 3384 1266  L 3384 706  L 350 2003  z \" transform=\"scale(0.015625)\"/>\n",
       "      <path id=\"DejaVuSans-Oblique-66\" d=\"M 3059 4863  L 2969 4384  L 2419 4384  Q 2106 4384 1964 4261  Q 1822 4138 1753 3809  L 1691 3500  L 2638 3500  L 2553 3053  L 1606 3053  L 1013 0  L 434 0  L 1031 3053  L 481 3053  L 563 3500  L 1113 3500  L 1159 3744  Q 1278 4363 1576 4613  Q 1875 4863 2516 4863  L 3059 4863  z \" transform=\"scale(0.015625)\"/>\n",
       "      <path id=\"DejaVuSans-Oblique-6c\" d=\"M 1172 4863  L 1747 4863  L 800 0  L 225 0  L 1172 4863  z \" transform=\"scale(0.015625)\"/>\n",
       "      <path id=\"DejaVuSans-Oblique-6f\" d=\"M 1625 -91  Q 1009 -91 651 289  Q 294 669 294 1325  Q 294 1706 417 2101  Q 541 2497 738 2766  Q 1047 3184 1428 3384  Q 1809 3584 2291 3584  Q 2888 3584 3255 3212  Q 3622 2841 3622 2241  Q 3622 1825 3500 1412  Q 3378 1000 3181 728  Q 2875 309 2494 109  Q 2113 -91 1625 -91  z M 891 1344  Q 891 869 1089 633  Q 1288 397 1691 397  Q 2269 397 2648 901  Q 3028 1406 3028 2181  Q 3028 2634 2825 2865  Q 2622 3097 2228 3097  Q 1903 3097 1650 2945  Q 1397 2794 1197 2484  Q 1050 2253 970 1956  Q 891 1659 891 1344  z \" transform=\"scale(0.015625)\"/>\n",
       "      <path id=\"DejaVuSans-Oblique-61\" d=\"M 3438 1997  L 3047 0  L 2472 0  L 2578 531  Q 2325 219 2001 64  Q 1678 -91 1281 -91  Q 834 -91 548 182  Q 263 456 263 884  Q 263 1497 752 1853  Q 1241 2209 2100 2209  L 2900 2209  L 2931 2363  Q 2938 2388 2941 2417  Q 2944 2447 2944 2509  Q 2944 2788 2717 2942  Q 2491 3097 2081 3097  Q 1800 3097 1504 3025  Q 1209 2953 897 2809  L 997 3341  Q 1322 3463 1633 3523  Q 1944 3584 2234 3584  Q 2853 3584 3176 3315  Q 3500 3047 3500 2534  Q 3500 2431 3484 2292  Q 3469 2153 3438 1997  z M 2816 1759  L 2241 1759  Q 1534 1759 1195 1570  Q 856 1381 856 984  Q 856 709 1029 553  Q 1203 397 1509 397  Q 1978 397 2328 733  Q 2678 1069 2791 1631  L 2816 1759  z \" transform=\"scale(0.015625)\"/>\n",
       "      <path id=\"DejaVuSans-Oblique-74\" d=\"M 2706 3500  L 2619 3053  L 1472 3053  L 1100 1153  Q 1081 1047 1072 975  Q 1063 903 1063 863  Q 1063 663 1183 572  Q 1303 481 1569 481  L 2150 481  L 2053 0  L 1503 0  Q 991 0 739 200  Q 488 400 488 806  Q 488 878 497 964  Q 506 1050 525 1153  L 897 3053  L 409 3053  L 500 3500  L 978 3500  L 1172 4494  L 1747 4494  L 1556 3500  L 2706 3500  z \" transform=\"scale(0.015625)\"/>\n",
       "      <path id=\"DejaVuSans-33\" d=\"M 2597 2516  Q 3050 2419 3304 2112  Q 3559 1806 3559 1356  Q 3559 666 3084 287  Q 2609 -91 1734 -91  Q 1441 -91 1130 -33  Q 819 25 488 141  L 488 750  Q 750 597 1062 519  Q 1375 441 1716 441  Q 2309 441 2620 675  Q 2931 909 2931 1356  Q 2931 1769 2642 2001  Q 2353 2234 1838 2234  L 1294 2234  L 1294 2753  L 1863 2753  Q 2328 2753 2575 2939  Q 2822 3125 2822 3475  Q 2822 3834 2567 4026  Q 2313 4219 1838 4219  Q 1578 4219 1281 4162  Q 984 4106 628 3988  L 628 4550  Q 988 4650 1302 4700  Q 1616 4750 1894 4750  Q 2613 4750 3031 4423  Q 3450 4097 3450 3541  Q 3450 3153 3228 2886  Q 3006 2619 2597 2516  z \" transform=\"scale(0.015625)\"/>\n",
       "      <path id=\"DejaVuSans-32\" d=\"M 1228 531  L 3431 531  L 3431 0  L 469 0  L 469 531  Q 828 903 1448 1529  Q 2069 2156 2228 2338  Q 2531 2678 2651 2914  Q 2772 3150 2772 3378  Q 2772 3750 2511 3984  Q 2250 4219 1831 4219  Q 1534 4219 1204 4116  Q 875 4013 500 3803  L 500 4441  Q 881 4594 1212 4672  Q 1544 4750 1819 4750  Q 2544 4750 2975 4387  Q 3406 4025 3406 3419  Q 3406 3131 3298 2873  Q 3191 2616 2906 2266  Q 2828 2175 2409 1742  Q 1991 1309 1228 531  z \" transform=\"scale(0.015625)\"/>\n",
       "      <path id=\"ArialMT-3e\" d=\"M 3384 2003  L 350 706  L 350 1266  L 2753 2263  L 350 3250  L 350 3809  L 3384 2528  L 3384 2003  z \" transform=\"scale(0.015625)\"/>\n",
       "     </defs>\n",
       "     <use xlink:href=\"#ArialMT-3c\" transform=\"translate(0 0.015625)\"/>\n",
       "     <use xlink:href=\"#DejaVuSans-Oblique-66\" transform=\"translate(58.398438 0.015625)\"/>\n",
       "     <use xlink:href=\"#DejaVuSans-Oblique-6c\" transform=\"translate(93.603516 0.015625)\"/>\n",
       "     <use xlink:href=\"#DejaVuSans-Oblique-6f\" transform=\"translate(121.386719 0.015625)\"/>\n",
       "     <use xlink:href=\"#DejaVuSans-Oblique-61\" transform=\"translate(182.568359 0.015625)\"/>\n",
       "     <use xlink:href=\"#DejaVuSans-Oblique-74\" transform=\"translate(243.847656 0.015625)\"/>\n",
       "     <use xlink:href=\"#DejaVuSans-33\" transform=\"translate(283.056641 0.015625)\"/>\n",
       "     <use xlink:href=\"#DejaVuSans-32\" transform=\"translate(346.679688 0.015625)\"/>\n",
       "     <use xlink:href=\"#ArialMT-3e\" transform=\"translate(410.302734 0.015625)\"/>\n",
       "    </g>\n",
       "   </g>\n",
       "   <g id=\"text_28\">\n",
       "    <!-- 5 -->\n",
       "    <g transform=\"translate(81.144 37.536868) rotate(-90) scale(0.09 -0.09)\">\n",
       "     <defs>\n",
       "      <path id=\"ArialMT-35\" d=\"M 266 1200  L 856 1250  Q 922 819 1161 601  Q 1400 384 1738 384  Q 2144 384 2425 690  Q 2706 997 2706 1503  Q 2706 1984 2436 2262  Q 2166 2541 1728 2541  Q 1456 2541 1237 2417  Q 1019 2294 894 2097  L 366 2166  L 809 4519  L 3088 4519  L 3088 3981  L 1259 3981  L 1013 2750  Q 1425 3038 1878 3038  Q 2478 3038 2890 2622  Q 3303 2206 3303 1553  Q 3303 931 2941 478  Q 2500 -78 1738 -78  Q 1113 -78 717 272  Q 322 622 266 1200  z \" transform=\"scale(0.015625)\"/>\n",
       "     </defs>\n",
       "     <use xlink:href=\"#ArialMT-35\"/>\n",
       "    </g>\n",
       "   </g>\n",
       "   <g id=\"text_29\">\n",
       "    <!-- 784 -->\n",
       "    <g transform=\"translate(86.850534 22.297107) scale(0.09 -0.09)\">\n",
       "     <use xlink:href=\"#ArialMT-37\"/>\n",
       "     <use xlink:href=\"#ArialMT-38\" x=\"55.615234\"/>\n",
       "     <use xlink:href=\"#ArialMT-34\" x=\"111.230469\"/>\n",
       "    </g>\n",
       "   </g>\n",
       "   <g id=\"text_30\">\n",
       "    <!-- &lt;${\\mathit{float32}}$&gt; -->\n",
       "    <g transform=\"translate(77.9428 52.782255) scale(0.07 -0.07)\">\n",
       "     <use xlink:href=\"#ArialMT-3c\" transform=\"translate(0 0.015625)\"/>\n",
       "     <use xlink:href=\"#DejaVuSans-Oblique-66\" transform=\"translate(58.398438 0.015625)\"/>\n",
       "     <use xlink:href=\"#DejaVuSans-Oblique-6c\" transform=\"translate(93.603516 0.015625)\"/>\n",
       "     <use xlink:href=\"#DejaVuSans-Oblique-6f\" transform=\"translate(121.386719 0.015625)\"/>\n",
       "     <use xlink:href=\"#DejaVuSans-Oblique-61\" transform=\"translate(182.568359 0.015625)\"/>\n",
       "     <use xlink:href=\"#DejaVuSans-Oblique-74\" transform=\"translate(243.847656 0.015625)\"/>\n",
       "     <use xlink:href=\"#DejaVuSans-33\" transform=\"translate(283.056641 0.015625)\"/>\n",
       "     <use xlink:href=\"#DejaVuSans-32\" transform=\"translate(346.679688 0.015625)\"/>\n",
       "     <use xlink:href=\"#ArialMT-3e\" transform=\"translate(410.302734 0.015625)\"/>\n",
       "    </g>\n",
       "   </g>\n",
       "   <g id=\"text_31\">\n",
       "    <!-- 784 -->\n",
       "    <g transform=\"translate(217.7424 42.541712) rotate(-90) scale(0.09 -0.09)\">\n",
       "     <use xlink:href=\"#ArialMT-37\"/>\n",
       "     <use xlink:href=\"#ArialMT-38\" x=\"55.615234\"/>\n",
       "     <use xlink:href=\"#ArialMT-34\" x=\"111.230469\"/>\n",
       "    </g>\n",
       "   </g>\n",
       "   <g id=\"text_32\">\n",
       "    <!-- 10 -->\n",
       "    <g transform=\"translate(225.951356 22.297107) scale(0.09 -0.09)\">\n",
       "     <use xlink:href=\"#ArialMT-31\"/>\n",
       "     <use xlink:href=\"#ArialMT-30\" x=\"55.615234\"/>\n",
       "    </g>\n",
       "   </g>\n",
       "   <g id=\"text_33\">\n",
       "    <!-- &lt;${\\mathit{float32}}$&gt; -->\n",
       "    <g transform=\"translate(214.5412 52.782255) scale(0.07 -0.07)\">\n",
       "     <use xlink:href=\"#ArialMT-3c\" transform=\"translate(0 0.015625)\"/>\n",
       "     <use xlink:href=\"#DejaVuSans-Oblique-66\" transform=\"translate(58.398438 0.015625)\"/>\n",
       "     <use xlink:href=\"#DejaVuSans-Oblique-6c\" transform=\"translate(93.603516 0.015625)\"/>\n",
       "     <use xlink:href=\"#DejaVuSans-Oblique-6f\" transform=\"translate(121.386719 0.015625)\"/>\n",
       "     <use xlink:href=\"#DejaVuSans-Oblique-61\" transform=\"translate(182.568359 0.015625)\"/>\n",
       "     <use xlink:href=\"#DejaVuSans-Oblique-74\" transform=\"translate(243.847656 0.015625)\"/>\n",
       "     <use xlink:href=\"#DejaVuSans-33\" transform=\"translate(283.056641 0.015625)\"/>\n",
       "     <use xlink:href=\"#DejaVuSans-32\" transform=\"translate(346.679688 0.015625)\"/>\n",
       "     <use xlink:href=\"#ArialMT-3e\" transform=\"translate(410.302734 0.015625)\"/>\n",
       "    </g>\n",
       "   </g>\n",
       "  </g>\n",
       " </g>\n",
       " <defs>\n",
       "  <clipPath id=\"pb6d912180f\">\n",
       "   <rect x=\"0\" y=\"4.901991\" width=\"260.0838\" height=\"42.315395\"/>\n",
       "  </clipPath>\n",
       " </defs>\n",
       "</svg>"
      ],
      "text/plain": [
       "<IPython.core.display.SVG object>"
      ]
     },
     "metadata": {},
     "output_type": "display_data"
    }
   ],
   "source": [
    "with tsensor.explain():\n",
    "     y = (m1[0,:, None] * m2)"
   ]
  },
  {
   "cell_type": "code",
   "execution_count": 223,
   "id": "31b12e4b",
   "metadata": {},
   "outputs": [
    {
     "data": {
      "image/svg+xml": [
       "<svg xmlns:xlink=\"http://www.w3.org/1999/xlink\" xmlns=\"http://www.w3.org/2000/svg\" width=\"170.985606pt\" height=\"54.173505pt\" viewBox=\"0 0 170.985606 54.173505\" version=\"1.1\">\n",
       " <metadata>\n",
       "  <rdf:RDF xmlns:dc=\"http://purl.org/dc/elements/1.1/\" xmlns:cc=\"http://creativecommons.org/ns#\" xmlns:rdf=\"http://www.w3.org/1999/02/22-rdf-syntax-ns#\">\n",
       "   <cc:Work>\n",
       "    <dc:type rdf:resource=\"http://purl.org/dc/dcmitype/StillImage\"/>\n",
       "    <dc:date>2023-05-21T07:00:33.084052</dc:date>\n",
       "    <dc:format>image/svg+xml</dc:format>\n",
       "    <dc:creator>\n",
       "     <cc:Agent>\n",
       "      <dc:title>Matplotlib v3.7.1, https://matplotlib.org/</dc:title>\n",
       "     </cc:Agent>\n",
       "    </dc:creator>\n",
       "   </cc:Work>\n",
       "  </rdf:RDF>\n",
       " </metadata>\n",
       " <defs>\n",
       "  <style type=\"text/css\">*{stroke-linejoin: round; stroke-linecap: butt}</style>\n",
       " </defs>\n",
       " <g id=\"figure_1\">\n",
       "  <g id=\"patch_1\">\n",
       "   <path d=\"M 0 54.173505  L 170.985606 54.173505  L 170.985606 0  L 0 0  z \" style=\"fill: #ffffff\"/>\n",
       "  </g>\n",
       "  <g id=\"axes_1\">\n",
       "   <g id=\"patch_2\">\n",
       "    <path d=\"M 20.68506 46.385787  L 25.90794 46.385787  L 25.90794 23.683107  L 20.68506 23.683107  z \" clip-path=\"url(#p9b836aa284)\" style=\"fill: #a8e1b0; fill-opacity: 0.5; stroke: #808080; stroke-width: 0.7; stroke-linejoin: miter\"/>\n",
       "   </g>\n",
       "   <g id=\"patch_3\">\n",
       "    <path d=\"M 70.37775 46.385787  L 93.22785 46.385787  L 93.22785 23.683107  L 70.37775 23.683107  z \" clip-path=\"url(#p9b836aa284)\" style=\"fill: #a8e1b0; fill-opacity: 0.5; stroke: #808080; stroke-width: 0.7; stroke-linejoin: miter\"/>\n",
       "   </g>\n",
       "   <g id=\"line2d_1\">\n",
       "    <path d=\"M 6.32214 13.762608  L 40.27086 13.762608  \" clip-path=\"url(#p9b836aa284)\" style=\"fill: none; stroke: #c2c2c2; stroke-width: 0.5; stroke-linecap: square\"/>\n",
       "   </g>\n",
       "   <g id=\"line2d_2\">\n",
       "    <path d=\"M 74.62134 13.762608  L 88.98426 13.762608  \" clip-path=\"url(#p9b836aa284)\" style=\"fill: none; stroke: #c2c2c2; stroke-width: 0.5; stroke-linecap: square\"/>\n",
       "   </g>\n",
       "   <g id=\"text_1\">\n",
       "    <!-- b -->\n",
       "    <g style=\"fill: #444443\" transform=\"translate(6.975 9.947031) scale(0.13 -0.13)\">\n",
       "     <defs>\n",
       "      <path id=\"DejaVuSansMono-62\" d=\"M 2869 1747  Q 2869 2416 2656 2756  Q 2444 3097 2028 3097  Q 1609 3097 1393 2755  Q 1178 2413 1178 1747  Q 1178 1084 1393 740  Q 1609 397 2028 397  Q 2444 397 2656 737  Q 2869 1078 2869 1747  z M 1178 3053  Q 1316 3309 1558 3446  Q 1800 3584 2119 3584  Q 2750 3584 3112 3098  Q 3475 2613 3475 1759  Q 3475 894 3111 401  Q 2747 -91 2113 -91  Q 1800 -91 1561 45  Q 1322 181 1178 441  L 1178 0  L 603 0  L 603 4863  L 1178 4863  L 1178 3053  z \" transform=\"scale(0.015625)\"/>\n",
       "     </defs>\n",
       "     <use xlink:href=\"#DejaVuSansMono-62\"/>\n",
       "    </g>\n",
       "   </g>\n",
       "   <g id=\"text_2\">\n",
       "    <!-- a -->\n",
       "    <g style=\"fill: #444443\" transform=\"translate(13.5036 9.947031) scale(0.13 -0.13)\">\n",
       "     <defs>\n",
       "      <path id=\"DejaVuSansMono-61\" d=\"M 2194 1759  L 2003 1759  Q 1500 1759 1245 1582  Q 991 1406 991 1056  Q 991 741 1181 566  Q 1372 391 1709 391  Q 2184 391 2456 720  Q 2728 1050 2731 1631  L 2731 1759  L 2194 1759  z M 3309 1997  L 3309 0  L 2731 0  L 2731 519  Q 2547 206 2267 57  Q 1988 -91 1588 -91  Q 1053 -91 734 211  Q 416 513 416 1019  Q 416 1603 808 1906  Q 1200 2209 1959 2209  L 2731 2209  L 2731 2300  Q 2728 2719 2518 2908  Q 2309 3097 1850 3097  Q 1556 3097 1256 3012  Q 956 2928 672 2766  L 672 3341  Q 991 3463 1283 3523  Q 1575 3584 1850 3584  Q 2284 3584 2592 3456  Q 2900 3328 3091 3072  Q 3209 2916 3259 2686  Q 3309 2456 3309 1997  z \" transform=\"scale(0.015625)\"/>\n",
       "     </defs>\n",
       "     <use xlink:href=\"#DejaVuSansMono-61\"/>\n",
       "    </g>\n",
       "   </g>\n",
       "   <g id=\"text_3\">\n",
       "    <!-- t -->\n",
       "    <g style=\"fill: #444443\" transform=\"translate(20.0322 9.947031) scale(0.13 -0.13)\">\n",
       "     <defs>\n",
       "      <path id=\"DejaVuSansMono-74\" d=\"M 1919 4494  L 1919 3500  L 3225 3500  L 3225 3053  L 1919 3053  L 1919 1153  Q 1919 766 2066 612  Q 2213 459 2578 459  L 3225 459  L 3225 0  L 2522 0  Q 1875 0 1609 259  Q 1344 519 1344 1153  L 1344 3053  L 409 3053  L 409 3500  L 1344 3500  L 1344 4494  L 1919 4494  z \" transform=\"scale(0.015625)\"/>\n",
       "     </defs>\n",
       "     <use xlink:href=\"#DejaVuSansMono-74\"/>\n",
       "    </g>\n",
       "   </g>\n",
       "   <g id=\"text_4\">\n",
       "    <!-- c -->\n",
       "    <g style=\"fill: #444443\" transform=\"translate(26.5608 9.947031) scale(0.13 -0.13)\">\n",
       "     <defs>\n",
       "      <path id=\"DejaVuSansMono-63\" d=\"M 3316 178  Q 3084 44 2839 -23  Q 2594 -91 2338 -91  Q 1525 -91 1067 396  Q 609 884 609 1747  Q 609 2609 1067 3096  Q 1525 3584 2338 3584  Q 2591 3584 2831 3518  Q 3072 3453 3316 3316  L 3316 2713  Q 3088 2916 2858 3006  Q 2628 3097 2338 3097  Q 1797 3097 1506 2747  Q 1216 2397 1216 1747  Q 1216 1100 1508 748  Q 1800 397 2338 397  Q 2638 397 2875 489  Q 3113 581 3316 775  L 3316 178  z \" transform=\"scale(0.015625)\"/>\n",
       "     </defs>\n",
       "     <use xlink:href=\"#DejaVuSansMono-63\"/>\n",
       "    </g>\n",
       "   </g>\n",
       "   <g id=\"text_5\">\n",
       "    <!-- h -->\n",
       "    <g style=\"fill: #444443\" transform=\"translate(33.0894 9.947031) scale(0.13 -0.13)\">\n",
       "     <defs>\n",
       "      <path id=\"DejaVuSansMono-68\" d=\"M 3284 2169  L 3284 0  L 2706 0  L 2706 2169  Q 2706 2641 2540 2862  Q 2375 3084 2022 3084  Q 1619 3084 1401 2798  Q 1184 2513 1184 1978  L 1184 0  L 609 0  L 609 4863  L 1184 4863  L 1184 2975  Q 1338 3275 1600 3429  Q 1863 3584 2222 3584  Q 2756 3584 3020 3232  Q 3284 2881 3284 2169  z \" transform=\"scale(0.015625)\"/>\n",
       "     </defs>\n",
       "     <use xlink:href=\"#DejaVuSansMono-68\"/>\n",
       "    </g>\n",
       "   </g>\n",
       "   <g id=\"text_6\">\n",
       "    <!--   -->\n",
       "    <g style=\"fill: #444443\" transform=\"translate(39.618 9.947031) scale(0.13 -0.13)\">\n",
       "     <defs>\n",
       "      <path id=\"DejaVuSansMono-20\" transform=\"scale(0.015625)\"/>\n",
       "     </defs>\n",
       "     <use xlink:href=\"#DejaVuSansMono-20\"/>\n",
       "    </g>\n",
       "   </g>\n",
       "   <g id=\"text_7\">\n",
       "    <!-- = -->\n",
       "    <g style=\"fill: #444443\" transform=\"translate(46.1466 9.947031) scale(0.13 -0.13)\">\n",
       "     <defs>\n",
       "      <path id=\"DejaVuSansMono-3d\" d=\"M 275 1638  L 3578 1638  L 3578 1100  L 275 1100  L 275 1638  z M 275 2906  L 3578 2906  L 3578 2375  L 275 2375  L 275 2906  z \" transform=\"scale(0.015625)\"/>\n",
       "     </defs>\n",
       "     <use xlink:href=\"#DejaVuSansMono-3d\"/>\n",
       "    </g>\n",
       "   </g>\n",
       "   <g id=\"text_8\">\n",
       "    <!--   -->\n",
       "    <g style=\"fill: #444443\" transform=\"translate(52.6752 9.947031) scale(0.13 -0.13)\">\n",
       "     <use xlink:href=\"#DejaVuSansMono-20\"/>\n",
       "    </g>\n",
       "   </g>\n",
       "   <g id=\"text_9\">\n",
       "    <!-- m -->\n",
       "    <g style=\"fill: #444443\" transform=\"translate(75.2742 9.947031) scale(0.13 -0.13)\">\n",
       "     <defs>\n",
       "      <path id=\"DejaVuSansMono-6d\" d=\"M 2113 3144  Q 2219 3369 2383 3476  Q 2547 3584 2778 3584  Q 3200 3584 3373 3257  Q 3547 2931 3547 2028  L 3547 0  L 3022 0  L 3022 2003  Q 3022 2744 2939 2923  Q 2856 3103 2638 3103  Q 2388 3103 2295 2911  Q 2203 2719 2203 2003  L 2203 0  L 1678 0  L 1678 2003  Q 1678 2753 1589 2928  Q 1500 3103 1269 3103  Q 1041 3103 952 2911  Q 863 2719 863 2003  L 863 0  L 341 0  L 341 3500  L 863 3500  L 863 3200  Q 966 3388 1120 3486  Q 1275 3584 1472 3584  Q 1709 3584 1867 3475  Q 2025 3366 2113 3144  z \" transform=\"scale(0.015625)\"/>\n",
       "     </defs>\n",
       "     <use xlink:href=\"#DejaVuSansMono-6d\"/>\n",
       "    </g>\n",
       "   </g>\n",
       "   <g id=\"text_10\">\n",
       "    <!-- 1 -->\n",
       "    <g style=\"fill: #444443\" transform=\"translate(81.8028 9.947031) scale(0.13 -0.13)\">\n",
       "     <defs>\n",
       "      <path id=\"DejaVuSansMono-31\" d=\"M 844 531  L 1825 531  L 1825 4097  L 769 3859  L 769 4434  L 1819 4666  L 2450 4666  L 2450 531  L 3419 531  L 3419 0  L 844 0  L 844 531  z \" transform=\"scale(0.015625)\"/>\n",
       "     </defs>\n",
       "     <use xlink:href=\"#DejaVuSansMono-31\"/>\n",
       "    </g>\n",
       "   </g>\n",
       "   <g id=\"text_11\">\n",
       "    <!-- [ -->\n",
       "    <g style=\"fill: #444443\" transform=\"translate(104.4018 9.947031) scale(0.13 -0.13)\">\n",
       "     <defs>\n",
       "      <path id=\"DejaVuSansMono-5b\" d=\"M 1447 4863  L 2772 4863  L 2772 4416  L 2022 4416  L 2022 -397  L 2772 -397  L 2772 -844  L 1447 -844  L 1447 4863  z \" transform=\"scale(0.015625)\"/>\n",
       "     </defs>\n",
       "     <use xlink:href=\"#DejaVuSansMono-5b\"/>\n",
       "    </g>\n",
       "   </g>\n",
       "   <g id=\"text_12\">\n",
       "    <!-- i -->\n",
       "    <g style=\"fill: #444443\" transform=\"translate(110.9304 9.947031) scale(0.13 -0.13)\">\n",
       "     <defs>\n",
       "      <path id=\"DejaVuSansMono-69\" d=\"M 800 3500  L 2272 3500  L 2272 447  L 3413 447  L 3413 0  L 556 0  L 556 447  L 1697 447  L 1697 3053  L 800 3053  L 800 3500  z M 1697 4863  L 2272 4863  L 2272 4134  L 1697 4134  L 1697 4863  z \" transform=\"scale(0.015625)\"/>\n",
       "     </defs>\n",
       "     <use xlink:href=\"#DejaVuSansMono-69\"/>\n",
       "    </g>\n",
       "   </g>\n",
       "   <g id=\"text_13\">\n",
       "    <!-- , -->\n",
       "    <g style=\"fill: #444443\" transform=\"translate(117.459 9.947031) scale(0.13 -0.13)\">\n",
       "     <defs>\n",
       "      <path id=\"DejaVuSansMono-2c\" d=\"M 1569 947  L 2356 947  L 2356 300  L 1741 -897  L 1259 -897  L 1569 300  L 1569 947  z \" transform=\"scale(0.015625)\"/>\n",
       "     </defs>\n",
       "     <use xlink:href=\"#DejaVuSansMono-2c\"/>\n",
       "    </g>\n",
       "   </g>\n",
       "   <g id=\"text_14\">\n",
       "    <!-- : -->\n",
       "    <g style=\"fill: #444443\" transform=\"translate(123.9876 9.947031) scale(0.13 -0.13)\">\n",
       "     <defs>\n",
       "      <path id=\"DejaVuSansMono-3a\" d=\"M 1528 3322  L 2316 3322  L 2316 2375  L 1528 2375  L 1528 3322  z M 1528 953  L 2316 953  L 2316 0  L 1528 0  L 1528 953  z \" transform=\"scale(0.015625)\"/>\n",
       "     </defs>\n",
       "     <use xlink:href=\"#DejaVuSansMono-3a\"/>\n",
       "    </g>\n",
       "   </g>\n",
       "   <g id=\"text_15\">\n",
       "    <!-- , -->\n",
       "    <g style=\"fill: #444443\" transform=\"translate(130.5162 9.947031) scale(0.13 -0.13)\">\n",
       "     <use xlink:href=\"#DejaVuSansMono-2c\"/>\n",
       "    </g>\n",
       "   </g>\n",
       "   <g id=\"text_16\">\n",
       "    <!-- N -->\n",
       "    <g style=\"fill: #444443\" transform=\"translate(137.0448 9.947031) scale(0.13 -0.13)\">\n",
       "     <defs>\n",
       "      <path id=\"DejaVuSansMono-4e\" d=\"M 434 4666  L 1234 4666  L 2809 825  L 2809 4666  L 3419 4666  L 3419 0  L 2619 0  L 1044 3841  L 1044 0  L 434 0  L 434 4666  z \" transform=\"scale(0.015625)\"/>\n",
       "     </defs>\n",
       "     <use xlink:href=\"#DejaVuSansMono-4e\"/>\n",
       "    </g>\n",
       "   </g>\n",
       "   <g id=\"text_17\">\n",
       "    <!-- o -->\n",
       "    <g style=\"fill: #444443\" transform=\"translate(143.5734 9.947031) scale(0.13 -0.13)\">\n",
       "     <defs>\n",
       "      <path id=\"DejaVuSansMono-6f\" d=\"M 1925 3097  Q 1488 3097 1263 2756  Q 1038 2416 1038 1747  Q 1038 1081 1263 739  Q 1488 397 1925 397  Q 2366 397 2591 739  Q 2816 1081 2816 1747  Q 2816 2416 2591 2756  Q 2366 3097 1925 3097  z M 1925 3584  Q 2653 3584 3039 3112  Q 3425 2641 3425 1747  Q 3425 850 3040 379  Q 2656 -91 1925 -91  Q 1197 -91 812 379  Q 428 850 428 1747  Q 428 2641 812 3112  Q 1197 3584 1925 3584  z \" transform=\"scale(0.015625)\"/>\n",
       "     </defs>\n",
       "     <use xlink:href=\"#DejaVuSansMono-6f\"/>\n",
       "    </g>\n",
       "   </g>\n",
       "   <g id=\"text_18\">\n",
       "    <!-- n -->\n",
       "    <g style=\"fill: #444443\" transform=\"translate(150.102 9.947031) scale(0.13 -0.13)\">\n",
       "     <defs>\n",
       "      <path id=\"DejaVuSansMono-6e\" d=\"M 3284 2169  L 3284 0  L 2706 0  L 2706 2169  Q 2706 2641 2540 2862  Q 2375 3084 2022 3084  Q 1619 3084 1401 2798  Q 1184 2513 1184 1978  L 1184 0  L 609 0  L 609 3500  L 1184 3500  L 1184 2975  Q 1338 3275 1600 3429  Q 1863 3584 2222 3584  Q 2756 3584 3020 3232  Q 3284 2881 3284 2169  z \" transform=\"scale(0.015625)\"/>\n",
       "     </defs>\n",
       "     <use xlink:href=\"#DejaVuSansMono-6e\"/>\n",
       "    </g>\n",
       "   </g>\n",
       "   <g id=\"text_19\">\n",
       "    <!-- e -->\n",
       "    <g style=\"fill: #444443\" transform=\"translate(156.6306 9.947031) scale(0.13 -0.13)\">\n",
       "     <defs>\n",
       "      <path id=\"DejaVuSansMono-65\" d=\"M 3475 1894  L 3475 1613  L 984 1613  L 984 1594  Q 984 1022 1282 709  Q 1581 397 2125 397  Q 2400 397 2700 484  Q 3000 572 3341 750  L 3341 178  Q 3013 44 2708 -23  Q 2403 -91 2119 -91  Q 1303 -91 843 398  Q 384 888 384 1747  Q 384 2584 834 3084  Q 1284 3584 2034 3584  Q 2703 3584 3089 3131  Q 3475 2678 3475 1894  z M 2900 2063  Q 2888 2569 2661 2833  Q 2434 3097 2009 3097  Q 1594 3097 1325 2822  Q 1056 2547 1006 2059  L 2900 2063  z \" transform=\"scale(0.015625)\"/>\n",
       "     </defs>\n",
       "     <use xlink:href=\"#DejaVuSansMono-65\"/>\n",
       "    </g>\n",
       "   </g>\n",
       "   <g id=\"text_20\">\n",
       "    <!-- ] -->\n",
       "    <g style=\"fill: #444443\" transform=\"translate(163.1592 9.947031) scale(0.13 -0.13)\">\n",
       "     <defs>\n",
       "      <path id=\"DejaVuSansMono-5d\" d=\"M 2406 4863  L 2406 -844  L 1081 -844  L 1081 -397  L 1831 -397  L 1831 4416  L 1081 4416  L 1081 4863  L 2406 4863  z \" transform=\"scale(0.015625)\"/>\n",
       "     </defs>\n",
       "     <use xlink:href=\"#DejaVuSansMono-5d\"/>\n",
       "    </g>\n",
       "   </g>\n",
       "   <g id=\"text_21\">\n",
       "    <!-- 784 -->\n",
       "    <g transform=\"translate(18.89631 42.541712) rotate(-90) scale(0.09 -0.09)\">\n",
       "     <defs>\n",
       "      <path id=\"ArialMT-37\" d=\"M 303 3981  L 303 4522  L 3269 4522  L 3269 4084  Q 2831 3619 2401 2847  Q 1972 2075 1738 1259  Q 1569 684 1522 0  L 944 0  Q 953 541 1156 1306  Q 1359 2072 1739 2783  Q 2119 3494 2547 3981  L 303 3981  z \" transform=\"scale(0.015625)\"/>\n",
       "      <path id=\"ArialMT-38\" d=\"M 1131 2484  Q 781 2613 612 2850  Q 444 3088 444 3419  Q 444 3919 803 4259  Q 1163 4600 1759 4600  Q 2359 4600 2725 4251  Q 3091 3903 3091 3403  Q 3091 3084 2923 2848  Q 2756 2613 2416 2484  Q 2838 2347 3058 2040  Q 3278 1734 3278 1309  Q 3278 722 2862 322  Q 2447 -78 1769 -78  Q 1091 -78 675 323  Q 259 725 259 1325  Q 259 1772 486 2073  Q 713 2375 1131 2484  z M 1019 3438  Q 1019 3113 1228 2906  Q 1438 2700 1772 2700  Q 2097 2700 2305 2904  Q 2513 3109 2513 3406  Q 2513 3716 2298 3927  Q 2084 4138 1766 4138  Q 1444 4138 1231 3931  Q 1019 3725 1019 3438  z M 838 1322  Q 838 1081 952 856  Q 1066 631 1291 507  Q 1516 384 1775 384  Q 2178 384 2440 643  Q 2703 903 2703 1303  Q 2703 1709 2433 1975  Q 2163 2241 1756 2241  Q 1359 2241 1098 1978  Q 838 1716 838 1322  z \" transform=\"scale(0.015625)\"/>\n",
       "      <path id=\"ArialMT-34\" d=\"M 2069 0  L 2069 1097  L 81 1097  L 81 1613  L 2172 4581  L 2631 4581  L 2631 1613  L 3250 1613  L 3250 1097  L 2631 1097  L 2631 0  L 2069 0  z M 2069 1613  L 2069 3678  L 634 1613  L 2069 1613  z \" transform=\"scale(0.015625)\"/>\n",
       "     </defs>\n",
       "     <use xlink:href=\"#ArialMT-37\"/>\n",
       "     <use xlink:href=\"#ArialMT-38\" x=\"55.615234\"/>\n",
       "     <use xlink:href=\"#ArialMT-34\" x=\"111.230469\"/>\n",
       "    </g>\n",
       "   </g>\n",
       "   <g id=\"text_22\">\n",
       "    <!-- 1 -->\n",
       "    <g transform=\"translate(20.794078 22.297107) scale(0.09 -0.09)\">\n",
       "     <defs>\n",
       "      <path id=\"ArialMT-31\" d=\"M 2384 0  L 1822 0  L 1822 3584  Q 1619 3391 1289 3197  Q 959 3003 697 2906  L 697 3450  Q 1169 3672 1522 3987  Q 1875 4303 2022 4600  L 2384 4600  L 2384 0  z \" transform=\"scale(0.015625)\"/>\n",
       "     </defs>\n",
       "     <use xlink:href=\"#ArialMT-31\"/>\n",
       "    </g>\n",
       "   </g>\n",
       "   <g id=\"text_23\">\n",
       "    <!-- &lt;${\\mathit{float32}}$&gt; -->\n",
       "    <g transform=\"translate(6.8815 52.782255) scale(0.07 -0.07)\">\n",
       "     <defs>\n",
       "      <path id=\"ArialMT-3c\" d=\"M 350 2003  L 350 2528  L 3384 3809  L 3384 3250  L 978 2263  L 3384 1266  L 3384 706  L 350 2003  z \" transform=\"scale(0.015625)\"/>\n",
       "      <path id=\"DejaVuSans-Oblique-66\" d=\"M 3059 4863  L 2969 4384  L 2419 4384  Q 2106 4384 1964 4261  Q 1822 4138 1753 3809  L 1691 3500  L 2638 3500  L 2553 3053  L 1606 3053  L 1013 0  L 434 0  L 1031 3053  L 481 3053  L 563 3500  L 1113 3500  L 1159 3744  Q 1278 4363 1576 4613  Q 1875 4863 2516 4863  L 3059 4863  z \" transform=\"scale(0.015625)\"/>\n",
       "      <path id=\"DejaVuSans-Oblique-6c\" d=\"M 1172 4863  L 1747 4863  L 800 0  L 225 0  L 1172 4863  z \" transform=\"scale(0.015625)\"/>\n",
       "      <path id=\"DejaVuSans-Oblique-6f\" d=\"M 1625 -91  Q 1009 -91 651 289  Q 294 669 294 1325  Q 294 1706 417 2101  Q 541 2497 738 2766  Q 1047 3184 1428 3384  Q 1809 3584 2291 3584  Q 2888 3584 3255 3212  Q 3622 2841 3622 2241  Q 3622 1825 3500 1412  Q 3378 1000 3181 728  Q 2875 309 2494 109  Q 2113 -91 1625 -91  z M 891 1344  Q 891 869 1089 633  Q 1288 397 1691 397  Q 2269 397 2648 901  Q 3028 1406 3028 2181  Q 3028 2634 2825 2865  Q 2622 3097 2228 3097  Q 1903 3097 1650 2945  Q 1397 2794 1197 2484  Q 1050 2253 970 1956  Q 891 1659 891 1344  z \" transform=\"scale(0.015625)\"/>\n",
       "      <path id=\"DejaVuSans-Oblique-61\" d=\"M 3438 1997  L 3047 0  L 2472 0  L 2578 531  Q 2325 219 2001 64  Q 1678 -91 1281 -91  Q 834 -91 548 182  Q 263 456 263 884  Q 263 1497 752 1853  Q 1241 2209 2100 2209  L 2900 2209  L 2931 2363  Q 2938 2388 2941 2417  Q 2944 2447 2944 2509  Q 2944 2788 2717 2942  Q 2491 3097 2081 3097  Q 1800 3097 1504 3025  Q 1209 2953 897 2809  L 997 3341  Q 1322 3463 1633 3523  Q 1944 3584 2234 3584  Q 2853 3584 3176 3315  Q 3500 3047 3500 2534  Q 3500 2431 3484 2292  Q 3469 2153 3438 1997  z M 2816 1759  L 2241 1759  Q 1534 1759 1195 1570  Q 856 1381 856 984  Q 856 709 1029 553  Q 1203 397 1509 397  Q 1978 397 2328 733  Q 2678 1069 2791 1631  L 2816 1759  z \" transform=\"scale(0.015625)\"/>\n",
       "      <path id=\"DejaVuSans-Oblique-74\" d=\"M 2706 3500  L 2619 3053  L 1472 3053  L 1100 1153  Q 1081 1047 1072 975  Q 1063 903 1063 863  Q 1063 663 1183 572  Q 1303 481 1569 481  L 2150 481  L 2053 0  L 1503 0  Q 991 0 739 200  Q 488 400 488 806  Q 488 878 497 964  Q 506 1050 525 1153  L 897 3053  L 409 3053  L 500 3500  L 978 3500  L 1172 4494  L 1747 4494  L 1556 3500  L 2706 3500  z \" transform=\"scale(0.015625)\"/>\n",
       "      <path id=\"DejaVuSans-33\" d=\"M 2597 2516  Q 3050 2419 3304 2112  Q 3559 1806 3559 1356  Q 3559 666 3084 287  Q 2609 -91 1734 -91  Q 1441 -91 1130 -33  Q 819 25 488 141  L 488 750  Q 750 597 1062 519  Q 1375 441 1716 441  Q 2309 441 2620 675  Q 2931 909 2931 1356  Q 2931 1769 2642 2001  Q 2353 2234 1838 2234  L 1294 2234  L 1294 2753  L 1863 2753  Q 2328 2753 2575 2939  Q 2822 3125 2822 3475  Q 2822 3834 2567 4026  Q 2313 4219 1838 4219  Q 1578 4219 1281 4162  Q 984 4106 628 3988  L 628 4550  Q 988 4650 1302 4700  Q 1616 4750 1894 4750  Q 2613 4750 3031 4423  Q 3450 4097 3450 3541  Q 3450 3153 3228 2886  Q 3006 2619 2597 2516  z \" transform=\"scale(0.015625)\"/>\n",
       "      <path id=\"DejaVuSans-32\" d=\"M 1228 531  L 3431 531  L 3431 0  L 469 0  L 469 531  Q 828 903 1448 1529  Q 2069 2156 2228 2338  Q 2531 2678 2651 2914  Q 2772 3150 2772 3378  Q 2772 3750 2511 3984  Q 2250 4219 1831 4219  Q 1534 4219 1204 4116  Q 875 4013 500 3803  L 500 4441  Q 881 4594 1212 4672  Q 1544 4750 1819 4750  Q 2544 4750 2975 4387  Q 3406 4025 3406 3419  Q 3406 3131 3298 2873  Q 3191 2616 2906 2266  Q 2828 2175 2409 1742  Q 1991 1309 1228 531  z \" transform=\"scale(0.015625)\"/>\n",
       "      <path id=\"ArialMT-3e\" d=\"M 3384 2003  L 350 706  L 350 1266  L 2753 2263  L 350 3250  L 350 3809  L 3384 2528  L 3384 2003  z \" transform=\"scale(0.015625)\"/>\n",
       "     </defs>\n",
       "     <use xlink:href=\"#ArialMT-3c\" transform=\"translate(0 0.015625)\"/>\n",
       "     <use xlink:href=\"#DejaVuSans-Oblique-66\" transform=\"translate(58.398438 0.015625)\"/>\n",
       "     <use xlink:href=\"#DejaVuSans-Oblique-6c\" transform=\"translate(93.603516 0.015625)\"/>\n",
       "     <use xlink:href=\"#DejaVuSans-Oblique-6f\" transform=\"translate(121.386719 0.015625)\"/>\n",
       "     <use xlink:href=\"#DejaVuSans-Oblique-61\" transform=\"translate(182.568359 0.015625)\"/>\n",
       "     <use xlink:href=\"#DejaVuSans-Oblique-74\" transform=\"translate(243.847656 0.015625)\"/>\n",
       "     <use xlink:href=\"#DejaVuSans-33\" transform=\"translate(283.056641 0.015625)\"/>\n",
       "     <use xlink:href=\"#DejaVuSans-32\" transform=\"translate(346.679688 0.015625)\"/>\n",
       "     <use xlink:href=\"#ArialMT-3e\" transform=\"translate(410.302734 0.015625)\"/>\n",
       "    </g>\n",
       "   </g>\n",
       "   <g id=\"text_24\">\n",
       "    <!-- 5 -->\n",
       "    <g transform=\"translate(68.589 37.536868) rotate(-90) scale(0.09 -0.09)\">\n",
       "     <defs>\n",
       "      <path id=\"ArialMT-35\" d=\"M 266 1200  L 856 1250  Q 922 819 1161 601  Q 1400 384 1738 384  Q 2144 384 2425 690  Q 2706 997 2706 1503  Q 2706 1984 2436 2262  Q 2166 2541 1728 2541  Q 1456 2541 1237 2417  Q 1019 2294 894 2097  L 366 2166  L 809 4519  L 3088 4519  L 3088 3981  L 1259 3981  L 1013 2750  Q 1425 3038 1878 3038  Q 2478 3038 2890 2622  Q 3303 2206 3303 1553  Q 3303 931 2941 478  Q 2500 -78 1738 -78  Q 1113 -78 717 272  Q 322 622 266 1200  z \" transform=\"scale(0.015625)\"/>\n",
       "     </defs>\n",
       "     <use xlink:href=\"#ArialMT-35\"/>\n",
       "    </g>\n",
       "   </g>\n",
       "   <g id=\"text_25\">\n",
       "    <!-- 784 -->\n",
       "    <g transform=\"translate(74.295534 22.297107) scale(0.09 -0.09)\">\n",
       "     <use xlink:href=\"#ArialMT-37\"/>\n",
       "     <use xlink:href=\"#ArialMT-38\" x=\"55.615234\"/>\n",
       "     <use xlink:href=\"#ArialMT-34\" x=\"111.230469\"/>\n",
       "    </g>\n",
       "   </g>\n",
       "   <g id=\"text_26\">\n",
       "    <!-- &lt;${\\mathit{float32}}$&gt; -->\n",
       "    <g transform=\"translate(65.3878 52.782255) scale(0.07 -0.07)\">\n",
       "     <use xlink:href=\"#ArialMT-3c\" transform=\"translate(0 0.015625)\"/>\n",
       "     <use xlink:href=\"#DejaVuSans-Oblique-66\" transform=\"translate(58.398438 0.015625)\"/>\n",
       "     <use xlink:href=\"#DejaVuSans-Oblique-6c\" transform=\"translate(93.603516 0.015625)\"/>\n",
       "     <use xlink:href=\"#DejaVuSans-Oblique-6f\" transform=\"translate(121.386719 0.015625)\"/>\n",
       "     <use xlink:href=\"#DejaVuSans-Oblique-61\" transform=\"translate(182.568359 0.015625)\"/>\n",
       "     <use xlink:href=\"#DejaVuSans-Oblique-74\" transform=\"translate(243.847656 0.015625)\"/>\n",
       "     <use xlink:href=\"#DejaVuSans-33\" transform=\"translate(283.056641 0.015625)\"/>\n",
       "     <use xlink:href=\"#DejaVuSans-32\" transform=\"translate(346.679688 0.015625)\"/>\n",
       "     <use xlink:href=\"#ArialMT-3e\" transform=\"translate(410.302734 0.015625)\"/>\n",
       "    </g>\n",
       "   </g>\n",
       "  </g>\n",
       " </g>\n",
       " <defs>\n",
       "  <clipPath id=\"p9b836aa284\">\n",
       "   <rect x=\"0\" y=\"4.901991\" width=\"169.6878\" height=\"42.315395\"/>\n",
       "  </clipPath>\n",
       " </defs>\n",
       "</svg>"
      ],
      "text/plain": [
       "<IPython.core.display.SVG object>"
      ]
     },
     "metadata": {},
     "output_type": "display_data"
    }
   ],
   "source": [
    "with tsensor.explain():\n",
    "    for i in range(5):\n",
    "        batch = m1[i,:,None]\n",
    "        "
   ]
  },
  {
   "cell_type": "code",
   "execution_count": 234,
   "id": "ea01b8a0",
   "metadata": {},
   "outputs": [
    {
     "data": {
      "text/plain": [
       "torch.Size([784])"
      ]
     },
     "execution_count": 234,
     "metadata": {},
     "output_type": "execute_result"
    }
   ],
   "source": [
    "m2[:,0].shape"
   ]
  },
  {
   "cell_type": "code",
   "execution_count": 230,
   "id": "6e375218",
   "metadata": {},
   "outputs": [
    {
     "data": {
      "image/svg+xml": [
       "<?xml version=\"1.0\" encoding=\"UTF-8\" standalone=\"no\"?>\n",
       "<!DOCTYPE svg PUBLIC \"-//W3C//DTD SVG 1.1//EN\"\n",
       " \"http://www.w3.org/Graphics/SVG/1.1/DTD/svg11.dtd\">\n",
       "<!-- Generated by graphviz version 7.1.0 (20230122.1345)\n",
       " -->\n",
       "<!-- Title: G Pages: 1 -->\n",
       "<svg width=\"266pt\" height=\"236pt\"\n",
       " viewBox=\"0.00 0.00 266.00 236.00\" xmlns=\"http://www.w3.org/2000/svg\" xmlns:xlink=\"http://www.w3.org/1999/xlink\">\n",
       "<g id=\"graph0\" class=\"graph\" transform=\"scale(1 1) rotate(0) translate(4 232)\">\n",
       "<title>G</title>\n",
       "<polygon fill=\"white\" stroke=\"none\" points=\"-4,4 -4,-232 262,-232 262,4 -4,4\"/>\n",
       "<!-- leaf140644576901584 -->\n",
       "<g id=\"node1\" class=\"node\">\n",
       "<title>leaf140644576901584</title>\n",
       "<polygon fill=\"none\" stroke=\"black\" stroke-width=\"0\" points=\"8,-228 0,-228 0,-192 8,-192 8,-228\"/>\n",
       "<text text-anchor=\"start\" x=\"0\" y=\"-206.9\" font-family=\"Consolas\" font-size=\"12.00\" fill=\"#444443\">(</text>\n",
       "</g>\n",
       "<!-- leaf140644576901440 -->\n",
       "<g id=\"node2\" class=\"node\">\n",
       "<title>leaf140644576901440</title>\n",
       "<polygon fill=\"none\" stroke=\"black\" stroke-width=\"0\" points=\"25,-228 9,-228 9,-192 25,-192 25,-228\"/>\n",
       "<text text-anchor=\"start\" x=\"9\" y=\"-206.9\" font-family=\"Consolas\" font-size=\"12.00\" fill=\"#444443\">m1</text>\n",
       "</g>\n",
       "<!-- leaf140644576901584&#45;&gt;leaf140644576901440 -->\n",
       "<!-- leaf140644578027472 -->\n",
       "<g id=\"node3\" class=\"node\">\n",
       "<title>leaf140644578027472</title>\n",
       "<polygon fill=\"none\" stroke=\"black\" stroke-width=\"0\" points=\"34,-228 26,-228 26,-192 34,-192 34,-228\"/>\n",
       "<text text-anchor=\"start\" x=\"26\" y=\"-206.9\" font-family=\"Consolas\" font-size=\"12.00\" fill=\"#444443\">[</text>\n",
       "</g>\n",
       "<!-- leaf140644576901440&#45;&gt;leaf140644578027472 -->\n",
       "<!-- leaf140644578029680 -->\n",
       "<g id=\"node4\" class=\"node\">\n",
       "<title>leaf140644578029680</title>\n",
       "<polygon fill=\"none\" stroke=\"black\" stroke-width=\"0\" points=\"43,-228 35,-228 35,-192 43,-192 43,-228\"/>\n",
       "<text text-anchor=\"start\" x=\"35\" y=\"-206.9\" font-family=\"Consolas\" font-size=\"12.00\" fill=\"#444443\">0</text>\n",
       "</g>\n",
       "<!-- leaf140644578027472&#45;&gt;leaf140644578029680 -->\n",
       "<!-- leaf140644578029968 -->\n",
       "<g id=\"node5\" class=\"node\">\n",
       "<title>leaf140644578029968</title>\n",
       "<polygon fill=\"none\" stroke=\"black\" stroke-width=\"0\" points=\"52,-228 44,-228 44,-192 52,-192 52,-228\"/>\n",
       "<text text-anchor=\"start\" x=\"44\" y=\"-206.9\" font-family=\"Consolas\" font-size=\"12.00\" fill=\"#444443\">,</text>\n",
       "</g>\n",
       "<!-- leaf140644578029680&#45;&gt;leaf140644578029968 -->\n",
       "<!-- leaf140644578028528 -->\n",
       "<g id=\"node6\" class=\"node\">\n",
       "<title>leaf140644578028528</title>\n",
       "<polygon fill=\"none\" stroke=\"black\" stroke-width=\"0\" points=\"61,-228 53,-228 53,-192 61,-192 61,-228\"/>\n",
       "<text text-anchor=\"start\" x=\"53\" y=\"-206.9\" font-family=\"Consolas\" font-size=\"12.00\" fill=\"#444443\">:</text>\n",
       "</g>\n",
       "<!-- leaf140644578029968&#45;&gt;leaf140644578028528 -->\n",
       "<!-- leaf140644578029872 -->\n",
       "<g id=\"node7\" class=\"node\">\n",
       "<title>leaf140644578029872</title>\n",
       "<polygon fill=\"none\" stroke=\"black\" stroke-width=\"0\" points=\"70,-228 62,-228 62,-192 70,-192 70,-228\"/>\n",
       "<text text-anchor=\"start\" x=\"62\" y=\"-206.9\" font-family=\"Consolas\" font-size=\"12.00\" fill=\"#444443\">,</text>\n",
       "</g>\n",
       "<!-- leaf140644578028528&#45;&gt;leaf140644578029872 -->\n",
       "<!-- leaf140644578027664 -->\n",
       "<g id=\"node8\" class=\"node\">\n",
       "<title>leaf140644578027664</title>\n",
       "<polygon fill=\"none\" stroke=\"black\" stroke-width=\"0\" points=\"102.5,-228 71.5,-228 71.5,-192 102.5,-192 102.5,-228\"/>\n",
       "<text text-anchor=\"start\" x=\"71.5\" y=\"-206.9\" font-family=\"Consolas\" font-size=\"12.00\" fill=\"#444443\">None</text>\n",
       "</g>\n",
       "<!-- leaf140644578029872&#45;&gt;leaf140644578027664 -->\n",
       "<!-- leaf140644578029392 -->\n",
       "<g id=\"node9\" class=\"node\">\n",
       "<title>leaf140644578029392</title>\n",
       "<polygon fill=\"none\" stroke=\"black\" stroke-width=\"0\" points=\"112,-228 104,-228 104,-192 112,-192 112,-228\"/>\n",
       "<text text-anchor=\"start\" x=\"104\" y=\"-206.9\" font-family=\"Consolas\" font-size=\"12.00\" fill=\"#444443\">‌]</text>\n",
       "</g>\n",
       "<!-- leaf140644578027664&#45;&gt;leaf140644578029392 -->\n",
       "<!-- leaf140644578029488 -->\n",
       "<g id=\"node10\" class=\"node\">\n",
       "<title>leaf140644578029488</title>\n",
       "<polygon fill=\"none\" stroke=\"black\" stroke-width=\"0\" points=\"127,-228 113,-228 113,-192 127,-192 127,-228\"/>\n",
       "<text text-anchor=\"start\" x=\"116\" y=\"-206.9\" font-family=\"Consolas\" font-size=\"12.00\" fill=\"#444443\">*</text>\n",
       "</g>\n",
       "<!-- leaf140644578029392&#45;&gt;leaf140644578029488 -->\n",
       "<!-- leaf140644578028480 -->\n",
       "<g id=\"node11\" class=\"node\">\n",
       "<title>leaf140644578028480</title>\n",
       "<polygon fill=\"none\" stroke=\"black\" stroke-width=\"0\" points=\"144,-228 128,-228 128,-192 144,-192 144,-228\"/>\n",
       "<text text-anchor=\"start\" x=\"128\" y=\"-206.9\" font-family=\"Consolas\" font-size=\"12.00\" fill=\"#444443\">m2</text>\n",
       "</g>\n",
       "<!-- leaf140644578029488&#45;&gt;leaf140644578028480 -->\n",
       "<!-- leaf140644578029776 -->\n",
       "<g id=\"node12\" class=\"node\">\n",
       "<title>leaf140644578029776</title>\n",
       "<polygon fill=\"none\" stroke=\"black\" stroke-width=\"0\" points=\"153,-228 145,-228 145,-192 153,-192 153,-228\"/>\n",
       "<text text-anchor=\"start\" x=\"145\" y=\"-206.9\" font-family=\"Consolas\" font-size=\"12.00\" fill=\"#444443\">)</text>\n",
       "</g>\n",
       "<!-- leaf140644578028480&#45;&gt;leaf140644578029776 -->\n",
       "<!-- leaf140644578028432 -->\n",
       "<g id=\"node13\" class=\"node\">\n",
       "<title>leaf140644578028432</title>\n",
       "<polygon fill=\"none\" stroke=\"black\" stroke-width=\"0\" points=\"162,-228 154,-228 154,-192 162,-192 162,-228\"/>\n",
       "<text text-anchor=\"start\" x=\"154\" y=\"-206.9\" font-family=\"Consolas\" font-size=\"12.00\" fill=\"#444443\">.</text>\n",
       "</g>\n",
       "<!-- leaf140644578029776&#45;&gt;leaf140644578028432 -->\n",
       "<!-- leaf140644578030352 -->\n",
       "<g id=\"node14\" class=\"node\">\n",
       "<title>leaf140644578030352</title>\n",
       "<polygon fill=\"none\" stroke=\"black\" stroke-width=\"0\" points=\"186.5,-228 163.5,-228 163.5,-192 186.5,-192 186.5,-228\"/>\n",
       "<text text-anchor=\"start\" x=\"163.5\" y=\"-206.9\" font-family=\"Consolas\" font-size=\"12.00\" fill=\"#444443\">sum</text>\n",
       "</g>\n",
       "<!-- leaf140644578028432&#45;&gt;leaf140644578030352 -->\n",
       "<!-- leaf140644578030304 -->\n",
       "<g id=\"node15\" class=\"node\">\n",
       "<title>leaf140644578030304</title>\n",
       "<polygon fill=\"none\" stroke=\"black\" stroke-width=\"0\" points=\"196,-228 188,-228 188,-192 196,-192 196,-228\"/>\n",
       "<text text-anchor=\"start\" x=\"188\" y=\"-206.9\" font-family=\"Consolas\" font-size=\"12.00\" fill=\"#444443\">(</text>\n",
       "</g>\n",
       "<!-- leaf140644578030352&#45;&gt;leaf140644578030304 -->\n",
       "<!-- leaf140644578029728 -->\n",
       "<g id=\"node16\" class=\"node\">\n",
       "<title>leaf140644578029728</title>\n",
       "<polygon fill=\"none\" stroke=\"black\" stroke-width=\"0\" points=\"220.5,-228 197.5,-228 197.5,-192 220.5,-192 220.5,-228\"/>\n",
       "<text text-anchor=\"start\" x=\"197.5\" y=\"-206.9\" font-family=\"Consolas\" font-size=\"12.00\" fill=\"#444443\">dim</text>\n",
       "</g>\n",
       "<!-- leaf140644578030304&#45;&gt;leaf140644578029728 -->\n",
       "<!-- leaf140644578029440 -->\n",
       "<g id=\"node17\" class=\"node\">\n",
       "<title>leaf140644578029440</title>\n",
       "<polygon fill=\"none\" stroke=\"black\" stroke-width=\"0\" points=\"240,-228 222,-228 222,-192 240,-192 240,-228\"/>\n",
       "<text text-anchor=\"start\" x=\"227\" y=\"-206.9\" font-family=\"Consolas\" font-size=\"12.00\" fill=\"#444443\">=</text>\n",
       "</g>\n",
       "<!-- leaf140644578029728&#45;&gt;leaf140644578029440 -->\n",
       "<!-- leaf140644578030400 -->\n",
       "<g id=\"node18\" class=\"node\">\n",
       "<title>leaf140644578030400</title>\n",
       "<polygon fill=\"none\" stroke=\"black\" stroke-width=\"0\" points=\"249,-228 241,-228 241,-192 249,-192 249,-228\"/>\n",
       "<text text-anchor=\"start\" x=\"241\" y=\"-206.9\" font-family=\"Consolas\" font-size=\"12.00\" fill=\"#444443\">0</text>\n",
       "</g>\n",
       "<!-- leaf140644578029440&#45;&gt;leaf140644578030400 -->\n",
       "<!-- leaf140644578030064 -->\n",
       "<g id=\"node19\" class=\"node\">\n",
       "<title>leaf140644578030064</title>\n",
       "<polygon fill=\"none\" stroke=\"black\" stroke-width=\"0\" points=\"258,-228 250,-228 250,-192 258,-192 258,-228\"/>\n",
       "<text text-anchor=\"start\" x=\"250\" y=\"-206.9\" font-family=\"Consolas\" font-size=\"12.00\" fill=\"#444443\">)</text>\n",
       "</g>\n",
       "<!-- leaf140644578030400&#45;&gt;leaf140644578030064 -->\n",
       "<!-- node140644576902640 -->\n",
       "<g id=\"node20\" class=\"node\">\n",
       "<title>node140644576902640</title>\n",
       "<polygon fill=\"#a8e1b0\" fill-opacity=\"0.501961\" stroke=\"black\" stroke-width=\"0\" points=\"76.5,-170 37.5,-170 37.5,-140 76.5,-140 76.5,-170\"/>\n",
       "<text text-anchor=\"start\" x=\"49\" y=\"-161.4\" font-family=\"Consolas\" font-size=\"12.00\" fill=\"#444443\">[]</text>\n",
       "<text text-anchor=\"start\" x=\"44\" y=\"-151.8\" font-family=\"Arial\" font-size=\"9.00\" fill=\"#444443\">784x1</text>\n",
       "<text text-anchor=\"start\" x=\"37.5\" y=\"-142.8\" font-family=\"Arial\" font-size=\"9.00\" fill=\"#444443\">&lt;float32&gt;</text>\n",
       "</g>\n",
       "<!-- node140644576902640&#45;&gt;leaf140644576901440 -->\n",
       "<g id=\"edge19\" class=\"edge\">\n",
       "<title>node140644576902640&#45;&gt;leaf140644576901440</title>\n",
       "<path fill=\"none\" stroke=\"#6b6b6b\" stroke-width=\"0.5\" d=\"M43.69,-172.78C38.99,-178.8 33.7,-185.66 29,-192 27.62,-193.86 26.18,-195.85 24.8,-197.79\"/>\n",
       "<polygon fill=\"#6b6b6b\" stroke=\"#6b6b6b\" stroke-width=\"0.5\" points=\"44.45,-173.51 45.48,-170.5 42.8,-172.21 44.45,-173.51\"/>\n",
       "</g>\n",
       "<!-- node140644576902640&#45;&gt;leaf140644578029680 -->\n",
       "<g id=\"edge20\" class=\"edge\">\n",
       "<title>node140644576902640&#45;&gt;leaf140644578029680</title>\n",
       "<path fill=\"none\" stroke=\"#6b6b6b\" stroke-width=\"0.5\" d=\"M51.14,-173.24C48.45,-181.19 45.31,-190.41 42.91,-197.49\"/>\n",
       "<polygon fill=\"#6b6b6b\" stroke=\"#6b6b6b\" stroke-width=\"0.5\" points=\"52.06,-173.82 52.03,-170.64 50.07,-173.14 52.06,-173.82\"/>\n",
       "</g>\n",
       "<!-- node140644576902640&#45;&gt;leaf140644578028528 -->\n",
       "<g id=\"edge21\" class=\"edge\">\n",
       "<title>node140644576902640&#45;&gt;leaf140644578028528</title>\n",
       "<path fill=\"none\" stroke=\"#6b6b6b\" stroke-width=\"0.5\" d=\"M57,-173.58C57,-179.63 57,-186.37 57,-192.34\"/>\n",
       "<polygon fill=\"#6b6b6b\" stroke=\"#6b6b6b\" stroke-width=\"0.5\" points=\"58.05,-173.68 57,-170.68 55.95,-173.68 58.05,-173.68\"/>\n",
       "</g>\n",
       "<!-- node140644576902640&#45;&gt;leaf140644578027664 -->\n",
       "<g id=\"edge22\" class=\"edge\">\n",
       "<title>node140644576902640&#45;&gt;leaf140644578027664</title>\n",
       "<path fill=\"none\" stroke=\"#6b6b6b\" stroke-width=\"0.5\" d=\"M66.57,-172.9C70.09,-179.12 74.06,-186.15 77.57,-192.34\"/>\n",
       "<polygon fill=\"#6b6b6b\" stroke=\"#6b6b6b\" stroke-width=\"0.5\" points=\"67.65,-172.68 65.25,-170.58 65.82,-173.71 67.65,-172.68\"/>\n",
       "</g>\n",
       "<!-- node140644578032944 -->\n",
       "<g id=\"node21\" class=\"node\">\n",
       "<title>node140644578032944</title>\n",
       "<polygon fill=\"#a8e1b0\" fill-opacity=\"0.501961\" stroke=\"black\" stroke-width=\"0\" points=\"155.5,-118 116.5,-118 116.5,-88 155.5,-88 155.5,-118\"/>\n",
       "<text text-anchor=\"start\" x=\"132\" y=\"-109.4\" font-family=\"Consolas\" font-size=\"12.00\" fill=\"#444443\">*</text>\n",
       "<text text-anchor=\"start\" x=\"120.5\" y=\"-99.8\" font-family=\"Arial\" font-size=\"9.00\" fill=\"#444443\">784x10</text>\n",
       "<text text-anchor=\"start\" x=\"116.5\" y=\"-90.8\" font-family=\"Arial\" font-size=\"9.00\" fill=\"#444443\">&lt;float32&gt;</text>\n",
       "</g>\n",
       "<!-- node140644578032944&#45;&gt;leaf140644578028480 -->\n",
       "<g id=\"edge24\" class=\"edge\">\n",
       "<title>node140644578032944&#45;&gt;leaf140644578028480</title>\n",
       "<path fill=\"none\" stroke=\"#6b6b6b\" stroke-width=\"0.5\" d=\"M136,-121C136,-140.6 136,-172.61 136,-192.14\"/>\n",
       "<polygon fill=\"#6b6b6b\" stroke=\"#6b6b6b\" stroke-width=\"0.5\" points=\"137.05,-121.48 136,-118.48 134.95,-121.48 137.05,-121.48\"/>\n",
       "</g>\n",
       "<!-- node140644578032944&#45;&gt;node140644576902640 -->\n",
       "<g id=\"edge23\" class=\"edge\">\n",
       "<title>node140644578032944&#45;&gt;node140644576902640</title>\n",
       "<path fill=\"none\" stroke=\"#6b6b6b\" stroke-width=\"0.5\" d=\"M113.95,-117.96C102.19,-125.4 87.84,-134.48 76.5,-141.66\"/>\n",
       "<polygon fill=\"#6b6b6b\" stroke=\"#6b6b6b\" stroke-width=\"0.5\" points=\"114.26,-119 116.24,-116.51 113.14,-117.23 114.26,-119\"/>\n",
       "</g>\n",
       "<!-- node140644578029824 -->\n",
       "<g id=\"node22\" class=\"node\">\n",
       "<title>node140644578029824</title>\n",
       "<polygon fill=\"none\" stroke=\"black\" stroke-width=\"0\" points=\"184,-66 166,-66 166,-52 184,-52 184,-66\"/>\n",
       "<text text-anchor=\"start\" x=\"171\" y=\"-55.9\" font-family=\"Consolas\" font-size=\"12.00\">.</text>\n",
       "</g>\n",
       "<!-- node140644578029824&#45;&gt;leaf140644578030352 -->\n",
       "<g id=\"edge26\" class=\"edge\">\n",
       "<title>node140644578029824&#45;&gt;leaf140644578030352</title>\n",
       "<path fill=\"none\" stroke=\"#6b6b6b\" stroke-width=\"0.5\" d=\"M175,-69.21C175,-93.72 175,-160.76 175,-192.25\"/>\n",
       "<polygon fill=\"#6b6b6b\" stroke=\"#6b6b6b\" stroke-width=\"0.5\" points=\"176.05,-69.42 175,-66.42 173.95,-69.42 176.05,-69.42\"/>\n",
       "</g>\n",
       "<!-- node140644578029824&#45;&gt;node140644578032944 -->\n",
       "<g id=\"edge25\" class=\"edge\">\n",
       "<title>node140644578029824&#45;&gt;node140644578032944</title>\n",
       "<path fill=\"none\" stroke=\"#6b6b6b\" stroke-width=\"0.5\" d=\"M167.15,-68.46C161.88,-74.12 154.83,-81.72 148.77,-88.25\"/>\n",
       "<polygon fill=\"#6b6b6b\" stroke=\"#6b6b6b\" stroke-width=\"0.5\" points=\"167.79,-69.31 169.06,-66.39 166.25,-67.88 167.79,-69.31\"/>\n",
       "</g>\n",
       "<!-- node140644578029536 -->\n",
       "<g id=\"node23\" class=\"node\">\n",
       "<title>node140644578029536</title>\n",
       "<polygon fill=\"none\" stroke=\"black\" stroke-width=\"0\" points=\"218,-162 200,-162 200,-148 218,-148 218,-162\"/>\n",
       "<text text-anchor=\"start\" x=\"205\" y=\"-151.9\" font-family=\"Consolas\" font-size=\"12.00\">=</text>\n",
       "</g>\n",
       "<!-- node140644578029536&#45;&gt;leaf140644578029728 -->\n",
       "<g id=\"edge27\" class=\"edge\">\n",
       "<title>node140644578029536&#45;&gt;leaf140644578029728</title>\n",
       "<path fill=\"none\" stroke=\"#6b6b6b\" stroke-width=\"0.5\" d=\"M209,-165.05C209,-172.52 209,-183.32 209,-192.34\"/>\n",
       "<polygon fill=\"#6b6b6b\" stroke=\"#6b6b6b\" stroke-width=\"0.5\" points=\"210.05,-165.43 209,-162.43 207.95,-165.43 210.05,-165.43\"/>\n",
       "</g>\n",
       "<!-- node140644578029536&#45;&gt;leaf140644578030400 -->\n",
       "<g id=\"edge28\" class=\"edge\">\n",
       "<title>node140644578029536&#45;&gt;leaf140644578030400</title>\n",
       "<path fill=\"none\" stroke=\"#6b6b6b\" stroke-width=\"0.5\" d=\"M216.59,-164.63C222.58,-171.68 230.91,-182.08 237,-192 238.5,-194.45 239.92,-197.22 241.13,-199.81\"/>\n",
       "<polygon fill=\"#6b6b6b\" stroke=\"#6b6b6b\" stroke-width=\"0.5\" points=\"217.43,-163.99 214.68,-162.39 215.83,-165.35 217.43,-163.99\"/>\n",
       "</g>\n",
       "<!-- node140644578029920 -->\n",
       "<g id=\"node24\" class=\"node\">\n",
       "<title>node140644578029920</title>\n",
       "<polygon fill=\"#a8e1b0\" fill-opacity=\"0.501961\" stroke=\"black\" stroke-width=\"0\" points=\"199.5,-30 160.5,-30 160.5,0 199.5,0 199.5,-30\"/>\n",
       "<text text-anchor=\"start\" x=\"161\" y=\"-21.4\" font-family=\"Consolas\" font-size=\"12.00\" fill=\"#444443\">sum()</text>\n",
       "<text text-anchor=\"start\" x=\"174.5\" y=\"-11.8\" font-family=\"Arial\" font-size=\"9.00\" fill=\"#444443\">10</text>\n",
       "<text text-anchor=\"start\" x=\"160.5\" y=\"-2.8\" font-family=\"Arial\" font-size=\"9.00\" fill=\"#444443\">&lt;float32&gt;</text>\n",
       "</g>\n",
       "<!-- node140644578029920&#45;&gt;node140644578029824 -->\n",
       "<g id=\"edge29\" class=\"edge\">\n",
       "<title>node140644578029920&#45;&gt;node140644578029824</title>\n",
       "<path fill=\"none\" stroke=\"#6b6b6b\" stroke-width=\"0.5\" d=\"M177.93,-33.43C177.12,-40.18 176.26,-47.43 175.68,-52.29\"/>\n",
       "<polygon fill=\"#6b6b6b\" stroke=\"#6b6b6b\" stroke-width=\"0.5\" points=\"178.96,-33.61 178.27,-30.5 176.88,-33.36 178.96,-33.61\"/>\n",
       "</g>\n",
       "<!-- node140644578029920&#45;&gt;node140644578029536 -->\n",
       "<g id=\"edge30\" class=\"edge\">\n",
       "<title>node140644578029920&#45;&gt;node140644578029536</title>\n",
       "<path fill=\"none\" stroke=\"#6b6b6b\" stroke-width=\"0.5\" d=\"M183.71,-33.63C190.26,-64.83 203.6,-128.33 207.75,-148.03\"/>\n",
       "<polygon fill=\"#6b6b6b\" stroke=\"#6b6b6b\" stroke-width=\"0.5\" points=\"184.74,-33.45 183.1,-30.73 182.69,-33.88 184.74,-33.45\"/>\n",
       "</g>\n",
       "</g>\n",
       "</svg>\n"
      ],
      "text/plain": [
       "<tsensor.viz.QuietGraphvizWrapper at 0x7fea5e1cf070>"
      ]
     },
     "execution_count": 230,
     "metadata": {},
     "output_type": "execute_result"
    }
   ],
   "source": [
    "tsensor.astviz(\"(m1[0,:, None] * m2).sum(dim=0)\")"
   ]
  },
  {
   "cell_type": "code",
   "execution_count": 211,
   "id": "172ea002",
   "metadata": {},
   "outputs": [
    {
     "data": {
      "text/plain": [
       "tensor([[-0., 0., -0.,  ..., 0., -0., -0.],\n",
       "        [0., 0., -0.,  ..., -0., 0., -0.],\n",
       "        [0., -0., 0.,  ..., -0., -0., 0.],\n",
       "        ...,\n",
       "        [0., -0., 0.,  ..., -0., 0., 0.],\n",
       "        [-0., -0., 0.,  ..., 0., 0., -0.],\n",
       "        [0., 0., 0.,  ..., -0., -0., 0.]])"
      ]
     },
     "execution_count": 211,
     "metadata": {},
     "output_type": "execute_result"
    }
   ],
   "source": [
    "m1[i,:, None] * m2"
   ]
  },
  {
   "cell_type": "code",
   "execution_count": 190,
   "id": "cf048315",
   "metadata": {},
   "outputs": [
    {
     "name": "stdout",
     "output_type": "stream",
     "text": [
      "A Rows: 5\n",
      "C Shape: torch.Size([5, 10])\n"
     ]
    },
    {
     "data": {
      "text/plain": [
       "torch.Size([5, 10])"
      ]
     },
     "execution_count": 190,
     "metadata": {},
     "output_type": "execute_result"
    }
   ],
   "source": [
    "matmul(m1, m2).shape"
   ]
  },
  {
   "cell_type": "code",
   "execution_count": 251,
   "id": "513d728a",
   "metadata": {},
   "outputs": [],
   "source": [
    "def matmul(m1, m2):\n",
    "    (ar, ac), (br, bc) = m1.shape, m2.shape\n",
    "    c = torch.zeros(ar, bc)\n",
    "    # print(f\"A Rows: {ar}\")\n",
    "    # print(f\"C Shape: {c.shape}\")\n",
    "    for i in range(ar):\n",
    "        c[i] = (m1[i,:, None] * m2).sum(dim=0)\n",
    "        # print(f\"row {i}\")\n",
    "        # with tsensor.explain():\n",
    "        #     c[i] = (m1[i,:, None] * m2).sum(dim=0)            \n",
    "    return c"
   ]
  },
  {
   "cell_type": "code",
   "execution_count": 252,
   "id": "26de0f4d",
   "metadata": {},
   "outputs": [],
   "source": [
    "test_close(t1, matmul(m1, m2))"
   ]
  },
  {
   "cell_type": "code",
   "execution_count": 253,
   "id": "6d2eeec1",
   "metadata": {},
   "outputs": [
    {
     "name": "stdout",
     "output_type": "stream",
     "text": [
      "68 µs ± 10.3 µs per loop (mean ± std. dev. of 7 runs, 50 loops each)\n"
     ]
    }
   ],
   "source": [
    "%timeit -n 50 _=matmul(m1, m2)"
   ]
  },
  {
   "cell_type": "code",
   "execution_count": 257,
   "id": "d1b44620",
   "metadata": {},
   "outputs": [],
   "source": [
    "tr = matmul(x_train, w)"
   ]
  },
  {
   "cell_type": "code",
   "execution_count": 258,
   "id": "1b36c6fb",
   "metadata": {},
   "outputs": [
    {
     "name": "stdout",
     "output_type": "stream",
     "text": [
      "CPU times: user 1.46 s, sys: 12.9 ms, total: 1.47 s\n",
      "Wall time: 623 ms\n"
     ]
    }
   ],
   "source": [
    "%time _=matmul(x_train, w)"
   ]
  },
  {
   "attachments": {},
   "cell_type": "markdown",
   "id": "d622d754",
   "metadata": {},
   "source": [
    "## Einstein Summation"
   ]
  },
  {
   "cell_type": "code",
   "execution_count": 260,
   "id": "9ba0a9f1",
   "metadata": {},
   "outputs": [
    {
     "data": {
      "text/plain": [
       "(torch.Size([784, 10]), torch.Size([5, 784]), torch.Size([784, 10]))"
      ]
     },
     "execution_count": 260,
     "metadata": {},
     "output_type": "execute_result"
    }
   ],
   "source": [
    "w.shape, m1.shape, m2.shape"
   ]
  },
  {
   "cell_type": "code",
   "execution_count": 261,
   "id": "62165438",
   "metadata": {},
   "outputs": [],
   "source": [
    "mr = torch.einsum('ik,kj->ikj',m1,m2)"
   ]
  },
  {
   "cell_type": "code",
   "execution_count": 263,
   "id": "f7974250",
   "metadata": {},
   "outputs": [
    {
     "data": {
      "text/plain": [
       "torch.Size([5, 784, 10])"
      ]
     },
     "execution_count": 263,
     "metadata": {},
     "output_type": "execute_result"
    }
   ],
   "source": [
    "mr.shape"
   ]
  },
  {
   "cell_type": "code",
   "execution_count": 268,
   "id": "22107e04",
   "metadata": {},
   "outputs": [
    {
     "data": {
      "text/plain": [
       "tensor([[ 15.0770,   5.9219,  -9.3105, -16.6213,   3.7590, -13.5234,  -0.8179,\n",
       "           6.0461,  -5.9127,   4.0996],\n",
       "        [ 12.1238,   8.1639,  -7.9339,  11.0765,   3.4699, -16.0789,   6.0388,\n",
       "           6.3092,  10.5815,  -4.0340],\n",
       "        [  2.9155,   4.7364,   0.0837,  -6.0591,   8.1037,   0.5639,  -1.8486,\n",
       "          -1.7989,   9.6132,   3.0633],\n",
       "        [ 10.6312,   2.8186,  -2.6437,   2.4454,  13.8741,   0.8767,  -1.7191,\n",
       "           2.5493,  -4.4823,  -1.8833],\n",
       "        [  3.1404,   3.3872, -12.6444,  -7.1171,  -9.1252,   2.7898,  -0.0796,\n",
       "          -1.8457,   7.5512,   2.1222]])"
      ]
     },
     "execution_count": 268,
     "metadata": {},
     "output_type": "execute_result"
    }
   ],
   "source": [
    "mr.sum(1)"
   ]
  },
  {
   "cell_type": "code",
   "execution_count": 271,
   "id": "05166697",
   "metadata": {},
   "outputs": [],
   "source": [
    "ein_m1 = torch.randn(1, 4, 64, 64)\n",
    "ein_m2 = torch.randn(1, 4, 64, 64)"
   ]
  },
  {
   "cell_type": "code",
   "execution_count": 279,
   "id": "c1feac55",
   "metadata": {},
   "outputs": [
    {
     "data": {
      "image/svg+xml": [
       "<svg xmlns:xlink=\"http://www.w3.org/1999/xlink\" xmlns=\"http://www.w3.org/2000/svg\" width=\"191.073606pt\" height=\"44.532489pt\" viewBox=\"0 0 191.073606 44.532489\" version=\"1.1\">\n",
       " <metadata>\n",
       "  <rdf:RDF xmlns:dc=\"http://purl.org/dc/elements/1.1/\" xmlns:cc=\"http://creativecommons.org/ns#\" xmlns:rdf=\"http://www.w3.org/1999/02/22-rdf-syntax-ns#\">\n",
       "   <cc:Work>\n",
       "    <dc:type rdf:resource=\"http://purl.org/dc/dcmitype/StillImage\"/>\n",
       "    <dc:date>2023-05-21T08:18:23.065717</dc:date>\n",
       "    <dc:format>image/svg+xml</dc:format>\n",
       "    <dc:creator>\n",
       "     <cc:Agent>\n",
       "      <dc:title>Matplotlib v3.7.1, https://matplotlib.org/</dc:title>\n",
       "     </cc:Agent>\n",
       "    </dc:creator>\n",
       "   </cc:Work>\n",
       "  </rdf:RDF>\n",
       " </metadata>\n",
       " <defs>\n",
       "  <style type=\"text/css\">*{stroke-linejoin: round; stroke-linecap: butt}</style>\n",
       " </defs>\n",
       " <g id=\"figure_1\">\n",
       "  <g id=\"patch_1\">\n",
       "   <path d=\"M 0 44.532489  L 191.073606 44.532489  L 191.073606 0  L 0 0  z \" style=\"fill: #ffffff\"/>\n",
       "  </g>\n",
       "  <g id=\"axes_1\">\n",
       "   <g id=\"patch_2\">\n",
       "    <path d=\"M 101.68155 27.209091  L 124.53165 27.209091  L 124.53165 22.019907  L 101.68155 22.019907  z \" clip-path=\"url(#pd7e769e935)\" style=\"fill: #a8e1b0; fill-opacity: 0.5; stroke: #808080; stroke-width: 0.7; stroke-linejoin: miter\"/>\n",
       "   </g>\n",
       "   <g id=\"patch_3\">\n",
       "    <path d=\"M 100.00755 28.872291  L 122.85765 28.872291  L 122.85765 23.683107  L 100.00755 23.683107  z \" clip-path=\"url(#pd7e769e935)\" style=\"fill: #a8e1b0; fill-opacity: 0.5; stroke: #808080; stroke-width: 0.7; stroke-linejoin: miter\"/>\n",
       "   </g>\n",
       "   <g id=\"patch_4\">\n",
       "    <path d=\"M 153.91035 27.209091  L 176.76045 27.209091  L 176.76045 22.019907  L 153.91035 22.019907  z \" clip-path=\"url(#pd7e769e935)\" style=\"fill: #a8e1b0; fill-opacity: 0.5; stroke: #808080; stroke-width: 0.7; stroke-linejoin: miter\"/>\n",
       "   </g>\n",
       "   <g id=\"patch_5\">\n",
       "    <path d=\"M 152.23635 28.872291  L 175.08645 28.872291  L 175.08645 23.683107  L 152.23635 23.683107  z \" clip-path=\"url(#pd7e769e935)\" style=\"fill: #a8e1b0; fill-opacity: 0.5; stroke: #808080; stroke-width: 0.7; stroke-linejoin: miter\"/>\n",
       "   </g>\n",
       "   <g id=\"line2d_1\">\n",
       "    <path d=\"M 91.19394 13.762608  L 131.67126 13.762608  \" clip-path=\"url(#pd7e769e935)\" style=\"fill: none; stroke: #c2c2c2; stroke-width: 0.5; stroke-linecap: square\"/>\n",
       "   </g>\n",
       "   <g id=\"line2d_2\">\n",
       "    <path d=\"M 143.42274 13.762608  L 183.90006 13.762608  \" clip-path=\"url(#pd7e769e935)\" style=\"fill: none; stroke: #c2c2c2; stroke-width: 0.5; stroke-linecap: square\"/>\n",
       "   </g>\n",
       "   <g id=\"text_1\">\n",
       "    <!-- t -->\n",
       "    <g style=\"fill: #444443\" transform=\"translate(6.975 9.947031) scale(0.13 -0.13)\">\n",
       "     <defs>\n",
       "      <path id=\"DejaVuSansMono-74\" d=\"M 1919 4494  L 1919 3500  L 3225 3500  L 3225 3053  L 1919 3053  L 1919 1153  Q 1919 766 2066 612  Q 2213 459 2578 459  L 3225 459  L 3225 0  L 2522 0  Q 1875 0 1609 259  Q 1344 519 1344 1153  L 1344 3053  L 409 3053  L 409 3500  L 1344 3500  L 1344 4494  L 1919 4494  z \" transform=\"scale(0.015625)\"/>\n",
       "     </defs>\n",
       "     <use xlink:href=\"#DejaVuSansMono-74\"/>\n",
       "    </g>\n",
       "   </g>\n",
       "   <g id=\"text_2\">\n",
       "    <!-- o -->\n",
       "    <g style=\"fill: #444443\" transform=\"translate(13.5036 9.947031) scale(0.13 -0.13)\">\n",
       "     <defs>\n",
       "      <path id=\"DejaVuSansMono-6f\" d=\"M 1925 3097  Q 1488 3097 1263 2756  Q 1038 2416 1038 1747  Q 1038 1081 1263 739  Q 1488 397 1925 397  Q 2366 397 2591 739  Q 2816 1081 2816 1747  Q 2816 2416 2591 2756  Q 2366 3097 1925 3097  z M 1925 3584  Q 2653 3584 3039 3112  Q 3425 2641 3425 1747  Q 3425 850 3040 379  Q 2656 -91 1925 -91  Q 1197 -91 812 379  Q 428 850 428 1747  Q 428 2641 812 3112  Q 1197 3584 1925 3584  z \" transform=\"scale(0.015625)\"/>\n",
       "     </defs>\n",
       "     <use xlink:href=\"#DejaVuSansMono-6f\"/>\n",
       "    </g>\n",
       "   </g>\n",
       "   <g id=\"text_3\">\n",
       "    <!-- r -->\n",
       "    <g style=\"fill: #444443\" transform=\"translate(20.0322 9.947031) scale(0.13 -0.13)\">\n",
       "     <defs>\n",
       "      <path id=\"DejaVuSansMono-72\" d=\"M 3609 2778  Q 3425 2922 3234 2987  Q 3044 3053 2816 3053  Q 2278 3053 1993 2715  Q 1709 2378 1709 1741  L 1709 0  L 1131 0  L 1131 3500  L 1709 3500  L 1709 2816  Q 1853 3188 2151 3386  Q 2450 3584 2859 3584  Q 3072 3584 3256 3531  Q 3441 3478 3609 3366  L 3609 2778  z \" transform=\"scale(0.015625)\"/>\n",
       "     </defs>\n",
       "     <use xlink:href=\"#DejaVuSansMono-72\"/>\n",
       "    </g>\n",
       "   </g>\n",
       "   <g id=\"text_4\">\n",
       "    <!-- c -->\n",
       "    <g style=\"fill: #444443\" transform=\"translate(26.5608 9.947031) scale(0.13 -0.13)\">\n",
       "     <defs>\n",
       "      <path id=\"DejaVuSansMono-63\" d=\"M 3316 178  Q 3084 44 2839 -23  Q 2594 -91 2338 -91  Q 1525 -91 1067 396  Q 609 884 609 1747  Q 609 2609 1067 3096  Q 1525 3584 2338 3584  Q 2591 3584 2831 3518  Q 3072 3453 3316 3316  L 3316 2713  Q 3088 2916 2858 3006  Q 2628 3097 2338 3097  Q 1797 3097 1506 2747  Q 1216 2397 1216 1747  Q 1216 1100 1508 748  Q 1800 397 2338 397  Q 2638 397 2875 489  Q 3113 581 3316 775  L 3316 178  z \" transform=\"scale(0.015625)\"/>\n",
       "     </defs>\n",
       "     <use xlink:href=\"#DejaVuSansMono-63\"/>\n",
       "    </g>\n",
       "   </g>\n",
       "   <g id=\"text_5\">\n",
       "    <!-- h -->\n",
       "    <g style=\"fill: #444443\" transform=\"translate(33.0894 9.947031) scale(0.13 -0.13)\">\n",
       "     <defs>\n",
       "      <path id=\"DejaVuSansMono-68\" d=\"M 3284 2169  L 3284 0  L 2706 0  L 2706 2169  Q 2706 2641 2540 2862  Q 2375 3084 2022 3084  Q 1619 3084 1401 2798  Q 1184 2513 1184 1978  L 1184 0  L 609 0  L 609 4863  L 1184 4863  L 1184 2975  Q 1338 3275 1600 3429  Q 1863 3584 2222 3584  Q 2756 3584 3020 3232  Q 3284 2881 3284 2169  z \" transform=\"scale(0.015625)\"/>\n",
       "     </defs>\n",
       "     <use xlink:href=\"#DejaVuSansMono-68\"/>\n",
       "    </g>\n",
       "   </g>\n",
       "   <g id=\"text_6\">\n",
       "    <!-- . -->\n",
       "    <g style=\"fill: #444443\" transform=\"translate(39.618 9.947031) scale(0.13 -0.13)\">\n",
       "     <defs>\n",
       "      <path id=\"DejaVuSansMono-2e\" d=\"M 1528 953  L 2316 953  L 2316 0  L 1528 0  L 1528 953  z \" transform=\"scale(0.015625)\"/>\n",
       "     </defs>\n",
       "     <use xlink:href=\"#DejaVuSansMono-2e\"/>\n",
       "    </g>\n",
       "   </g>\n",
       "   <g id=\"text_7\">\n",
       "    <!-- m -->\n",
       "    <g style=\"fill: #444443\" transform=\"translate(46.1466 9.947031) scale(0.13 -0.13)\">\n",
       "     <defs>\n",
       "      <path id=\"DejaVuSansMono-6d\" d=\"M 2113 3144  Q 2219 3369 2383 3476  Q 2547 3584 2778 3584  Q 3200 3584 3373 3257  Q 3547 2931 3547 2028  L 3547 0  L 3022 0  L 3022 2003  Q 3022 2744 2939 2923  Q 2856 3103 2638 3103  Q 2388 3103 2295 2911  Q 2203 2719 2203 2003  L 2203 0  L 1678 0  L 1678 2003  Q 1678 2753 1589 2928  Q 1500 3103 1269 3103  Q 1041 3103 952 2911  Q 863 2719 863 2003  L 863 0  L 341 0  L 341 3500  L 863 3500  L 863 3200  Q 966 3388 1120 3486  Q 1275 3584 1472 3584  Q 1709 3584 1867 3475  Q 2025 3366 2113 3144  z \" transform=\"scale(0.015625)\"/>\n",
       "     </defs>\n",
       "     <use xlink:href=\"#DejaVuSansMono-6d\"/>\n",
       "    </g>\n",
       "   </g>\n",
       "   <g id=\"text_8\">\n",
       "    <!-- a -->\n",
       "    <g style=\"fill: #444443\" transform=\"translate(52.6752 9.947031) scale(0.13 -0.13)\">\n",
       "     <defs>\n",
       "      <path id=\"DejaVuSansMono-61\" d=\"M 2194 1759  L 2003 1759  Q 1500 1759 1245 1582  Q 991 1406 991 1056  Q 991 741 1181 566  Q 1372 391 1709 391  Q 2184 391 2456 720  Q 2728 1050 2731 1631  L 2731 1759  L 2194 1759  z M 3309 1997  L 3309 0  L 2731 0  L 2731 519  Q 2547 206 2267 57  Q 1988 -91 1588 -91  Q 1053 -91 734 211  Q 416 513 416 1019  Q 416 1603 808 1906  Q 1200 2209 1959 2209  L 2731 2209  L 2731 2300  Q 2728 2719 2518 2908  Q 2309 3097 1850 3097  Q 1556 3097 1256 3012  Q 956 2928 672 2766  L 672 3341  Q 991 3463 1283 3523  Q 1575 3584 1850 3584  Q 2284 3584 2592 3456  Q 2900 3328 3091 3072  Q 3209 2916 3259 2686  Q 3309 2456 3309 1997  z \" transform=\"scale(0.015625)\"/>\n",
       "     </defs>\n",
       "     <use xlink:href=\"#DejaVuSansMono-61\"/>\n",
       "    </g>\n",
       "   </g>\n",
       "   <g id=\"text_9\">\n",
       "    <!-- t -->\n",
       "    <g style=\"fill: #444443\" transform=\"translate(59.2038 9.947031) scale(0.13 -0.13)\">\n",
       "     <use xlink:href=\"#DejaVuSansMono-74\"/>\n",
       "    </g>\n",
       "   </g>\n",
       "   <g id=\"text_10\">\n",
       "    <!-- m -->\n",
       "    <g style=\"fill: #444443\" transform=\"translate(65.7324 9.947031) scale(0.13 -0.13)\">\n",
       "     <use xlink:href=\"#DejaVuSansMono-6d\"/>\n",
       "    </g>\n",
       "   </g>\n",
       "   <g id=\"text_11\">\n",
       "    <!-- u -->\n",
       "    <g style=\"fill: #444443\" transform=\"translate(72.261 9.947031) scale(0.13 -0.13)\">\n",
       "     <defs>\n",
       "      <path id=\"DejaVuSansMono-75\" d=\"M 609 1325  L 609 3494  L 1184 3494  L 1184 1325  Q 1184 853 1351 631  Q 1519 409 1869 409  Q 2275 409 2490 695  Q 2706 981 2706 1516  L 2706 3494  L 3284 3494  L 3284 0  L 2706 0  L 2706 525  Q 2553 222 2289 65  Q 2025 -91 1672 -91  Q 1134 -91 871 261  Q 609 613 609 1325  z \" transform=\"scale(0.015625)\"/>\n",
       "     </defs>\n",
       "     <use xlink:href=\"#DejaVuSansMono-75\"/>\n",
       "    </g>\n",
       "   </g>\n",
       "   <g id=\"text_12\">\n",
       "    <!-- l -->\n",
       "    <g style=\"fill: #444443\" transform=\"translate(78.7896 9.947031) scale(0.13 -0.13)\">\n",
       "     <defs>\n",
       "      <path id=\"DejaVuSansMono-6c\" d=\"M 1997 1269  Q 1997 881 2139 684  Q 2281 488 2559 488  L 3231 488  L 3231 0  L 2503 0  Q 1988 0 1705 331  Q 1422 663 1422 1269  L 1422 4447  L 500 4447  L 500 4897  L 1997 4897  L 1997 1269  z \" transform=\"scale(0.015625)\"/>\n",
       "     </defs>\n",
       "     <use xlink:href=\"#DejaVuSansMono-6c\"/>\n",
       "    </g>\n",
       "   </g>\n",
       "   <g id=\"text_13\">\n",
       "    <!-- ( -->\n",
       "    <g style=\"fill: #444443\" transform=\"translate(85.3182 9.947031) scale(0.13 -0.13)\">\n",
       "     <defs>\n",
       "      <path id=\"DejaVuSansMono-28\" d=\"M 2766 4856  Q 2350 4144 2145 3436  Q 1941 2728 1941 2009  Q 1941 1294 2145 584  Q 2350 -125 2766 -844  L 2266 -844  Q 1794 -100 1562 604  Q 1331 1309 1331 2009  Q 1331 2706 1562 3412  Q 1794 4119 2266 4856  L 2766 4856  z \" transform=\"scale(0.015625)\"/>\n",
       "     </defs>\n",
       "     <use xlink:href=\"#DejaVuSansMono-28\"/>\n",
       "    </g>\n",
       "   </g>\n",
       "   <g id=\"text_14\">\n",
       "    <!-- e -->\n",
       "    <g style=\"fill: #444443\" transform=\"translate(91.8468 9.947031) scale(0.13 -0.13)\">\n",
       "     <defs>\n",
       "      <path id=\"DejaVuSansMono-65\" d=\"M 3475 1894  L 3475 1613  L 984 1613  L 984 1594  Q 984 1022 1282 709  Q 1581 397 2125 397  Q 2400 397 2700 484  Q 3000 572 3341 750  L 3341 178  Q 3013 44 2708 -23  Q 2403 -91 2119 -91  Q 1303 -91 843 398  Q 384 888 384 1747  Q 384 2584 834 3084  Q 1284 3584 2034 3584  Q 2703 3584 3089 3131  Q 3475 2678 3475 1894  z M 2900 2063  Q 2888 2569 2661 2833  Q 2434 3097 2009 3097  Q 1594 3097 1325 2822  Q 1056 2547 1006 2059  L 2900 2063  z \" transform=\"scale(0.015625)\"/>\n",
       "     </defs>\n",
       "     <use xlink:href=\"#DejaVuSansMono-65\"/>\n",
       "    </g>\n",
       "   </g>\n",
       "   <g id=\"text_15\">\n",
       "    <!-- i -->\n",
       "    <g style=\"fill: #444443\" transform=\"translate(98.3754 9.947031) scale(0.13 -0.13)\">\n",
       "     <defs>\n",
       "      <path id=\"DejaVuSansMono-69\" d=\"M 800 3500  L 2272 3500  L 2272 447  L 3413 447  L 3413 0  L 556 0  L 556 447  L 1697 447  L 1697 3053  L 800 3053  L 800 3500  z M 1697 4863  L 2272 4863  L 2272 4134  L 1697 4134  L 1697 4863  z \" transform=\"scale(0.015625)\"/>\n",
       "     </defs>\n",
       "     <use xlink:href=\"#DejaVuSansMono-69\"/>\n",
       "    </g>\n",
       "   </g>\n",
       "   <g id=\"text_16\">\n",
       "    <!-- n -->\n",
       "    <g style=\"fill: #444443\" transform=\"translate(104.904 9.947031) scale(0.13 -0.13)\">\n",
       "     <defs>\n",
       "      <path id=\"DejaVuSansMono-6e\" d=\"M 3284 2169  L 3284 0  L 2706 0  L 2706 2169  Q 2706 2641 2540 2862  Q 2375 3084 2022 3084  Q 1619 3084 1401 2798  Q 1184 2513 1184 1978  L 1184 0  L 609 0  L 609 3500  L 1184 3500  L 1184 2975  Q 1338 3275 1600 3429  Q 1863 3584 2222 3584  Q 2756 3584 3020 3232  Q 3284 2881 3284 2169  z \" transform=\"scale(0.015625)\"/>\n",
       "     </defs>\n",
       "     <use xlink:href=\"#DejaVuSansMono-6e\"/>\n",
       "    </g>\n",
       "   </g>\n",
       "   <g id=\"text_17\">\n",
       "    <!-- _ -->\n",
       "    <g style=\"fill: #444443\" transform=\"translate(111.4326 9.947031) scale(0.13 -0.13)\">\n",
       "     <defs>\n",
       "      <path id=\"DejaVuSansMono-5f\" d=\"M 3853 -1259  L 3853 -1509  L 0 -1509  L 0 -1259  L 3853 -1259  z \" transform=\"scale(0.015625)\"/>\n",
       "     </defs>\n",
       "     <use xlink:href=\"#DejaVuSansMono-5f\"/>\n",
       "    </g>\n",
       "   </g>\n",
       "   <g id=\"text_18\">\n",
       "    <!-- m -->\n",
       "    <g style=\"fill: #444443\" transform=\"translate(117.9612 9.947031) scale(0.13 -0.13)\">\n",
       "     <use xlink:href=\"#DejaVuSansMono-6d\"/>\n",
       "    </g>\n",
       "   </g>\n",
       "   <g id=\"text_19\">\n",
       "    <!-- 1 -->\n",
       "    <g style=\"fill: #444443\" transform=\"translate(124.4898 9.947031) scale(0.13 -0.13)\">\n",
       "     <defs>\n",
       "      <path id=\"DejaVuSansMono-31\" d=\"M 844 531  L 1825 531  L 1825 4097  L 769 3859  L 769 4434  L 1819 4666  L 2450 4666  L 2450 531  L 3419 531  L 3419 0  L 844 0  L 844 531  z \" transform=\"scale(0.015625)\"/>\n",
       "     </defs>\n",
       "     <use xlink:href=\"#DejaVuSansMono-31\"/>\n",
       "    </g>\n",
       "   </g>\n",
       "   <g id=\"text_20\">\n",
       "    <!-- , -->\n",
       "    <g style=\"fill: #444443\" transform=\"translate(131.0184 9.947031) scale(0.13 -0.13)\">\n",
       "     <defs>\n",
       "      <path id=\"DejaVuSansMono-2c\" d=\"M 1569 947  L 2356 947  L 2356 300  L 1741 -897  L 1259 -897  L 1569 300  L 1569 947  z \" transform=\"scale(0.015625)\"/>\n",
       "     </defs>\n",
       "     <use xlink:href=\"#DejaVuSansMono-2c\"/>\n",
       "    </g>\n",
       "   </g>\n",
       "   <g id=\"text_21\">\n",
       "    <!--   -->\n",
       "    <g style=\"fill: #444443\" transform=\"translate(137.547 9.947031) scale(0.13 -0.13)\">\n",
       "     <defs>\n",
       "      <path id=\"DejaVuSansMono-20\" transform=\"scale(0.015625)\"/>\n",
       "     </defs>\n",
       "     <use xlink:href=\"#DejaVuSansMono-20\"/>\n",
       "    </g>\n",
       "   </g>\n",
       "   <g id=\"text_22\">\n",
       "    <!-- e -->\n",
       "    <g style=\"fill: #444443\" transform=\"translate(144.0756 9.947031) scale(0.13 -0.13)\">\n",
       "     <use xlink:href=\"#DejaVuSansMono-65\"/>\n",
       "    </g>\n",
       "   </g>\n",
       "   <g id=\"text_23\">\n",
       "    <!-- i -->\n",
       "    <g style=\"fill: #444443\" transform=\"translate(150.6042 9.947031) scale(0.13 -0.13)\">\n",
       "     <use xlink:href=\"#DejaVuSansMono-69\"/>\n",
       "    </g>\n",
       "   </g>\n",
       "   <g id=\"text_24\">\n",
       "    <!-- n -->\n",
       "    <g style=\"fill: #444443\" transform=\"translate(157.1328 9.947031) scale(0.13 -0.13)\">\n",
       "     <use xlink:href=\"#DejaVuSansMono-6e\"/>\n",
       "    </g>\n",
       "   </g>\n",
       "   <g id=\"text_25\">\n",
       "    <!-- _ -->\n",
       "    <g style=\"fill: #444443\" transform=\"translate(163.6614 9.947031) scale(0.13 -0.13)\">\n",
       "     <use xlink:href=\"#DejaVuSansMono-5f\"/>\n",
       "    </g>\n",
       "   </g>\n",
       "   <g id=\"text_26\">\n",
       "    <!-- m -->\n",
       "    <g style=\"fill: #444443\" transform=\"translate(170.19 9.947031) scale(0.13 -0.13)\">\n",
       "     <use xlink:href=\"#DejaVuSansMono-6d\"/>\n",
       "    </g>\n",
       "   </g>\n",
       "   <g id=\"text_27\">\n",
       "    <!-- 2 -->\n",
       "    <g style=\"fill: #444443\" transform=\"translate(176.7186 9.947031) scale(0.13 -0.13)\">\n",
       "     <defs>\n",
       "      <path id=\"DejaVuSansMono-32\" d=\"M 1166 531  L 3309 531  L 3309 0  L 475 0  L 475 531  Q 1059 1147 1496 1619  Q 1934 2091 2100 2284  Q 2413 2666 2522 2902  Q 2631 3138 2631 3384  Q 2631 3775 2401 3997  Q 2172 4219 1772 4219  Q 1488 4219 1175 4116  Q 863 4013 513 3803  L 513 4441  Q 834 4594 1145 4672  Q 1456 4750 1759 4750  Q 2444 4750 2861 4386  Q 3278 4022 3278 3431  Q 3278 3131 3139 2831  Q 3000 2531 2688 2169  Q 2513 1966 2180 1606  Q 1847 1247 1166 531  z \" transform=\"scale(0.015625)\"/>\n",
       "     </defs>\n",
       "     <use xlink:href=\"#DejaVuSansMono-32\"/>\n",
       "    </g>\n",
       "   </g>\n",
       "   <g id=\"text_28\">\n",
       "    <!-- ) -->\n",
       "    <g style=\"fill: #444443\" transform=\"translate(183.2472 9.947031) scale(0.13 -0.13)\">\n",
       "     <defs>\n",
       "      <path id=\"DejaVuSansMono-29\" d=\"M 1088 4856  L 1588 4856  Q 2059 4119 2290 3412  Q 2522 2706 2522 2009  Q 2522 1306 2290 600  Q 2059 -106 1588 -844  L 1088 -844  Q 1503 -119 1708 590  Q 1913 1300 1913 2009  Q 1913 2722 1708 3431  Q 1503 4141 1088 4856  z \" transform=\"scale(0.015625)\"/>\n",
       "     </defs>\n",
       "     <use xlink:href=\"#DejaVuSansMono-29\"/>\n",
       "    </g>\n",
       "   </g>\n",
       "   <g id=\"text_29\">\n",
       "    <!-- 1 -->\n",
       "    <g transform=\"translate(98.2188 28.78012) rotate(-90) scale(0.09 -0.09)\">\n",
       "     <defs>\n",
       "      <path id=\"ArialMT-31\" d=\"M 2384 0  L 1822 0  L 1822 3584  Q 1619 3391 1289 3197  Q 959 3003 697 2906  L 697 3450  Q 1169 3672 1522 3987  Q 1875 4303 2022 4600  L 2384 4600  L 2384 0  z \" transform=\"scale(0.015625)\"/>\n",
       "     </defs>\n",
       "     <use xlink:href=\"#ArialMT-31\"/>\n",
       "    </g>\n",
       "   </g>\n",
       "   <g id=\"text_30\">\n",
       "    <!-- 4 -->\n",
       "    <g transform=\"translate(110.604178 20.911107) scale(0.09 -0.09)\">\n",
       "     <defs>\n",
       "      <path id=\"ArialMT-34\" d=\"M 2069 0  L 2069 1097  L 81 1097  L 81 1613  L 2172 4581  L 2631 4581  L 2631 1613  L 3250 1613  L 3250 1097  L 2631 1097  L 2631 0  L 2069 0  z M 2069 1613  L 2069 3678  L 634 1613  L 2069 1613  z \" transform=\"scale(0.015625)\"/>\n",
       "     </defs>\n",
       "     <use xlink:href=\"#ArialMT-34\"/>\n",
       "    </g>\n",
       "   </g>\n",
       "   <g id=\"text_31\">\n",
       "    <!-- 64 -->\n",
       "    <g transform=\"translate(120.963874 31.461841) rotate(-45) scale(0.09 -0.09)\">\n",
       "     <defs>\n",
       "      <path id=\"ArialMT-36\" d=\"M 3184 3459  L 2625 3416  Q 2550 3747 2413 3897  Q 2184 4138 1850 4138  Q 1581 4138 1378 3988  Q 1113 3794 959 3422  Q 806 3050 800 2363  Q 1003 2672 1297 2822  Q 1591 2972 1913 2972  Q 2475 2972 2870 2558  Q 3266 2144 3266 1488  Q 3266 1056 3080 686  Q 2894 316 2569 119  Q 2244 -78 1831 -78  Q 1128 -78 684 439  Q 241 956 241 2144  Q 241 3472 731 4075  Q 1159 4600 1884 4600  Q 2425 4600 2770 4297  Q 3116 3994 3184 3459  z M 888 1484  Q 888 1194 1011 928  Q 1134 663 1356 523  Q 1578 384 1822 384  Q 2178 384 2434 671  Q 2691 959 2691 1453  Q 2691 1928 2437 2201  Q 2184 2475 1800 2475  Q 1419 2475 1153 2201  Q 888 1928 888 1484  z \" transform=\"scale(0.015625)\"/>\n",
       "     </defs>\n",
       "     <use xlink:href=\"#ArialMT-36\"/>\n",
       "     <use xlink:href=\"#ArialMT-34\" x=\"55.615234\"/>\n",
       "    </g>\n",
       "   </g>\n",
       "   <g id=\"text_32\">\n",
       "    <!-- $\\cdots\\mathsf{x}$64 -->\n",
       "    <g transform=\"translate(99.2376 36.700322) scale(0.09 -0.09)\">\n",
       "     <defs>\n",
       "      <path id=\"DejaVuSans-22ef\" d=\"M 738 2388  L 1397 2388  L 1397 1594  L 738 1594  L 738 2388  z M 2869 2388  L 3528 2388  L 3528 1594  L 2869 1594  L 2869 2388  z M 5000 2388  L 5659 2388  L 5659 1594  L 5000 1594  L 5000 2388  z \" transform=\"scale(0.015625)\"/>\n",
       "      <path id=\"DejaVuSans-78\" d=\"M 3513 3500  L 2247 1797  L 3578 0  L 2900 0  L 1881 1375  L 863 0  L 184 0  L 1544 1831  L 300 3500  L 978 3500  L 1906 2253  L 2834 3500  L 3513 3500  z \" transform=\"scale(0.015625)\"/>\n",
       "     </defs>\n",
       "     <use xlink:href=\"#DejaVuSans-22ef\" transform=\"translate(0 0.125)\"/>\n",
       "     <use xlink:href=\"#DejaVuSans-78\" transform=\"translate(100 0.125)\"/>\n",
       "     <use xlink:href=\"#ArialMT-36\" transform=\"translate(159.179688 0.125)\"/>\n",
       "     <use xlink:href=\"#ArialMT-34\" transform=\"translate(214.794922 0.125)\"/>\n",
       "    </g>\n",
       "   </g>\n",
       "   <g id=\"text_33\">\n",
       "    <!-- &lt;${\\mathit{float32}}$&gt; -->\n",
       "    <g transform=\"translate(95.0176 43.141239) scale(0.07 -0.07)\">\n",
       "     <defs>\n",
       "      <path id=\"ArialMT-3c\" d=\"M 350 2003  L 350 2528  L 3384 3809  L 3384 3250  L 978 2263  L 3384 1266  L 3384 706  L 350 2003  z \" transform=\"scale(0.015625)\"/>\n",
       "      <path id=\"DejaVuSans-Oblique-66\" d=\"M 3059 4863  L 2969 4384  L 2419 4384  Q 2106 4384 1964 4261  Q 1822 4138 1753 3809  L 1691 3500  L 2638 3500  L 2553 3053  L 1606 3053  L 1013 0  L 434 0  L 1031 3053  L 481 3053  L 563 3500  L 1113 3500  L 1159 3744  Q 1278 4363 1576 4613  Q 1875 4863 2516 4863  L 3059 4863  z \" transform=\"scale(0.015625)\"/>\n",
       "      <path id=\"DejaVuSans-Oblique-6c\" d=\"M 1172 4863  L 1747 4863  L 800 0  L 225 0  L 1172 4863  z \" transform=\"scale(0.015625)\"/>\n",
       "      <path id=\"DejaVuSans-Oblique-6f\" d=\"M 1625 -91  Q 1009 -91 651 289  Q 294 669 294 1325  Q 294 1706 417 2101  Q 541 2497 738 2766  Q 1047 3184 1428 3384  Q 1809 3584 2291 3584  Q 2888 3584 3255 3212  Q 3622 2841 3622 2241  Q 3622 1825 3500 1412  Q 3378 1000 3181 728  Q 2875 309 2494 109  Q 2113 -91 1625 -91  z M 891 1344  Q 891 869 1089 633  Q 1288 397 1691 397  Q 2269 397 2648 901  Q 3028 1406 3028 2181  Q 3028 2634 2825 2865  Q 2622 3097 2228 3097  Q 1903 3097 1650 2945  Q 1397 2794 1197 2484  Q 1050 2253 970 1956  Q 891 1659 891 1344  z \" transform=\"scale(0.015625)\"/>\n",
       "      <path id=\"DejaVuSans-Oblique-61\" d=\"M 3438 1997  L 3047 0  L 2472 0  L 2578 531  Q 2325 219 2001 64  Q 1678 -91 1281 -91  Q 834 -91 548 182  Q 263 456 263 884  Q 263 1497 752 1853  Q 1241 2209 2100 2209  L 2900 2209  L 2931 2363  Q 2938 2388 2941 2417  Q 2944 2447 2944 2509  Q 2944 2788 2717 2942  Q 2491 3097 2081 3097  Q 1800 3097 1504 3025  Q 1209 2953 897 2809  L 997 3341  Q 1322 3463 1633 3523  Q 1944 3584 2234 3584  Q 2853 3584 3176 3315  Q 3500 3047 3500 2534  Q 3500 2431 3484 2292  Q 3469 2153 3438 1997  z M 2816 1759  L 2241 1759  Q 1534 1759 1195 1570  Q 856 1381 856 984  Q 856 709 1029 553  Q 1203 397 1509 397  Q 1978 397 2328 733  Q 2678 1069 2791 1631  L 2816 1759  z \" transform=\"scale(0.015625)\"/>\n",
       "      <path id=\"DejaVuSans-Oblique-74\" d=\"M 2706 3500  L 2619 3053  L 1472 3053  L 1100 1153  Q 1081 1047 1072 975  Q 1063 903 1063 863  Q 1063 663 1183 572  Q 1303 481 1569 481  L 2150 481  L 2053 0  L 1503 0  Q 991 0 739 200  Q 488 400 488 806  Q 488 878 497 964  Q 506 1050 525 1153  L 897 3053  L 409 3053  L 500 3500  L 978 3500  L 1172 4494  L 1747 4494  L 1556 3500  L 2706 3500  z \" transform=\"scale(0.015625)\"/>\n",
       "      <path id=\"DejaVuSans-33\" d=\"M 2597 2516  Q 3050 2419 3304 2112  Q 3559 1806 3559 1356  Q 3559 666 3084 287  Q 2609 -91 1734 -91  Q 1441 -91 1130 -33  Q 819 25 488 141  L 488 750  Q 750 597 1062 519  Q 1375 441 1716 441  Q 2309 441 2620 675  Q 2931 909 2931 1356  Q 2931 1769 2642 2001  Q 2353 2234 1838 2234  L 1294 2234  L 1294 2753  L 1863 2753  Q 2328 2753 2575 2939  Q 2822 3125 2822 3475  Q 2822 3834 2567 4026  Q 2313 4219 1838 4219  Q 1578 4219 1281 4162  Q 984 4106 628 3988  L 628 4550  Q 988 4650 1302 4700  Q 1616 4750 1894 4750  Q 2613 4750 3031 4423  Q 3450 4097 3450 3541  Q 3450 3153 3228 2886  Q 3006 2619 2597 2516  z \" transform=\"scale(0.015625)\"/>\n",
       "      <path id=\"DejaVuSans-32\" d=\"M 1228 531  L 3431 531  L 3431 0  L 469 0  L 469 531  Q 828 903 1448 1529  Q 2069 2156 2228 2338  Q 2531 2678 2651 2914  Q 2772 3150 2772 3378  Q 2772 3750 2511 3984  Q 2250 4219 1831 4219  Q 1534 4219 1204 4116  Q 875 4013 500 3803  L 500 4441  Q 881 4594 1212 4672  Q 1544 4750 1819 4750  Q 2544 4750 2975 4387  Q 3406 4025 3406 3419  Q 3406 3131 3298 2873  Q 3191 2616 2906 2266  Q 2828 2175 2409 1742  Q 1991 1309 1228 531  z \" transform=\"scale(0.015625)\"/>\n",
       "      <path id=\"ArialMT-3e\" d=\"M 3384 2003  L 350 706  L 350 1266  L 2753 2263  L 350 3250  L 350 3809  L 3384 2528  L 3384 2003  z \" transform=\"scale(0.015625)\"/>\n",
       "     </defs>\n",
       "     <use xlink:href=\"#ArialMT-3c\" transform=\"translate(0 0.015625)\"/>\n",
       "     <use xlink:href=\"#DejaVuSans-Oblique-66\" transform=\"translate(58.398438 0.015625)\"/>\n",
       "     <use xlink:href=\"#DejaVuSans-Oblique-6c\" transform=\"translate(93.603516 0.015625)\"/>\n",
       "     <use xlink:href=\"#DejaVuSans-Oblique-6f\" transform=\"translate(121.386719 0.015625)\"/>\n",
       "     <use xlink:href=\"#DejaVuSans-Oblique-61\" transform=\"translate(182.568359 0.015625)\"/>\n",
       "     <use xlink:href=\"#DejaVuSans-Oblique-74\" transform=\"translate(243.847656 0.015625)\"/>\n",
       "     <use xlink:href=\"#DejaVuSans-33\" transform=\"translate(283.056641 0.015625)\"/>\n",
       "     <use xlink:href=\"#DejaVuSans-32\" transform=\"translate(346.679688 0.015625)\"/>\n",
       "     <use xlink:href=\"#ArialMT-3e\" transform=\"translate(410.302734 0.015625)\"/>\n",
       "    </g>\n",
       "   </g>\n",
       "   <g id=\"text_34\">\n",
       "    <!-- 1 -->\n",
       "    <g transform=\"translate(150.4476 28.78012) rotate(-90) scale(0.09 -0.09)\">\n",
       "     <use xlink:href=\"#ArialMT-31\"/>\n",
       "    </g>\n",
       "   </g>\n",
       "   <g id=\"text_35\">\n",
       "    <!-- 4 -->\n",
       "    <g transform=\"translate(162.832978 20.911107) scale(0.09 -0.09)\">\n",
       "     <use xlink:href=\"#ArialMT-34\"/>\n",
       "    </g>\n",
       "   </g>\n",
       "   <g id=\"text_36\">\n",
       "    <!-- 64 -->\n",
       "    <g transform=\"translate(173.192674 31.461841) rotate(-45) scale(0.09 -0.09)\">\n",
       "     <use xlink:href=\"#ArialMT-36\"/>\n",
       "     <use xlink:href=\"#ArialMT-34\" x=\"55.615234\"/>\n",
       "    </g>\n",
       "   </g>\n",
       "   <g id=\"text_37\">\n",
       "    <!-- $\\cdots\\mathsf{x}$64 -->\n",
       "    <g transform=\"translate(151.4664 36.700322) scale(0.09 -0.09)\">\n",
       "     <use xlink:href=\"#DejaVuSans-22ef\" transform=\"translate(0 0.125)\"/>\n",
       "     <use xlink:href=\"#DejaVuSans-78\" transform=\"translate(100 0.125)\"/>\n",
       "     <use xlink:href=\"#ArialMT-36\" transform=\"translate(159.179688 0.125)\"/>\n",
       "     <use xlink:href=\"#ArialMT-34\" transform=\"translate(214.794922 0.125)\"/>\n",
       "    </g>\n",
       "   </g>\n",
       "   <g id=\"text_38\">\n",
       "    <!-- &lt;${\\mathit{float32}}$&gt; -->\n",
       "    <g transform=\"translate(147.2464 43.141239) scale(0.07 -0.07)\">\n",
       "     <use xlink:href=\"#ArialMT-3c\" transform=\"translate(0 0.015625)\"/>\n",
       "     <use xlink:href=\"#DejaVuSans-Oblique-66\" transform=\"translate(58.398438 0.015625)\"/>\n",
       "     <use xlink:href=\"#DejaVuSans-Oblique-6c\" transform=\"translate(93.603516 0.015625)\"/>\n",
       "     <use xlink:href=\"#DejaVuSans-Oblique-6f\" transform=\"translate(121.386719 0.015625)\"/>\n",
       "     <use xlink:href=\"#DejaVuSans-Oblique-61\" transform=\"translate(182.568359 0.015625)\"/>\n",
       "     <use xlink:href=\"#DejaVuSans-Oblique-74\" transform=\"translate(243.847656 0.015625)\"/>\n",
       "     <use xlink:href=\"#DejaVuSans-33\" transform=\"translate(283.056641 0.015625)\"/>\n",
       "     <use xlink:href=\"#DejaVuSans-32\" transform=\"translate(346.679688 0.015625)\"/>\n",
       "     <use xlink:href=\"#ArialMT-3e\" transform=\"translate(410.302734 0.015625)\"/>\n",
       "    </g>\n",
       "   </g>\n",
       "  </g>\n",
       " </g>\n",
       " <defs>\n",
       "  <clipPath id=\"pd7e769e935\">\n",
       "   <rect x=\"0\" y=\"4.901991\" width=\"189.7758\" height=\"24.801899\"/>\n",
       "  </clipPath>\n",
       " </defs>\n",
       "</svg>"
      ],
      "text/plain": [
       "<IPython.core.display.SVG object>"
      ]
     },
     "metadata": {},
     "output_type": "display_data"
    }
   ],
   "source": [
    "with tsensor.explain():\n",
    "    torch.matmul(ein_m1, ein_m2)"
   ]
  },
  {
   "cell_type": "code",
   "execution_count": 288,
   "id": "fd215dea",
   "metadata": {},
   "outputs": [],
   "source": [
    "torch.set_printoptions(precision=2, linewidth=140, sci_mode=False)"
   ]
  },
  {
   "cell_type": "code",
   "execution_count": 283,
   "id": "3d005e51",
   "metadata": {},
   "outputs": [
    {
     "data": {
      "text/plain": [
       "(torch.Size([5, 784]), torch.Size([784, 10]))"
      ]
     },
     "execution_count": 283,
     "metadata": {},
     "output_type": "execute_result"
    }
   ],
   "source": [
    "m1.shape, m2.shape"
   ]
  },
  {
   "cell_type": "code",
   "execution_count": 289,
   "id": "fb01192b",
   "metadata": {},
   "outputs": [
    {
     "data": {
      "text/plain": [
       "tensor([[ 15.08,   5.92,  -9.31, -16.62,   3.76, -13.52,  -0.82,   6.05,  -5.91,   4.10],\n",
       "        [ 12.12,   8.16,  -7.93,  11.08,   3.47, -16.08,   6.04,   6.31,  10.58,  -4.03],\n",
       "        [  2.92,   4.74,   0.08,  -6.06,   8.10,   0.56,  -1.85,  -1.80,   9.61,   3.06],\n",
       "        [ 10.63,   2.82,  -2.64,   2.45,  13.87,   0.88,  -1.72,   2.55,  -4.48,  -1.88],\n",
       "        [  3.14,   3.39, -12.64,  -7.12,  -9.13,   2.79,  -0.08,  -1.85,   7.55,   2.12]])"
      ]
     },
     "execution_count": 289,
     "metadata": {},
     "output_type": "execute_result"
    }
   ],
   "source": [
    "torch.einsum('ik, kj -> ij', m1, m2)"
   ]
  },
  {
   "cell_type": "code",
   "execution_count": 285,
   "id": "2d4f9325",
   "metadata": {},
   "outputs": [
    {
     "data": {
      "text/plain": [
       "(torch.Size([1, 4, 64, 64]), torch.Size([1, 4, 64, 64]))"
      ]
     },
     "execution_count": 285,
     "metadata": {},
     "output_type": "execute_result"
    }
   ],
   "source": [
    "ein_m1.shape, ein_m2.shape"
   ]
  },
  {
   "cell_type": "code",
   "execution_count": 292,
   "id": "e99fe098",
   "metadata": {},
   "outputs": [
    {
     "data": {
      "text/plain": [
       "tensor([[[[-13.39,  16.86,  -6.32,  ...,  -4.42,  24.00,   3.94],\n",
       "          [  0.82, -13.95,  -9.62,  ...,   5.42,  -1.51,  -1.75],\n",
       "          [  6.56,   8.27,  14.86,  ..., -16.24,   8.32,   5.11],\n",
       "          ...,\n",
       "          [-14.37,  -3.85,   7.11,  ...,   6.46,  10.83,   8.93],\n",
       "          [ -9.28, -18.29, -13.65,  ...,  -4.85,  11.68,  16.51],\n",
       "          [ -4.25,  -4.25,  10.32,  ...,   0.03,   3.27,   6.17]],\n",
       "\n",
       "         [[  8.03,   8.37,   0.21,  ...,  19.56, -13.51,   0.44],\n",
       "          [ -4.09,  -1.39,   4.86,  ...,   0.89,   6.33,   5.26],\n",
       "          [ 11.68, -10.85,  -4.13,  ...,  12.79, -10.65,  -3.31],\n",
       "          ...,\n",
       "          [  6.35,  -4.50,   6.53,  ...,  -5.34, -12.00,  -9.22],\n",
       "          [  8.73, -14.41,  -1.03,  ...,  -2.55,  -0.69,  11.17],\n",
       "          [ 15.73,  11.47,   3.66,  ...,   0.77,   4.93,   2.62]],\n",
       "\n",
       "         [[ -5.97,  -9.37,  -1.12,  ..., -12.97,   3.10,  -0.34],\n",
       "          [ -1.10,  -0.72,   2.53,  ...,   3.19,   8.59, -17.17],\n",
       "          [  1.82,   7.65,   1.86,  ...,   8.65,  -3.70,  -7.61],\n",
       "          ...,\n",
       "          [  1.98,  16.28,   4.93,  ...,   7.82,   2.44,  -5.47],\n",
       "          [ -6.72,   0.42,   0.08,  ...,   9.50,   8.24, -10.86],\n",
       "          [ -2.17, -18.93,  -5.25,  ...,   0.89,   3.81, -10.10]],\n",
       "\n",
       "         [[ 17.28,  12.87,  -3.59,  ..., -14.64, -11.01,   2.79],\n",
       "          [ -0.49,  -5.75,  11.04,  ...,  14.47,  20.47,  -4.57],\n",
       "          [  1.48,  -2.50,  -2.71,  ...,   2.28, -10.34, -11.10],\n",
       "          ...,\n",
       "          [  1.47,   5.47,  -4.71,  ...,  12.74,  -7.20,   1.27],\n",
       "          [  7.03,   3.06,  -9.32,  ...,  -8.38,  11.22,   0.18],\n",
       "          [  6.87,   9.32,  10.90,  ...,  -4.01,   1.83,   5.46]]]])"
      ]
     },
     "execution_count": 292,
     "metadata": {},
     "output_type": "execute_result"
    }
   ],
   "source": [
    "torch.matmul(ein_m1, ein_m2)"
   ]
  },
  {
   "cell_type": "code",
   "execution_count": 300,
   "id": "2458f1a2",
   "metadata": {},
   "outputs": [
    {
     "data": {
      "text/plain": [
       "tensor([[[[-13.39,  16.86,  -6.32,  ...,  -4.42,  24.00,   3.94],\n",
       "          [  0.82, -13.95,  -9.62,  ...,   5.42,  -1.51,  -1.75],\n",
       "          [  6.56,   8.27,  14.86,  ..., -16.24,   8.32,   5.11],\n",
       "          ...,\n",
       "          [-14.37,  -3.85,   7.11,  ...,   6.46,  10.83,   8.93],\n",
       "          [ -9.28, -18.29, -13.65,  ...,  -4.85,  11.68,  16.51],\n",
       "          [ -4.25,  -4.25,  10.32,  ...,   0.03,   3.27,   6.17]],\n",
       "\n",
       "         [[  8.03,   8.37,   0.21,  ...,  19.56, -13.51,   0.44],\n",
       "          [ -4.09,  -1.39,   4.86,  ...,   0.89,   6.33,   5.26],\n",
       "          [ 11.68, -10.85,  -4.13,  ...,  12.79, -10.65,  -3.31],\n",
       "          ...,\n",
       "          [  6.35,  -4.50,   6.53,  ...,  -5.34, -12.00,  -9.22],\n",
       "          [  8.73, -14.41,  -1.03,  ...,  -2.55,  -0.69,  11.17],\n",
       "          [ 15.73,  11.47,   3.66,  ...,   0.77,   4.93,   2.62]],\n",
       "\n",
       "         [[ -5.97,  -9.37,  -1.12,  ..., -12.97,   3.10,  -0.34],\n",
       "          [ -1.10,  -0.72,   2.53,  ...,   3.19,   8.59, -17.17],\n",
       "          [  1.82,   7.65,   1.86,  ...,   8.65,  -3.70,  -7.61],\n",
       "          ...,\n",
       "          [  1.98,  16.28,   4.93,  ...,   7.82,   2.44,  -5.47],\n",
       "          [ -6.72,   0.42,   0.08,  ...,   9.50,   8.24, -10.86],\n",
       "          [ -2.17, -18.93,  -5.25,  ...,   0.89,   3.81, -10.10]],\n",
       "\n",
       "         [[ 17.28,  12.87,  -3.59,  ..., -14.64, -11.01,   2.79],\n",
       "          [ -0.49,  -5.75,  11.04,  ...,  14.47,  20.47,  -4.57],\n",
       "          [  1.48,  -2.50,  -2.71,  ...,   2.28, -10.34, -11.10],\n",
       "          ...,\n",
       "          [  1.47,   5.47,  -4.71,  ...,  12.74,  -7.20,   1.27],\n",
       "          [  7.03,   3.06,  -9.32,  ...,  -8.38,  11.22,   0.18],\n",
       "          [  6.87,   9.32,  10.90,  ...,  -4.01,   1.83,   5.46]]]])"
      ]
     },
     "execution_count": 300,
     "metadata": {},
     "output_type": "execute_result"
    }
   ],
   "source": [
    "torch.einsum('ijlk, ijkm -> ijlm', ein_m1, ein_m2)"
   ]
  },
  {
   "cell_type": "code",
   "execution_count": 302,
   "id": "4f6e821a",
   "metadata": {},
   "outputs": [
    {
     "data": {
      "text/plain": [
       "tensor([[[[     6.81,     -6.37,    -10.67,  ...,     13.49,    -13.03,      2.34],\n",
       "          [   -10.73,     -6.23,      5.82,  ...,      9.38,     -2.87,      9.16],\n",
       "          [     5.24,     -3.21,     15.01,  ...,    -10.06,     -5.68,     11.22],\n",
       "          ...,\n",
       "          [   -12.64,      5.45,     -7.52,  ...,     -1.28,      8.01,      0.02],\n",
       "          [   -15.25,      6.30,      6.14,  ...,     -6.42,      4.56,     -0.59],\n",
       "          [     7.61,      0.81,      0.73,  ...,      8.35,      2.12,     -3.00]],\n",
       "\n",
       "         [[     0.73,      8.17,     14.53,  ...,     20.64,      4.10,     -5.03],\n",
       "          [     1.99,     -0.01,      4.35,  ...,      3.19,     -3.00,     11.38],\n",
       "          [     5.17,      6.93,     12.96,  ...,     -0.39,      7.71,      1.15],\n",
       "          ...,\n",
       "          [    -1.19,     -6.61,      6.63,  ...,      9.98,     -1.08,      3.98],\n",
       "          [     4.03,      5.77,      7.26,  ...,    -12.62,      7.52,     -2.70],\n",
       "          [     7.23,      9.59,      2.13,  ...,     -1.40,     -7.88,     -2.54]],\n",
       "\n",
       "         [[     0.05,     -3.14,     11.52,  ...,     -2.10,      8.27,     -4.34],\n",
       "          [    -0.57,      5.72,      0.79,  ...,     -2.70,     -7.78,     -6.20],\n",
       "          [     4.03,      7.71,      0.20,  ...,     -5.12,      1.60,     -9.72],\n",
       "          ...,\n",
       "          [    -3.44,     -2.32,     -3.19,  ...,     -0.02,      1.98,     -4.81],\n",
       "          [    -7.63,     -4.48,      3.14,  ...,     -8.79,      0.40,    -19.36],\n",
       "          [     3.30,     -0.29,     -5.78,  ...,    -20.67,      3.30,      3.38]],\n",
       "\n",
       "         [[    -6.47,      8.14,      8.56,  ...,     -0.94,      2.53,     -7.03],\n",
       "          [     7.24,      2.92,     -5.35,  ...,     -4.09,    -19.67,     12.55],\n",
       "          [     4.26,      4.95,     -4.81,  ...,    -10.44,     -0.23,    -11.23],\n",
       "          ...,\n",
       "          [    -6.30,     -0.00,     -1.93,  ...,     -2.78,     -4.98,      0.79],\n",
       "          [     4.59,    -20.51,     -1.22,  ...,     -9.39,     14.31,    -14.56],\n",
       "          [     5.36,      6.29,     -4.59,  ...,     14.32,    -11.87,     -4.93]]]])"
      ]
     },
     "execution_count": 302,
     "metadata": {},
     "output_type": "execute_result"
    }
   ],
   "source": [
    "torch.einsum('ijkl, ijmk -> ijml', ein_m1, ein_m2)"
   ]
  },
  {
   "cell_type": "code",
   "execution_count": null,
   "id": "29a5607e",
   "metadata": {},
   "outputs": [],
   "source": []
  }
 ],
 "metadata": {
  "kernelspec": {
   "display_name": "Python 3 (ipykernel)",
   "language": "python",
   "name": "python3"
  },
  "language_info": {
   "codemirror_mode": {
    "name": "ipython",
    "version": 3
   },
   "file_extension": ".py",
   "mimetype": "text/x-python",
   "name": "python",
   "nbconvert_exporter": "python",
   "pygments_lexer": "ipython3",
   "version": "3.10.10"
  }
 },
 "nbformat": 4,
 "nbformat_minor": 5
}

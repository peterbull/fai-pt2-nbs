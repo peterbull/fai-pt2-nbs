{
 "cells": [
  {
   "cell_type": "code",
   "execution_count": 35,
   "id": "ca29fbe7-a3a0-4565-98c4-d487e8184591",
   "metadata": {},
   "outputs": [],
   "source": [
    "import pickle,gzip,math,os,time,shutil,torch,matplotlib as mpl, numpy as np\n",
    "from pathlib import Path\n",
    "from torch import tensor\n",
    "from fastcore.test import test_close\n",
    "torch.manual_seed(42)\n",
    "import tsensor\n",
    "# Get rid of findfont: Font family 'Arial' not found.\n",
    "# when running a remote notebook on Jupyter Server on Ubuntu Linux server\n",
    "import logging\n",
    "logging.getLogger(\"matplotlib.font_manager\").setLevel(logging.ERROR)\n",
    "\n",
    "from lolviz import *\n",
    "\n",
    "\n",
    "mpl.rcParams['image.cmap'] = 'gray'\n",
    "torch.set_printoptions(precision=2, linewidth=125, sci_mode=False)\n",
    "np.set_printoptions(precision=2, linewidth=125)\n",
    "\n",
    "path_data = Path('data')\n",
    "path_gz = path_data/'mnist.pkl.gz'\n",
    "with gzip.open(path_gz, 'rb') as f: ((x_train, y_train), (x_valid, y_valid), _) = pickle.load(f, encoding='latin-1')\n",
    "x_train, y_train, x_valid, y_valid = map(tensor, [x_train, y_train, x_valid, y_valid])"
   ]
  },
  {
   "cell_type": "markdown",
   "id": "579e42a4-879d-4d77-8580-b2412e2f32f0",
   "metadata": {},
   "source": [
    "## Foundations Version"
   ]
  },
  {
   "cell_type": "markdown",
   "id": "f4b4105c-6cb8-4f53-a54f-1ffe02926d51",
   "metadata": {},
   "source": [
    "### Basic Architecture"
   ]
  },
  {
   "cell_type": "markdown",
   "id": "0b4bcedc-2ece-41fe-a33b-95919bc7171b",
   "metadata": {},
   "source": [
    "- Assign the number of items in our training set to `n`\n",
    "- Assign the number of pixels in each item to `m`\n",
    "- Assign possible values of digits to `c`"
   ]
  },
  {
   "cell_type": "code",
   "execution_count": 24,
   "id": "8df0754c-6dc2-4711-8c5d-3f74203f1125",
   "metadata": {},
   "outputs": [
    {
     "data": {
      "text/plain": [
       "(50000, 784, tensor(10))"
      ]
     },
     "execution_count": 24,
     "metadata": {},
     "output_type": "execute_result"
    }
   ],
   "source": [
    "n,m = x_train.shape\n",
    "c = y_valid.max() + 1\n",
    "n,m,c"
   ]
  },
  {
   "cell_type": "markdown",
   "id": "bffd6841-412a-485a-8a28-fe295afc80ff",
   "metadata": {},
   "source": [
    "- Assign to `nh` an integer for our 50 hidden layers, aka our 50 activation functinons, in this case *relus*"
   ]
  },
  {
   "cell_type": "code",
   "execution_count": 25,
   "id": "360165af-f3de-4d46-9c03-deca73dc29bb",
   "metadata": {},
   "outputs": [],
   "source": [
    "nh = 50"
   ]
  },
  {
   "cell_type": "markdown",
   "id": "2c5e1b10-d246-4654-85e1-d2f8fdf0c58d",
   "metadata": {},
   "source": [
    "- Create the weight matrices for multiplication. \n",
    "    - The first set of weights, `w1` will be for our training set\n",
    "    - The weights will also need a bias, `b1` that will begin as zeros \n",
    "    - The second set of weights, `w2` will be for our output matrix, which will just  be one output, which the guess of what number it is\n",
    "    - The second bias `b2` be initialized as zeros and match `w2`"
   ]
  },
  {
   "cell_type": "code",
   "execution_count": 26,
   "id": "fdd9ebac-89bb-4af5-bd46-d3f5ac8da932",
   "metadata": {},
   "outputs": [],
   "source": [
    "w1 = torch.randn(m, nh)"
   ]
  },
  {
   "cell_type": "code",
   "execution_count": 27,
   "id": "da476972-beef-4609-af07-ce47a8463d48",
   "metadata": {},
   "outputs": [],
   "source": [
    "b1 = torch.zeros(nh)"
   ]
  },
  {
   "cell_type": "code",
   "execution_count": 28,
   "id": "ac7b8c0b-e6e6-4abd-a7d5-54a78447bd24",
   "metadata": {},
   "outputs": [],
   "source": [
    "w2 = torch.randn(nh,1)"
   ]
  },
  {
   "cell_type": "code",
   "execution_count": 29,
   "id": "a1624594-784a-4523-91df-91241632def8",
   "metadata": {},
   "outputs": [],
   "source": [
    "b2 = torch.zeros(1)"
   ]
  },
  {
   "cell_type": "markdown",
   "id": "b6c6abe6-9094-4dfb-aa63-e9c1c3c18b41",
   "metadata": {},
   "source": [
    "***"
   ]
  },
  {
   "cell_type": "code",
   "execution_count": 30,
   "id": "86d5675d-00f6-4744-8390-5d0136075e1e",
   "metadata": {},
   "outputs": [
    {
     "data": {
      "text/plain": [
       "(torch.Size([784, 50]), torch.Size([50]), torch.Size([50, 1]), torch.Size([1]))"
      ]
     },
     "execution_count": 30,
     "metadata": {},
     "output_type": "execute_result"
    }
   ],
   "source": [
    "w1.shape, b1.shape, w2.shape, b2.shape"
   ]
  },
  {
   "cell_type": "code",
   "execution_count": 31,
   "id": "ec50e15d-ced9-4ce2-9eb7-7c7955b44275",
   "metadata": {},
   "outputs": [
    {
     "data": {
      "text/plain": [
       "torch.Size([10000, 50])"
      ]
     },
     "execution_count": 31,
     "metadata": {},
     "output_type": "execute_result"
    }
   ],
   "source": [
    "(x_valid@w1 + b1).shape"
   ]
  },
  {
   "cell_type": "code",
   "execution_count": 34,
   "id": "f2898c0f-54ec-477b-988d-88edfe267b32",
   "metadata": {},
   "outputs": [
    {
     "data": {
      "image/svg+xml": [
       "<svg xmlns:xlink=\"http://www.w3.org/1999/xlink\" xmlns=\"http://www.w3.org/2000/svg\" width=\"227.4408pt\" height=\"54.173505pt\" viewBox=\"0 0 227.4408 54.173505\" version=\"1.1\">\n",
       " <metadata>\n",
       "  <rdf:RDF xmlns:dc=\"http://purl.org/dc/elements/1.1/\" xmlns:cc=\"http://creativecommons.org/ns#\" xmlns:rdf=\"http://www.w3.org/1999/02/22-rdf-syntax-ns#\">\n",
       "   <cc:Work>\n",
       "    <dc:type rdf:resource=\"http://purl.org/dc/dcmitype/StillImage\"/>\n",
       "    <dc:date>2023-05-14T07:56:57.496240</dc:date>\n",
       "    <dc:format>image/svg+xml</dc:format>\n",
       "    <dc:creator>\n",
       "     <cc:Agent>\n",
       "      <dc:title>Matplotlib v3.7.1, https://matplotlib.org/</dc:title>\n",
       "     </cc:Agent>\n",
       "    </dc:creator>\n",
       "   </cc:Work>\n",
       "  </rdf:RDF>\n",
       " </metadata>\n",
       " <defs>\n",
       "  <style type=\"text/css\">*{stroke-linejoin: round; stroke-linecap: butt}</style>\n",
       " </defs>\n",
       " <g id=\"figure_1\">\n",
       "  <g id=\"patch_1\">\n",
       "   <path d=\"M 0 54.173505  L 227.4408 54.173505  L 227.4408 0  L 0 0  z \" style=\"fill: #ffffff\"/>\n",
       "  </g>\n",
       "  <g id=\"axes_1\">\n",
       "   <g id=\"patch_2\">\n",
       "    <path d=\"M 14.88465 46.385787  L 37.73475 46.385787  L 37.73475 23.683107  L 14.88465 23.683107  z \" clip-path=\"url(#pd2159364ce)\" style=\"fill: #a8e1b0; fill-opacity: 0.5; stroke: #808080; stroke-width: 0.7; stroke-linejoin: miter\"/>\n",
       "   </g>\n",
       "   <g id=\"patch_3\">\n",
       "    <path d=\"M 76.65525 46.385787  L 99.50535 46.385787  L 99.50535 23.683107  L 76.65525 23.683107  z \" clip-path=\"url(#pd2159364ce)\" style=\"fill: #a8e1b0; fill-opacity: 0.5; stroke: #808080; stroke-width: 0.7; stroke-linejoin: miter\"/>\n",
       "   </g>\n",
       "   <g id=\"patch_4\">\n",
       "    <path d=\"M 128.63295 46.385787  L 151.48305 46.385787  L 151.48305 23.683107  L 128.63295 23.683107  z \" clip-path=\"url(#pd2159364ce)\" style=\"fill: #a8e1b0; fill-opacity: 0.5; stroke: #808080; stroke-width: 0.7; stroke-linejoin: miter\"/>\n",
       "   </g>\n",
       "   <g id=\"patch_5\">\n",
       "    <path d=\"M 193.41675 28.872291  L 216.26685 28.872291  L 216.26685 23.683107  L 193.41675 23.683107  z \" clip-path=\"url(#pd2159364ce)\" style=\"fill: #a8e1b0; fill-opacity: 0.5; stroke: #808080; stroke-width: 0.7; stroke-linejoin: miter\"/>\n",
       "   </g>\n",
       "   <g id=\"line2d_1\">\n",
       "    <path d=\"M 22.39254 13.762608  L 30.22686 13.762608  \" clip-path=\"url(#pd2159364ce)\" style=\"fill: none; stroke: #c2c2c2; stroke-width: 0.5; stroke-linecap: square\"/>\n",
       "   </g>\n",
       "   <g id=\"line2d_2\">\n",
       "    <path d=\"M 64.57734 13.762608  L 111.58326 13.762608  \" clip-path=\"url(#pd2159364ce)\" style=\"fill: none; stroke: #c2c2c2; stroke-width: 0.5; stroke-linecap: square\"/>\n",
       "   </g>\n",
       "   <g id=\"line2d_3\">\n",
       "    <path d=\"M 132.87654 13.762608  L 147.23946 13.762608  \" clip-path=\"url(#pd2159364ce)\" style=\"fill: none; stroke: #c2c2c2; stroke-width: 0.5; stroke-linecap: square\"/>\n",
       "   </g>\n",
       "   <g id=\"line2d_4\">\n",
       "    <path d=\"M 197.66034 13.762608  L 212.02326 13.762608  \" clip-path=\"url(#pd2159364ce)\" style=\"fill: none; stroke: #c2c2c2; stroke-width: 0.5; stroke-linecap: square\"/>\n",
       "   </g>\n",
       "   <g id=\"text_1\">\n",
       "    <!-- y -->\n",
       "    <g style=\"fill: #444443\" transform=\"translate(23.0454 9.947031) scale(0.13 -0.13)\">\n",
       "     <defs>\n",
       "      <path id=\"DejaVuSansMono-79\" d=\"M 2681 1125  Q 2538 759 2316 163  Q 2006 -663 1900 -844  Q 1756 -1088 1540 -1209  Q 1325 -1331 1038 -1331  L 575 -1331  L 575 -850  L 916 -850  Q 1169 -850 1312 -703  Q 1456 -556 1678 56  L 325 3500  L 934 3500  L 1972 763  L 2994 3500  L 3603 3500  L 2681 1125  z \" transform=\"scale(0.015625)\"/>\n",
       "     </defs>\n",
       "     <use xlink:href=\"#DejaVuSansMono-79\"/>\n",
       "    </g>\n",
       "   </g>\n",
       "   <g id=\"text_2\">\n",
       "    <!--   -->\n",
       "    <g style=\"fill: #444443\" transform=\"translate(45.6444 9.947031) scale(0.13 -0.13)\">\n",
       "     <defs>\n",
       "      <path id=\"DejaVuSansMono-20\" transform=\"scale(0.015625)\"/>\n",
       "     </defs>\n",
       "     <use xlink:href=\"#DejaVuSansMono-20\"/>\n",
       "    </g>\n",
       "   </g>\n",
       "   <g id=\"text_3\">\n",
       "    <!-- = -->\n",
       "    <g style=\"fill: #444443\" transform=\"translate(52.173 9.947031) scale(0.13 -0.13)\">\n",
       "     <defs>\n",
       "      <path id=\"DejaVuSansMono-3d\" d=\"M 275 1638  L 3578 1638  L 3578 1100  L 275 1100  L 275 1638  z M 275 2906  L 3578 2906  L 3578 2375  L 275 2375  L 275 2906  z \" transform=\"scale(0.015625)\"/>\n",
       "     </defs>\n",
       "     <use xlink:href=\"#DejaVuSansMono-3d\"/>\n",
       "    </g>\n",
       "   </g>\n",
       "   <g id=\"text_4\">\n",
       "    <!--   -->\n",
       "    <g style=\"fill: #444443\" transform=\"translate(58.7016 9.947031) scale(0.13 -0.13)\">\n",
       "     <use xlink:href=\"#DejaVuSansMono-20\"/>\n",
       "    </g>\n",
       "   </g>\n",
       "   <g id=\"text_5\">\n",
       "    <!-- x -->\n",
       "    <g style=\"fill: #444443\" transform=\"translate(65.2302 9.947031) scale(0.13 -0.13)\">\n",
       "     <defs>\n",
       "      <path id=\"DejaVuSansMono-78\" d=\"M 3494 3500  L 2241 1825  L 3616 0  L 2950 0  L 1925 1403  L 903 0  L 238 0  L 1613 1825  L 359 3500  L 997 3500  L 1925 2234  L 2847 3500  L 3494 3500  z \" transform=\"scale(0.015625)\"/>\n",
       "     </defs>\n",
       "     <use xlink:href=\"#DejaVuSansMono-78\"/>\n",
       "    </g>\n",
       "   </g>\n",
       "   <g id=\"text_6\">\n",
       "    <!-- _ -->\n",
       "    <g style=\"fill: #444443\" transform=\"translate(71.7588 9.947031) scale(0.13 -0.13)\">\n",
       "     <defs>\n",
       "      <path id=\"DejaVuSansMono-5f\" d=\"M 3853 -1259  L 3853 -1509  L 0 -1509  L 0 -1259  L 3853 -1259  z \" transform=\"scale(0.015625)\"/>\n",
       "     </defs>\n",
       "     <use xlink:href=\"#DejaVuSansMono-5f\"/>\n",
       "    </g>\n",
       "   </g>\n",
       "   <g id=\"text_7\">\n",
       "    <!-- v -->\n",
       "    <g style=\"fill: #444443\" transform=\"translate(78.2874 9.947031) scale(0.13 -0.13)\">\n",
       "     <defs>\n",
       "      <path id=\"DejaVuSansMono-76\" d=\"M 313 3500  L 909 3500  L 1925 563  L 2944 3500  L 3541 3500  L 2297 0  L 1556 0  L 313 3500  z \" transform=\"scale(0.015625)\"/>\n",
       "     </defs>\n",
       "     <use xlink:href=\"#DejaVuSansMono-76\"/>\n",
       "    </g>\n",
       "   </g>\n",
       "   <g id=\"text_8\">\n",
       "    <!-- a -->\n",
       "    <g style=\"fill: #444443\" transform=\"translate(84.816 9.947031) scale(0.13 -0.13)\">\n",
       "     <defs>\n",
       "      <path id=\"DejaVuSansMono-61\" d=\"M 2194 1759  L 2003 1759  Q 1500 1759 1245 1582  Q 991 1406 991 1056  Q 991 741 1181 566  Q 1372 391 1709 391  Q 2184 391 2456 720  Q 2728 1050 2731 1631  L 2731 1759  L 2194 1759  z M 3309 1997  L 3309 0  L 2731 0  L 2731 519  Q 2547 206 2267 57  Q 1988 -91 1588 -91  Q 1053 -91 734 211  Q 416 513 416 1019  Q 416 1603 808 1906  Q 1200 2209 1959 2209  L 2731 2209  L 2731 2300  Q 2728 2719 2518 2908  Q 2309 3097 1850 3097  Q 1556 3097 1256 3012  Q 956 2928 672 2766  L 672 3341  Q 991 3463 1283 3523  Q 1575 3584 1850 3584  Q 2284 3584 2592 3456  Q 2900 3328 3091 3072  Q 3209 2916 3259 2686  Q 3309 2456 3309 1997  z \" transform=\"scale(0.015625)\"/>\n",
       "     </defs>\n",
       "     <use xlink:href=\"#DejaVuSansMono-61\"/>\n",
       "    </g>\n",
       "   </g>\n",
       "   <g id=\"text_9\">\n",
       "    <!-- l -->\n",
       "    <g style=\"fill: #444443\" transform=\"translate(91.3446 9.947031) scale(0.13 -0.13)\">\n",
       "     <defs>\n",
       "      <path id=\"DejaVuSansMono-6c\" d=\"M 1997 1269  Q 1997 881 2139 684  Q 2281 488 2559 488  L 3231 488  L 3231 0  L 2503 0  Q 1988 0 1705 331  Q 1422 663 1422 1269  L 1422 4447  L 500 4447  L 500 4897  L 1997 4897  L 1997 1269  z \" transform=\"scale(0.015625)\"/>\n",
       "     </defs>\n",
       "     <use xlink:href=\"#DejaVuSansMono-6c\"/>\n",
       "    </g>\n",
       "   </g>\n",
       "   <g id=\"text_10\">\n",
       "    <!-- i -->\n",
       "    <g style=\"fill: #444443\" transform=\"translate(97.8732 9.947031) scale(0.13 -0.13)\">\n",
       "     <defs>\n",
       "      <path id=\"DejaVuSansMono-69\" d=\"M 800 3500  L 2272 3500  L 2272 447  L 3413 447  L 3413 0  L 556 0  L 556 447  L 1697 447  L 1697 3053  L 800 3053  L 800 3500  z M 1697 4863  L 2272 4863  L 2272 4134  L 1697 4134  L 1697 4863  z \" transform=\"scale(0.015625)\"/>\n",
       "     </defs>\n",
       "     <use xlink:href=\"#DejaVuSansMono-69\"/>\n",
       "    </g>\n",
       "   </g>\n",
       "   <g id=\"text_11\">\n",
       "    <!-- d -->\n",
       "    <g style=\"fill: #444443\" transform=\"translate(104.4018 9.947031) scale(0.13 -0.13)\">\n",
       "     <defs>\n",
       "      <path id=\"DejaVuSansMono-64\" d=\"M 2681 3053  L 2681 4863  L 3256 4863  L 3256 0  L 2681 0  L 2681 441  Q 2538 181 2298 45  Q 2059 -91 1747 -91  Q 1113 -91 748 401  Q 384 894 384 1759  Q 384 2613 750 3098  Q 1116 3584 1747 3584  Q 2063 3584 2303 3448  Q 2544 3313 2681 3053  z M 991 1747  Q 991 1078 1203 737  Q 1416 397 1831 397  Q 2247 397 2464 740  Q 2681 1084 2681 1747  Q 2681 2413 2464 2755  Q 2247 3097 1831 3097  Q 1416 3097 1203 2756  Q 991 2416 991 1747  z \" transform=\"scale(0.015625)\"/>\n",
       "     </defs>\n",
       "     <use xlink:href=\"#DejaVuSansMono-64\"/>\n",
       "    </g>\n",
       "   </g>\n",
       "   <g id=\"text_12\">\n",
       "    <!-- @ -->\n",
       "    <g style=\"fill: #444443\" transform=\"translate(110.9304 9.947031) scale(0.13 -0.13)\">\n",
       "     <defs>\n",
       "      <path id=\"DejaVuSansMono-40\" d=\"M 3244 1703  Q 3244 2106 3044 2348  Q 2844 2591 2509 2591  Q 2175 2591 1973 2348  Q 1772 2106 1772 1703  Q 1772 1297 1973 1055  Q 2175 813 2509 813  Q 2844 813 3044 1055  Q 3244 1297 3244 1703  z M 3681 422  L 3231 422  L 3231 769  Q 3116 572 2911 465  Q 2706 359 2450 359  Q 1947 359 1617 737  Q 1288 1116 1288 1703  Q 1288 2291 1617 2669  Q 1947 3047 2450 3047  Q 2700 3047 2909 2937  Q 3119 2828 3231 2638  L 3231 2834  Q 3231 3322 2956 3619  Q 2681 3916 2228 3916  Q 1459 3916 1004 3317  Q 550 2719 550 1697  Q 550 669 1065 59  Q 1581 -550 2438 -550  Q 2606 -550 2775 -519  Q 2944 -488 3122 -422  L 3272 -844  Q 3075 -922 2883 -959  Q 2691 -997 2509 -997  Q 1394 -997 739 -269  Q 84 459 84 1697  Q 84 2916 671 3637  Q 1259 4359 2247 4359  Q 2900 4359 3290 3943  Q 3681 3528 3681 2828  L 3681 422  z \" transform=\"scale(0.015625)\"/>\n",
       "     </defs>\n",
       "     <use xlink:href=\"#DejaVuSansMono-40\"/>\n",
       "    </g>\n",
       "   </g>\n",
       "   <g id=\"text_13\">\n",
       "    <!-- w -->\n",
       "    <g style=\"fill: #444443\" transform=\"translate(133.5294 9.947031) scale(0.13 -0.13)\">\n",
       "     <defs>\n",
       "      <path id=\"DejaVuSansMono-77\" d=\"M 0 3500  L 569 3500  L 1178 672  L 1678 2478  L 2169 2478  L 2675 672  L 3284 3500  L 3853 3500  L 3034 0  L 2484 0  L 1925 1919  L 1369 0  L 819 0  L 0 3500  z \" transform=\"scale(0.015625)\"/>\n",
       "     </defs>\n",
       "     <use xlink:href=\"#DejaVuSansMono-77\"/>\n",
       "    </g>\n",
       "   </g>\n",
       "   <g id=\"text_14\">\n",
       "    <!-- 1 -->\n",
       "    <g style=\"fill: #444443\" transform=\"translate(140.058 9.947031) scale(0.13 -0.13)\">\n",
       "     <defs>\n",
       "      <path id=\"DejaVuSansMono-31\" d=\"M 844 531  L 1825 531  L 1825 4097  L 769 3859  L 769 4434  L 1819 4666  L 2450 4666  L 2450 531  L 3419 531  L 3419 0  L 844 0  L 844 531  z \" transform=\"scale(0.015625)\"/>\n",
       "     </defs>\n",
       "     <use xlink:href=\"#DejaVuSansMono-31\"/>\n",
       "    </g>\n",
       "   </g>\n",
       "   <g id=\"text_15\">\n",
       "    <!--   -->\n",
       "    <g style=\"fill: #444443\" transform=\"translate(162.657 9.947031) scale(0.13 -0.13)\">\n",
       "     <use xlink:href=\"#DejaVuSansMono-20\"/>\n",
       "    </g>\n",
       "   </g>\n",
       "   <g id=\"text_16\">\n",
       "    <!-- + -->\n",
       "    <g style=\"fill: #444443\" transform=\"translate(169.1856 9.947031) scale(0.13 -0.13)\">\n",
       "     <defs>\n",
       "      <path id=\"DejaVuSansMono-2b\" d=\"M 2188 3659  L 2188 2272  L 3578 2272  L 3578 1741  L 2188 1741  L 2188 353  L 1663 353  L 1663 1741  L 275 1741  L 275 2272  L 1663 2272  L 1663 3659  L 2188 3659  z \" transform=\"scale(0.015625)\"/>\n",
       "     </defs>\n",
       "     <use xlink:href=\"#DejaVuSansMono-2b\"/>\n",
       "    </g>\n",
       "   </g>\n",
       "   <g id=\"text_17\">\n",
       "    <!--   -->\n",
       "    <g style=\"fill: #444443\" transform=\"translate(175.7142 9.947031) scale(0.13 -0.13)\">\n",
       "     <use xlink:href=\"#DejaVuSansMono-20\"/>\n",
       "    </g>\n",
       "   </g>\n",
       "   <g id=\"text_18\">\n",
       "    <!-- b -->\n",
       "    <g style=\"fill: #444443\" transform=\"translate(198.3132 9.947031) scale(0.13 -0.13)\">\n",
       "     <defs>\n",
       "      <path id=\"DejaVuSansMono-62\" d=\"M 2869 1747  Q 2869 2416 2656 2756  Q 2444 3097 2028 3097  Q 1609 3097 1393 2755  Q 1178 2413 1178 1747  Q 1178 1084 1393 740  Q 1609 397 2028 397  Q 2444 397 2656 737  Q 2869 1078 2869 1747  z M 1178 3053  Q 1316 3309 1558 3446  Q 1800 3584 2119 3584  Q 2750 3584 3112 3098  Q 3475 2613 3475 1759  Q 3475 894 3111 401  Q 2747 -91 2113 -91  Q 1800 -91 1561 45  Q 1322 181 1178 441  L 1178 0  L 603 0  L 603 4863  L 1178 4863  L 1178 3053  z \" transform=\"scale(0.015625)\"/>\n",
       "     </defs>\n",
       "     <use xlink:href=\"#DejaVuSansMono-62\"/>\n",
       "    </g>\n",
       "   </g>\n",
       "   <g id=\"text_19\">\n",
       "    <!-- 1 -->\n",
       "    <g style=\"fill: #444443\" transform=\"translate(204.8418 9.947031) scale(0.13 -0.13)\">\n",
       "     <use xlink:href=\"#DejaVuSansMono-31\"/>\n",
       "    </g>\n",
       "   </g>\n",
       "   <g id=\"text_20\">\n",
       "    <!-- 10k -->\n",
       "    <g transform=\"translate(13.0959 42.28929) rotate(-90) scale(0.09 -0.09)\">\n",
       "     <defs>\n",
       "      <path id=\"ArialMT-31\" d=\"M 2384 0  L 1822 0  L 1822 3584  Q 1619 3391 1289 3197  Q 959 3003 697 2906  L 697 3450  Q 1169 3672 1522 3987  Q 1875 4303 2022 4600  L 2384 4600  L 2384 0  z \" transform=\"scale(0.015625)\"/>\n",
       "      <path id=\"ArialMT-30\" d=\"M 266 2259  Q 266 3072 433 3567  Q 600 4063 929 4331  Q 1259 4600 1759 4600  Q 2128 4600 2406 4451  Q 2684 4303 2865 4023  Q 3047 3744 3150 3342  Q 3253 2941 3253 2259  Q 3253 1453 3087 958  Q 2922 463 2592 192  Q 2263 -78 1759 -78  Q 1097 -78 719 397  Q 266 969 266 2259  z M 844 2259  Q 844 1131 1108 757  Q 1372 384 1759 384  Q 2147 384 2411 759  Q 2675 1134 2675 2259  Q 2675 3391 2411 3762  Q 2147 4134 1753 4134  Q 1366 4134 1134 3806  Q 844 3388 844 2259  z \" transform=\"scale(0.015625)\"/>\n",
       "      <path id=\"ArialMT-6b\" d=\"M 425 0  L 425 4581  L 988 4581  L 988 1969  L 2319 3319  L 3047 3319  L 1778 2088  L 3175 0  L 2481 0  L 1384 1697  L 988 1316  L 988 0  L 425 0  z \" transform=\"scale(0.015625)\"/>\n",
       "     </defs>\n",
       "     <use xlink:href=\"#ArialMT-31\"/>\n",
       "     <use xlink:href=\"#ArialMT-30\" x=\"55.615234\"/>\n",
       "     <use xlink:href=\"#ArialMT-6b\" x=\"111.230469\"/>\n",
       "    </g>\n",
       "   </g>\n",
       "   <g id=\"text_21\">\n",
       "    <!-- 50 -->\n",
       "    <g transform=\"translate(21.304856 22.297107) scale(0.09 -0.09)\">\n",
       "     <defs>\n",
       "      <path id=\"ArialMT-35\" d=\"M 266 1200  L 856 1250  Q 922 819 1161 601  Q 1400 384 1738 384  Q 2144 384 2425 690  Q 2706 997 2706 1503  Q 2706 1984 2436 2262  Q 2166 2541 1728 2541  Q 1456 2541 1237 2417  Q 1019 2294 894 2097  L 366 2166  L 809 4519  L 3088 4519  L 3088 3981  L 1259 3981  L 1013 2750  Q 1425 3038 1878 3038  Q 2478 3038 2890 2622  Q 3303 2206 3303 1553  Q 3303 931 2941 478  Q 2500 -78 1738 -78  Q 1113 -78 717 272  Q 322 622 266 1200  z \" transform=\"scale(0.015625)\"/>\n",
       "     </defs>\n",
       "     <use xlink:href=\"#ArialMT-35\"/>\n",
       "     <use xlink:href=\"#ArialMT-30\" x=\"55.615234\"/>\n",
       "    </g>\n",
       "   </g>\n",
       "   <g id=\"text_22\">\n",
       "    <!-- &lt;${\\mathit{float32}}$&gt; -->\n",
       "    <g transform=\"translate(9.8947 52.782255) scale(0.07 -0.07)\">\n",
       "     <defs>\n",
       "      <path id=\"ArialMT-3c\" d=\"M 350 2003  L 350 2528  L 3384 3809  L 3384 3250  L 978 2263  L 3384 1266  L 3384 706  L 350 2003  z \" transform=\"scale(0.015625)\"/>\n",
       "      <path id=\"DejaVuSans-Oblique-66\" d=\"M 3059 4863  L 2969 4384  L 2419 4384  Q 2106 4384 1964 4261  Q 1822 4138 1753 3809  L 1691 3500  L 2638 3500  L 2553 3053  L 1606 3053  L 1013 0  L 434 0  L 1031 3053  L 481 3053  L 563 3500  L 1113 3500  L 1159 3744  Q 1278 4363 1576 4613  Q 1875 4863 2516 4863  L 3059 4863  z \" transform=\"scale(0.015625)\"/>\n",
       "      <path id=\"DejaVuSans-Oblique-6c\" d=\"M 1172 4863  L 1747 4863  L 800 0  L 225 0  L 1172 4863  z \" transform=\"scale(0.015625)\"/>\n",
       "      <path id=\"DejaVuSans-Oblique-6f\" d=\"M 1625 -91  Q 1009 -91 651 289  Q 294 669 294 1325  Q 294 1706 417 2101  Q 541 2497 738 2766  Q 1047 3184 1428 3384  Q 1809 3584 2291 3584  Q 2888 3584 3255 3212  Q 3622 2841 3622 2241  Q 3622 1825 3500 1412  Q 3378 1000 3181 728  Q 2875 309 2494 109  Q 2113 -91 1625 -91  z M 891 1344  Q 891 869 1089 633  Q 1288 397 1691 397  Q 2269 397 2648 901  Q 3028 1406 3028 2181  Q 3028 2634 2825 2865  Q 2622 3097 2228 3097  Q 1903 3097 1650 2945  Q 1397 2794 1197 2484  Q 1050 2253 970 1956  Q 891 1659 891 1344  z \" transform=\"scale(0.015625)\"/>\n",
       "      <path id=\"DejaVuSans-Oblique-61\" d=\"M 3438 1997  L 3047 0  L 2472 0  L 2578 531  Q 2325 219 2001 64  Q 1678 -91 1281 -91  Q 834 -91 548 182  Q 263 456 263 884  Q 263 1497 752 1853  Q 1241 2209 2100 2209  L 2900 2209  L 2931 2363  Q 2938 2388 2941 2417  Q 2944 2447 2944 2509  Q 2944 2788 2717 2942  Q 2491 3097 2081 3097  Q 1800 3097 1504 3025  Q 1209 2953 897 2809  L 997 3341  Q 1322 3463 1633 3523  Q 1944 3584 2234 3584  Q 2853 3584 3176 3315  Q 3500 3047 3500 2534  Q 3500 2431 3484 2292  Q 3469 2153 3438 1997  z M 2816 1759  L 2241 1759  Q 1534 1759 1195 1570  Q 856 1381 856 984  Q 856 709 1029 553  Q 1203 397 1509 397  Q 1978 397 2328 733  Q 2678 1069 2791 1631  L 2816 1759  z \" transform=\"scale(0.015625)\"/>\n",
       "      <path id=\"DejaVuSans-Oblique-74\" d=\"M 2706 3500  L 2619 3053  L 1472 3053  L 1100 1153  Q 1081 1047 1072 975  Q 1063 903 1063 863  Q 1063 663 1183 572  Q 1303 481 1569 481  L 2150 481  L 2053 0  L 1503 0  Q 991 0 739 200  Q 488 400 488 806  Q 488 878 497 964  Q 506 1050 525 1153  L 897 3053  L 409 3053  L 500 3500  L 978 3500  L 1172 4494  L 1747 4494  L 1556 3500  L 2706 3500  z \" transform=\"scale(0.015625)\"/>\n",
       "      <path id=\"DejaVuSans-33\" d=\"M 2597 2516  Q 3050 2419 3304 2112  Q 3559 1806 3559 1356  Q 3559 666 3084 287  Q 2609 -91 1734 -91  Q 1441 -91 1130 -33  Q 819 25 488 141  L 488 750  Q 750 597 1062 519  Q 1375 441 1716 441  Q 2309 441 2620 675  Q 2931 909 2931 1356  Q 2931 1769 2642 2001  Q 2353 2234 1838 2234  L 1294 2234  L 1294 2753  L 1863 2753  Q 2328 2753 2575 2939  Q 2822 3125 2822 3475  Q 2822 3834 2567 4026  Q 2313 4219 1838 4219  Q 1578 4219 1281 4162  Q 984 4106 628 3988  L 628 4550  Q 988 4650 1302 4700  Q 1616 4750 1894 4750  Q 2613 4750 3031 4423  Q 3450 4097 3450 3541  Q 3450 3153 3228 2886  Q 3006 2619 2597 2516  z \" transform=\"scale(0.015625)\"/>\n",
       "      <path id=\"DejaVuSans-32\" d=\"M 1228 531  L 3431 531  L 3431 0  L 469 0  L 469 531  Q 828 903 1448 1529  Q 2069 2156 2228 2338  Q 2531 2678 2651 2914  Q 2772 3150 2772 3378  Q 2772 3750 2511 3984  Q 2250 4219 1831 4219  Q 1534 4219 1204 4116  Q 875 4013 500 3803  L 500 4441  Q 881 4594 1212 4672  Q 1544 4750 1819 4750  Q 2544 4750 2975 4387  Q 3406 4025 3406 3419  Q 3406 3131 3298 2873  Q 3191 2616 2906 2266  Q 2828 2175 2409 1742  Q 1991 1309 1228 531  z \" transform=\"scale(0.015625)\"/>\n",
       "      <path id=\"ArialMT-3e\" d=\"M 3384 2003  L 350 706  L 350 1266  L 2753 2263  L 350 3250  L 350 3809  L 3384 2528  L 3384 2003  z \" transform=\"scale(0.015625)\"/>\n",
       "     </defs>\n",
       "     <use xlink:href=\"#ArialMT-3c\" transform=\"translate(0 0.015625)\"/>\n",
       "     <use xlink:href=\"#DejaVuSans-Oblique-66\" transform=\"translate(58.398438 0.015625)\"/>\n",
       "     <use xlink:href=\"#DejaVuSans-Oblique-6c\" transform=\"translate(93.603516 0.015625)\"/>\n",
       "     <use xlink:href=\"#DejaVuSans-Oblique-6f\" transform=\"translate(121.386719 0.015625)\"/>\n",
       "     <use xlink:href=\"#DejaVuSans-Oblique-61\" transform=\"translate(182.568359 0.015625)\"/>\n",
       "     <use xlink:href=\"#DejaVuSans-Oblique-74\" transform=\"translate(243.847656 0.015625)\"/>\n",
       "     <use xlink:href=\"#DejaVuSans-33\" transform=\"translate(283.056641 0.015625)\"/>\n",
       "     <use xlink:href=\"#DejaVuSans-32\" transform=\"translate(346.679688 0.015625)\"/>\n",
       "     <use xlink:href=\"#ArialMT-3e\" transform=\"translate(410.302734 0.015625)\"/>\n",
       "    </g>\n",
       "   </g>\n",
       "   <g id=\"text_23\">\n",
       "    <!-- 10k -->\n",
       "    <g transform=\"translate(74.8665 42.28929) rotate(-90) scale(0.09 -0.09)\">\n",
       "     <use xlink:href=\"#ArialMT-31\"/>\n",
       "     <use xlink:href=\"#ArialMT-30\" x=\"55.615234\"/>\n",
       "     <use xlink:href=\"#ArialMT-6b\" x=\"111.230469\"/>\n",
       "    </g>\n",
       "   </g>\n",
       "   <g id=\"text_24\">\n",
       "    <!-- 784 -->\n",
       "    <g transform=\"translate(80.573034 22.297107) scale(0.09 -0.09)\">\n",
       "     <defs>\n",
       "      <path id=\"ArialMT-37\" d=\"M 303 3981  L 303 4522  L 3269 4522  L 3269 4084  Q 2831 3619 2401 2847  Q 1972 2075 1738 1259  Q 1569 684 1522 0  L 944 0  Q 953 541 1156 1306  Q 1359 2072 1739 2783  Q 2119 3494 2547 3981  L 303 3981  z \" transform=\"scale(0.015625)\"/>\n",
       "      <path id=\"ArialMT-38\" d=\"M 1131 2484  Q 781 2613 612 2850  Q 444 3088 444 3419  Q 444 3919 803 4259  Q 1163 4600 1759 4600  Q 2359 4600 2725 4251  Q 3091 3903 3091 3403  Q 3091 3084 2923 2848  Q 2756 2613 2416 2484  Q 2838 2347 3058 2040  Q 3278 1734 3278 1309  Q 3278 722 2862 322  Q 2447 -78 1769 -78  Q 1091 -78 675 323  Q 259 725 259 1325  Q 259 1772 486 2073  Q 713 2375 1131 2484  z M 1019 3438  Q 1019 3113 1228 2906  Q 1438 2700 1772 2700  Q 2097 2700 2305 2904  Q 2513 3109 2513 3406  Q 2513 3716 2298 3927  Q 2084 4138 1766 4138  Q 1444 4138 1231 3931  Q 1019 3725 1019 3438  z M 838 1322  Q 838 1081 952 856  Q 1066 631 1291 507  Q 1516 384 1775 384  Q 2178 384 2440 643  Q 2703 903 2703 1303  Q 2703 1709 2433 1975  Q 2163 2241 1756 2241  Q 1359 2241 1098 1978  Q 838 1716 838 1322  z \" transform=\"scale(0.015625)\"/>\n",
       "      <path id=\"ArialMT-34\" d=\"M 2069 0  L 2069 1097  L 81 1097  L 81 1613  L 2172 4581  L 2631 4581  L 2631 1613  L 3250 1613  L 3250 1097  L 2631 1097  L 2631 0  L 2069 0  z M 2069 1613  L 2069 3678  L 634 1613  L 2069 1613  z \" transform=\"scale(0.015625)\"/>\n",
       "     </defs>\n",
       "     <use xlink:href=\"#ArialMT-37\"/>\n",
       "     <use xlink:href=\"#ArialMT-38\" x=\"55.615234\"/>\n",
       "     <use xlink:href=\"#ArialMT-34\" x=\"111.230469\"/>\n",
       "    </g>\n",
       "   </g>\n",
       "   <g id=\"text_25\">\n",
       "    <!-- &lt;${\\mathit{float32}}$&gt; -->\n",
       "    <g transform=\"translate(71.6653 52.782255) scale(0.07 -0.07)\">\n",
       "     <use xlink:href=\"#ArialMT-3c\" transform=\"translate(0 0.015625)\"/>\n",
       "     <use xlink:href=\"#DejaVuSans-Oblique-66\" transform=\"translate(58.398438 0.015625)\"/>\n",
       "     <use xlink:href=\"#DejaVuSans-Oblique-6c\" transform=\"translate(93.603516 0.015625)\"/>\n",
       "     <use xlink:href=\"#DejaVuSans-Oblique-6f\" transform=\"translate(121.386719 0.015625)\"/>\n",
       "     <use xlink:href=\"#DejaVuSans-Oblique-61\" transform=\"translate(182.568359 0.015625)\"/>\n",
       "     <use xlink:href=\"#DejaVuSans-Oblique-74\" transform=\"translate(243.847656 0.015625)\"/>\n",
       "     <use xlink:href=\"#DejaVuSans-33\" transform=\"translate(283.056641 0.015625)\"/>\n",
       "     <use xlink:href=\"#DejaVuSans-32\" transform=\"translate(346.679688 0.015625)\"/>\n",
       "     <use xlink:href=\"#ArialMT-3e\" transform=\"translate(410.302734 0.015625)\"/>\n",
       "    </g>\n",
       "   </g>\n",
       "   <g id=\"text_26\">\n",
       "    <!-- 784 -->\n",
       "    <g transform=\"translate(126.8442 42.541712) rotate(-90) scale(0.09 -0.09)\">\n",
       "     <use xlink:href=\"#ArialMT-37\"/>\n",
       "     <use xlink:href=\"#ArialMT-38\" x=\"55.615234\"/>\n",
       "     <use xlink:href=\"#ArialMT-34\" x=\"111.230469\"/>\n",
       "    </g>\n",
       "   </g>\n",
       "   <g id=\"text_27\">\n",
       "    <!-- 50 -->\n",
       "    <g transform=\"translate(135.053156 22.297107) scale(0.09 -0.09)\">\n",
       "     <use xlink:href=\"#ArialMT-35\"/>\n",
       "     <use xlink:href=\"#ArialMT-30\" x=\"55.615234\"/>\n",
       "    </g>\n",
       "   </g>\n",
       "   <g id=\"text_28\">\n",
       "    <!-- &lt;${\\mathit{float32}}$&gt; -->\n",
       "    <g transform=\"translate(123.643 52.782255) scale(0.07 -0.07)\">\n",
       "     <use xlink:href=\"#ArialMT-3c\" transform=\"translate(0 0.015625)\"/>\n",
       "     <use xlink:href=\"#DejaVuSans-Oblique-66\" transform=\"translate(58.398438 0.015625)\"/>\n",
       "     <use xlink:href=\"#DejaVuSans-Oblique-6c\" transform=\"translate(93.603516 0.015625)\"/>\n",
       "     <use xlink:href=\"#DejaVuSans-Oblique-6f\" transform=\"translate(121.386719 0.015625)\"/>\n",
       "     <use xlink:href=\"#DejaVuSans-Oblique-61\" transform=\"translate(182.568359 0.015625)\"/>\n",
       "     <use xlink:href=\"#DejaVuSans-Oblique-74\" transform=\"translate(243.847656 0.015625)\"/>\n",
       "     <use xlink:href=\"#DejaVuSans-33\" transform=\"translate(283.056641 0.015625)\"/>\n",
       "     <use xlink:href=\"#DejaVuSans-32\" transform=\"translate(346.679688 0.015625)\"/>\n",
       "     <use xlink:href=\"#ArialMT-3e\" transform=\"translate(410.302734 0.015625)\"/>\n",
       "    </g>\n",
       "   </g>\n",
       "   <g id=\"text_29\">\n",
       "    <!-- 50 -->\n",
       "    <g transform=\"translate(199.836956 22.297107) scale(0.09 -0.09)\">\n",
       "     <use xlink:href=\"#ArialMT-35\"/>\n",
       "     <use xlink:href=\"#ArialMT-30\" x=\"55.615234\"/>\n",
       "    </g>\n",
       "   </g>\n",
       "   <g id=\"text_30\">\n",
       "    <!-- &lt;${\\mathit{float32}}$&gt; -->\n",
       "    <g transform=\"translate(188.4268 35.180055) scale(0.07 -0.07)\">\n",
       "     <use xlink:href=\"#ArialMT-3c\" transform=\"translate(0 0.015625)\"/>\n",
       "     <use xlink:href=\"#DejaVuSans-Oblique-66\" transform=\"translate(58.398438 0.015625)\"/>\n",
       "     <use xlink:href=\"#DejaVuSans-Oblique-6c\" transform=\"translate(93.603516 0.015625)\"/>\n",
       "     <use xlink:href=\"#DejaVuSans-Oblique-6f\" transform=\"translate(121.386719 0.015625)\"/>\n",
       "     <use xlink:href=\"#DejaVuSans-Oblique-61\" transform=\"translate(182.568359 0.015625)\"/>\n",
       "     <use xlink:href=\"#DejaVuSans-Oblique-74\" transform=\"translate(243.847656 0.015625)\"/>\n",
       "     <use xlink:href=\"#DejaVuSans-33\" transform=\"translate(283.056641 0.015625)\"/>\n",
       "     <use xlink:href=\"#DejaVuSans-32\" transform=\"translate(346.679688 0.015625)\"/>\n",
       "     <use xlink:href=\"#ArialMT-3e\" transform=\"translate(410.302734 0.015625)\"/>\n",
       "    </g>\n",
       "   </g>\n",
       "  </g>\n",
       " </g>\n",
       " <defs>\n",
       "  <clipPath id=\"pd2159364ce\">\n",
       "   <rect x=\"0\" y=\"4.901991\" width=\"227.4408\" height=\"42.315395\"/>\n",
       "  </clipPath>\n",
       " </defs>\n",
       "</svg>"
      ],
      "text/plain": [
       "<IPython.core.display.SVG object>"
      ]
     },
     "metadata": {},
     "output_type": "display_data"
    }
   ],
   "source": [
    "with tsensor.explain():\n",
    "    y = x_valid@w1 + b1"
   ]
  },
  {
   "cell_type": "code",
   "execution_count": 33,
   "id": "9724c1e0-c19e-4f42-9d43-d1ed00da8cbb",
   "metadata": {},
   "outputs": [
    {
     "data": {
      "image/svg+xml": [
       "<?xml version=\"1.0\" encoding=\"UTF-8\" standalone=\"no\"?>\n",
       "<!DOCTYPE svg PUBLIC \"-//W3C//DTD SVG 1.1//EN\"\n",
       " \"http://www.w3.org/Graphics/SVG/1.1/DTD/svg11.dtd\">\n",
       "<!-- Generated by graphviz version 7.1.0 (20230122.1345)\n",
       " -->\n",
       "<!-- Title: G Pages: 1 -->\n",
       "<svg width=\"142pt\" height=\"148pt\"\n",
       " viewBox=\"0.00 0.00 141.50 148.00\" xmlns=\"http://www.w3.org/2000/svg\" xmlns:xlink=\"http://www.w3.org/1999/xlink\">\n",
       "<g id=\"graph0\" class=\"graph\" transform=\"scale(1 1) rotate(0) translate(4 144)\">\n",
       "<title>G</title>\n",
       "<polygon fill=\"white\" stroke=\"none\" points=\"-4,4 -4,-144 137.5,-144 137.5,4 -4,4\"/>\n",
       "<!-- leaf140247958982080 -->\n",
       "<g id=\"node1\" class=\"node\">\n",
       "<title>leaf140247958982080</title>\n",
       "<polygon fill=\"none\" stroke=\"black\" stroke-width=\"0\" points=\"53,-140 0,-140 0,-104 53,-104 53,-140\"/>\n",
       "<text text-anchor=\"start\" x=\"0\" y=\"-118.9\" font-family=\"Consolas\" font-size=\"12.00\" fill=\"#444443\">x_valid</text>\n",
       "</g>\n",
       "<!-- leaf140247958987072 -->\n",
       "<g id=\"node2\" class=\"node\">\n",
       "<title>leaf140247958987072</title>\n",
       "<polygon fill=\"none\" stroke=\"black\" stroke-width=\"0\" points=\"68.5,-140 54.5,-140 54.5,-104 68.5,-104 68.5,-140\"/>\n",
       "<text text-anchor=\"start\" x=\"57.5\" y=\"-118.9\" font-family=\"Consolas\" font-size=\"12.00\" fill=\"#444443\">@</text>\n",
       "</g>\n",
       "<!-- leaf140247958982080&#45;&gt;leaf140247958987072 -->\n",
       "<!-- leaf140247958982944 -->\n",
       "<g id=\"node3\" class=\"node\">\n",
       "<title>leaf140247958982944</title>\n",
       "<polygon fill=\"none\" stroke=\"black\" stroke-width=\"0\" points=\"85.5,-140 69.5,-140 69.5,-104 85.5,-104 85.5,-140\"/>\n",
       "<text text-anchor=\"start\" x=\"69.5\" y=\"-118.9\" font-family=\"Consolas\" font-size=\"12.00\" fill=\"#444443\">w1</text>\n",
       "</g>\n",
       "<!-- leaf140247958987072&#45;&gt;leaf140247958982944 -->\n",
       "<!-- leaf140247958985680 -->\n",
       "<g id=\"node4\" class=\"node\">\n",
       "<title>leaf140247958985680</title>\n",
       "<polygon fill=\"none\" stroke=\"black\" stroke-width=\"0\" points=\"116,-140 87,-140 87,-104 116,-104 116,-140\"/>\n",
       "<text text-anchor=\"start\" x=\"97.5\" y=\"-118.9\" font-family=\"Consolas\" font-size=\"12.00\" fill=\"#444443\">+</text>\n",
       "</g>\n",
       "<!-- leaf140247958982944&#45;&gt;leaf140247958985680 -->\n",
       "<!-- leaf140247955807472 -->\n",
       "<g id=\"node5\" class=\"node\">\n",
       "<title>leaf140247955807472</title>\n",
       "<polygon fill=\"none\" stroke=\"black\" stroke-width=\"0\" points=\"133.5,-140 117.5,-140 117.5,-104 133.5,-104 133.5,-140\"/>\n",
       "<text text-anchor=\"start\" x=\"117.5\" y=\"-118.9\" font-family=\"Consolas\" font-size=\"12.00\" fill=\"#444443\">b1</text>\n",
       "</g>\n",
       "<!-- leaf140247958985680&#45;&gt;leaf140247955807472 -->\n",
       "<!-- node140247958987648 -->\n",
       "<g id=\"node6\" class=\"node\">\n",
       "<title>node140247958987648</title>\n",
       "<polygon fill=\"#a8e1b0\" fill-opacity=\"0.501961\" stroke=\"black\" stroke-width=\"0\" points=\"97,-82 58,-82 58,-52 97,-52 97,-82\"/>\n",
       "<text text-anchor=\"start\" x=\"73.5\" y=\"-73.4\" font-family=\"Consolas\" font-size=\"12.00\" fill=\"#444443\">@</text>\n",
       "<text text-anchor=\"start\" x=\"62\" y=\"-63.8\" font-family=\"Arial\" font-size=\"9.00\" fill=\"#444443\">10kx50</text>\n",
       "<text text-anchor=\"start\" x=\"58\" y=\"-54.8\" font-family=\"Arial\" font-size=\"9.00\" fill=\"#444443\">&lt;float32&gt;</text>\n",
       "</g>\n",
       "<!-- node140247958987648&#45;&gt;leaf140247958982080 -->\n",
       "<g id=\"edge5\" class=\"edge\">\n",
       "<title>node140247958987648&#45;&gt;leaf140247958982080</title>\n",
       "<path fill=\"none\" stroke=\"#6b6b6b\" stroke-width=\"0.5\" d=\"M61.56,-84.57C55.5,-90.86 48.6,-98.03 42.53,-104.34\"/>\n",
       "<polygon fill=\"#6b6b6b\" stroke=\"#6b6b6b\" stroke-width=\"0.5\" points=\"62.25,-85.36 63.58,-82.47 60.74,-83.9 62.25,-85.36\"/>\n",
       "</g>\n",
       "<!-- node140247958987648&#45;&gt;leaf140247958982944 -->\n",
       "<g id=\"edge6\" class=\"edge\">\n",
       "<title>node140247958987648&#45;&gt;leaf140247958982944</title>\n",
       "<path fill=\"none\" stroke=\"#6b6b6b\" stroke-width=\"0.5\" d=\"M77.5,-85.58C77.5,-91.63 77.5,-98.37 77.5,-104.34\"/>\n",
       "<polygon fill=\"#6b6b6b\" stroke=\"#6b6b6b\" stroke-width=\"0.5\" points=\"78.55,-85.68 77.5,-82.68 76.45,-85.68 78.55,-85.68\"/>\n",
       "</g>\n",
       "<!-- node140247958987408 -->\n",
       "<g id=\"node7\" class=\"node\">\n",
       "<title>node140247958987408</title>\n",
       "<polygon fill=\"#a8e1b0\" fill-opacity=\"0.501961\" stroke=\"black\" stroke-width=\"0\" points=\"108,-30 69,-30 69,0 108,0 108,-30\"/>\n",
       "<text text-anchor=\"start\" x=\"84.5\" y=\"-21.4\" font-family=\"Consolas\" font-size=\"12.00\" fill=\"#444443\">+</text>\n",
       "<text text-anchor=\"start\" x=\"73\" y=\"-11.8\" font-family=\"Arial\" font-size=\"9.00\" fill=\"#444443\">10kx50</text>\n",
       "<text text-anchor=\"start\" x=\"69\" y=\"-2.8\" font-family=\"Arial\" font-size=\"9.00\" fill=\"#444443\">&lt;float32&gt;</text>\n",
       "</g>\n",
       "<!-- node140247958987408&#45;&gt;leaf140247955807472 -->\n",
       "<g id=\"edge8\" class=\"edge\">\n",
       "<title>node140247958987408&#45;&gt;leaf140247955807472</title>\n",
       "<path fill=\"none\" stroke=\"#6b6b6b\" stroke-width=\"0.5\" d=\"M94.49,-33C101.4,-52.6 112.68,-84.61 119.56,-104.14\"/>\n",
       "<polygon fill=\"#6b6b6b\" stroke=\"#6b6b6b\" stroke-width=\"0.5\" points=\"95.58,-32.92 93.59,-30.44 93.6,-33.62 95.58,-32.92\"/>\n",
       "</g>\n",
       "<!-- node140247958987408&#45;&gt;node140247958987648 -->\n",
       "<g id=\"edge7\" class=\"edge\">\n",
       "<title>node140247958987408&#45;&gt;node140247958987648</title>\n",
       "<path fill=\"none\" stroke=\"#6b6b6b\" stroke-width=\"0.5\" d=\"M84.7,-33.27C83.34,-39.44 81.83,-46.3 80.55,-52.15\"/>\n",
       "<polygon fill=\"#6b6b6b\" stroke=\"#6b6b6b\" stroke-width=\"0.5\" points=\"85.65,-33.82 85.27,-30.67 83.6,-33.37 85.65,-33.82\"/>\n",
       "</g>\n",
       "</g>\n",
       "</svg>\n"
      ],
      "text/plain": [
       "<tsensor.viz.QuietGraphvizWrapper at 0x7f8e0592aa10>"
      ]
     },
     "execution_count": 33,
     "metadata": {},
     "output_type": "execute_result"
    }
   ],
   "source": [
    "tsensor.astviz(\"x_valid@w1 + b1\")"
   ]
  },
  {
   "cell_type": "code",
   "execution_count": 44,
   "id": "37a292d0-48dd-4f63-8f21-6cbad9576979",
   "metadata": {},
   "outputs": [
    {
     "data": {
      "text/plain": [
       "tensor([[ 1.93,  1.49,  0.90,  ..., -0.49, -0.91, -0.66],\n",
       "        [ 0.08,  0.53, -0.49,  ...,  0.49,  0.78,  0.03],\n",
       "        [ 0.64,  0.58,  1.07,  ...,  1.45,  0.27, -0.21],\n",
       "        ...,\n",
       "        [-1.09,  0.58,  1.08,  ..., -0.04,  0.36, -0.02],\n",
       "        [-0.74, -0.13, -1.27,  ..., -0.27,  0.37,  0.27],\n",
       "        [ 0.46, -0.78,  2.44,  ..., -1.60, -0.04, -1.25]])"
      ]
     },
     "execution_count": 44,
     "metadata": {},
     "output_type": "execute_result"
    }
   ],
   "source": [
    "w1"
   ]
  },
  {
   "cell_type": "code",
   "execution_count": 43,
   "id": "125698c7-3220-4efc-8fce-5a3032fd6966",
   "metadata": {},
   "outputs": [
    {
     "data": {
      "image/svg+xml": [
       "<?xml version=\"1.0\" encoding=\"UTF-8\" standalone=\"no\"?>\n",
       "<!DOCTYPE svg PUBLIC \"-//W3C//DTD SVG 1.1//EN\"\n",
       " \"http://www.w3.org/Graphics/SVG/1.1/DTD/svg11.dtd\">\n",
       "<!-- Generated by graphviz version 7.1.0 (20230122.1345)\n",
       " -->\n",
       "<!-- Title: G Pages: 1 -->\n",
       "<svg width=\"224pt\" height=\"195pt\"\n",
       " viewBox=\"0.00 0.00 224.00 195.00\" xmlns=\"http://www.w3.org/2000/svg\" xmlns:xlink=\"http://www.w3.org/1999/xlink\">\n",
       "<g id=\"graph0\" class=\"graph\" transform=\"scale(1 1) rotate(0) translate(4 191)\">\n",
       "<title>G</title>\n",
       "<polygon fill=\"white\" stroke=\"none\" points=\"-4,4 -4,-191 220,-191 220,4 -4,4\"/>\n",
       "<!-- node140247955109904 -->\n",
       "<g id=\"node1\" class=\"node\">\n",
       "<title>node140247955109904</title>\n",
       "<polygon fill=\"none\" stroke=\"black\" stroke-width=\"0.5\" points=\"216,-187 0,-187 0,0 216,0 216,-187\"/>\n",
       "<polygon fill=\"#fefecd\" stroke=\"none\" points=\"1,-168.5 1,-185.5 21,-185.5 21,-168.5 1,-168.5\"/>\n",
       "<text text-anchor=\"start\" x=\"4\" y=\"-174.5\" font-family=\"Helvetica,sans-Serif\" font-size=\"10.00\" fill=\"#444443\">0.0</text>\n",
       "<polygon fill=\"#fefecd\" stroke=\"none\" points=\"21,-168.5 21,-185.5 41,-185.5 41,-168.5 21,-168.5\"/>\n",
       "<text text-anchor=\"start\" x=\"24\" y=\"-174.5\" font-family=\"Helvetica,sans-Serif\" font-size=\"10.00\" fill=\"#444443\">0.0</text>\n",
       "<polygon fill=\"#fefecd\" stroke=\"none\" points=\"41,-168.5 41,-185.5 61,-185.5 61,-168.5 41,-168.5\"/>\n",
       "<text text-anchor=\"start\" x=\"44\" y=\"-174.5\" font-family=\"Helvetica,sans-Serif\" font-size=\"10.00\" fill=\"#444443\">0.0</text>\n",
       "<polygon fill=\"#fefecd\" stroke=\"none\" points=\"61,-168.5 61,-185.5 81,-185.5 81,-168.5 61,-168.5\"/>\n",
       "<text text-anchor=\"start\" x=\"64\" y=\"-174.5\" font-family=\"Helvetica,sans-Serif\" font-size=\"10.00\" fill=\"#444443\">0.0</text>\n",
       "<polygon fill=\"#fefecd\" stroke=\"none\" points=\"81,-168.5 81,-185.5 101,-185.5 101,-168.5 81,-168.5\"/>\n",
       "<text text-anchor=\"start\" x=\"84\" y=\"-174.5\" font-family=\"Helvetica,sans-Serif\" font-size=\"10.00\" fill=\"#444443\">0.0</text>\n",
       "<polygon fill=\"#fefecd\" stroke=\"none\" points=\"101,-168.5 101,-185.5 115,-185.5 115,-168.5 101,-168.5\"/>\n",
       "<text text-anchor=\"start\" x=\"103\" y=\"-174.5\" font-family=\"Helvetica,sans-Serif\" font-size=\"10.00\" fill=\"#444443\">...</text>\n",
       "<polygon fill=\"#fefecd\" stroke=\"none\" points=\"115,-168.5 115,-185.5 135,-185.5 135,-168.5 115,-168.5\"/>\n",
       "<text text-anchor=\"start\" x=\"118\" y=\"-174.5\" font-family=\"Helvetica,sans-Serif\" font-size=\"10.00\" fill=\"#444443\">0.0</text>\n",
       "<polygon fill=\"#fefecd\" stroke=\"none\" points=\"135,-168.5 135,-185.5 155,-185.5 155,-168.5 135,-168.5\"/>\n",
       "<text text-anchor=\"start\" x=\"138\" y=\"-174.5\" font-family=\"Helvetica,sans-Serif\" font-size=\"10.00\" fill=\"#444443\">0.0</text>\n",
       "<polygon fill=\"#fefecd\" stroke=\"none\" points=\"155,-168.5 155,-185.5 175,-185.5 175,-168.5 155,-168.5\"/>\n",
       "<text text-anchor=\"start\" x=\"158\" y=\"-174.5\" font-family=\"Helvetica,sans-Serif\" font-size=\"10.00\" fill=\"#444443\">0.0</text>\n",
       "<polygon fill=\"#fefecd\" stroke=\"none\" points=\"175,-168.5 175,-185.5 195,-185.5 195,-168.5 175,-168.5\"/>\n",
       "<text text-anchor=\"start\" x=\"178\" y=\"-174.5\" font-family=\"Helvetica,sans-Serif\" font-size=\"10.00\" fill=\"#444443\">0.0</text>\n",
       "<polygon fill=\"#fefecd\" stroke=\"none\" points=\"195,-168.5 195,-185.5 215,-185.5 215,-168.5 195,-168.5\"/>\n",
       "<text text-anchor=\"start\" x=\"198\" y=\"-174.5\" font-family=\"Helvetica,sans-Serif\" font-size=\"10.00\" fill=\"#444443\">0.0</text>\n",
       "<polygon fill=\"#fefecd\" stroke=\"none\" points=\"1,-151.5 1,-168.5 21,-168.5 21,-151.5 1,-151.5\"/>\n",
       "<text text-anchor=\"start\" x=\"4\" y=\"-157.5\" font-family=\"Helvetica,sans-Serif\" font-size=\"10.00\" fill=\"#444443\">0.0</text>\n",
       "<polygon fill=\"#fefecd\" stroke=\"none\" points=\"21,-151.5 21,-168.5 41,-168.5 41,-151.5 21,-151.5\"/>\n",
       "<text text-anchor=\"start\" x=\"24\" y=\"-157.5\" font-family=\"Helvetica,sans-Serif\" font-size=\"10.00\" fill=\"#444443\">0.0</text>\n",
       "<polygon fill=\"#fefecd\" stroke=\"none\" points=\"41,-151.5 41,-168.5 61,-168.5 61,-151.5 41,-151.5\"/>\n",
       "<text text-anchor=\"start\" x=\"44\" y=\"-157.5\" font-family=\"Helvetica,sans-Serif\" font-size=\"10.00\" fill=\"#444443\">0.0</text>\n",
       "<polygon fill=\"#fefecd\" stroke=\"none\" points=\"61,-151.5 61,-168.5 81,-168.5 81,-151.5 61,-151.5\"/>\n",
       "<text text-anchor=\"start\" x=\"64\" y=\"-157.5\" font-family=\"Helvetica,sans-Serif\" font-size=\"10.00\" fill=\"#444443\">0.0</text>\n",
       "<polygon fill=\"#fefecd\" stroke=\"none\" points=\"81,-151.5 81,-168.5 101,-168.5 101,-151.5 81,-151.5\"/>\n",
       "<text text-anchor=\"start\" x=\"84\" y=\"-157.5\" font-family=\"Helvetica,sans-Serif\" font-size=\"10.00\" fill=\"#444443\">0.0</text>\n",
       "<polygon fill=\"#fefecd\" stroke=\"none\" points=\"101,-151.5 101,-168.5 115,-168.5 115,-151.5 101,-151.5\"/>\n",
       "<text text-anchor=\"start\" x=\"103\" y=\"-157.5\" font-family=\"Helvetica,sans-Serif\" font-size=\"10.00\" fill=\"#444443\">...</text>\n",
       "<polygon fill=\"#fefecd\" stroke=\"none\" points=\"115,-151.5 115,-168.5 135,-168.5 135,-151.5 115,-151.5\"/>\n",
       "<text text-anchor=\"start\" x=\"118\" y=\"-157.5\" font-family=\"Helvetica,sans-Serif\" font-size=\"10.00\" fill=\"#444443\">0.0</text>\n",
       "<polygon fill=\"#fefecd\" stroke=\"none\" points=\"135,-151.5 135,-168.5 155,-168.5 155,-151.5 135,-151.5\"/>\n",
       "<text text-anchor=\"start\" x=\"138\" y=\"-157.5\" font-family=\"Helvetica,sans-Serif\" font-size=\"10.00\" fill=\"#444443\">0.0</text>\n",
       "<polygon fill=\"#fefecd\" stroke=\"none\" points=\"155,-151.5 155,-168.5 175,-168.5 175,-151.5 155,-151.5\"/>\n",
       "<text text-anchor=\"start\" x=\"158\" y=\"-157.5\" font-family=\"Helvetica,sans-Serif\" font-size=\"10.00\" fill=\"#444443\">0.0</text>\n",
       "<polygon fill=\"#fefecd\" stroke=\"none\" points=\"175,-151.5 175,-168.5 195,-168.5 195,-151.5 175,-151.5\"/>\n",
       "<text text-anchor=\"start\" x=\"178\" y=\"-157.5\" font-family=\"Helvetica,sans-Serif\" font-size=\"10.00\" fill=\"#444443\">0.0</text>\n",
       "<polygon fill=\"#fefecd\" stroke=\"none\" points=\"195,-151.5 195,-168.5 215,-168.5 215,-151.5 195,-151.5\"/>\n",
       "<text text-anchor=\"start\" x=\"198\" y=\"-157.5\" font-family=\"Helvetica,sans-Serif\" font-size=\"10.00\" fill=\"#444443\">0.0</text>\n",
       "<polygon fill=\"#fefecd\" stroke=\"none\" points=\"1,-134.5 1,-151.5 21,-151.5 21,-134.5 1,-134.5\"/>\n",
       "<text text-anchor=\"start\" x=\"4\" y=\"-140.5\" font-family=\"Helvetica,sans-Serif\" font-size=\"10.00\" fill=\"#444443\">0.0</text>\n",
       "<polygon fill=\"#fefecd\" stroke=\"none\" points=\"21,-134.5 21,-151.5 41,-151.5 41,-134.5 21,-134.5\"/>\n",
       "<text text-anchor=\"start\" x=\"24\" y=\"-140.5\" font-family=\"Helvetica,sans-Serif\" font-size=\"10.00\" fill=\"#444443\">0.0</text>\n",
       "<polygon fill=\"#fefecd\" stroke=\"none\" points=\"41,-134.5 41,-151.5 61,-151.5 61,-134.5 41,-134.5\"/>\n",
       "<text text-anchor=\"start\" x=\"44\" y=\"-140.5\" font-family=\"Helvetica,sans-Serif\" font-size=\"10.00\" fill=\"#444443\">0.0</text>\n",
       "<polygon fill=\"#fefecd\" stroke=\"none\" points=\"61,-134.5 61,-151.5 81,-151.5 81,-134.5 61,-134.5\"/>\n",
       "<text text-anchor=\"start\" x=\"64\" y=\"-140.5\" font-family=\"Helvetica,sans-Serif\" font-size=\"10.00\" fill=\"#444443\">0.0</text>\n",
       "<polygon fill=\"#fefecd\" stroke=\"none\" points=\"81,-134.5 81,-151.5 101,-151.5 101,-134.5 81,-134.5\"/>\n",
       "<text text-anchor=\"start\" x=\"84\" y=\"-140.5\" font-family=\"Helvetica,sans-Serif\" font-size=\"10.00\" fill=\"#444443\">0.0</text>\n",
       "<polygon fill=\"#fefecd\" stroke=\"none\" points=\"101,-134.5 101,-151.5 115,-151.5 115,-134.5 101,-134.5\"/>\n",
       "<text text-anchor=\"start\" x=\"103\" y=\"-140.5\" font-family=\"Helvetica,sans-Serif\" font-size=\"10.00\" fill=\"#444443\">...</text>\n",
       "<polygon fill=\"#fefecd\" stroke=\"none\" points=\"115,-134.5 115,-151.5 135,-151.5 135,-134.5 115,-134.5\"/>\n",
       "<text text-anchor=\"start\" x=\"118\" y=\"-140.5\" font-family=\"Helvetica,sans-Serif\" font-size=\"10.00\" fill=\"#444443\">0.0</text>\n",
       "<polygon fill=\"#fefecd\" stroke=\"none\" points=\"135,-134.5 135,-151.5 155,-151.5 155,-134.5 135,-134.5\"/>\n",
       "<text text-anchor=\"start\" x=\"138\" y=\"-140.5\" font-family=\"Helvetica,sans-Serif\" font-size=\"10.00\" fill=\"#444443\">0.0</text>\n",
       "<polygon fill=\"#fefecd\" stroke=\"none\" points=\"155,-134.5 155,-151.5 175,-151.5 175,-134.5 155,-134.5\"/>\n",
       "<text text-anchor=\"start\" x=\"158\" y=\"-140.5\" font-family=\"Helvetica,sans-Serif\" font-size=\"10.00\" fill=\"#444443\">0.0</text>\n",
       "<polygon fill=\"#fefecd\" stroke=\"none\" points=\"175,-134.5 175,-151.5 195,-151.5 195,-134.5 175,-134.5\"/>\n",
       "<text text-anchor=\"start\" x=\"178\" y=\"-140.5\" font-family=\"Helvetica,sans-Serif\" font-size=\"10.00\" fill=\"#444443\">0.0</text>\n",
       "<polygon fill=\"#fefecd\" stroke=\"none\" points=\"195,-134.5 195,-151.5 215,-151.5 215,-134.5 195,-134.5\"/>\n",
       "<text text-anchor=\"start\" x=\"198\" y=\"-140.5\" font-family=\"Helvetica,sans-Serif\" font-size=\"10.00\" fill=\"#444443\">0.0</text>\n",
       "<polygon fill=\"#fefecd\" stroke=\"none\" points=\"1,-117.5 1,-134.5 21,-134.5 21,-117.5 1,-117.5\"/>\n",
       "<text text-anchor=\"start\" x=\"4\" y=\"-123.5\" font-family=\"Helvetica,sans-Serif\" font-size=\"10.00\" fill=\"#444443\">0.0</text>\n",
       "<polygon fill=\"#fefecd\" stroke=\"none\" points=\"21,-117.5 21,-134.5 41,-134.5 41,-117.5 21,-117.5\"/>\n",
       "<text text-anchor=\"start\" x=\"24\" y=\"-123.5\" font-family=\"Helvetica,sans-Serif\" font-size=\"10.00\" fill=\"#444443\">0.0</text>\n",
       "<polygon fill=\"#fefecd\" stroke=\"none\" points=\"41,-117.5 41,-134.5 61,-134.5 61,-117.5 41,-117.5\"/>\n",
       "<text text-anchor=\"start\" x=\"44\" y=\"-123.5\" font-family=\"Helvetica,sans-Serif\" font-size=\"10.00\" fill=\"#444443\">0.0</text>\n",
       "<polygon fill=\"#fefecd\" stroke=\"none\" points=\"61,-117.5 61,-134.5 81,-134.5 81,-117.5 61,-117.5\"/>\n",
       "<text text-anchor=\"start\" x=\"64\" y=\"-123.5\" font-family=\"Helvetica,sans-Serif\" font-size=\"10.00\" fill=\"#444443\">0.0</text>\n",
       "<polygon fill=\"#fefecd\" stroke=\"none\" points=\"81,-117.5 81,-134.5 101,-134.5 101,-117.5 81,-117.5\"/>\n",
       "<text text-anchor=\"start\" x=\"84\" y=\"-123.5\" font-family=\"Helvetica,sans-Serif\" font-size=\"10.00\" fill=\"#444443\">0.0</text>\n",
       "<polygon fill=\"#fefecd\" stroke=\"none\" points=\"101,-117.5 101,-134.5 115,-134.5 115,-117.5 101,-117.5\"/>\n",
       "<text text-anchor=\"start\" x=\"103\" y=\"-123.5\" font-family=\"Helvetica,sans-Serif\" font-size=\"10.00\" fill=\"#444443\">...</text>\n",
       "<polygon fill=\"#fefecd\" stroke=\"none\" points=\"115,-117.5 115,-134.5 135,-134.5 135,-117.5 115,-117.5\"/>\n",
       "<text text-anchor=\"start\" x=\"118\" y=\"-123.5\" font-family=\"Helvetica,sans-Serif\" font-size=\"10.00\" fill=\"#444443\">0.0</text>\n",
       "<polygon fill=\"#fefecd\" stroke=\"none\" points=\"135,-117.5 135,-134.5 155,-134.5 155,-117.5 135,-117.5\"/>\n",
       "<text text-anchor=\"start\" x=\"138\" y=\"-123.5\" font-family=\"Helvetica,sans-Serif\" font-size=\"10.00\" fill=\"#444443\">0.0</text>\n",
       "<polygon fill=\"#fefecd\" stroke=\"none\" points=\"155,-117.5 155,-134.5 175,-134.5 175,-117.5 155,-117.5\"/>\n",
       "<text text-anchor=\"start\" x=\"158\" y=\"-123.5\" font-family=\"Helvetica,sans-Serif\" font-size=\"10.00\" fill=\"#444443\">0.0</text>\n",
       "<polygon fill=\"#fefecd\" stroke=\"none\" points=\"175,-117.5 175,-134.5 195,-134.5 195,-117.5 175,-117.5\"/>\n",
       "<text text-anchor=\"start\" x=\"178\" y=\"-123.5\" font-family=\"Helvetica,sans-Serif\" font-size=\"10.00\" fill=\"#444443\">0.0</text>\n",
       "<polygon fill=\"#fefecd\" stroke=\"none\" points=\"195,-117.5 195,-134.5 215,-134.5 215,-117.5 195,-117.5\"/>\n",
       "<text text-anchor=\"start\" x=\"198\" y=\"-123.5\" font-family=\"Helvetica,sans-Serif\" font-size=\"10.00\" fill=\"#444443\">0.0</text>\n",
       "<polygon fill=\"#fefecd\" stroke=\"none\" points=\"1,-100.5 1,-117.5 21,-117.5 21,-100.5 1,-100.5\"/>\n",
       "<text text-anchor=\"start\" x=\"4\" y=\"-106.5\" font-family=\"Helvetica,sans-Serif\" font-size=\"10.00\" fill=\"#444443\">0.0</text>\n",
       "<polygon fill=\"#fefecd\" stroke=\"none\" points=\"21,-100.5 21,-117.5 41,-117.5 41,-100.5 21,-100.5\"/>\n",
       "<text text-anchor=\"start\" x=\"24\" y=\"-106.5\" font-family=\"Helvetica,sans-Serif\" font-size=\"10.00\" fill=\"#444443\">0.0</text>\n",
       "<polygon fill=\"#fefecd\" stroke=\"none\" points=\"41,-100.5 41,-117.5 61,-117.5 61,-100.5 41,-100.5\"/>\n",
       "<text text-anchor=\"start\" x=\"44\" y=\"-106.5\" font-family=\"Helvetica,sans-Serif\" font-size=\"10.00\" fill=\"#444443\">0.0</text>\n",
       "<polygon fill=\"#fefecd\" stroke=\"none\" points=\"61,-100.5 61,-117.5 81,-117.5 81,-100.5 61,-100.5\"/>\n",
       "<text text-anchor=\"start\" x=\"64\" y=\"-106.5\" font-family=\"Helvetica,sans-Serif\" font-size=\"10.00\" fill=\"#444443\">0.0</text>\n",
       "<polygon fill=\"#fefecd\" stroke=\"none\" points=\"81,-100.5 81,-117.5 101,-117.5 101,-100.5 81,-100.5\"/>\n",
       "<text text-anchor=\"start\" x=\"84\" y=\"-106.5\" font-family=\"Helvetica,sans-Serif\" font-size=\"10.00\" fill=\"#444443\">0.0</text>\n",
       "<polygon fill=\"#fefecd\" stroke=\"none\" points=\"101,-100.5 101,-117.5 115,-117.5 115,-100.5 101,-100.5\"/>\n",
       "<text text-anchor=\"start\" x=\"103\" y=\"-106.5\" font-family=\"Helvetica,sans-Serif\" font-size=\"10.00\" fill=\"#444443\">...</text>\n",
       "<polygon fill=\"#fefecd\" stroke=\"none\" points=\"115,-100.5 115,-117.5 135,-117.5 135,-100.5 115,-100.5\"/>\n",
       "<text text-anchor=\"start\" x=\"118\" y=\"-106.5\" font-family=\"Helvetica,sans-Serif\" font-size=\"10.00\" fill=\"#444443\">0.0</text>\n",
       "<polygon fill=\"#fefecd\" stroke=\"none\" points=\"135,-100.5 135,-117.5 155,-117.5 155,-100.5 135,-100.5\"/>\n",
       "<text text-anchor=\"start\" x=\"138\" y=\"-106.5\" font-family=\"Helvetica,sans-Serif\" font-size=\"10.00\" fill=\"#444443\">0.0</text>\n",
       "<polygon fill=\"#fefecd\" stroke=\"none\" points=\"155,-100.5 155,-117.5 175,-117.5 175,-100.5 155,-100.5\"/>\n",
       "<text text-anchor=\"start\" x=\"158\" y=\"-106.5\" font-family=\"Helvetica,sans-Serif\" font-size=\"10.00\" fill=\"#444443\">0.0</text>\n",
       "<polygon fill=\"#fefecd\" stroke=\"none\" points=\"175,-100.5 175,-117.5 195,-117.5 195,-100.5 175,-100.5\"/>\n",
       "<text text-anchor=\"start\" x=\"178\" y=\"-106.5\" font-family=\"Helvetica,sans-Serif\" font-size=\"10.00\" fill=\"#444443\">0.0</text>\n",
       "<polygon fill=\"#fefecd\" stroke=\"none\" points=\"195,-100.5 195,-117.5 215,-117.5 215,-100.5 195,-100.5\"/>\n",
       "<text text-anchor=\"start\" x=\"198\" y=\"-106.5\" font-family=\"Helvetica,sans-Serif\" font-size=\"10.00\" fill=\"#444443\">0.0</text>\n",
       "<polygon fill=\"#fefecd\" stroke=\"none\" points=\"1,-85.5 1,-100.5 21,-100.5 21,-85.5 1,-85.5\"/>\n",
       "<text text-anchor=\"start\" x=\"6\" y=\"-90.5\" font-family=\"Helvetica,sans-Serif\" font-size=\"10.00\" fill=\"#444443\">⋮</text>\n",
       "<polygon fill=\"#fefecd\" stroke=\"none\" points=\"21,-85.5 21,-100.5 215,-100.5 215,-85.5 21,-85.5\"/>\n",
       "<polygon fill=\"#fefecd\" stroke=\"none\" points=\"1,-68.5 1,-85.5 21,-85.5 21,-68.5 1,-68.5\"/>\n",
       "<text text-anchor=\"start\" x=\"4\" y=\"-74.5\" font-family=\"Helvetica,sans-Serif\" font-size=\"10.00\" fill=\"#444443\">0.0</text>\n",
       "<polygon fill=\"#fefecd\" stroke=\"none\" points=\"21,-68.5 21,-85.5 41,-85.5 41,-68.5 21,-68.5\"/>\n",
       "<text text-anchor=\"start\" x=\"24\" y=\"-74.5\" font-family=\"Helvetica,sans-Serif\" font-size=\"10.00\" fill=\"#444443\">0.0</text>\n",
       "<polygon fill=\"#fefecd\" stroke=\"none\" points=\"41,-68.5 41,-85.5 61,-85.5 61,-68.5 41,-68.5\"/>\n",
       "<text text-anchor=\"start\" x=\"44\" y=\"-74.5\" font-family=\"Helvetica,sans-Serif\" font-size=\"10.00\" fill=\"#444443\">0.0</text>\n",
       "<polygon fill=\"#fefecd\" stroke=\"none\" points=\"61,-68.5 61,-85.5 81,-85.5 81,-68.5 61,-68.5\"/>\n",
       "<text text-anchor=\"start\" x=\"64\" y=\"-74.5\" font-family=\"Helvetica,sans-Serif\" font-size=\"10.00\" fill=\"#444443\">0.0</text>\n",
       "<polygon fill=\"#fefecd\" stroke=\"none\" points=\"81,-68.5 81,-85.5 101,-85.5 101,-68.5 81,-68.5\"/>\n",
       "<text text-anchor=\"start\" x=\"84\" y=\"-74.5\" font-family=\"Helvetica,sans-Serif\" font-size=\"10.00\" fill=\"#444443\">0.0</text>\n",
       "<polygon fill=\"#fefecd\" stroke=\"none\" points=\"101,-68.5 101,-85.5 115,-85.5 115,-68.5 101,-68.5\"/>\n",
       "<text text-anchor=\"start\" x=\"103\" y=\"-74.5\" font-family=\"Helvetica,sans-Serif\" font-size=\"10.00\" fill=\"#444443\">...</text>\n",
       "<polygon fill=\"#fefecd\" stroke=\"none\" points=\"115,-68.5 115,-85.5 135,-85.5 135,-68.5 115,-68.5\"/>\n",
       "<text text-anchor=\"start\" x=\"118\" y=\"-74.5\" font-family=\"Helvetica,sans-Serif\" font-size=\"10.00\" fill=\"#444443\">0.0</text>\n",
       "<polygon fill=\"#fefecd\" stroke=\"none\" points=\"135,-68.5 135,-85.5 155,-85.5 155,-68.5 135,-68.5\"/>\n",
       "<text text-anchor=\"start\" x=\"138\" y=\"-74.5\" font-family=\"Helvetica,sans-Serif\" font-size=\"10.00\" fill=\"#444443\">0.0</text>\n",
       "<polygon fill=\"#fefecd\" stroke=\"none\" points=\"155,-68.5 155,-85.5 175,-85.5 175,-68.5 155,-68.5\"/>\n",
       "<text text-anchor=\"start\" x=\"158\" y=\"-74.5\" font-family=\"Helvetica,sans-Serif\" font-size=\"10.00\" fill=\"#444443\">0.0</text>\n",
       "<polygon fill=\"#fefecd\" stroke=\"none\" points=\"175,-68.5 175,-85.5 195,-85.5 195,-68.5 175,-68.5\"/>\n",
       "<text text-anchor=\"start\" x=\"178\" y=\"-74.5\" font-family=\"Helvetica,sans-Serif\" font-size=\"10.00\" fill=\"#444443\">0.0</text>\n",
       "<polygon fill=\"#fefecd\" stroke=\"none\" points=\"195,-68.5 195,-85.5 215,-85.5 215,-68.5 195,-68.5\"/>\n",
       "<text text-anchor=\"start\" x=\"198\" y=\"-74.5\" font-family=\"Helvetica,sans-Serif\" font-size=\"10.00\" fill=\"#444443\">0.0</text>\n",
       "<polygon fill=\"#fefecd\" stroke=\"none\" points=\"1,-51.5 1,-68.5 21,-68.5 21,-51.5 1,-51.5\"/>\n",
       "<text text-anchor=\"start\" x=\"4\" y=\"-57.5\" font-family=\"Helvetica,sans-Serif\" font-size=\"10.00\" fill=\"#444443\">0.0</text>\n",
       "<polygon fill=\"#fefecd\" stroke=\"none\" points=\"21,-51.5 21,-68.5 41,-68.5 41,-51.5 21,-51.5\"/>\n",
       "<text text-anchor=\"start\" x=\"24\" y=\"-57.5\" font-family=\"Helvetica,sans-Serif\" font-size=\"10.00\" fill=\"#444443\">0.0</text>\n",
       "<polygon fill=\"#fefecd\" stroke=\"none\" points=\"41,-51.5 41,-68.5 61,-68.5 61,-51.5 41,-51.5\"/>\n",
       "<text text-anchor=\"start\" x=\"44\" y=\"-57.5\" font-family=\"Helvetica,sans-Serif\" font-size=\"10.00\" fill=\"#444443\">0.0</text>\n",
       "<polygon fill=\"#fefecd\" stroke=\"none\" points=\"61,-51.5 61,-68.5 81,-68.5 81,-51.5 61,-51.5\"/>\n",
       "<text text-anchor=\"start\" x=\"64\" y=\"-57.5\" font-family=\"Helvetica,sans-Serif\" font-size=\"10.00\" fill=\"#444443\">0.0</text>\n",
       "<polygon fill=\"#fefecd\" stroke=\"none\" points=\"81,-51.5 81,-68.5 101,-68.5 101,-51.5 81,-51.5\"/>\n",
       "<text text-anchor=\"start\" x=\"84\" y=\"-57.5\" font-family=\"Helvetica,sans-Serif\" font-size=\"10.00\" fill=\"#444443\">0.0</text>\n",
       "<polygon fill=\"#fefecd\" stroke=\"none\" points=\"101,-51.5 101,-68.5 115,-68.5 115,-51.5 101,-51.5\"/>\n",
       "<text text-anchor=\"start\" x=\"103\" y=\"-57.5\" font-family=\"Helvetica,sans-Serif\" font-size=\"10.00\" fill=\"#444443\">...</text>\n",
       "<polygon fill=\"#fefecd\" stroke=\"none\" points=\"115,-51.5 115,-68.5 135,-68.5 135,-51.5 115,-51.5\"/>\n",
       "<text text-anchor=\"start\" x=\"118\" y=\"-57.5\" font-family=\"Helvetica,sans-Serif\" font-size=\"10.00\" fill=\"#444443\">0.0</text>\n",
       "<polygon fill=\"#fefecd\" stroke=\"none\" points=\"135,-51.5 135,-68.5 155,-68.5 155,-51.5 135,-51.5\"/>\n",
       "<text text-anchor=\"start\" x=\"138\" y=\"-57.5\" font-family=\"Helvetica,sans-Serif\" font-size=\"10.00\" fill=\"#444443\">0.0</text>\n",
       "<polygon fill=\"#fefecd\" stroke=\"none\" points=\"155,-51.5 155,-68.5 175,-68.5 175,-51.5 155,-51.5\"/>\n",
       "<text text-anchor=\"start\" x=\"158\" y=\"-57.5\" font-family=\"Helvetica,sans-Serif\" font-size=\"10.00\" fill=\"#444443\">0.0</text>\n",
       "<polygon fill=\"#fefecd\" stroke=\"none\" points=\"175,-51.5 175,-68.5 195,-68.5 195,-51.5 175,-51.5\"/>\n",
       "<text text-anchor=\"start\" x=\"178\" y=\"-57.5\" font-family=\"Helvetica,sans-Serif\" font-size=\"10.00\" fill=\"#444443\">0.0</text>\n",
       "<polygon fill=\"#fefecd\" stroke=\"none\" points=\"195,-51.5 195,-68.5 215,-68.5 215,-51.5 195,-51.5\"/>\n",
       "<text text-anchor=\"start\" x=\"198\" y=\"-57.5\" font-family=\"Helvetica,sans-Serif\" font-size=\"10.00\" fill=\"#444443\">0.0</text>\n",
       "<polygon fill=\"#fefecd\" stroke=\"none\" points=\"1,-34.5 1,-51.5 21,-51.5 21,-34.5 1,-34.5\"/>\n",
       "<text text-anchor=\"start\" x=\"4\" y=\"-40.5\" font-family=\"Helvetica,sans-Serif\" font-size=\"10.00\" fill=\"#444443\">0.0</text>\n",
       "<polygon fill=\"#fefecd\" stroke=\"none\" points=\"21,-34.5 21,-51.5 41,-51.5 41,-34.5 21,-34.5\"/>\n",
       "<text text-anchor=\"start\" x=\"24\" y=\"-40.5\" font-family=\"Helvetica,sans-Serif\" font-size=\"10.00\" fill=\"#444443\">0.0</text>\n",
       "<polygon fill=\"#fefecd\" stroke=\"none\" points=\"41,-34.5 41,-51.5 61,-51.5 61,-34.5 41,-34.5\"/>\n",
       "<text text-anchor=\"start\" x=\"44\" y=\"-40.5\" font-family=\"Helvetica,sans-Serif\" font-size=\"10.00\" fill=\"#444443\">0.0</text>\n",
       "<polygon fill=\"#fefecd\" stroke=\"none\" points=\"61,-34.5 61,-51.5 81,-51.5 81,-34.5 61,-34.5\"/>\n",
       "<text text-anchor=\"start\" x=\"64\" y=\"-40.5\" font-family=\"Helvetica,sans-Serif\" font-size=\"10.00\" fill=\"#444443\">0.0</text>\n",
       "<polygon fill=\"#fefecd\" stroke=\"none\" points=\"81,-34.5 81,-51.5 101,-51.5 101,-34.5 81,-34.5\"/>\n",
       "<text text-anchor=\"start\" x=\"84\" y=\"-40.5\" font-family=\"Helvetica,sans-Serif\" font-size=\"10.00\" fill=\"#444443\">0.0</text>\n",
       "<polygon fill=\"#fefecd\" stroke=\"none\" points=\"101,-34.5 101,-51.5 115,-51.5 115,-34.5 101,-34.5\"/>\n",
       "<text text-anchor=\"start\" x=\"103\" y=\"-40.5\" font-family=\"Helvetica,sans-Serif\" font-size=\"10.00\" fill=\"#444443\">...</text>\n",
       "<polygon fill=\"#fefecd\" stroke=\"none\" points=\"115,-34.5 115,-51.5 135,-51.5 135,-34.5 115,-34.5\"/>\n",
       "<text text-anchor=\"start\" x=\"118\" y=\"-40.5\" font-family=\"Helvetica,sans-Serif\" font-size=\"10.00\" fill=\"#444443\">0.0</text>\n",
       "<polygon fill=\"#fefecd\" stroke=\"none\" points=\"135,-34.5 135,-51.5 155,-51.5 155,-34.5 135,-34.5\"/>\n",
       "<text text-anchor=\"start\" x=\"138\" y=\"-40.5\" font-family=\"Helvetica,sans-Serif\" font-size=\"10.00\" fill=\"#444443\">0.0</text>\n",
       "<polygon fill=\"#fefecd\" stroke=\"none\" points=\"155,-34.5 155,-51.5 175,-51.5 175,-34.5 155,-34.5\"/>\n",
       "<text text-anchor=\"start\" x=\"158\" y=\"-40.5\" font-family=\"Helvetica,sans-Serif\" font-size=\"10.00\" fill=\"#444443\">0.0</text>\n",
       "<polygon fill=\"#fefecd\" stroke=\"none\" points=\"175,-34.5 175,-51.5 195,-51.5 195,-34.5 175,-34.5\"/>\n",
       "<text text-anchor=\"start\" x=\"178\" y=\"-40.5\" font-family=\"Helvetica,sans-Serif\" font-size=\"10.00\" fill=\"#444443\">0.0</text>\n",
       "<polygon fill=\"#fefecd\" stroke=\"none\" points=\"195,-34.5 195,-51.5 215,-51.5 215,-34.5 195,-34.5\"/>\n",
       "<text text-anchor=\"start\" x=\"198\" y=\"-40.5\" font-family=\"Helvetica,sans-Serif\" font-size=\"10.00\" fill=\"#444443\">0.0</text>\n",
       "<polygon fill=\"#fefecd\" stroke=\"none\" points=\"1,-17.5 1,-34.5 21,-34.5 21,-17.5 1,-17.5\"/>\n",
       "<text text-anchor=\"start\" x=\"4\" y=\"-23.5\" font-family=\"Helvetica,sans-Serif\" font-size=\"10.00\" fill=\"#444443\">0.0</text>\n",
       "<polygon fill=\"#fefecd\" stroke=\"none\" points=\"21,-17.5 21,-34.5 41,-34.5 41,-17.5 21,-17.5\"/>\n",
       "<text text-anchor=\"start\" x=\"24\" y=\"-23.5\" font-family=\"Helvetica,sans-Serif\" font-size=\"10.00\" fill=\"#444443\">0.0</text>\n",
       "<polygon fill=\"#fefecd\" stroke=\"none\" points=\"41,-17.5 41,-34.5 61,-34.5 61,-17.5 41,-17.5\"/>\n",
       "<text text-anchor=\"start\" x=\"44\" y=\"-23.5\" font-family=\"Helvetica,sans-Serif\" font-size=\"10.00\" fill=\"#444443\">0.0</text>\n",
       "<polygon fill=\"#fefecd\" stroke=\"none\" points=\"61,-17.5 61,-34.5 81,-34.5 81,-17.5 61,-17.5\"/>\n",
       "<text text-anchor=\"start\" x=\"64\" y=\"-23.5\" font-family=\"Helvetica,sans-Serif\" font-size=\"10.00\" fill=\"#444443\">0.0</text>\n",
       "<polygon fill=\"#fefecd\" stroke=\"none\" points=\"81,-17.5 81,-34.5 101,-34.5 101,-17.5 81,-17.5\"/>\n",
       "<text text-anchor=\"start\" x=\"84\" y=\"-23.5\" font-family=\"Helvetica,sans-Serif\" font-size=\"10.00\" fill=\"#444443\">0.0</text>\n",
       "<polygon fill=\"#fefecd\" stroke=\"none\" points=\"101,-17.5 101,-34.5 115,-34.5 115,-17.5 101,-17.5\"/>\n",
       "<text text-anchor=\"start\" x=\"103\" y=\"-23.5\" font-family=\"Helvetica,sans-Serif\" font-size=\"10.00\" fill=\"#444443\">...</text>\n",
       "<polygon fill=\"#fefecd\" stroke=\"none\" points=\"115,-17.5 115,-34.5 135,-34.5 135,-17.5 115,-17.5\"/>\n",
       "<text text-anchor=\"start\" x=\"118\" y=\"-23.5\" font-family=\"Helvetica,sans-Serif\" font-size=\"10.00\" fill=\"#444443\">0.0</text>\n",
       "<polygon fill=\"#fefecd\" stroke=\"none\" points=\"135,-17.5 135,-34.5 155,-34.5 155,-17.5 135,-17.5\"/>\n",
       "<text text-anchor=\"start\" x=\"138\" y=\"-23.5\" font-family=\"Helvetica,sans-Serif\" font-size=\"10.00\" fill=\"#444443\">0.0</text>\n",
       "<polygon fill=\"#fefecd\" stroke=\"none\" points=\"155,-17.5 155,-34.5 175,-34.5 175,-17.5 155,-17.5\"/>\n",
       "<text text-anchor=\"start\" x=\"158\" y=\"-23.5\" font-family=\"Helvetica,sans-Serif\" font-size=\"10.00\" fill=\"#444443\">0.0</text>\n",
       "<polygon fill=\"#fefecd\" stroke=\"none\" points=\"175,-17.5 175,-34.5 195,-34.5 195,-17.5 175,-17.5\"/>\n",
       "<text text-anchor=\"start\" x=\"178\" y=\"-23.5\" font-family=\"Helvetica,sans-Serif\" font-size=\"10.00\" fill=\"#444443\">0.0</text>\n",
       "<polygon fill=\"#fefecd\" stroke=\"none\" points=\"195,-17.5 195,-34.5 215,-34.5 215,-17.5 195,-17.5\"/>\n",
       "<text text-anchor=\"start\" x=\"198\" y=\"-23.5\" font-family=\"Helvetica,sans-Serif\" font-size=\"10.00\" fill=\"#444443\">0.0</text>\n",
       "<polygon fill=\"#fefecd\" stroke=\"none\" points=\"1,-0.5 1,-17.5 21,-17.5 21,-0.5 1,-0.5\"/>\n",
       "<text text-anchor=\"start\" x=\"4\" y=\"-6.5\" font-family=\"Helvetica,sans-Serif\" font-size=\"10.00\" fill=\"#444443\">0.0</text>\n",
       "<polygon fill=\"#fefecd\" stroke=\"none\" points=\"21,-0.5 21,-17.5 41,-17.5 41,-0.5 21,-0.5\"/>\n",
       "<text text-anchor=\"start\" x=\"24\" y=\"-6.5\" font-family=\"Helvetica,sans-Serif\" font-size=\"10.00\" fill=\"#444443\">0.0</text>\n",
       "<polygon fill=\"#fefecd\" stroke=\"none\" points=\"41,-0.5 41,-17.5 61,-17.5 61,-0.5 41,-0.5\"/>\n",
       "<text text-anchor=\"start\" x=\"44\" y=\"-6.5\" font-family=\"Helvetica,sans-Serif\" font-size=\"10.00\" fill=\"#444443\">0.0</text>\n",
       "<polygon fill=\"#fefecd\" stroke=\"none\" points=\"61,-0.5 61,-17.5 81,-17.5 81,-0.5 61,-0.5\"/>\n",
       "<text text-anchor=\"start\" x=\"64\" y=\"-6.5\" font-family=\"Helvetica,sans-Serif\" font-size=\"10.00\" fill=\"#444443\">0.0</text>\n",
       "<polygon fill=\"#fefecd\" stroke=\"none\" points=\"81,-0.5 81,-17.5 101,-17.5 101,-0.5 81,-0.5\"/>\n",
       "<text text-anchor=\"start\" x=\"84\" y=\"-6.5\" font-family=\"Helvetica,sans-Serif\" font-size=\"10.00\" fill=\"#444443\">0.0</text>\n",
       "<polygon fill=\"#fefecd\" stroke=\"none\" points=\"101,-0.5 101,-17.5 115,-17.5 115,-0.5 101,-0.5\"/>\n",
       "<text text-anchor=\"start\" x=\"103\" y=\"-6.5\" font-family=\"Helvetica,sans-Serif\" font-size=\"10.00\" fill=\"#444443\">...</text>\n",
       "<polygon fill=\"#fefecd\" stroke=\"none\" points=\"115,-0.5 115,-17.5 135,-17.5 135,-0.5 115,-0.5\"/>\n",
       "<text text-anchor=\"start\" x=\"118\" y=\"-6.5\" font-family=\"Helvetica,sans-Serif\" font-size=\"10.00\" fill=\"#444443\">0.0</text>\n",
       "<polygon fill=\"#fefecd\" stroke=\"none\" points=\"135,-0.5 135,-17.5 155,-17.5 155,-0.5 135,-0.5\"/>\n",
       "<text text-anchor=\"start\" x=\"138\" y=\"-6.5\" font-family=\"Helvetica,sans-Serif\" font-size=\"10.00\" fill=\"#444443\">0.0</text>\n",
       "<polygon fill=\"#fefecd\" stroke=\"none\" points=\"155,-0.5 155,-17.5 175,-17.5 175,-0.5 155,-0.5\"/>\n",
       "<text text-anchor=\"start\" x=\"158\" y=\"-6.5\" font-family=\"Helvetica,sans-Serif\" font-size=\"10.00\" fill=\"#444443\">0.0</text>\n",
       "<polygon fill=\"#fefecd\" stroke=\"none\" points=\"175,-0.5 175,-17.5 195,-17.5 195,-0.5 175,-0.5\"/>\n",
       "<text text-anchor=\"start\" x=\"178\" y=\"-6.5\" font-family=\"Helvetica,sans-Serif\" font-size=\"10.00\" fill=\"#444443\">0.0</text>\n",
       "<polygon fill=\"#fefecd\" stroke=\"none\" points=\"195,-0.5 195,-17.5 215,-17.5 215,-0.5 195,-0.5\"/>\n",
       "<text text-anchor=\"start\" x=\"198\" y=\"-6.5\" font-family=\"Helvetica,sans-Serif\" font-size=\"10.00\" fill=\"#444443\">0.0</text>\n",
       "</g>\n",
       "</g>\n",
       "</svg>\n"
      ],
      "text/plain": [
       "<graphviz.sources.Source at 0x7f8ecabe2e90>"
      ]
     },
     "execution_count": 43,
     "metadata": {},
     "output_type": "execute_result"
    }
   ],
   "source": [
    "matrixviz(x_valid.cpu().detach().numpy())"
   ]
  },
  {
   "cell_type": "code",
   "execution_count": 10,
   "id": "786c1e98-f159-431f-87a6-e0155b41b28c",
   "metadata": {},
   "outputs": [
    {
     "data": {
      "text/plain": [
       "torch.Size([10000, 1])"
      ]
     },
     "execution_count": 10,
     "metadata": {},
     "output_type": "execute_result"
    }
   ],
   "source": [
    "(((x_valid@w1 + b1).clamp_min(0.))@w2 + b2).shape "
   ]
  },
  {
   "cell_type": "code",
   "execution_count": 11,
   "id": "54a3303f-cfa3-4a3a-9396-1bd25d92e1ad",
   "metadata": {},
   "outputs": [
    {
     "data": {
      "text/plain": [
       "tensor([[  25.75],\n",
       "        [ -13.06],\n",
       "        [-114.79],\n",
       "        ...,\n",
       "        [ -67.44],\n",
       "        [ -74.48],\n",
       "        [ -60.19]])"
      ]
     },
     "execution_count": 11,
     "metadata": {},
     "output_type": "execute_result"
    }
   ],
   "source": [
    "((((x_valid@w1 + b1).clamp_min(0.))@w2) + b2)"
   ]
  },
  {
   "cell_type": "markdown",
   "id": "ae853476-ef16-4ff9-91a2-e10f0d12f666",
   "metadata": {},
   "source": [
    "***"
   ]
  },
  {
   "cell_type": "markdown",
   "id": "8b9c1146-1655-4113-91b6-8d8789e71942",
   "metadata": {},
   "source": [
    "- Create a function `lin` to perform matrix multiplication and add the bias "
   ]
  },
  {
   "cell_type": "code",
   "execution_count": 15,
   "id": "509ddae4-b843-4bf7-b7f5-24176700e476",
   "metadata": {},
   "outputs": [],
   "source": [
    "def lin(x, w, b):\n",
    "    return x@w + b"
   ]
  },
  {
   "cell_type": "code",
   "execution_count": 18,
   "id": "77c0766e-fdad-4db5-bdb3-1c8e37da6c9a",
   "metadata": {},
   "outputs": [
    {
     "data": {
      "text/plain": [
       "torch.Size([10000, 50])"
      ]
     },
     "execution_count": 18,
     "metadata": {},
     "output_type": "execute_result"
    }
   ],
   "source": [
    "t = lin(x_valid, w1, b1)\n",
    "t.shape"
   ]
  },
  {
   "cell_type": "markdown",
   "id": "b84c41be-1f25-4f97-b7cf-9ab0b0ef8c26",
   "metadata": {},
   "source": [
    "- Create a `relu` function to flatten values at 0"
   ]
  },
  {
   "cell_type": "code",
   "execution_count": 17,
   "id": "e5579930-d8f3-434b-b353-e9fbcdd310da",
   "metadata": {},
   "outputs": [],
   "source": [
    "def relu(x):\n",
    "    return x.clamp_min(0.)"
   ]
  },
  {
   "cell_type": "code",
   "execution_count": 23,
   "id": "b7c377e2-10a2-4cf4-a7e1-42b0f96c199a",
   "metadata": {},
   "outputs": [
    {
     "data": {
      "text/plain": [
       "tensor(0.)"
      ]
     },
     "execution_count": 23,
     "metadata": {},
     "output_type": "execute_result"
    }
   ],
   "source": [
    "t = relu(t)\n",
    "t.min()"
   ]
  },
  {
   "cell_type": "markdown",
   "id": "3e5d7d5a-9a0f-4589-86d3-db3ab9168c94",
   "metadata": {},
   "source": [
    "- Create a `model` function to take a mini-batch `xs`\n",
    "    - Create the first linear layer\n",
    "    - Put first linear layer through a relu\n",
    "    - Pass the relu-ed first linear layer through the second linear layer and return the value"
   ]
  },
  {
   "cell_type": "code",
   "execution_count": 24,
   "id": "94b5cdb2-e74d-42eb-afbc-8711b1a5bec7",
   "metadata": {},
   "outputs": [],
   "source": [
    "def model(xs):\n",
    "    l1 = lin(xs, w1, b1)\n",
    "    l2 = relu(l1)\n",
    "    return lin(l2, w2, b2)"
   ]
  },
  {
   "cell_type": "markdown",
   "id": "20b5001b-4021-45d1-92d9-f672f058dfae",
   "metadata": {},
   "source": [
    "- Pass the validation set through the model to check if working"
   ]
  },
  {
   "cell_type": "code",
   "execution_count": 26,
   "id": "e96f79eb-8185-4278-ac1e-a7b0195f0594",
   "metadata": {},
   "outputs": [
    {
     "data": {
      "text/plain": [
       "torch.Size([10000, 1])"
      ]
     },
     "execution_count": 26,
     "metadata": {},
     "output_type": "execute_result"
    }
   ],
   "source": [
    "res = model(x_valid)\n",
    "res.shape"
   ]
  },
  {
   "cell_type": "markdown",
   "id": "ab3e3fce-b00d-4962-aa79-b5eb5166ec02",
   "metadata": {},
   "source": [
    "### Loss Function MSE"
   ]
  },
  {
   "cell_type": "code",
   "execution_count": 28,
   "id": "c640d973-0bf6-43b0-8e13-5d27b108ecea",
   "metadata": {},
   "outputs": [
    {
     "data": {
      "text/plain": [
       "(torch.Size([10000, 1]), torch.Size([10000]))"
      ]
     },
     "execution_count": 28,
     "metadata": {},
     "output_type": "execute_result"
    }
   ],
   "source": [
    "res.shape, y_valid.shape"
   ]
  },
  {
   "cell_type": "markdown",
   "id": "dd6fbf53-c5e8-45f7-ab22-aa6ab2a6c1ab",
   "metadata": {},
   "source": [
    "- Subtract `y_valid` from `res` and think about how broadcasting rules apply here"
   ]
  },
  {
   "cell_type": "code",
   "execution_count": null,
   "id": "cd510d34-9614-4c50-b7fc-158d75b5caea",
   "metadata": {},
   "outputs": [],
   "source": []
  }
 ],
 "metadata": {
  "kernelspec": {
   "display_name": "Python 3 (ipykernel)",
   "language": "python",
   "name": "python3"
  },
  "language_info": {
   "codemirror_mode": {
    "name": "ipython",
    "version": 3
   },
   "file_extension": ".py",
   "mimetype": "text/x-python",
   "name": "python",
   "nbconvert_exporter": "python",
   "pygments_lexer": "ipython3",
   "version": "3.10.10"
  }
 },
 "nbformat": 4,
 "nbformat_minor": 5
}

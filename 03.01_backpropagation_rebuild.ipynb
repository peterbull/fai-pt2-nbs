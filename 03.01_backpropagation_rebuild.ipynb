{
 "cells": [
  {
   "cell_type": "code",
   "execution_count": 43,
   "id": "b248f45f",
   "metadata": {},
   "outputs": [],
   "source": [
    "#|default_exp 03.01_app"
   ]
  },
  {
   "cell_type": "code",
   "execution_count": 1,
   "id": "ca29fbe7-a3a0-4565-98c4-d487e8184591",
   "metadata": {},
   "outputs": [],
   "source": [
    "#|export\n",
    "import pickle,gzip,math,os,time,shutil,torch,matplotlib as mpl, numpy as np\n",
    "from pathlib import Path\n",
    "from torch import tensor\n",
    "from fastcore.test import test_close\n",
    "torch.manual_seed(42)\n",
    "import tsensor\n",
    "# Get rid of findfont: Font family 'Arial' not found.\n",
    "# when running a remote notebook on Jupyter Server on Ubuntu Linux server\n",
    "import logging\n",
    "logging.getLogger(\"matplotlib.font_manager\").setLevel(logging.ERROR)\n",
    "\n",
    "from lolviz import *\n",
    "\n",
    "\n",
    "mpl.rcParams['image.cmap'] = 'gray'\n",
    "torch.set_printoptions(precision=2, linewidth=125, sci_mode=False)\n",
    "np.set_printoptions(precision=2, linewidth=125)\n",
    "\n",
    "path_data = Path('data')\n",
    "path_gz = path_data/'mnist.pkl.gz'\n",
    "with gzip.open(path_gz, 'rb') as f: ((x_train, y_train), (x_valid, y_valid), _) = pickle.load(f, encoding='latin-1')\n",
    "x_train, y_train, x_valid, y_valid = map(tensor, [x_train, y_train, x_valid, y_valid])"
   ]
  },
  {
   "attachments": {},
   "cell_type": "markdown",
   "id": "579e42a4-879d-4d77-8580-b2412e2f32f0",
   "metadata": {},
   "source": [
    "## Foundations Version"
   ]
  },
  {
   "attachments": {},
   "cell_type": "markdown",
   "id": "f4b4105c-6cb8-4f53-a54f-1ffe02926d51",
   "metadata": {},
   "source": [
    "### Basic Architecture"
   ]
  },
  {
   "attachments": {},
   "cell_type": "markdown",
   "id": "0b4bcedc-2ece-41fe-a33b-95919bc7171b",
   "metadata": {},
   "source": [
    "- Assign the number of items in our training set to `n` - where `n` is the number of training examples\n",
    "- Assign the number of pixels in each item to `m` - where `m` is the number of pixels\n",
    "- Assign possible values of digits to `c` - where `c` is the possible values of digits"
   ]
  },
  {
   "cell_type": "code",
   "execution_count": 4,
   "id": "da6dbaa0",
   "metadata": {},
   "outputs": [
    {
     "data": {
      "text/plain": [
       "(tensor([[0., 0., 0.,  ..., 0., 0., 0.],\n",
       "         [0., 0., 0.,  ..., 0., 0., 0.],\n",
       "         [0., 0., 0.,  ..., 0., 0., 0.],\n",
       "         ...,\n",
       "         [0., 0., 0.,  ..., 0., 0., 0.],\n",
       "         [0., 0., 0.,  ..., 0., 0., 0.],\n",
       "         [0., 0., 0.,  ..., 0., 0., 0.]]),\n",
       " torch.Size([50000, 784]))"
      ]
     },
     "execution_count": 4,
     "metadata": {},
     "output_type": "execute_result"
    }
   ],
   "source": [
    "x_train, x_train.shape"
   ]
  },
  {
   "cell_type": "code",
   "execution_count": 12,
   "id": "301371ce",
   "metadata": {},
   "outputs": [
    {
     "data": {
      "text/plain": [
       "torch.Size([784])"
      ]
     },
     "execution_count": 12,
     "metadata": {},
     "output_type": "execute_result"
    }
   ],
   "source": [
    "x_train[1, :].shape"
   ]
  },
  {
   "cell_type": "code",
   "execution_count": 14,
   "id": "5f08f61c",
   "metadata": {},
   "outputs": [
    {
     "data": {
      "text/plain": [
       "torch.Size([28, 28])"
      ]
     },
     "execution_count": 14,
     "metadata": {},
     "output_type": "execute_result"
    }
   ],
   "source": [
    "x_train[1,:].reshape(28,28).shape"
   ]
  },
  {
   "cell_type": "code",
   "execution_count": 15,
   "id": "150229e2",
   "metadata": {},
   "outputs": [],
   "source": [
    "#|export\n",
    "n,m = x_train.shape\n",
    "c = y_train.max()+1"
   ]
  },
  {
   "attachments": {},
   "cell_type": "markdown",
   "id": "bffd6841-412a-485a-8a28-fe295afc80ff",
   "metadata": {},
   "source": [
    "- Assign to `nh` an integer for our 50 hidden layers, aka our 50 activation functinons, in this case *relus*"
   ]
  },
  {
   "cell_type": "code",
   "execution_count": 21,
   "id": "27101ff3",
   "metadata": {},
   "outputs": [],
   "source": [
    "#|export\n",
    "nh = 50"
   ]
  },
  {
   "attachments": {},
   "cell_type": "markdown",
   "id": "2c5e1b10-d246-4654-85e1-d2f8fdf0c58d",
   "metadata": {},
   "source": [
    "- Create the weight matrices for multiplication. \n",
    "    - The first set of weights, `w1` will be for our training set\n",
    "    - The weights will also need a bias, `b1` that will begin as zeros \n",
    "    - The second set of weights, `w2` will be for our output matrix, which will just  be one output, which is the guess of what number it is\n",
    "    - The second bias `b2` be initialized as zeros and match `w2`"
   ]
  },
  {
   "cell_type": "code",
   "execution_count": 22,
   "id": "b4d3be28",
   "metadata": {},
   "outputs": [
    {
     "data": {
      "text/plain": [
       "(50000, 784, tensor(10), 50)"
      ]
     },
     "execution_count": 22,
     "metadata": {},
     "output_type": "execute_result"
    }
   ],
   "source": [
    "n,m,c,nh"
   ]
  },
  {
   "cell_type": "code",
   "execution_count": 50,
   "id": "c3b868f4",
   "metadata": {},
   "outputs": [],
   "source": [
    "#|export\n",
    "w1 = torch.randn(m,nh)\n",
    "b1 = torch.zeros(nh)\n",
    "w2 = torch.randn(nh,1)\n",
    "b2 = torch.zeros(1)"
   ]
  },
  {
   "cell_type": "code",
   "execution_count": 51,
   "id": "70b7a718",
   "metadata": {},
   "outputs": [
    {
     "data": {
      "text/plain": [
       "(torch.Size([784, 50]), torch.Size([50]), torch.Size([50, 1]), torch.Size([1]))"
      ]
     },
     "execution_count": 51,
     "metadata": {},
     "output_type": "execute_result"
    }
   ],
   "source": [
    "w1.shape, b1.shape, w2.shape, b2.shape"
   ]
  },
  {
   "cell_type": "code",
   "execution_count": 90,
   "id": "13845b23",
   "metadata": {},
   "outputs": [
    {
     "data": {
      "text/plain": [
       "torch.Size([50000, 50])"
      ]
     },
     "execution_count": 90,
     "metadata": {},
     "output_type": "execute_result"
    }
   ],
   "source": [
    "(x_train@w1 + b1).shape"
   ]
  },
  {
   "cell_type": "code",
   "execution_count": null,
   "id": "238a39d9",
   "metadata": {},
   "outputs": [],
   "source": []
  },
  {
   "attachments": {},
   "cell_type": "markdown",
   "id": "8b9c1146-1655-4113-91b6-8d8789e71942",
   "metadata": {},
   "source": [
    "- Create a function `lin` to perform matrix multiplication and add the bias "
   ]
  },
  {
   "cell_type": "code",
   "execution_count": 78,
   "id": "6a830983",
   "metadata": {},
   "outputs": [],
   "source": [
    "#|export\n",
    "def lin(x, w, b):\n",
    "    return x@w + b"
   ]
  },
  {
   "cell_type": "code",
   "execution_count": 79,
   "id": "ba4745f1",
   "metadata": {},
   "outputs": [
    {
     "data": {
      "text/plain": [
       "torch.Size([10000, 784])"
      ]
     },
     "execution_count": 79,
     "metadata": {},
     "output_type": "execute_result"
    }
   ],
   "source": [
    "x_valid.shape"
   ]
  },
  {
   "cell_type": "code",
   "execution_count": 80,
   "id": "c790bd37",
   "metadata": {},
   "outputs": [
    {
     "data": {
      "text/plain": [
       "torch.Size([10000, 50])"
      ]
     },
     "execution_count": 80,
     "metadata": {},
     "output_type": "execute_result"
    }
   ],
   "source": [
    "t = lin(x_valid, w1, b1)\n",
    "t.shape"
   ]
  },
  {
   "cell_type": "code",
   "execution_count": 81,
   "id": "bded4afd",
   "metadata": {},
   "outputs": [
    {
     "data": {
      "text/plain": [
       "tensor([[ -2.38,  18.71,  -8.72,  ...,  -0.74,  19.42,   6.90],\n",
       "        [ -6.54,   7.11, -11.90,  ...,  -1.14,  -4.02,   6.22],\n",
       "        [  3.42,  -0.41,   6.16,  ...,  -6.20,   0.67,  -4.74],\n",
       "        ...,\n",
       "        [  6.39,   2.75,   1.62,  ...,   0.32,   1.59,  -8.12],\n",
       "        [ 13.71,  14.85,  -1.77,  ...,   0.24,   5.15,  -2.74],\n",
       "        [ -1.58,   6.40,  -3.54,  ...,  11.86,  12.06,   6.59]])"
      ]
     },
     "execution_count": 81,
     "metadata": {},
     "output_type": "execute_result"
    }
   ],
   "source": [
    "t"
   ]
  },
  {
   "attachments": {},
   "cell_type": "markdown",
   "id": "b84c41be-1f25-4f97-b7cf-9ab0b0ef8c26",
   "metadata": {},
   "source": [
    "- Create a `relu` function to flatten values at 0"
   ]
  },
  {
   "cell_type": "code",
   "execution_count": 82,
   "id": "1662de6f",
   "metadata": {},
   "outputs": [],
   "source": [
    "#|export\n",
    "def relu(x):\n",
    "    return x.clamp_min(0.)"
   ]
  },
  {
   "cell_type": "code",
   "execution_count": 83,
   "id": "dbd705e7",
   "metadata": {},
   "outputs": [
    {
     "data": {
      "text/plain": [
       "tensor([[ 0.00, 18.71,  0.00,  ...,  0.00, 19.42,  6.90],\n",
       "        [ 0.00,  7.11,  0.00,  ...,  0.00,  0.00,  6.22],\n",
       "        [ 3.42,  0.00,  6.16,  ...,  0.00,  0.67,  0.00],\n",
       "        ...,\n",
       "        [ 6.39,  2.75,  1.62,  ...,  0.32,  1.59,  0.00],\n",
       "        [13.71, 14.85,  0.00,  ...,  0.24,  5.15,  0.00],\n",
       "        [ 0.00,  6.40,  0.00,  ..., 11.86, 12.06,  6.59]])"
      ]
     },
     "execution_count": 83,
     "metadata": {},
     "output_type": "execute_result"
    }
   ],
   "source": [
    "t = relu(t)\n",
    "t"
   ]
  },
  {
   "attachments": {},
   "cell_type": "markdown",
   "id": "3e5d7d5a-9a0f-4589-86d3-db3ab9168c94",
   "metadata": {},
   "source": [
    "- Create a `model` function to take a mini-batch `xs`\n",
    "    - Create the first linear layer\n",
    "    - Put first linear layer through a relu\n",
    "    - Pass the relu-ed first linear layer through the second linear layer and return the value"
   ]
  },
  {
   "cell_type": "code",
   "execution_count": 84,
   "id": "a853c670",
   "metadata": {},
   "outputs": [],
   "source": [
    "#|export\n",
    "def model(xb):\n",
    "    l1 = lin(xb, w1, b1)\n",
    "    l2 = relu(l1)\n",
    "    return lin(l2, w2, b2)"
   ]
  },
  {
   "attachments": {},
   "cell_type": "markdown",
   "id": "20b5001b-4021-45d1-92d9-f672f058dfae",
   "metadata": {},
   "source": [
    "- Pass the validation set through the model to check if working`"
   ]
  },
  {
   "cell_type": "code",
   "execution_count": 87,
   "id": "8056a1aa",
   "metadata": {},
   "outputs": [
    {
     "data": {
      "text/plain": [
       "tensor([[ 37.33],\n",
       "        [-11.00],\n",
       "        [ 19.92],\n",
       "        ...,\n",
       "        [ 31.65],\n",
       "        [-36.43],\n",
       "        [ 20.06]])"
      ]
     },
     "execution_count": 87,
     "metadata": {},
     "output_type": "execute_result"
    }
   ],
   "source": [
    "#|export\n",
    "res = model(x_valid)\n",
    "res"
   ]
  },
  {
   "attachments": {},
   "cell_type": "markdown",
   "id": "ab3e3fce-b00d-4962-aa79-b5eb5166ec02",
   "metadata": {},
   "source": [
    "### Loss Function MSE"
   ]
  },
  {
   "attachments": {},
   "cell_type": "markdown",
   "id": "dd6fbf53-c5e8-45f7-ab22-aa6ab2a6c1ab",
   "metadata": {},
   "source": [
    "- Subtract `y_valid` from `res` and think about how broadcasting rules apply here"
   ]
  },
  {
   "cell_type": "code",
   "execution_count": 44,
   "id": "70e6290e",
   "metadata": {},
   "outputs": [],
   "source": [
    "import nbdev"
   ]
  },
  {
   "cell_type": "code",
   "execution_count": 67,
   "id": "8c82e6ee",
   "metadata": {},
   "outputs": [],
   "source": [
    "nbdev.export.nb_export('03.01_backpropagation_rebuild.ipynb', '03.01_app')"
   ]
  },
  {
   "cell_type": "code",
   "execution_count": null,
   "id": "875095a9",
   "metadata": {},
   "outputs": [],
   "source": []
  }
 ],
 "metadata": {
  "kernelspec": {
   "display_name": "Python 3 (ipykernel)",
   "language": "python",
   "name": "python3"
  },
  "language_info": {
   "codemirror_mode": {
    "name": "ipython",
    "version": 3
   },
   "file_extension": ".py",
   "mimetype": "text/x-python",
   "name": "python",
   "nbconvert_exporter": "python",
   "pygments_lexer": "ipython3",
   "version": "3.10.10"
  }
 },
 "nbformat": 4,
 "nbformat_minor": 5
}

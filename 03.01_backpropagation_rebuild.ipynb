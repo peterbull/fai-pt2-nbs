{
 "cells": [
  {
   "cell_type": "code",
   "execution_count": 1,
   "id": "b248f45f",
   "metadata": {},
   "outputs": [],
   "source": [
    "#|default_exp 03.01_app"
   ]
  },
  {
   "cell_type": "code",
   "execution_count": 2,
   "id": "ca29fbe7-a3a0-4565-98c4-d487e8184591",
   "metadata": {},
   "outputs": [],
   "source": [
    "#|export\n",
    "import pickle,gzip,math,os,time,shutil,torch,matplotlib as mpl, numpy as np\n",
    "from pathlib import Path\n",
    "from torch import tensor\n",
    "from fastcore.test import test_close\n",
    "torch.manual_seed(42)\n",
    "import tsensor\n",
    "# Get rid of findfont: Font family 'Arial' not found.\n",
    "# when running a remote notebook on Jupyter Server on Ubuntu Linux server\n",
    "import logging\n",
    "logging.getLogger(\"matplotlib.font_manager\").setLevel(logging.ERROR)\n",
    "\n",
    "from lolviz import *\n",
    "\n",
    "\n",
    "mpl.rcParams['image.cmap'] = 'gray'\n",
    "torch.set_printoptions(precision=2, linewidth=125, sci_mode=False)\n",
    "np.set_printoptions(precision=2, linewidth=125)\n",
    "\n",
    "path_data = Path('data')\n",
    "path_gz = path_data/'mnist.pkl.gz'\n",
    "with gzip.open(path_gz, 'rb') as f: ((x_train, y_train), (x_valid, y_valid), _) = pickle.load(f, encoding='latin-1')\n",
    "x_train, y_train, x_valid, y_valid = map(tensor, [x_train, y_train, x_valid, y_valid])"
   ]
  },
  {
   "attachments": {},
   "cell_type": "markdown",
   "id": "579e42a4-879d-4d77-8580-b2412e2f32f0",
   "metadata": {},
   "source": [
    "## Foundations Version"
   ]
  },
  {
   "attachments": {},
   "cell_type": "markdown",
   "id": "f4b4105c-6cb8-4f53-a54f-1ffe02926d51",
   "metadata": {},
   "source": [
    "### Basic Architecture"
   ]
  },
  {
   "attachments": {},
   "cell_type": "markdown",
   "id": "0b4bcedc-2ece-41fe-a33b-95919bc7171b",
   "metadata": {},
   "source": [
    "- Assign the number of items in our training set to `n` - where `n` is the number of training examples\n",
    "- Assign the number of pixels in each item to `m` - where `m` is the number of pixels\n",
    "- Assign possible values of digits to `c` - where `c` is the possible values of digits"
   ]
  },
  {
   "cell_type": "code",
   "execution_count": 3,
   "id": "da6dbaa0",
   "metadata": {},
   "outputs": [
    {
     "data": {
      "text/plain": [
       "(tensor([[0., 0., 0.,  ..., 0., 0., 0.],\n",
       "         [0., 0., 0.,  ..., 0., 0., 0.],\n",
       "         [0., 0., 0.,  ..., 0., 0., 0.],\n",
       "         ...,\n",
       "         [0., 0., 0.,  ..., 0., 0., 0.],\n",
       "         [0., 0., 0.,  ..., 0., 0., 0.],\n",
       "         [0., 0., 0.,  ..., 0., 0., 0.]]),\n",
       " torch.Size([50000, 784]))"
      ]
     },
     "execution_count": 3,
     "metadata": {},
     "output_type": "execute_result"
    }
   ],
   "source": [
    "x_train, x_train.shape"
   ]
  },
  {
   "cell_type": "code",
   "execution_count": 4,
   "id": "301371ce",
   "metadata": {},
   "outputs": [
    {
     "data": {
      "text/plain": [
       "torch.Size([784])"
      ]
     },
     "execution_count": 4,
     "metadata": {},
     "output_type": "execute_result"
    }
   ],
   "source": [
    "x_train[1, :].shape"
   ]
  },
  {
   "cell_type": "code",
   "execution_count": 5,
   "id": "5f08f61c",
   "metadata": {},
   "outputs": [
    {
     "data": {
      "text/plain": [
       "torch.Size([28, 28])"
      ]
     },
     "execution_count": 5,
     "metadata": {},
     "output_type": "execute_result"
    }
   ],
   "source": [
    "x_train[1,:].reshape(28,28).shape"
   ]
  },
  {
   "cell_type": "code",
   "execution_count": 6,
   "id": "150229e2",
   "metadata": {},
   "outputs": [],
   "source": [
    "#|export\n",
    "n,m = x_train.shape\n",
    "c = y_train.max()+1"
   ]
  },
  {
   "attachments": {},
   "cell_type": "markdown",
   "id": "bffd6841-412a-485a-8a28-fe295afc80ff",
   "metadata": {},
   "source": [
    "- Assign to `nh` an integer for our 50 hidden layers, aka our 50 activation functinons, in this case *relus*"
   ]
  },
  {
   "cell_type": "code",
   "execution_count": 7,
   "id": "27101ff3",
   "metadata": {},
   "outputs": [],
   "source": [
    "#|export\n",
    "nh = 50"
   ]
  },
  {
   "attachments": {},
   "cell_type": "markdown",
   "id": "2c5e1b10-d246-4654-85e1-d2f8fdf0c58d",
   "metadata": {},
   "source": [
    "- Create the weight matrices for multiplication. \n",
    "    - The first set of weights, `w1` will be for our training set\n",
    "    - The weights will also need a bias, `b1` that will begin as zeros \n",
    "    - The second set of weights, `w2` will be for our output matrix, which will just  be one output, which is the guess of what number it is\n",
    "    - The second bias `b2` be initialized as zeros and match `w2`"
   ]
  },
  {
   "cell_type": "code",
   "execution_count": 8,
   "id": "b4d3be28",
   "metadata": {},
   "outputs": [
    {
     "data": {
      "text/plain": [
       "(50000, 784, tensor(10), 50)"
      ]
     },
     "execution_count": 8,
     "metadata": {},
     "output_type": "execute_result"
    }
   ],
   "source": [
    "n,m,c,nh"
   ]
  },
  {
   "cell_type": "code",
   "execution_count": 9,
   "id": "c3b868f4",
   "metadata": {},
   "outputs": [],
   "source": [
    "#|export\n",
    "w1 = torch.randn(m,nh)\n",
    "b1 = torch.zeros(nh)\n",
    "w2 = torch.randn(nh,1)\n",
    "b2 = torch.zeros(1)"
   ]
  },
  {
   "cell_type": "code",
   "execution_count": 10,
   "id": "70b7a718",
   "metadata": {},
   "outputs": [
    {
     "data": {
      "text/plain": [
       "(torch.Size([784, 50]), torch.Size([50]), torch.Size([50, 1]), torch.Size([1]))"
      ]
     },
     "execution_count": 10,
     "metadata": {},
     "output_type": "execute_result"
    }
   ],
   "source": [
    "w1.shape, b1.shape, w2.shape, b2.shape"
   ]
  },
  {
   "cell_type": "code",
   "execution_count": 11,
   "id": "ce39de63",
   "metadata": {},
   "outputs": [
    {
     "data": {
      "text/plain": [
       "tensor([[ 12.53,  10.99,  -2.58,  ...,   6.05,  -0.14,  11.34],\n",
       "        [ 28.33,   6.83,   4.17,  ..., -13.48, -14.75,  17.52],\n",
       "        [  5.67,  -5.26,   0.55,  ...,  -1.61,   4.13,   4.68],\n",
       "        ...,\n",
       "        [  1.14,   2.96, -14.34,  ...,   1.26,   4.31,  19.45],\n",
       "        [ -6.83,   4.90,  -4.14,  ...,   2.80,  -1.42,  12.29],\n",
       "        [  8.51,  14.52,  -7.94,  ...,  14.50,   1.10,  18.45]])"
      ]
     },
     "execution_count": 11,
     "metadata": {},
     "output_type": "execute_result"
    }
   ],
   "source": [
    "(x_train@w1) + b2"
   ]
  },
  {
   "cell_type": "code",
   "execution_count": 12,
   "id": "8411ad15",
   "metadata": {},
   "outputs": [
    {
     "data": {
      "text/plain": [
       "torch.Size([50000])"
      ]
     },
     "execution_count": 12,
     "metadata": {},
     "output_type": "execute_result"
    }
   ],
   "source": [
    "y_train.shape"
   ]
  },
  {
   "attachments": {},
   "cell_type": "markdown",
   "id": "8b9c1146-1655-4113-91b6-8d8789e71942",
   "metadata": {},
   "source": [
    "- Create a function `lin` to perform matrix multiplication and add the bias "
   ]
  },
  {
   "cell_type": "code",
   "execution_count": 13,
   "id": "6a830983",
   "metadata": {},
   "outputs": [],
   "source": [
    "#|export\n",
    "def lin(x, w, b):\n",
    "    return x@w + b"
   ]
  },
  {
   "cell_type": "code",
   "execution_count": 14,
   "id": "ba4745f1",
   "metadata": {},
   "outputs": [
    {
     "data": {
      "text/plain": [
       "torch.Size([10000, 784])"
      ]
     },
     "execution_count": 14,
     "metadata": {},
     "output_type": "execute_result"
    }
   ],
   "source": [
    "x_valid.shape"
   ]
  },
  {
   "cell_type": "code",
   "execution_count": 15,
   "id": "c790bd37",
   "metadata": {},
   "outputs": [
    {
     "data": {
      "text/plain": [
       "torch.Size([10000, 50])"
      ]
     },
     "execution_count": 15,
     "metadata": {},
     "output_type": "execute_result"
    }
   ],
   "source": [
    "t = lin(x_valid, w1, b1)\n",
    "t.shape"
   ]
  },
  {
   "cell_type": "code",
   "execution_count": 16,
   "id": "bded4afd",
   "metadata": {},
   "outputs": [
    {
     "data": {
      "text/plain": [
       "tensor([[ -0.09,  11.87, -11.39,  ...,   5.48,   2.14,  15.30],\n",
       "        [  5.38,  10.21, -14.49,  ...,   0.88,   0.08,  20.23],\n",
       "        [  3.31,   0.12,   3.10,  ...,  16.89,  -6.05,  24.74],\n",
       "        ...,\n",
       "        [  4.01,  10.35, -11.25,  ...,   0.23,  -5.30,  18.28],\n",
       "        [ 10.62,  -4.27,  10.72,  ...,  -2.87,  -2.87,  18.23],\n",
       "        [  2.84,  -0.22,   1.43,  ...,  -3.91,   5.75,   2.12]])"
      ]
     },
     "execution_count": 16,
     "metadata": {},
     "output_type": "execute_result"
    }
   ],
   "source": [
    "t"
   ]
  },
  {
   "attachments": {},
   "cell_type": "markdown",
   "id": "b84c41be-1f25-4f97-b7cf-9ab0b0ef8c26",
   "metadata": {},
   "source": [
    "- Create a `relu` function to flatten values at 0"
   ]
  },
  {
   "cell_type": "code",
   "execution_count": 17,
   "id": "1662de6f",
   "metadata": {},
   "outputs": [],
   "source": [
    "#|export\n",
    "def relu(x):\n",
    "    return x.clamp_min(0.)"
   ]
  },
  {
   "cell_type": "code",
   "execution_count": 18,
   "id": "13845b23",
   "metadata": {},
   "outputs": [
    {
     "data": {
      "text/plain": [
       "tensor([[12.53, 10.99,  0.00,  ...,  6.05,  0.00, 11.34],\n",
       "        [28.33,  6.83,  4.17,  ...,  0.00,  0.00, 17.52],\n",
       "        [ 5.67,  0.00,  0.55,  ...,  0.00,  4.13,  4.68],\n",
       "        ...,\n",
       "        [ 1.14,  2.96,  0.00,  ...,  1.26,  4.31, 19.45],\n",
       "        [ 0.00,  4.90,  0.00,  ...,  2.80,  0.00, 12.29],\n",
       "        [ 8.51, 14.52,  0.00,  ..., 14.50,  1.10, 18.45]])"
      ]
     },
     "execution_count": 18,
     "metadata": {},
     "output_type": "execute_result"
    }
   ],
   "source": [
    "relu(x_train@w1 + b1)"
   ]
  },
  {
   "cell_type": "code",
   "execution_count": 19,
   "id": "dbd705e7",
   "metadata": {},
   "outputs": [
    {
     "data": {
      "text/plain": [
       "tensor([[ 0.00, 11.87,  0.00,  ...,  5.48,  2.14, 15.30],\n",
       "        [ 5.38, 10.21,  0.00,  ...,  0.88,  0.08, 20.23],\n",
       "        [ 3.31,  0.12,  3.10,  ..., 16.89,  0.00, 24.74],\n",
       "        ...,\n",
       "        [ 4.01, 10.35,  0.00,  ...,  0.23,  0.00, 18.28],\n",
       "        [10.62,  0.00, 10.72,  ...,  0.00,  0.00, 18.23],\n",
       "        [ 2.84,  0.00,  1.43,  ...,  0.00,  5.75,  2.12]])"
      ]
     },
     "execution_count": 19,
     "metadata": {},
     "output_type": "execute_result"
    }
   ],
   "source": [
    "t = relu(t)\n",
    "t"
   ]
  },
  {
   "cell_type": "code",
   "execution_count": 20,
   "id": "f7992a9f",
   "metadata": {},
   "outputs": [
    {
     "data": {
      "text/plain": [
       "torch.Size([50000, 50])"
      ]
     },
     "execution_count": 20,
     "metadata": {},
     "output_type": "execute_result"
    }
   ],
   "source": [
    "(x_train@w1 + b1).shape"
   ]
  },
  {
   "attachments": {},
   "cell_type": "markdown",
   "id": "3e5d7d5a-9a0f-4589-86d3-db3ab9168c94",
   "metadata": {},
   "source": [
    "- Create a `model` function to take a mini-batch `xs`\n",
    "    - Create the first linear layer\n",
    "    - Put first linear layer through a relu\n",
    "    - Pass the relu-ed first linear layer through the second linear layer and return the value"
   ]
  },
  {
   "cell_type": "code",
   "execution_count": 21,
   "id": "a853c670",
   "metadata": {},
   "outputs": [],
   "source": [
    "#|export\n",
    "def model(xb):\n",
    "    l1 = lin(xb, w1, b1)\n",
    "    l2 = relu(l1)\n",
    "    return lin(l2, w2, b2)"
   ]
  },
  {
   "cell_type": "code",
   "execution_count": 22,
   "id": "b29d9488",
   "metadata": {},
   "outputs": [
    {
     "data": {
      "text/plain": [
       "(tensor([[-30.97],\n",
       "         [-99.38],\n",
       "         [  8.72],\n",
       "         ...,\n",
       "         [-52.12],\n",
       "         [-46.25],\n",
       "         [ -4.35]]),\n",
       " torch.Size([50000, 1]))"
      ]
     },
     "execution_count": 22,
     "metadata": {},
     "output_type": "execute_result"
    }
   ],
   "source": [
    "lin(relu(x_train@w1 + b1), w2, b2),lin(relu(x_train@w1 + b1), w2, b2).shape"
   ]
  },
  {
   "attachments": {},
   "cell_type": "markdown",
   "id": "20b5001b-4021-45d1-92d9-f672f058dfae",
   "metadata": {},
   "source": [
    "- Pass the validation set through the model to check if working"
   ]
  },
  {
   "cell_type": "code",
   "execution_count": 23,
   "id": "8056a1aa",
   "metadata": {},
   "outputs": [
    {
     "data": {
      "text/plain": [
       "tensor([[  25.75],\n",
       "        [ -13.06],\n",
       "        [-114.79],\n",
       "        ...,\n",
       "        [ -67.44],\n",
       "        [ -74.48],\n",
       "        [ -60.19]])"
      ]
     },
     "execution_count": 23,
     "metadata": {},
     "output_type": "execute_result"
    }
   ],
   "source": [
    "#|export\n",
    "res = model(x_valid)\n",
    "res"
   ]
  },
  {
   "attachments": {},
   "cell_type": "markdown",
   "id": "ab3e3fce-b00d-4962-aa79-b5eb5166ec02",
   "metadata": {},
   "source": [
    "### Loss Function MSE"
   ]
  },
  {
   "attachments": {},
   "cell_type": "markdown",
   "id": "dd6fbf53-c5e8-45f7-ab22-aa6ab2a6c1ab",
   "metadata": {},
   "source": [
    "- Subtract `y_valid` from `res` and think about how broadcasting rules apply here"
   ]
  },
  {
   "cell_type": "code",
   "execution_count": 24,
   "id": "8b7195d0",
   "metadata": {},
   "outputs": [
    {
     "data": {
      "text/plain": [
       "(torch.Size([10000, 1]), torch.Size([10000]))"
      ]
     },
     "execution_count": 24,
     "metadata": {},
     "output_type": "execute_result"
    }
   ],
   "source": [
    "res.shape, y_valid.shape"
   ]
  },
  {
   "attachments": {},
   "cell_type": "markdown",
   "id": "22ee5d96",
   "metadata": {},
   "source": [
    "- Subtract the validation from the model results "
   ]
  },
  {
   "cell_type": "code",
   "execution_count": 25,
   "id": "b323c704",
   "metadata": {},
   "outputs": [
    {
     "data": {
      "text/plain": [
       "torch.Size([10000, 10000])"
      ]
     },
     "execution_count": 25,
     "metadata": {},
     "output_type": "execute_result"
    }
   ],
   "source": [
    "(res-y_valid).shape"
   ]
  },
  {
   "attachments": {},
   "cell_type": "markdown",
   "id": "74de761d",
   "metadata": {},
   "source": [
    "- adjust to add a unit axis to correct the output from broadcasting"
   ]
  },
  {
   "cell_type": "code",
   "execution_count": 26,
   "id": "6ed5ab67",
   "metadata": {},
   "outputs": [
    {
     "data": {
      "text/plain": [
       "(torch.Size([10000, 1]),\n",
       " tensor([[  22.75],\n",
       "         [ -21.06],\n",
       "         [-120.79],\n",
       "         ...,\n",
       "         [ -72.44],\n",
       "         [ -80.48],\n",
       "         [ -68.19]]))"
      ]
     },
     "execution_count": 26,
     "metadata": {},
     "output_type": "execute_result"
    }
   ],
   "source": [
    "(res-y_valid[:,None]).shape, (res-y_valid[:,None])"
   ]
  },
  {
   "attachments": {},
   "cell_type": "markdown",
   "id": "f5a6e584",
   "metadata": {},
   "source": [
    "- remove a unit axis to correct the output from broadcasting"
   ]
  },
  {
   "cell_type": "code",
   "execution_count": 27,
   "id": "11aab82b",
   "metadata": {},
   "outputs": [
    {
     "data": {
      "text/plain": [
       "torch.Size([10000])"
      ]
     },
     "execution_count": 27,
     "metadata": {},
     "output_type": "execute_result"
    }
   ],
   "source": [
    "(res[:,0] - y_valid).shape"
   ]
  },
  {
   "cell_type": "code",
   "execution_count": 28,
   "id": "1d8b45d7",
   "metadata": {},
   "outputs": [],
   "source": [
    "y_train, y_valid = y_train.float(), y_valid.float()"
   ]
  },
  {
   "attachments": {},
   "cell_type": "markdown",
   "id": "a0745c78",
   "metadata": {},
   "source": [
    "create predictions"
   ]
  },
  {
   "cell_type": "code",
   "execution_count": 29,
   "id": "2bc1273d",
   "metadata": {},
   "outputs": [
    {
     "data": {
      "text/plain": [
       "torch.Size([50000, 1])"
      ]
     },
     "execution_count": 29,
     "metadata": {},
     "output_type": "execute_result"
    }
   ],
   "source": [
    "preds = model(x_train)\n",
    "preds.shape"
   ]
  },
  {
   "attachments": {},
   "cell_type": "markdown",
   "id": "032edc9e",
   "metadata": {},
   "source": [
    "create a mean squared error function"
   ]
  },
  {
   "cell_type": "code",
   "execution_count": 30,
   "id": "5ebfd8d1",
   "metadata": {},
   "outputs": [],
   "source": [
    "def mse(output, target):\n",
    "    return (output[:,0] - target).pow(2).mean()"
   ]
  },
  {
   "cell_type": "code",
   "execution_count": 31,
   "id": "38c8e306",
   "metadata": {},
   "outputs": [
    {
     "data": {
      "text/plain": [
       "tensor(4308.76)"
      ]
     },
     "execution_count": 31,
     "metadata": {},
     "output_type": "execute_result"
    }
   ],
   "source": [
    "mse(preds, y_train)"
   ]
  },
  {
   "attachments": {},
   "cell_type": "markdown",
   "id": "266fa375",
   "metadata": {},
   "source": [
    "## Gradients and Backward Pass"
   ]
  },
  {
   "cell_type": "code",
   "execution_count": 32,
   "id": "0417a24d",
   "metadata": {},
   "outputs": [
    {
     "data": {
      "text/latex": [
       "$\\displaystyle 2 x$"
      ],
      "text/plain": [
       "2*x"
      ]
     },
     "execution_count": 32,
     "metadata": {},
     "output_type": "execute_result"
    }
   ],
   "source": [
    "from sympy import symbols, diff\n",
    "x,y = symbols('x y')\n",
    "diff(x**2, x)"
   ]
  },
  {
   "cell_type": "code",
   "execution_count": 33,
   "id": "d673b533",
   "metadata": {},
   "outputs": [
    {
     "data": {
      "text/latex": [
       "$\\displaystyle 6 x$"
      ],
      "text/plain": [
       "6*x"
      ]
     },
     "execution_count": 33,
     "metadata": {},
     "output_type": "execute_result"
    }
   ],
   "source": [
    "diff(3*x**2 + 9, x)"
   ]
  },
  {
   "attachments": {},
   "cell_type": "markdown",
   "id": "4d200561",
   "metadata": {},
   "source": [
    "***"
   ]
  },
  {
   "cell_type": "code",
   "execution_count": 34,
   "id": "6af87a99",
   "metadata": {},
   "outputs": [],
   "source": [
    "x_res = model(x_train)"
   ]
  },
  {
   "cell_type": "code",
   "execution_count": 35,
   "id": "57742c73",
   "metadata": {},
   "outputs": [
    {
     "data": {
      "text/plain": [
       "tensor([-35.97, -99.38,   4.72,  ..., -60.12, -50.25, -12.35])"
      ]
     },
     "execution_count": 35,
     "metadata": {},
     "output_type": "execute_result"
    }
   ],
   "source": [
    "(x_res[:,0] - y_train)"
   ]
  },
  {
   "cell_type": "code",
   "execution_count": 36,
   "id": "f337d350",
   "metadata": {},
   "outputs": [
    {
     "data": {
      "text/plain": [
       "tensor(4308.76)"
      ]
     },
     "execution_count": 36,
     "metadata": {},
     "output_type": "execute_result"
    }
   ],
   "source": [
    "(x_res[:,0] - y_train).pow(2).mean()"
   ]
  },
  {
   "cell_type": "code",
   "execution_count": 37,
   "id": "59fdee13",
   "metadata": {},
   "outputs": [
    {
     "data": {
      "text/plain": [
       "tensor([[-35.97],\n",
       "        [-99.38],\n",
       "        [  4.72],\n",
       "        ...,\n",
       "        [-60.12],\n",
       "        [-50.25],\n",
       "        [-12.35]])"
      ]
     },
     "execution_count": 37,
     "metadata": {},
     "output_type": "execute_result"
    }
   ],
   "source": [
    "(x_res[:,0] - y_train)[:, None]"
   ]
  },
  {
   "cell_type": "code",
   "execution_count": 38,
   "id": "b3aad7b3",
   "metadata": {},
   "outputs": [
    {
     "data": {
      "text/plain": [
       "tensor([[ -71.94],\n",
       "        [-198.76],\n",
       "        [   9.45],\n",
       "        ...,\n",
       "        [-120.23],\n",
       "        [-100.50],\n",
       "        [ -24.69]])"
      ]
     },
     "execution_count": 38,
     "metadata": {},
     "output_type": "execute_result"
    }
   ],
   "source": [
    "(x_res[:,0] - y_train)[:, None] * 2"
   ]
  },
  {
   "cell_type": "code",
   "execution_count": 39,
   "id": "72146845",
   "metadata": {},
   "outputs": [],
   "source": [
    "out_g = ((x_res[:,0] - y_train)[:, None] * 2) / x_res.shape[0]"
   ]
  },
  {
   "cell_type": "code",
   "execution_count": 40,
   "id": "cb58cbe0",
   "metadata": {},
   "outputs": [
    {
     "data": {
      "text/plain": [
       "torch.Size([50000, 50])"
      ]
     },
     "execution_count": 40,
     "metadata": {},
     "output_type": "execute_result"
    }
   ],
   "source": [
    "x_inp_g = out_g@w2.t()\n",
    "x_inp_g.shape"
   ]
  },
  {
   "cell_type": "code",
   "execution_count": null,
   "id": "55ad5a8f",
   "metadata": {},
   "outputs": [],
   "source": []
  },
  {
   "cell_type": "code",
   "execution_count": 41,
   "id": "441a4449",
   "metadata": {},
   "outputs": [
    {
     "data": {
      "text/plain": [
       "tensor([[-0.00],\n",
       "        [-0.00],\n",
       "        [ 0.00],\n",
       "        ...,\n",
       "        [-0.00],\n",
       "        [-0.00],\n",
       "        [-0.00]])"
      ]
     },
     "execution_count": 41,
     "metadata": {},
     "output_type": "execute_result"
    }
   ],
   "source": [
    "out_g"
   ]
  },
  {
   "attachments": {},
   "cell_type": "markdown",
   "id": "51e48976",
   "metadata": {},
   "source": [
    "***"
   ]
  },
  {
   "cell_type": "code",
   "execution_count": 42,
   "id": "f0724553",
   "metadata": {},
   "outputs": [],
   "source": [
    "def lin_grad(inp, out, w, b):\n",
    "    # grad of matmul with respect to input\n",
    "    inp.g = out.g @ w.t()\n",
    "    w.g = (inp.unsqueeze(-1) * out.g.unsqueeze(1)).sum(0)\n",
    "    b.g = out.g.sum(0)"
   ]
  },
  {
   "cell_type": "code",
   "execution_count": 43,
   "id": "dd4fa4b0",
   "metadata": {},
   "outputs": [],
   "source": [
    "def forward_and_backward(inp, targ):\n",
    "    # forward pass\n",
    "    l1 = lin(inp, w1, b1)\n",
    "    l2 = relu(l1)\n",
    "    out = lin(l2, w2, b2)\n",
    "    diff = out[:,0] - targ\n",
    "    loss = diff.pow(2).mean()\n",
    "\n",
    "    # backward pass\n",
    "    out.g = 2. * diff[:, None] / inp.shape[0]\n",
    "    lin_grad(l2, out, w2, b2)\n",
    "    l1.g = (l1>0).float() * l2.g\n",
    "    lin_grad(inp, l1, w1, b1)\n",
    "    "
   ]
  },
  {
   "cell_type": "code",
   "execution_count": 44,
   "id": "a9a89cf3",
   "metadata": {},
   "outputs": [],
   "source": [
    "forward_and_backward(x_train, y_train)"
   ]
  },
  {
   "cell_type": "code",
   "execution_count": 45,
   "id": "fdcdf0de",
   "metadata": {},
   "outputs": [],
   "source": [
    "# save the gradients for testing later\n",
    "# define a function that takes x as an argument and returns the gradients of x as a clone\n",
    "def get_grad(x):\n",
    "    return x.g.clone()"
   ]
  },
  {
   "cell_type": "code",
   "execution_count": 52,
   "id": "0486d52d",
   "metadata": {},
   "outputs": [],
   "source": [
    "# return a tuple of all\n",
    "chks = w1, w2, b1, b2, x_train\n",
    "# maps the get_grad function to all in chks, returns a tuple of len(chks) which\n",
    "# are assigned to variables, then assigned to grads\n",
    "grads = w1g, w2g, b1g, b2g, ig = tuple(map(get_grad, chks)) "
   ]
  },
  {
   "attachments": {},
   "cell_type": "markdown",
   "id": "9ee3fad7",
   "metadata": {},
   "source": [
    "Cheat a bit and use pytorch autograd to check results"
   ]
  },
  {
   "cell_type": "code",
   "execution_count": 56,
   "id": "d9ba1553",
   "metadata": {},
   "outputs": [],
   "source": [
    "# create a clone of all chks and set them to require gradient\n",
    "def mkgrad(x):\n",
    "    return x.clone().requires_grad_(True)\n",
    "ptgrads = w12, w22, b12, b22, xt2 = tuple(map(mkgrad, chks))"
   ]
  },
  {
   "cell_type": "code",
   "execution_count": 57,
   "id": "dace5f40",
   "metadata": {},
   "outputs": [],
   "source": [
    "# create forward pass function for our pytorch data\n",
    "def forward(inp, targs):\n",
    "    l1 = lin(inp, w12, b12)\n",
    "    l2 = relu(l1)\n",
    "    out = lin(l2, w22, b22)\n",
    "    return mse(inp, targs)"
   ]
  },
  {
   "cell_type": "code",
   "execution_count": 59,
   "id": "bc3a6611",
   "metadata": {},
   "outputs": [],
   "source": [
    "loss = forward(xt2, y_train)\n",
    "loss.backward()"
   ]
  },
  {
   "cell_type": "code",
   "execution_count": null,
   "id": "0422e920",
   "metadata": {},
   "outputs": [],
   "source": [
    "for a, b in zip(grads, ptgrads):\n",
    "    test_close"
   ]
  },
  {
   "cell_type": "code",
   "execution_count": 62,
   "id": "8ba4d356",
   "metadata": {},
   "outputs": [
    {
     "name": "stdout",
     "output_type": "stream",
     "text": [
      "<zip object at 0x7f73e3bfa240>\n"
     ]
    }
   ],
   "source": [
    "zip(grads, ptgrads)"
   ]
  },
  {
   "cell_type": "code",
   "execution_count": null,
   "id": "70e6290e",
   "metadata": {},
   "outputs": [],
   "source": [
    "import nbdev"
   ]
  },
  {
   "cell_type": "code",
   "execution_count": null,
   "id": "8c82e6ee",
   "metadata": {},
   "outputs": [],
   "source": [
    "nbdev.export.nb_export('03.01_backpropagation_rebuild.ipynb', '03.01_app')"
   ]
  },
  {
   "cell_type": "code",
   "execution_count": null,
   "id": "875095a9",
   "metadata": {},
   "outputs": [],
   "source": []
  }
 ],
 "metadata": {
  "kernelspec": {
   "display_name": "Python 3 (ipykernel)",
   "language": "python",
   "name": "python3"
  },
  "language_info": {
   "codemirror_mode": {
    "name": "ipython",
    "version": 3
   },
   "file_extension": ".py",
   "mimetype": "text/x-python",
   "name": "python",
   "nbconvert_exporter": "python",
   "pygments_lexer": "ipython3",
   "version": "3.10.10"
  }
 },
 "nbformat": 4,
 "nbformat_minor": 5
}

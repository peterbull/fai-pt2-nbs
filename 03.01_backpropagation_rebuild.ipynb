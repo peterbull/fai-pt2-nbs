{
 "cells": [
  {
   "cell_type": "code",
   "execution_count": 1,
   "id": "ca29fbe7-a3a0-4565-98c4-d487e8184591",
   "metadata": {},
   "outputs": [],
   "source": [
    "import pickle,gzip,math,os,time,shutil,torch,matplotlib as mpl, numpy as np\n",
    "from pathlib import Path\n",
    "from torch import tensor\n",
    "from fastcore.test import test_close\n",
    "torch.manual_seed(42)\n",
    "\n",
    "mpl.rcParams['image.cmap'] = 'gray'\n",
    "torch.set_printoptions(precision=2, linewidth=125, sci_mode=False)\n",
    "np.set_printoptions(precision=2, linewidth=125)\n",
    "\n",
    "path_data = Path('data')\n",
    "path_gz = path_data/'mnist.pkl.gz'\n",
    "with gzip.open(path_gz, 'rb') as f: ((x_train, y_train), (x_valid, y_valid), _) = pickle.load(f, encoding='latin-1')\n",
    "x_train, y_train, x_valid, y_valid = map(tensor, [x_train, y_train, x_valid, y_valid])"
   ]
  },
  {
   "cell_type": "markdown",
   "id": "579e42a4-879d-4d77-8580-b2412e2f32f0",
   "metadata": {},
   "source": [
    "## Foundations Version"
   ]
  },
  {
   "cell_type": "markdown",
   "id": "f4b4105c-6cb8-4f53-a54f-1ffe02926d51",
   "metadata": {},
   "source": [
    "### Basic Architecture"
   ]
  },
  {
   "cell_type": "markdown",
   "id": "0b4bcedc-2ece-41fe-a33b-95919bc7171b",
   "metadata": {},
   "source": [
    "- Assign the number of items in our training set to `n`\n",
    "- Assign the number of pixels in each item to `m`\n",
    "- Assign possible values of digits to `c`"
   ]
  },
  {
   "cell_type": "code",
   "execution_count": 2,
   "id": "8df0754c-6dc2-4711-8c5d-3f74203f1125",
   "metadata": {},
   "outputs": [
    {
     "data": {
      "text/plain": [
       "(50000, 784, tensor(10))"
      ]
     },
     "execution_count": 2,
     "metadata": {},
     "output_type": "execute_result"
    }
   ],
   "source": [
    "n,m = x_train.shape\n",
    "c = y_valid.max() + 1\n",
    "n,m,c"
   ]
  },
  {
   "cell_type": "markdown",
   "id": "bffd6841-412a-485a-8a28-fe295afc80ff",
   "metadata": {},
   "source": [
    "- Assign to `nh` an integer for our 50 hidden layers, aka our 50 activation functinons, in this case *relus*"
   ]
  },
  {
   "cell_type": "code",
   "execution_count": 3,
   "id": "360165af-f3de-4d46-9c03-deca73dc29bb",
   "metadata": {},
   "outputs": [],
   "source": [
    "nh = 50"
   ]
  },
  {
   "cell_type": "markdown",
   "id": "2c5e1b10-d246-4654-85e1-d2f8fdf0c58d",
   "metadata": {},
   "source": [
    "- Create the weight matrices for multiplication. \n",
    "    - The first set of weights, `w1` will be for our training set\n",
    "    - The weights will also need a bias, `b1` that will begin as zeros \n",
    "    - The second set of weights, `w2` will be for our output matrix, which will just  be one output, which the guess of what number it is\n",
    "    - The second bias `b2` be initialized as zeros and match `w2`"
   ]
  },
  {
   "cell_type": "code",
   "execution_count": 4,
   "id": "fdd9ebac-89bb-4af5-bd46-d3f5ac8da932",
   "metadata": {},
   "outputs": [],
   "source": [
    "w1 = torch.randn(m, nh)"
   ]
  },
  {
   "cell_type": "code",
   "execution_count": 5,
   "id": "da476972-beef-4609-af07-ce47a8463d48",
   "metadata": {},
   "outputs": [],
   "source": [
    "b1 = torch.zeros(nh)"
   ]
  },
  {
   "cell_type": "code",
   "execution_count": 6,
   "id": "ac7b8c0b-e6e6-4abd-a7d5-54a78447bd24",
   "metadata": {},
   "outputs": [],
   "source": [
    "w2 = torch.randn(nh,1)"
   ]
  },
  {
   "cell_type": "code",
   "execution_count": 7,
   "id": "a1624594-784a-4523-91df-91241632def8",
   "metadata": {},
   "outputs": [],
   "source": [
    "b2 = torch.zeros(1)"
   ]
  },
  {
   "cell_type": "markdown",
   "id": "b6c6abe6-9094-4dfb-aa63-e9c1c3c18b41",
   "metadata": {},
   "source": [
    "***"
   ]
  },
  {
   "cell_type": "code",
   "execution_count": 8,
   "id": "86d5675d-00f6-4744-8390-5d0136075e1e",
   "metadata": {},
   "outputs": [
    {
     "data": {
      "text/plain": [
       "(torch.Size([784, 50]), torch.Size([50]), torch.Size([50, 1]), torch.Size([1]))"
      ]
     },
     "execution_count": 8,
     "metadata": {},
     "output_type": "execute_result"
    }
   ],
   "source": [
    "w1.shape, b1.shape, w2.shape, b2.shape"
   ]
  },
  {
   "cell_type": "code",
   "execution_count": 9,
   "id": "ec50e15d-ced9-4ce2-9eb7-7c7955b44275",
   "metadata": {},
   "outputs": [
    {
     "data": {
      "text/plain": [
       "torch.Size([10000, 50])"
      ]
     },
     "execution_count": 9,
     "metadata": {},
     "output_type": "execute_result"
    }
   ],
   "source": [
    "(x_valid@w1 + b1).shape"
   ]
  },
  {
   "cell_type": "code",
   "execution_count": 10,
   "id": "786c1e98-f159-431f-87a6-e0155b41b28c",
   "metadata": {},
   "outputs": [
    {
     "data": {
      "text/plain": [
       "torch.Size([10000, 1])"
      ]
     },
     "execution_count": 10,
     "metadata": {},
     "output_type": "execute_result"
    }
   ],
   "source": [
    "(((x_valid@w1 + b1).clamp_min(0.))@w2 + b2).shape "
   ]
  },
  {
   "cell_type": "code",
   "execution_count": 11,
   "id": "54a3303f-cfa3-4a3a-9396-1bd25d92e1ad",
   "metadata": {},
   "outputs": [
    {
     "data": {
      "text/plain": [
       "tensor([[  25.75],\n",
       "        [ -13.06],\n",
       "        [-114.79],\n",
       "        ...,\n",
       "        [ -67.44],\n",
       "        [ -74.48],\n",
       "        [ -60.19]])"
      ]
     },
     "execution_count": 11,
     "metadata": {},
     "output_type": "execute_result"
    }
   ],
   "source": [
    "((((x_valid@w1 + b1).clamp_min(0.))@w2) + b2)"
   ]
  },
  {
   "cell_type": "markdown",
   "id": "ae853476-ef16-4ff9-91a2-e10f0d12f666",
   "metadata": {},
   "source": [
    "***"
   ]
  },
  {
   "cell_type": "markdown",
   "id": "8b9c1146-1655-4113-91b6-8d8789e71942",
   "metadata": {},
   "source": [
    "- Create a function `lin` to perform matrix multiplication and add the bias "
   ]
  },
  {
   "cell_type": "code",
   "execution_count": 15,
   "id": "509ddae4-b843-4bf7-b7f5-24176700e476",
   "metadata": {},
   "outputs": [],
   "source": [
    "def lin(x, w, b):\n",
    "    return x@w + b"
   ]
  },
  {
   "cell_type": "code",
   "execution_count": 18,
   "id": "77c0766e-fdad-4db5-bdb3-1c8e37da6c9a",
   "metadata": {},
   "outputs": [
    {
     "data": {
      "text/plain": [
       "torch.Size([10000, 50])"
      ]
     },
     "execution_count": 18,
     "metadata": {},
     "output_type": "execute_result"
    }
   ],
   "source": [
    "t = lin(x_valid, w1, b1)\n",
    "t.shape"
   ]
  },
  {
   "cell_type": "markdown",
   "id": "b84c41be-1f25-4f97-b7cf-9ab0b0ef8c26",
   "metadata": {},
   "source": [
    "- Create a `relu` function to flatten values at 0"
   ]
  },
  {
   "cell_type": "code",
   "execution_count": 17,
   "id": "e5579930-d8f3-434b-b353-e9fbcdd310da",
   "metadata": {},
   "outputs": [],
   "source": [
    "def relu(x):\n",
    "    return x.clamp_min(0.)"
   ]
  },
  {
   "cell_type": "code",
   "execution_count": 23,
   "id": "b7c377e2-10a2-4cf4-a7e1-42b0f96c199a",
   "metadata": {},
   "outputs": [
    {
     "data": {
      "text/plain": [
       "tensor(0.)"
      ]
     },
     "execution_count": 23,
     "metadata": {},
     "output_type": "execute_result"
    }
   ],
   "source": [
    "t = relu(t)\n",
    "t.min()"
   ]
  },
  {
   "cell_type": "markdown",
   "id": "3e5d7d5a-9a0f-4589-86d3-db3ab9168c94",
   "metadata": {},
   "source": [
    "- Create a `model` function to take a mini-batch `xs`\n",
    "    - Create the first linear layer\n",
    "    - Put first linear layer through a relu\n",
    "    - Pass the relu-ed first linear layer through the second linear layer and return the value"
   ]
  },
  {
   "cell_type": "code",
   "execution_count": 24,
   "id": "94b5cdb2-e74d-42eb-afbc-8711b1a5bec7",
   "metadata": {},
   "outputs": [],
   "source": [
    "def model(xs):\n",
    "    l1 = lin(xs, w1, b1)\n",
    "    l2 = relu(l1)\n",
    "    return lin(l2, w2, b2)"
   ]
  },
  {
   "cell_type": "markdown",
   "id": "20b5001b-4021-45d1-92d9-f672f058dfae",
   "metadata": {},
   "source": [
    "- Pass the validation set through the model to check if working"
   ]
  },
  {
   "cell_type": "code",
   "execution_count": 26,
   "id": "e96f79eb-8185-4278-ac1e-a7b0195f0594",
   "metadata": {},
   "outputs": [
    {
     "data": {
      "text/plain": [
       "torch.Size([10000, 1])"
      ]
     },
     "execution_count": 26,
     "metadata": {},
     "output_type": "execute_result"
    }
   ],
   "source": [
    "res = model(x_valid)\n",
    "res.shape"
   ]
  },
  {
   "cell_type": "markdown",
   "id": "ab3e3fce-b00d-4962-aa79-b5eb5166ec02",
   "metadata": {},
   "source": [
    "### Loss Function MSE"
   ]
  },
  {
   "cell_type": "code",
   "execution_count": 28,
   "id": "c640d973-0bf6-43b0-8e13-5d27b108ecea",
   "metadata": {},
   "outputs": [
    {
     "data": {
      "text/plain": [
       "(torch.Size([10000, 1]), torch.Size([10000]))"
      ]
     },
     "execution_count": 28,
     "metadata": {},
     "output_type": "execute_result"
    }
   ],
   "source": [
    "res.shape, y_valid.shape"
   ]
  },
  {
   "cell_type": "markdown",
   "id": "dd6fbf53-c5e8-45f7-ab22-aa6ab2a6c1ab",
   "metadata": {},
   "source": [
    "- Subtract `y_valid` from `res` and think about how broadcasting rules apply here"
   ]
  },
  {
   "cell_type": "code",
   "execution_count": null,
   "id": "cd510d34-9614-4c50-b7fc-158d75b5caea",
   "metadata": {},
   "outputs": [],
   "source": []
  }
 ],
 "metadata": {
  "kernelspec": {
   "display_name": "Python 3 (ipykernel)",
   "language": "python",
   "name": "python3"
  },
  "language_info": {
   "codemirror_mode": {
    "name": "ipython",
    "version": 3
   },
   "file_extension": ".py",
   "mimetype": "text/x-python",
   "name": "python",
   "nbconvert_exporter": "python",
   "pygments_lexer": "ipython3",
   "version": "3.10.10"
  }
 },
 "nbformat": 4,
 "nbformat_minor": 5
}

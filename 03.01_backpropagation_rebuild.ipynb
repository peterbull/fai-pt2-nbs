{
 "cells": [
  {
   "cell_type": "code",
   "execution_count": 43,
   "id": "b248f45f",
   "metadata": {},
   "outputs": [],
   "source": [
    "#|default_exp 03.01_app"
   ]
  },
  {
   "cell_type": "code",
   "execution_count": 1,
   "id": "ca29fbe7-a3a0-4565-98c4-d487e8184591",
   "metadata": {},
   "outputs": [],
   "source": [
    "#|export\n",
    "import pickle,gzip,math,os,time,shutil,torch,matplotlib as mpl, numpy as np\n",
    "from pathlib import Path\n",
    "from torch import tensor\n",
    "from fastcore.test import test_close\n",
    "torch.manual_seed(42)\n",
    "import tsensor\n",
    "# Get rid of findfont: Font family 'Arial' not found.\n",
    "# when running a remote notebook on Jupyter Server on Ubuntu Linux server\n",
    "import logging\n",
    "logging.getLogger(\"matplotlib.font_manager\").setLevel(logging.ERROR)\n",
    "\n",
    "from lolviz import *\n",
    "\n",
    "\n",
    "mpl.rcParams['image.cmap'] = 'gray'\n",
    "torch.set_printoptions(precision=2, linewidth=125, sci_mode=False)\n",
    "np.set_printoptions(precision=2, linewidth=125)\n",
    "\n",
    "path_data = Path('data')\n",
    "path_gz = path_data/'mnist.pkl.gz'\n",
    "with gzip.open(path_gz, 'rb') as f: ((x_train, y_train), (x_valid, y_valid), _) = pickle.load(f, encoding='latin-1')\n",
    "x_train, y_train, x_valid, y_valid = map(tensor, [x_train, y_train, x_valid, y_valid])"
   ]
  },
  {
   "attachments": {},
   "cell_type": "markdown",
   "id": "579e42a4-879d-4d77-8580-b2412e2f32f0",
   "metadata": {},
   "source": [
    "## Foundations Version"
   ]
  },
  {
   "attachments": {},
   "cell_type": "markdown",
   "id": "f4b4105c-6cb8-4f53-a54f-1ffe02926d51",
   "metadata": {},
   "source": [
    "### Basic Architecture"
   ]
  },
  {
   "attachments": {},
   "cell_type": "markdown",
   "id": "0b4bcedc-2ece-41fe-a33b-95919bc7171b",
   "metadata": {},
   "source": [
    "- Assign the number of items in our training set to `n` - where `n` is the number of training examples\n",
    "- Assign the number of pixels in each item to `m` - where `m` is the number of pixels\n",
    "- Assign possible values of digits to `c` - where `c` is the possible values of digits"
   ]
  },
  {
   "cell_type": "code",
   "execution_count": 4,
   "id": "da6dbaa0",
   "metadata": {},
   "outputs": [
    {
     "data": {
      "text/plain": [
       "(tensor([[0., 0., 0.,  ..., 0., 0., 0.],\n",
       "         [0., 0., 0.,  ..., 0., 0., 0.],\n",
       "         [0., 0., 0.,  ..., 0., 0., 0.],\n",
       "         ...,\n",
       "         [0., 0., 0.,  ..., 0., 0., 0.],\n",
       "         [0., 0., 0.,  ..., 0., 0., 0.],\n",
       "         [0., 0., 0.,  ..., 0., 0., 0.]]),\n",
       " torch.Size([50000, 784]))"
      ]
     },
     "execution_count": 4,
     "metadata": {},
     "output_type": "execute_result"
    }
   ],
   "source": [
    "x_train, x_train.shape"
   ]
  },
  {
   "cell_type": "code",
   "execution_count": 12,
   "id": "301371ce",
   "metadata": {},
   "outputs": [
    {
     "data": {
      "text/plain": [
       "torch.Size([784])"
      ]
     },
     "execution_count": 12,
     "metadata": {},
     "output_type": "execute_result"
    }
   ],
   "source": [
    "x_train[1, :].shape"
   ]
  },
  {
   "cell_type": "code",
   "execution_count": 14,
   "id": "5f08f61c",
   "metadata": {},
   "outputs": [
    {
     "data": {
      "text/plain": [
       "torch.Size([28, 28])"
      ]
     },
     "execution_count": 14,
     "metadata": {},
     "output_type": "execute_result"
    }
   ],
   "source": [
    "x_train[1,:].reshape(28,28).shape"
   ]
  },
  {
   "cell_type": "code",
   "execution_count": 15,
   "id": "150229e2",
   "metadata": {},
   "outputs": [],
   "source": [
    "#|export\n",
    "n,m = x_train.shape\n",
    "c = y_train.max()+1"
   ]
  },
  {
   "attachments": {},
   "cell_type": "markdown",
   "id": "bffd6841-412a-485a-8a28-fe295afc80ff",
   "metadata": {},
   "source": [
    "- Assign to `nh` an integer for our 50 hidden layers, aka our 50 activation functinons, in this case *relus*"
   ]
  },
  {
   "cell_type": "code",
   "execution_count": 21,
   "id": "27101ff3",
   "metadata": {},
   "outputs": [],
   "source": [
    "#|export\n",
    "nh = 50"
   ]
  },
  {
   "attachments": {},
   "cell_type": "markdown",
   "id": "2c5e1b10-d246-4654-85e1-d2f8fdf0c58d",
   "metadata": {},
   "source": [
    "- Create the weight matrices for multiplication. \n",
    "    - The first set of weights, `w1` will be for our training set\n",
    "    - The weights will also need a bias, `b1` that will begin as zeros \n",
    "    - The second set of weights, `w2` will be for our output matrix, which will just  be one output, which is the guess of what number it is\n",
    "    - The second bias `b2` be initialized as zeros and match `w2`"
   ]
  },
  {
   "cell_type": "code",
   "execution_count": 22,
   "id": "b4d3be28",
   "metadata": {},
   "outputs": [
    {
     "data": {
      "text/plain": [
       "(50000, 784, tensor(10), 50)"
      ]
     },
     "execution_count": 22,
     "metadata": {},
     "output_type": "execute_result"
    }
   ],
   "source": [
    "n,m,c,nh"
   ]
  },
  {
   "cell_type": "code",
   "execution_count": 29,
   "id": "c3b868f4",
   "metadata": {},
   "outputs": [],
   "source": [
    "#|export\n",
    "w1 = torch.randn(m,c)\n",
    "b1 = torch.zeros(nh)\n",
    "w2 = torch.randn(nh,1)\n",
    "b2 = torch.zeros(1)"
   ]
  },
  {
   "cell_type": "code",
   "execution_count": 30,
   "id": "70b7a718",
   "metadata": {},
   "outputs": [
    {
     "data": {
      "text/plain": [
       "(torch.Size([784, 10]), torch.Size([50]), torch.Size([50, 1]), torch.Size([1]))"
      ]
     },
     "execution_count": 30,
     "metadata": {},
     "output_type": "execute_result"
    }
   ],
   "source": [
    "w1.shape, b1.shape, w2.shape, b2.shape"
   ]
  },
  {
   "cell_type": "code",
   "execution_count": 34,
   "id": "f3135383",
   "metadata": {},
   "outputs": [
    {
     "data": {
      "text/plain": [
       "torch.Size([1])"
      ]
     },
     "execution_count": 34,
     "metadata": {},
     "output_type": "execute_result"
    }
   ],
   "source": [
    "b2.shape"
   ]
  },
  {
   "attachments": {},
   "cell_type": "markdown",
   "id": "8b9c1146-1655-4113-91b6-8d8789e71942",
   "metadata": {},
   "source": [
    "- Create a function `lin` to perform matrix multiplication and add the bias "
   ]
  },
  {
   "cell_type": "code",
   "execution_count": null,
   "id": "3486263c",
   "metadata": {},
   "outputs": [],
   "source": [
    "b2 = torch.zeros(n,c)"
   ]
  },
  {
   "attachments": {},
   "cell_type": "markdown",
   "id": "b84c41be-1f25-4f97-b7cf-9ab0b0ef8c26",
   "metadata": {},
   "source": [
    "- Create a `relu` function to flatten values at 0"
   ]
  },
  {
   "attachments": {},
   "cell_type": "markdown",
   "id": "3e5d7d5a-9a0f-4589-86d3-db3ab9168c94",
   "metadata": {},
   "source": [
    "- Create a `model` function to take a mini-batch `xs`\n",
    "    - Create the first linear layer\n",
    "    - Put first linear layer through a relu\n",
    "    - Pass the relu-ed first linear layer through the second linear layer and return the value"
   ]
  },
  {
   "attachments": {},
   "cell_type": "markdown",
   "id": "20b5001b-4021-45d1-92d9-f672f058dfae",
   "metadata": {},
   "source": [
    "- Pass the validation set through the model to check if working"
   ]
  },
  {
   "attachments": {},
   "cell_type": "markdown",
   "id": "ab3e3fce-b00d-4962-aa79-b5eb5166ec02",
   "metadata": {},
   "source": [
    "### Loss Function MSE"
   ]
  },
  {
   "attachments": {},
   "cell_type": "markdown",
   "id": "dd6fbf53-c5e8-45f7-ab22-aa6ab2a6c1ab",
   "metadata": {},
   "source": [
    "- Subtract `y_valid` from `res` and think about how broadcasting rules apply here"
   ]
  },
  {
   "cell_type": "code",
   "execution_count": 44,
   "id": "70e6290e",
   "metadata": {},
   "outputs": [],
   "source": [
    "import nbdev"
   ]
  },
  {
   "cell_type": "code",
   "execution_count": 45,
   "id": "8c82e6ee",
   "metadata": {},
   "outputs": [],
   "source": [
    "nbdev.export.nb_export('03.01_backpropagation_rebuild.ipynb', '03.01_app')"
   ]
  },
  {
   "cell_type": "code",
   "execution_count": null,
   "id": "875095a9",
   "metadata": {},
   "outputs": [],
   "source": []
  }
 ],
 "metadata": {
  "kernelspec": {
   "display_name": "Python 3 (ipykernel)",
   "language": "python",
   "name": "python3"
  },
  "language_info": {
   "codemirror_mode": {
    "name": "ipython",
    "version": 3
   },
   "file_extension": ".py",
   "mimetype": "text/x-python",
   "name": "python",
   "nbconvert_exporter": "python",
   "pygments_lexer": "ipython3",
   "version": "3.10.10"
  }
 },
 "nbformat": 4,
 "nbformat_minor": 5
}

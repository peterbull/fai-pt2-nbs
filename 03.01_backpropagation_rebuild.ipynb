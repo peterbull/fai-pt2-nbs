{
 "cells": [
  {
   "cell_type": "code",
   "execution_count": 1,
   "id": "ca29fbe7-a3a0-4565-98c4-d487e8184591",
   "metadata": {},
   "outputs": [],
   "source": [
    "import pickle,gzip,math,os,time,shutil,torch,matplotlib as mpl, numpy as np\n",
    "from pathlib import Path\n",
    "from torch import tensor\n",
    "from fastcore.test import test_close\n",
    "torch.manual_seed(42)\n",
    "\n",
    "mpl.rcParams['image.cmap'] = 'gray'\n",
    "torch.set_printoptions(precision=2, linewidth=125, sci_mode=False)\n",
    "np.set_printoptions(precision=2, linewidth=125)\n",
    "\n",
    "path_data = Path('data')\n",
    "path_gz = path_data/'mnist.pkl.gz'\n",
    "with gzip.open(path_gz, 'rb') as f: ((x_train, y_train), (x_valid, y_valid), _) = pickle.load(f, encoding='latin-1')\n",
    "x_train, y_train, x_valid, y_valid = map(tensor, [x_train, y_train, x_valid, y_valid])"
   ]
  },
  {
   "cell_type": "markdown",
   "id": "579e42a4-879d-4d77-8580-b2412e2f32f0",
   "metadata": {},
   "source": [
    "## Foundations Version"
   ]
  },
  {
   "cell_type": "markdown",
   "id": "f4b4105c-6cb8-4f53-a54f-1ffe02926d51",
   "metadata": {},
   "source": [
    "### Basic Architecture"
   ]
  },
  {
   "cell_type": "markdown",
   "id": "0b4bcedc-2ece-41fe-a33b-95919bc7171b",
   "metadata": {},
   "source": [
    "- Assign the number of training variables to `n`\n",
    "- Assign the number of pixels to `m`\n",
    "- Assign possible values of digits to `c`"
   ]
  },
  {
   "cell_type": "markdown",
   "id": "bffd6841-412a-485a-8a28-fe295afc80ff",
   "metadata": {},
   "source": [
    "- Assign to `nh` an integer for our 50 hidden layers, aka our 50 activation functinons, in this case *relus*"
   ]
  },
  {
   "cell_type": "markdown",
   "id": "2c5e1b10-d246-4654-85e1-d2f8fdf0c58d",
   "metadata": {},
   "source": [
    "- Create the weight matrices for multiplication. \n",
    "    - The first set of weights, `w1` will be for our training set\n",
    "    - The weights will also need a bias, `b1` that will begin as zeros \n",
    "    - The second set of weights, `w2` will be for our output matrix, which will just  be one output, which the guess of what number it is\n",
    "    - The second bias `b2` be initialized as zeros and match `w2`"
   ]
  },
  {
   "cell_type": "markdown",
   "id": "34ca1775-065c-46b3-a7bd-20be8bf99285",
   "metadata": {},
   "source": []
  }
 ],
 "metadata": {
  "kernelspec": {
   "display_name": "Python 3 (ipykernel)",
   "language": "python",
   "name": "python3"
  },
  "language_info": {
   "codemirror_mode": {
    "name": "ipython",
    "version": 3
   },
   "file_extension": ".py",
   "mimetype": "text/x-python",
   "name": "python",
   "nbconvert_exporter": "python",
   "pygments_lexer": "ipython3",
   "version": "3.10.10"
  }
 },
 "nbformat": 4,
 "nbformat_minor": 5
}
